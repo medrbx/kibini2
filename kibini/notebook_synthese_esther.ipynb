{
 "cells": [
  {
   "cell_type": "markdown",
   "id": "26c31c57",
   "metadata": {},
   "source": [
    "# SYNTHÈSE ANNUELLE\n",
    "\n",
    "Suite à une réunion le 01/03/2024, la direction de la médiathèque souhaite qu'on lui communique une petite synthèse des chiffres-clés de l'année n-1, en se basant sur les principaux indicateurs. L'objectif final est de pouvoir fournir des chiffres aux élus qui brosse les grandes tendance de l'année passée par rapport à l'année d'avant (année n-2).\n",
    "Pour ces raisons, l'idée est d'avoir pour chaque indicateur, une phrase contenant : \n",
    "* la valeur brut de l'année n-1\n",
    "* la valeur brut de l'année n-2\n",
    "* le pourcentage d'évolution de l'année n-1 par rapport à l'année n-2\n",
    "\n",
    "**Quelles sont les informations demandés ?**\n",
    "\n",
    "*ETABLISSEMENT*\n",
    "* Nombre de jours ouverts\n",
    "\n",
    "*ENTREES*\n",
    "* Nombre d'entrées\n",
    "* Nombre d'entrées le dimanche\n",
    "\n",
    "*INSCRITS*\n",
    "* Nombre d'inscrits\n",
    "* Nombre de nouveaux inscrits\n",
    "* Répartition inscrits roubaisien vs non-roubaisiens\n",
    "* Répartition par type de carte\n",
    "* Répartition par tranche d'âge\n",
    "\n",
    "*PRÊTS*\n",
    "* Nombre de prêts\n",
    "* Nombre d'emprunteurs distincts\n",
    "* Nombre de prêts par site\n",
    "* Nombre de prêts par supports (livres,dvd,cd)\n",
    "* Nombre de prêts par public (jeunesse ou adulte)\n",
    "\n",
    "*CONNEXIONS ORDINATEURS*\n",
    "* Nombre de connexions aux ordinateurs\n",
    "* Nombre d'utilisateurs distincts des ordinateurs\n",
    "\n",
    "*CONSULTATIONS DU SITE WEB*\n",
    "* Nombre de visites du site web\n",
    "* Nombre de visiteurs distincts du site web"
   ]
  },
  {
   "cell_type": "code",
   "execution_count": 1,
   "id": "e9c74016",
   "metadata": {},
   "outputs": [],
   "source": [
    "import pandas as pd\n",
    "import numpy as np\n",
    "from datetime import datetime\n",
    "\n",
    "from kiblib.utils.db import DbConn\n",
    "db_conn = DbConn().create_engine()"
   ]
  },
  {
   "cell_type": "code",
   "execution_count": 2,
   "id": "68346b89",
   "metadata": {},
   "outputs": [],
   "source": [
    "year_1 = datetime.today().isocalendar()[0] - 1\n",
    "#year_2 = datetime.today().isocalendar()[0] - 2\n",
    "year_2 = 2023\n",
    "year_3 = 2018"
   ]
  },
  {
   "cell_type": "code",
   "execution_count": 3,
   "id": "87f98cb2",
   "metadata": {},
   "outputs": [],
   "source": [
    "# 2 fonctions essentielles\n",
    "\n",
    "def PourcentageEvolution(va,vd):\n",
    "    evolution = ((va-vd)/vd)*100\n",
    "    evolution = round(evolution,0)\n",
    "    evolution = int(evolution)\n",
    "    return(f'{evolution}%')\n",
    "\n",
    "\n",
    "def PourcentageRepartition(partie,ensemble):\n",
    "    repartition = partie/ensemble*100\n",
    "    repartition = round(repartition,0)\n",
    "    repartition = int(repartition)\n",
    "    return(f\"{repartition}%\")"
   ]
  },
  {
   "cell_type": "markdown",
   "id": "d461c00f",
   "metadata": {},
   "source": [
    "# Entrées à la médiathèque"
   ]
  },
  {
   "cell_type": "code",
   "execution_count": 4,
   "id": "20ce922d",
   "metadata": {},
   "outputs": [],
   "source": [
    "query = f\"\"\"SELECT datetime, entrees \n",
    "FROM statdb.stat_entrees\n",
    "WHERE YEAR(`datetime`)={year_1}\"\"\"\n",
    "\n",
    "entrees_year_1 = pd.read_sql(query,db_conn)\n",
    "\n",
    "# Création d'une colonne date pour regrouper les jours uniques\n",
    "entrees_year_1['date'] = pd.DatetimeIndex(entrees_year_1['datetime']).date\n",
    "\n",
    "#Ajout d'une colonne day_name\n",
    "entrees_year_1['nom_jour'] = pd.DatetimeIndex(entrees_year_1['datetime']).day_name(locale='fr_FR.utf8')\n",
    "\n",
    "# Calcule nombre de jours ouverts\n",
    "nb_jours_ouverts_year_1 = len(entrees_year_1.groupby('date'))\n",
    "\n",
    "total_entrees_year_1 = entrees_year_1['entrees'].sum()\n",
    "\n",
    "total_entrees_dimanche_year_1 = entrees_year_1[entrees_year_1['nom_jour']=='Dimanche']['entrees'].sum()"
   ]
  },
  {
   "cell_type": "code",
   "execution_count": 5,
   "id": "b1d9281f",
   "metadata": {},
   "outputs": [],
   "source": [
    "query = f\"\"\"SELECT datetime, entrees \n",
    "FROM statdb.stat_entrees\n",
    "WHERE YEAR(`datetime`)={year_2}\"\"\"\n",
    "\n",
    "entrees_year_2 = pd.read_sql(query,db_conn)\n",
    "\n",
    "# Création d'une colonne date pour regrouper les jours uniques\n",
    "entrees_year_2['date'] = pd.DatetimeIndex(entrees_year_2['datetime']).date\n",
    "\n",
    "#Ajout d'une colonne day_name\n",
    "entrees_year_2['nom_jour'] = pd.DatetimeIndex(entrees_year_2['datetime']).day_name(locale='fr_FR.utf8')\n",
    "\n",
    "# Calcule nombre de jours ouverts\n",
    "nb_jours_ouverts_year_2 = len(entrees_year_2.groupby('date'))\n",
    "\n",
    "total_entrees_year_2 = entrees_year_2['entrees'].sum()\n",
    "\n",
    "total_entrees_dimanche_year_2 = entrees_year_2[entrees_year_2['nom_jour']=='Dimanche']['entrees'].sum()"
   ]
  },
  {
   "cell_type": "code",
   "execution_count": 6,
   "id": "198ac1e2",
   "metadata": {},
   "outputs": [],
   "source": [
    "evolution_entrees = PourcentageEvolution(va=total_entrees_year_1,vd=total_entrees_year_2)"
   ]
  },
  {
   "cell_type": "markdown",
   "id": "2c926842",
   "metadata": {},
   "source": [
    "# Inscrits à La Grand Plage"
   ]
  },
  {
   "cell_type": "code",
   "execution_count": 7,
   "id": "1e11c3f1",
   "metadata": {},
   "outputs": [],
   "source": [
    "query = f\"\"\"SELECT *\n",
    "FROM statdb.stat_adherents sa \n",
    "WHERE YEAR(date_extraction) = '{year_1}'\n",
    "AND date_extraction = (SELECT MAX(date_extraction) \n",
    "                       FROM statdb.stat_adherents sa2  \n",
    "                       WHERE YEAR(date_extraction) = '{year_1}');\"\"\"\n",
    "\n",
    "inscrits_year_1 = pd.read_sql(query,db_conn)\n",
    "\n",
    "# Ajout d'une colonne tranche d'âge\n",
    "inscrits_year_1.loc[inscrits_year_1['age']<=14,[\"tranche d'âge\"]] = '0-14 ans'\n",
    "inscrits_year_1.loc[inscrits_year_1['age']>=15,[\"tranche d'âge\"]] = '15 ans et plus'\n",
    "\n",
    "# Nombre d'inscrit par tranche d'âge\n",
    "nb_inscrits_moins_de_14_ans_year_1 = len(inscrits_year_1[inscrits_year_1[\"tranche d'âge\"]=='0-14 ans'])\n",
    "nb_inscrits_15_ans_et_plus_year_1 = len(inscrits_year_1[inscrits_year_1[\"tranche d'âge\"]=='15 ans et plus'])\n",
    "\n",
    "# Total inscrits\n",
    "total_inscrits_year_1 = len(inscrits_year_1)\n",
    "\n",
    "# Pourcentage d'inscrits par tranche d'âge\n",
    "pct_moins_de_14_ans_year_1 = PourcentageRepartition(partie=nb_inscrits_moins_de_14_ans_year_1,\n",
    "                                                             ensemble=total_inscrits_year_1)\n",
    "\n",
    "pct_15_ans_et_plus_year_1 = PourcentageRepartition(partie=nb_inscrits_15_ans_et_plus_year_1,\n",
    "                                                            ensemble=total_inscrits_year_1)\n",
    "\n",
    "# Total nouveaux inscrits\n",
    "total_inscrits_nvx_year_1 = len(inscrits_year_1[inscrits_year_1['inscription_fidelite']==0])\n",
    "\n",
    "# Pourcentage de nouveaux inscrits (moins d'1 an)\n",
    "pct_inscrits_nvx_year_1 = PourcentageRepartition(partie=total_inscrits_nvx_year_1,\n",
    "                                                   ensemble=total_inscrits_year_1)\n",
    "pct_inscrits_nvx_year_1\n",
    "\n",
    "# Création d'une colonne Roubaisien?\n",
    "inscrits_year_1.loc[inscrits_year_1['geo_ville']=='ROUBAIX',['roubaisien?']] = 'OUI'\n",
    "\n",
    "# Nombre d'inscrits roubaisiens\n",
    "nb_inscrits_roubaisiens_year_1 = len(inscrits_year_1[inscrits_year_1['roubaisien?']=='OUI'])\n",
    "\n",
    "# Liste des cartes médiathèques payantes\n",
    "carte_mediatheque = ['MEDA','MEDB','MEDC','CSVT']\n",
    "\n",
    "# Création d'une colonne type de carte\n",
    "inscrits_year_1.loc[inscrits_year_1['inscription_code_carte'].isin(carte_mediatheque),['type_de_carte']] = 'Carte Médiathèque Plus'\n",
    "inscrits_year_1.loc[inscrits_year_1['inscription_code_carte']=='BIBL',['type_de_carte']] = 'Carte Médiathèque (gratuite)'\n",
    "inscrits_year_1.loc[inscrits_year_1['inscription_code_carte']=='CSLT',['type_de_carte']] = 'Carte de consultation sur place'\n",
    "\n",
    "# Nombre d'inscrits par types de cartes\n",
    "nb_inscrits_carte_med_year_1 = len(inscrits_year_1[inscrits_year_1['type_de_carte']=='Carte Médiathèque Plus'])\n",
    "nb_inscrits_carte_bib_year_1 = len(inscrits_year_1[inscrits_year_1['type_de_carte']=='Carte Médiathèque (gratuite)'])\n",
    "nb_inscrits_carte_consultation_year_1 = len(inscrits_year_1[inscrits_year_1['type_de_carte']=='Carte de consultation sur place'])\n",
    "\n",
    "# Pourcentage d'inscrits par type de carte\n",
    "pct_carte_med_year_1 = PourcentageRepartition(partie=nb_inscrits_carte_med_year_1,\n",
    "                                                       ensemble=total_inscrits_year_1)\n",
    "\n",
    "pct_carte_bib_year_1 = PourcentageRepartition(partie=nb_inscrits_carte_bib_year_1,\n",
    "                                                       ensemble=total_inscrits_year_1)\n",
    "\n",
    "pct_carte_consultation_year_1 = PourcentageRepartition(partie=nb_inscrits_carte_consultation_year_1,\n",
    "                                                       ensemble=total_inscrits_year_1)"
   ]
  },
  {
   "cell_type": "code",
   "execution_count": 8,
   "id": "38d14b8f",
   "metadata": {},
   "outputs": [],
   "source": [
    "query = f\"\"\"SELECT *\n",
    "FROM statdb.stat_adherents sa \n",
    "WHERE YEAR(date_extraction) = '{year_2}'\n",
    "AND date_extraction = (SELECT MAX(date_extraction) \n",
    "                       FROM statdb.stat_adherents sa2  \n",
    "                       WHERE YEAR(date_extraction) = '{year_2}');\"\"\"\n",
    "\n",
    "inscrits_year_2 = pd.read_sql(query,db_conn)\n",
    "\n",
    "# Ajout d'une colonne tranche d'âge\n",
    "inscrits_year_2.loc[inscrits_year_2['age']<=14,[\"tranche d'âge\"]] = '0-14 ans'\n",
    "inscrits_year_2.loc[inscrits_year_2['age']>=15,[\"tranche d'âge\"]] = '15 ans et plus'\n",
    "\n",
    "# Nombre d'inscrit par tranche d'âge\n",
    "nb_inscrits_moins_de_14_ans_year_2 = len(inscrits_year_2[inscrits_year_2[\"tranche d'âge\"]=='0-14 ans'])\n",
    "nb_inscrits_15_ans_et_plus_year_2 = len(inscrits_year_2[inscrits_year_2[\"tranche d'âge\"]=='15 ans et plus'])\n",
    "\n",
    "# Total inscrits\n",
    "total_inscrits_year_2 = len(inscrits_year_2)\n",
    "\n",
    "# Pourcentage d'inscrits par tranche d'âge\n",
    "pct_moins_de_14_ans_year_2 = PourcentageRepartition(partie=nb_inscrits_moins_de_14_ans_year_2,\n",
    "                                                             ensemble=total_inscrits_year_2)\n",
    "\n",
    "pct_15_ans_et_plus_year_2 = PourcentageRepartition(partie=nb_inscrits_15_ans_et_plus_year_2,\n",
    "                                                            ensemble=total_inscrits_year_2)\n",
    "\n",
    "# Total nouveaux inscrits\n",
    "total_inscrits_nvx_year_2 = len(inscrits_year_2[inscrits_year_2['inscription_fidelite']==0])\n",
    "\n",
    "# Pourcentage de nouveaux inscrits (moins d'1 an)\n",
    "pct_inscrits_nvx_year_2 = PourcentageRepartition(partie=total_inscrits_nvx_year_2,\n",
    "                                                   ensemble=total_inscrits_year_2)\n",
    "pct_inscrits_nvx_year_2\n",
    "\n",
    "# Création d'une colonne Roubaisien?\n",
    "inscrits_year_2.loc[inscrits_year_2['geo_ville']=='ROUBAIX',['roubaisien?']] = 'OUI'\n",
    "\n",
    "# Nombre d'inscrits roubaisiens\n",
    "nb_inscrits_roubaisiens_year_2 = len(inscrits_year_2[inscrits_year_2['roubaisien?']=='OUI'])\n",
    "\n",
    "# Liste des cartes médiathèques payantes\n",
    "carte_mediatheque = ['MEDA','MEDB','MEDC','CSVT']\n",
    "\n",
    "# Création d'une colonne type de carte\n",
    "inscrits_year_2.loc[inscrits_year_2['inscription_code_carte'].isin(carte_mediatheque),['type_de_carte']] = 'Carte Médiathèque Plus'\n",
    "inscrits_year_2.loc[inscrits_year_2['inscription_code_carte']=='BIBL',['type_de_carte']] = 'Carte Médiathèque (gratuite)'\n",
    "inscrits_year_2.loc[inscrits_year_2['inscription_code_carte']=='CSLT',['type_de_carte']] = 'Carte de consultation sur place'\n",
    "\n",
    "# Nombre d'inscrits par types de cartes\n",
    "nb_inscrits_carte_med_year_2 = len(inscrits_year_2[inscrits_year_2['type_de_carte']=='Carte Médiathèque Plus'])\n",
    "nb_inscrits_carte_bib_year_2 = len(inscrits_year_2[inscrits_year_2['type_de_carte']=='Carte Médiathèque (gratuite)'])\n",
    "nb_inscrits_carte_consultation_year_2 = len(inscrits_year_2[inscrits_year_2['type_de_carte']=='Carte de consultation sur place'])\n",
    "\n",
    "# Pourcentage d'inscrits par type de carte\n",
    "pct_carte_med_year_2 = PourcentageRepartition(partie=nb_inscrits_carte_med_year_2,\n",
    "                                                       ensemble=total_inscrits_year_2)\n",
    "\n",
    "pct_carte_bib_year_2 = PourcentageRepartition(partie=nb_inscrits_carte_bib_year_2,\n",
    "                                                       ensemble=total_inscrits_year_2)\n",
    "\n",
    "pct_carte_consultation_year_2 = PourcentageRepartition(partie=nb_inscrits_carte_consultation_year_2,\n",
    "                                                       ensemble=total_inscrits_year_2)"
   ]
  },
  {
   "cell_type": "code",
   "execution_count": 9,
   "id": "1af8fee7",
   "metadata": {},
   "outputs": [],
   "source": [
    "# Evolution des inscrits\n",
    "evolution_inscrits = PourcentageEvolution(va=total_inscrits_year_1,vd=total_inscrits_year_2)"
   ]
  },
  {
   "cell_type": "markdown",
   "id": "2934f0d8",
   "metadata": {},
   "source": [
    "# Les prêts"
   ]
  },
  {
   "cell_type": "code",
   "execution_count": 10,
   "id": "0e4594e5",
   "metadata": {},
   "outputs": [],
   "source": [
    "# On regroupe les différentes localisations de documents par espaces, dans une liste\n",
    "espace_jeunesse_med = ('MED2A','MED2C')\n",
    "autres_espaces_med = ('MED0B','MED0C','MED1A','MED2B','MED3A','MED3C','MED3E','MED3F','MED3H','MED3I','MED3K','MED3M','MED3O','MED3T')\n",
    "tous_espaces_med = ('MED2A','MED2C''MED0B','MED0C','MED1A','MED2B','MED3A','MED3C','MED3E','MED3F','MED3H','MED3I','MED3K','MED3M','MED3O','MED3T')"
   ]
  },
  {
   "cell_type": "code",
   "execution_count": 11,
   "id": "b453a53f",
   "metadata": {},
   "outputs": [],
   "source": [
    "query = f\"\"\"SELECT * \n",
    "FROM statdb.stat_issues si\n",
    "WHERE YEAR(issuedate) = {year_1}\"\"\""
   ]
  },
  {
   "cell_type": "code",
   "execution_count": 12,
   "id": "263edb05",
   "metadata": {},
   "outputs": [],
   "source": [
    "prets_year_1 = pd.read_sql(query,db_conn)"
   ]
  },
  {
   "cell_type": "code",
   "execution_count": 13,
   "id": "62d93662",
   "metadata": {},
   "outputs": [],
   "source": [
    "# Dataframe avec les prêts localisés en médiathèque\n",
    "prets_med_year_1 = prets_year_1[prets_year_1['location'].isin(tous_espaces_med)]"
   ]
  },
  {
   "cell_type": "code",
   "execution_count": 14,
   "id": "57b04807",
   "metadata": {},
   "outputs": [
    {
     "name": "stderr",
     "output_type": "stream",
     "text": [
      "/tmp/ipykernel_21300/1183353713.py:2: UserWarning: Boolean Series key will be reindexed to match DataFrame index.\n",
      "  nb_prets_jeunesse_med_year_1 = len(prets_med_year_1[prets_year_1['location'].isin(espace_jeunesse_med)])\n",
      "/tmp/ipykernel_21300/1183353713.py:3: UserWarning: Boolean Series key will be reindexed to match DataFrame index.\n",
      "  nb_prets_pas_jeunesse_med_year_1 = len(prets_med_year_1[prets_year_1['location'].isin(autres_espaces_med)])\n"
     ]
    }
   ],
   "source": [
    "# Nombre de prêts en espace JEUNESSE et dans les AUTRES ESPACES\n",
    "nb_prets_jeunesse_med_year_1 = len(prets_med_year_1[prets_year_1['location'].isin(espace_jeunesse_med)])\n",
    "nb_prets_pas_jeunesse_med_year_1 = len(prets_med_year_1[prets_year_1['location'].isin(autres_espaces_med)])"
   ]
  },
  {
   "cell_type": "code",
   "execution_count": 15,
   "id": "ebfed716",
   "metadata": {},
   "outputs": [],
   "source": [
    "# Nombre de prêts tous services confondus ET Nombre de prêts localisés à la médiathèque\n",
    "total_prets_med_year_1 = len(prets_med_year_1)"
   ]
  },
  {
   "cell_type": "code",
   "execution_count": 16,
   "id": "7e6ef70a",
   "metadata": {},
   "outputs": [],
   "source": [
    "repartitition_prets_jeunesse_med_year_1 = PourcentageRepartition(partie=nb_prets_jeunesse_med_year_1,\n",
    "                                                              ensemble=total_prets_med_year_1)\n",
    "\n",
    "repartitition_prets_pas_jeunesse_med_year_1 = PourcentageRepartition(partie=nb_prets_pas_jeunesse_med_year_1,\n",
    "                                                              ensemble=total_prets_med_year_1)"
   ]
  },
  {
   "cell_type": "code",
   "execution_count": 17,
   "id": "da8e72d1",
   "metadata": {},
   "outputs": [],
   "source": [
    "# Nombre de prêts par site \n",
    "nb_prets_med_year_1 = len(prets_year_1[prets_year_1['branch']=='MED'])\n",
    "nb_prets_bus_year_1 = len(prets_year_1[prets_year_1['branch']=='BUS'])"
   ]
  },
  {
   "cell_type": "code",
   "execution_count": 18,
   "id": "54cbc8d7",
   "metadata": {},
   "outputs": [],
   "source": [
    "# Nombre de prêts total\n",
    "total_prets_year_1 = len(prets_year_1)"
   ]
  },
  {
   "cell_type": "code",
   "execution_count": 19,
   "id": "797633ba",
   "metadata": {},
   "outputs": [],
   "source": [
    "#pourcentage de prêts médiathèque\n",
    "pct_prets_med_year_1 = PourcentageRepartition(partie=nb_prets_med_year_1,ensemble=total_prets_year_1)\n",
    "\n",
    "#pourcentage de prêts bus\n",
    "pct_prets_bus_year_1 = PourcentageRepartition(partie=nb_prets_bus_year_1,ensemble=total_prets_year_1)"
   ]
  },
  {
   "cell_type": "code",
   "execution_count": 20,
   "id": "31c91629",
   "metadata": {},
   "outputs": [],
   "source": [
    "# Nombre de prêts par type de support\n",
    "nb_prets_livres_year_1 = len(prets_year_1[prets_year_1['itemtype']=='LI'])\n",
    "nb_prets_dvd_year_1 = len(prets_year_1[prets_year_1['itemtype']=='VD'])\n",
    "\n",
    "#pourcentage de prêts livres\n",
    "pct_prets_livres_year_1 = PourcentageRepartition(partie=nb_prets_livres_year_1,ensemble=total_prets_year_1)\n",
    "\n",
    "#pourcentage de prêts dvd\n",
    "pct_prets_dvd_year_1 = PourcentageRepartition(partie=nb_prets_dvd_year_1,ensemble=total_prets_year_1)"
   ]
  },
  {
   "cell_type": "code",
   "execution_count": 21,
   "id": "7bc30b58",
   "metadata": {},
   "outputs": [
    {
     "name": "stderr",
     "output_type": "stream",
     "text": [
      "/tmp/ipykernel_21300/1042478012.py:2: SettingWithCopyWarning: \n",
      "A value is trying to be set on a copy of a slice from a DataFrame.\n",
      "Try using .loc[row_indexer,col_indexer] = value instead\n",
      "\n",
      "See the caveats in the documentation: https://pandas.pydata.org/pandas-docs/stable/user_guide/indexing.html#returning-a-view-versus-a-copy\n",
      "  prets_med_year_1['age'] = pd.to_numeric(prets_med_year_1['age'],\n"
     ]
    }
   ],
   "source": [
    "# Conversion de la colonne AGE en INT\n",
    "prets_med_year_1['age'] = pd.to_numeric(prets_med_year_1['age'],\n",
    "                                        downcast=\"integer\",\n",
    "                                        errors=\"coerce\")\n"
   ]
  },
  {
   "cell_type": "code",
   "execution_count": 22,
   "id": "ab8a2253",
   "metadata": {},
   "outputs": [
    {
     "name": "stderr",
     "output_type": "stream",
     "text": [
      "/tmp/ipykernel_21300/697466818.py:2: SettingWithCopyWarning: \n",
      "A value is trying to be set on a copy of a slice from a DataFrame.\n",
      "Try using .loc[row_indexer,col_indexer] = value instead\n",
      "\n",
      "See the caveats in the documentation: https://pandas.pydata.org/pandas-docs/stable/user_guide/indexing.html#returning-a-view-versus-a-copy\n",
      "  prets_med_year_1.loc[prets_med_year_1[\"age\"]<=14,[\"Tranche d'âge\"]] = \"0-14 ans\"\n"
     ]
    }
   ],
   "source": [
    "# Nombre de prêt par tranche d'âge des emprunteurs\n",
    "prets_med_year_1.loc[prets_med_year_1[\"age\"]<=14,[\"Tranche d'âge\"]] = \"0-14 ans\"\n",
    "prets_med_year_1.loc[prets_med_year_1[\"age\"]>14,[\"Tranche d'âge\"]] = \"15 ans et plus\"\n",
    "\n",
    "nb_prets_med_zero_quatorze_ans = len(prets_med_year_1[prets_med_year_1[\"Tranche d'âge\"]==\"0-14 ans\"])\n",
    "nb_prets_med_quinze_ans_et_plus = len(prets_med_year_1[prets_med_year_1[\"Tranche d'âge\"]==\"15 ans et plus\"])\n",
    "\n",
    "# Pourcentage de prêts par tranche d'âge des emprunteurs\n",
    "pct_jeunes_prets_med_year_1 = PourcentageRepartition(partie=nb_prets_med_zero_quatorze_ans,\n",
    "                                                       ensemble=total_prets_med_year_1)\n",
    "\n",
    "pct_adultes_prets_med_year_1 = PourcentageRepartition(partie=nb_prets_med_quinze_ans_et_plus,\n",
    "                                                       ensemble=total_prets_med_year_1)"
   ]
  },
  {
   "cell_type": "code",
   "execution_count": 23,
   "id": "a0a68c39",
   "metadata": {},
   "outputs": [
    {
     "name": "stderr",
     "output_type": "stream",
     "text": [
      "/tmp/ipykernel_21300/1877173782.py:11: UserWarning: Boolean Series key will be reindexed to match DataFrame index.\n",
      "  nb_prets_jeunesse_med_year_2 = len(prets_med_year_2[prets_year_2['location'].isin(espace_jeunesse_med)])\n",
      "/tmp/ipykernel_21300/1877173782.py:12: UserWarning: Boolean Series key will be reindexed to match DataFrame index.\n",
      "  nb_prets_pas_jeunesse_med_year_2 = len(prets_med_year_2[prets_year_2['location'].isin(autres_espaces_med)])\n",
      "/tmp/ipykernel_21300/1877173782.py:47: SettingWithCopyWarning: \n",
      "A value is trying to be set on a copy of a slice from a DataFrame.\n",
      "Try using .loc[row_indexer,col_indexer] = value instead\n",
      "\n",
      "See the caveats in the documentation: https://pandas.pydata.org/pandas-docs/stable/user_guide/indexing.html#returning-a-view-versus-a-copy\n",
      "  prets_med_year_2['age'] = pd.to_numeric(prets_med_year_2['age'],\n",
      "/tmp/ipykernel_21300/1877173782.py:53: SettingWithCopyWarning: \n",
      "A value is trying to be set on a copy of a slice from a DataFrame.\n",
      "Try using .loc[row_indexer,col_indexer] = value instead\n",
      "\n",
      "See the caveats in the documentation: https://pandas.pydata.org/pandas-docs/stable/user_guide/indexing.html#returning-a-view-versus-a-copy\n",
      "  prets_med_year_2.loc[prets_med_year_2[\"age\"]<=14,[\"Tranche d'âge\"]] = \"0-14 ans\"\n"
     ]
    }
   ],
   "source": [
    "query = f\"\"\"SELECT * \n",
    "FROM statdb.stat_issues si\n",
    "WHERE YEAR(issuedate) = {year_2}\"\"\"\n",
    "\n",
    "prets_year_2 = pd.read_sql(query,db_conn)\n",
    "\n",
    "# Dataframe avec les prêts localisés en médiathèque\n",
    "prets_med_year_2 = prets_year_2[prets_year_2['location'].isin(tous_espaces_med)]\n",
    "\n",
    "# Nombre de prêts en espace JEUNESSE et dans les AUTRES ESPACES\n",
    "nb_prets_jeunesse_med_year_2 = len(prets_med_year_2[prets_year_2['location'].isin(espace_jeunesse_med)])\n",
    "nb_prets_pas_jeunesse_med_year_2 = len(prets_med_year_2[prets_year_2['location'].isin(autres_espaces_med)])\n",
    "\n",
    "# Nombre de prêts tous services confondus ET Nombre de prêts localisés à la médiathèque\n",
    "total_prets_med_year_2 = len(prets_med_year_2)\n",
    "\n",
    "repartitition_prets_jeunesse_med_year_2 = PourcentageRepartition(partie=nb_prets_jeunesse_med_year_2,\n",
    "                                                              ensemble=total_prets_med_year_2)\n",
    "\n",
    "repartitition_prets_pas_jeunesse_med_year_2 = PourcentageRepartition(partie=nb_prets_pas_jeunesse_med_year_2,\n",
    "                                                              ensemble=total_prets_med_year_2)\n",
    "\n",
    "# Nombre de prêts par site \n",
    "nb_prets_med_year_2 = len(prets_year_2[prets_year_2['branch']=='MED'])\n",
    "nb_prets_bus_year_2 = len(prets_year_2[prets_year_2['branch']=='BUS'])\n",
    "\n",
    "# Nombre de prêts total\n",
    "total_prets_year_2 = len(prets_year_2)\n",
    "\n",
    "#pourcentage de prêts médiathèque\n",
    "pct_prets_med_year_2 = PourcentageRepartition(partie=nb_prets_med_year_2,ensemble=total_prets_year_2)\n",
    "\n",
    "#pourcentage de prêts bus\n",
    "pct_prets_bus_year_2 = PourcentageRepartition(partie=nb_prets_bus_year_2,ensemble=total_prets_year_2)\n",
    "\n",
    "# Nombre de prêts par type de support\n",
    "nb_prets_livres_year_2 = len(prets_year_2[prets_year_2['itemtype']=='LI'])\n",
    "nb_prets_dvd_year_2 = len(prets_year_2[prets_year_2['itemtype']=='VD'])\n",
    "\n",
    "#pourcentage de prêts livres\n",
    "pct_prets_livres_year_2 = PourcentageRepartition(partie=nb_prets_livres_year_2,ensemble=total_prets_year_2)\n",
    "\n",
    "#pourcentage de prêts dvd\n",
    "pct_prets_dvd_year_2 = PourcentageRepartition(partie=nb_prets_dvd_year_2,ensemble=total_prets_year_2)\n",
    "\n",
    "# Conversion de la colonne AGE en INT\n",
    "prets_med_year_2['age'] = pd.to_numeric(prets_med_year_2['age'],\n",
    "                                        downcast=\"integer\",\n",
    "                                        errors=\"coerce\")\n",
    "\n",
    "\n",
    "# Nombre de prêt par tranche d'âge des emprunteurs\n",
    "prets_med_year_2.loc[prets_med_year_2[\"age\"]<=14,[\"Tranche d'âge\"]] = \"0-14 ans\"\n",
    "prets_med_year_2.loc[prets_med_year_2[\"age\"]>14,[\"Tranche d'âge\"]] = \"15 ans et plus\"\n",
    "\n",
    "nb_prets_med_zero_quatorze_ans = len(prets_med_year_2[prets_med_year_2[\"Tranche d'âge\"]==\"0-14 ans\"])\n",
    "nb_prets_med_quinze_ans_et_plus = len(prets_med_year_2[prets_med_year_2[\"Tranche d'âge\"]==\"15 ans et plus\"])\n",
    "\n",
    "# Pourcentage de prêts par tranche d'âge des emprunteurs\n",
    "pct_jeunes_prets_med_year_2 = PourcentageRepartition(partie=nb_prets_med_zero_quatorze_ans,\n",
    "                                                       ensemble=total_prets_med_year_2)\n",
    "\n",
    "pct_adultes_prets_med_year_2 = PourcentageRepartition(partie=nb_prets_med_quinze_ans_et_plus,\n",
    "                                                       ensemble=total_prets_med_year_2)\n",
    "\n",
    "# Evolution des prêts\n",
    "evolultion_prets = PourcentageEvolution(va=total_prets_year_2,vd=total_prets_year_2)"
   ]
  },
  {
   "cell_type": "code",
   "execution_count": 24,
   "id": "d187f593",
   "metadata": {},
   "outputs": [],
   "source": [
    "# Evolution des prêts\n",
    "evolultion_prets = PourcentageEvolution(va=total_prets_year_1,vd=total_prets_year_2)"
   ]
  },
  {
   "cell_type": "markdown",
   "id": "831cc355",
   "metadata": {},
   "source": [
    "# Réservations"
   ]
  },
  {
   "cell_type": "code",
   "execution_count": 25,
   "id": "8a4bc1ae",
   "metadata": {},
   "outputs": [],
   "source": [
    "query = f\"\"\"SELECT * \n",
    "FROM statdb.stat_reserves sr\n",
    "WHERE YEAR(reservedate) = \n",
    "{year_1}\"\"\"\n",
    "\n",
    "resas_year_1 = pd.read_sql(query,db_conn)\n",
    "\n",
    "nb_resas_distincts_year_1 = resas_year_1['borrowernumber'].nunique()\n",
    "\n",
    "total_resas_year_1 = len(resas_year_1)"
   ]
  },
  {
   "cell_type": "code",
   "execution_count": 26,
   "id": "471cc98d",
   "metadata": {},
   "outputs": [],
   "source": [
    "query = f\"\"\"SELECT * \n",
    "FROM statdb.stat_reserves sr\n",
    "WHERE YEAR(reservedate) = {year_2}\"\"\"\n",
    "\n",
    "resas_year_2 = pd.read_sql(query,db_conn)\n",
    "total_resas_year_2 = len(resas_year_2)\n",
    "\n",
    "total_resas_year_2 = len(resas_year_2)\n",
    "\n",
    "nb_resas_distincts_year_2 = resas_year_2['borrowernumber'].nunique()"
   ]
  },
  {
   "cell_type": "code",
   "execution_count": 27,
   "id": "c1d6d8fd",
   "metadata": {},
   "outputs": [],
   "source": [
    "evolution_resas = PourcentageEvolution(va=total_resas_year_1,vd=total_resas_year_2)\n",
    "evolution_resas_distincts = PourcentageEvolution(va=nb_resas_distincts_year_1,vd=nb_resas_distincts_year_2)"
   ]
  },
  {
   "cell_type": "markdown",
   "id": "2413995a",
   "metadata": {},
   "source": [
    "# Les connexions aux ordis"
   ]
  },
  {
   "cell_type": "code",
   "execution_count": 28,
   "id": "d95ba28d",
   "metadata": {},
   "outputs": [],
   "source": [
    "query = f\"\"\"SELECT *\n",
    "FROM statdb.stat_webkiosk sw \n",
    "WHERE YEAR(heure_deb) = '{year_1}'\"\"\"\n",
    "\n",
    "ordis_year_1 = pd.read_sql(query,db_conn)\n",
    "\n",
    "# Nombre total de connexions aux ordinateurs\n",
    "total_ordis_year_1 = len(ordis_year_1)\n",
    "\n",
    "# Nombre de connexions ordis par des utilisateurs provenant de roubaix\n",
    "total_ordis_rbx_year_1 = len(ordis_year_1[ordis_year_1['ville']=='ROUBAIX'])\n",
    "\n",
    "# Pourcentage de connexions ordis par des utilisateurs provenant de Roubaix\n",
    "pct_ordis_year_1 = PourcentageRepartition(partie=total_ordis_rbx_year_1,ensemble=total_ordis_year_1)"
   ]
  },
  {
   "cell_type": "code",
   "execution_count": 29,
   "id": "c17c447b",
   "metadata": {},
   "outputs": [],
   "source": [
    "query = f\"\"\"SELECT *\n",
    "FROM statdb.stat_webkiosk sw \n",
    "WHERE YEAR(heure_deb) = '{year_2}'\"\"\"\n",
    "\n",
    "ordis_year_2 = pd.read_sql(query,db_conn)\n",
    "\n",
    "# Nombre total de connexions aux ordinateurs\n",
    "total_ordis_year_2 = len(ordis_year_2)\n",
    "\n",
    "# Nombre de connexions ordis par des utilisateurs provenant de roubaix\n",
    "total_ordis_rbx_year_2 = len(ordis_year_2[ordis_year_2['ville']=='ROUBAIX'])\n",
    "\n",
    "# Pourcentage de connexions ordis par des utilisateurs provenant de Roubaix\n",
    "pct_ordis_year_2 = PourcentageRepartition(partie=total_ordis_rbx_year_2,ensemble=total_ordis_year_2)"
   ]
  },
  {
   "cell_type": "code",
   "execution_count": 30,
   "id": "79dd1b78",
   "metadata": {},
   "outputs": [],
   "source": [
    "evolution_ordis = PourcentageEvolution(va=total_ordis_year_1,vd=total_ordis_year_2)"
   ]
  },
  {
   "cell_type": "markdown",
   "id": "49bee3a1",
   "metadata": {},
   "source": [
    "# Connexions wifi"
   ]
  },
  {
   "cell_type": "code",
   "execution_count": 31,
   "id": "97414bf0",
   "metadata": {},
   "outputs": [],
   "source": [
    "query = f\"\"\"SELECT *\n",
    "FROM statdb.stat_wifi si \n",
    "WHERE YEAR(start_wifi) = '{year_1}'\"\"\"\n",
    "\n",
    "wifi_year_1 = pd.read_sql(query,db_conn)\n",
    "\n",
    "# Nombre de connexions wifi\n",
    "total_wifi_year_1 = len(wifi_year_1)"
   ]
  },
  {
   "cell_type": "code",
   "execution_count": 32,
   "id": "4efce2ba",
   "metadata": {},
   "outputs": [],
   "source": [
    "query = f\"\"\"SELECT *\n",
    "FROM statdb.stat_wifi si \n",
    "WHERE YEAR(start_wifi) = '{year_2}'\"\"\"\n",
    "\n",
    "wifi_year_2 = pd.read_sql(query,db_conn)\n",
    "\n",
    "# Nombre de connexions wifi\n",
    "total_wifi_year_2 = len(wifi_year_2)"
   ]
  },
  {
   "cell_type": "code",
   "execution_count": 33,
   "id": "7029e571",
   "metadata": {},
   "outputs": [],
   "source": [
    "evolution_wifi = PourcentageEvolution(va=total_wifi_year_1,vd=total_wifi_year_2)"
   ]
  },
  {
   "cell_type": "markdown",
   "id": "3fb8e66e",
   "metadata": {},
   "source": [
    "# Sites web"
   ]
  },
  {
   "cell_type": "markdown",
   "id": "c23c1574",
   "metadata": {},
   "source": [
    "## Portail"
   ]
  },
  {
   "cell_type": "code",
   "execution_count": 34,
   "id": "45325d94",
   "metadata": {},
   "outputs": [],
   "source": [
    "query = f\"\"\"SELECT * \n",
    "FROM statdb.stat_web2 sw\n",
    "WHERE YEAR(`date`) = {year_1}\"\"\"\n",
    "\n",
    "web_year_1 = pd.read_sql(query,db_conn)\n",
    "\n",
    "nb_visites_web_year_1 = web_year_1['visites'].sum()"
   ]
  },
  {
   "cell_type": "code",
   "execution_count": 35,
   "id": "352f9cdd",
   "metadata": {},
   "outputs": [
    {
     "data": {
      "text/plain": [
       "182074"
      ]
     },
     "execution_count": 35,
     "metadata": {},
     "output_type": "execute_result"
    }
   ],
   "source": [
    "query = f\"\"\"SELECT * \n",
    "FROM statdb.stat_web2 sw\n",
    "WHERE YEAR(`date`) = {year_2}\"\"\"\n",
    "\n",
    "web_year_2 = pd.read_sql(query,db_conn)\n",
    "\n",
    "nb_visites_web_year_2 = web_year_2['visites'].sum()\n",
    "nb_visites_web_year_2"
   ]
  },
  {
   "cell_type": "code",
   "execution_count": 36,
   "id": "ce5f0081",
   "metadata": {},
   "outputs": [],
   "source": [
    "evolution_web = PourcentageEvolution(va=nb_visites_web_year_1,vd=nb_visites_web_year_2)"
   ]
  },
  {
   "cell_type": "markdown",
   "id": "cec8766f",
   "metadata": {},
   "source": [
    "# Bn-r"
   ]
  },
  {
   "cell_type": "code",
   "execution_count": 37,
   "id": "d177aeec",
   "metadata": {},
   "outputs": [],
   "source": [
    "bnr = pd.read_excel('../stats_bnr_synthese.xlsx')"
   ]
  },
  {
   "cell_type": "code",
   "execution_count": 38,
   "id": "de6d5ae1",
   "metadata": {},
   "outputs": [],
   "source": [
    "#Nombre de visites par an\n",
    "nb_visites_bnr_year_1 = bnr[bnr['annee']==year_1]['nb_visites'].sum()\n",
    "nb_visites_bnr_year_2 = bnr[bnr['annee']==year_2]['nb_visites'].sum()\n",
    "\n",
    "\n",
    "#evolution\n",
    "evolution_bnr = PourcentageEvolution(va=nb_visites_bnr_year_1,vd=nb_visites_bnr_year_2)"
   ]
  },
  {
   "cell_type": "code",
   "execution_count": 39,
   "id": "affd08b9",
   "metadata": {},
   "outputs": [],
   "source": [
    "def MakeSpace(x):\n",
    "    x = format(x,',').replace(',',' ')\n",
    "    return(x)"
   ]
  },
  {
   "cell_type": "code",
   "execution_count": 40,
   "id": "38a19107",
   "metadata": {},
   "outputs": [],
   "source": [
    "nums = [nb_inscrits_15_ans_et_plus_year_1,\n",
    "        nb_inscrits_15_ans_et_plus_year_2,\n",
    "        nb_inscrits_carte_bib_year_1,\n",
    "        nb_inscrits_carte_bib_year_2,\n",
    "        nb_inscrits_carte_consultation_year_1,\n",
    "        nb_inscrits_carte_consultation_year_2,\n",
    "        nb_inscrits_carte_med_year_1,\n",
    "        nb_inscrits_carte_med_year_2,\n",
    "        nb_inscrits_moins_de_14_ans_year_1,\n",
    "        nb_inscrits_moins_de_14_ans_year_2,\n",
    "        nb_inscrits_roubaisiens_year_1,\n",
    "        nb_inscrits_roubaisiens_year_2,\n",
    "        nb_prets_bus_year_1,\n",
    "        nb_prets_bus_year_2,\n",
    "        nb_prets_dvd_year_1,\n",
    "        nb_prets_dvd_year_2,\n",
    "        nb_prets_jeunesse_med_year_1,\n",
    "        nb_prets_jeunesse_med_year_2,\n",
    "        nb_prets_livres_year_1,\n",
    "        nb_prets_livres_year_2,\n",
    "        nb_prets_med_quinze_ans_et_plus,\n",
    "        nb_prets_med_year_1,\n",
    "        nb_prets_med_year_2,\n",
    "        nb_prets_pas_jeunesse_med_year_1,\n",
    "        nb_prets_pas_jeunesse_med_year_2\n",
    "       ]"
   ]
  },
  {
   "cell_type": "markdown",
   "id": "52698b1b",
   "metadata": {},
   "source": [
    "# Résultats"
   ]
  },
  {
   "cell_type": "code",
   "execution_count": 42,
   "id": "43ba4bfa",
   "metadata": {
    "scrolled": true
   },
   "outputs": [
    {
     "name": "stdout",
     "output_type": "stream",
     "text": [
      "SYNTHÈSE ANNUELLE POUR L'ANNÉE 2024\n",
      "----------------------------------------------------------------------------------------------------\n",
      "\n",
      "\n",
      "LES INSCRITS\n",
      "\n",
      "En 2024, on compte 15477 personnes inscrites (dont 42% de nouveaux inscrits).\n",
      "Le nombre d'inscrits était de 15033 en 2023, soit une évolution de 3% du nombre d'inscrits en 2024\n",
      "Parmi les adhérents, on compte en 2024 11005 roubaisiens, soit 71% du total d'inscrits. Contre 72% en 2023\n",
      "En 2024 toujours: \n",
      " 781 adhérents ont l'abonnement Médiathèque + (soit 5% du nombre total d'adhérents)\n",
      " 12806 ont l'abonnement médiathèque simple (soit 83%) et\n",
      " 1436 l'abonnement de consultation sur place (soit 9%)\n",
      " - Les 0-14 ans : 5343 inscrits (soit 35% du total inscrits)\n",
      " - Les 15 ans et plus : 9843 inscrits (soit 64% du total inscrit)\n",
      "\n",
      "\n",
      "LES ENTRÉES\n",
      "\n",
      "En 2024, la médiathèque a été ouverte 283 jours\n",
      "On compte 258427 entrées ,contre 232319 entrées en 2023,soit une évolution de 11%\n",
      "Par ailleurs, la médiathèque comptabilise 15580 entrées en 2024 les dimanches, ce qui représente 6% des entrées totales en 2024\n",
      "\n",
      "\n",
      "LES PRÊTS\n",
      "\n",
      "En 2024, on compte 364269 prêts à La Grand-Plage contre 367288 prêts en 2023 soit une évolution de -1%\n",
      "Parmi ces 364269, on compte :\n",
      "349846 prêts médiathèque (soit 96% des prêts totaux) et\n",
      "14423 de prêts au Zèbre (soit 4% des prêts totaux)\n",
      "Les prêts de documents localisé à l'espace jeunesse représentent 53% du total de prêts à la médiathèque en 2024\n",
      "Par ailleurs les livres représentent 83% des prêts totaux (soit 303944) tandis que les dvd représentent 6%\n",
      "171056 prêts jeunesse soit 53% du total de prêt de documents localisés à la médiathèque\n",
      "149888 prêts adultes (hors collectivités) soit 47% du total de prêt de documents localisés à la médiathèque\n",
      "\n",
      "\n",
      "LES RÉSAS\n",
      "\n",
      "En 2024, on compte 43341 réservations contre 40072, soit une évolution de 8% en 2023)\n",
      "En 2024, on compte 3953 réserveurs distincts, contre 3727 en 2023 soit une évolution de 6%\n",
      "\n",
      "\n",
      "LES CONNEXIONS AUX ORDINATEURS\n",
      "\n",
      "En 2024, on compte 55961 connexions aux postes informatiques, contre 49168 connexions en  2023, soit une évolution de 14%\n",
      "En 2023 toujours, 76% des connexions provenait d'usagers habitant à Roubaix, contre 74% en 2023\n",
      "\n",
      "\n",
      "LE NOMBRE DE VISITES DES SITES WEBS\n",
      "\n",
      "Nombre de visites du portail médiathèque en 2024 : 189258 contre 182074 visites en 2023 soit une évolution de 4%\n",
      "Nombre de visites de la bn-r en 2024: 0 contre 49968 visites en 2023 soit une évolution de -100%\n"
     ]
    }
   ],
   "source": [
    "print(f\"SYNTHÈSE ANNUELLE POUR L'ANNÉE {year_1}\")\n",
    "print(100*'-')\n",
    "print(\"\\n\")\n",
    "\n",
    "print(\"LES INSCRITS\\n\")\n",
    "print(f\"En {year_1}, on compte {total_inscrits_year_1} personnes inscrites (dont {pct_inscrits_nvx_year_1} de nouveaux inscrits).\\nLe nombre d'inscrits était de {total_inscrits_year_2} en {year_2}, soit une évolution de {evolution_inscrits} du nombre d'inscrits en {year_1}\")\n",
    "print(f\"Parmi les adhérents, on compte en {year_1} {nb_inscrits_roubaisiens_year_1} roubaisiens, soit {PourcentageRepartition(partie=nb_inscrits_roubaisiens_year_1,ensemble=total_inscrits_year_1)} du total d'inscrits. Contre {PourcentageRepartition(partie=nb_inscrits_roubaisiens_year_2,ensemble=total_inscrits_year_2)} en {year_2}\")\n",
    "print(f\"En {year_1} toujours: \\n {nb_inscrits_carte_med_year_1} adhérents ont l'abonnement Médiathèque + (soit {pct_carte_med_year_1} du nombre total d'adhérents)\\n {nb_inscrits_carte_bib_year_1} ont l'abonnement médiathèque simple (soit {pct_carte_bib_year_1}) et\\n {nb_inscrits_carte_consultation_year_1} l'abonnement de consultation sur place (soit {pct_carte_consultation_year_1})\")\n",
    "print(f\" - Les 0-14 ans : {nb_inscrits_moins_de_14_ans_year_1} inscrits (soit {pct_moins_de_14_ans_year_1} du total inscrits)\")\n",
    "print(f\" - Les 15 ans et plus : {nb_inscrits_15_ans_et_plus_year_1} inscrits (soit {pct_15_ans_et_plus_year_1} du total inscrit)\")\n",
    "print(\"\\n\")\n",
    "\n",
    "print(\"LES ENTRÉES\\n\")\n",
    "print(f\"En {year_1}, la médiathèque a été ouverte {nb_jours_ouverts_year_1} jours\")\n",
    "print(f\"On compte {total_entrees_year_1} entrées ,contre {total_entrees_year_2} entrées en {year_2},soit une évolution de {evolution_entrees}\")\n",
    "print(f\"Par ailleurs, la médiathèque comptabilise {total_entrees_dimanche_year_1} entrées en {year_1} les dimanches, ce qui représente {np.round(total_entrees_dimanche_year_1/total_entrees_year_1*100,0).astype(int)}% des entrées totales en {year_1}\")\n",
    "print(\"\\n\")\n",
    "\n",
    "print(\"LES PRÊTS\\n\")\n",
    "print(f\"En {year_1}, on compte {total_prets_year_1} prêts à La Grand-Plage contre {total_prets_year_2} prêts en {year_2} soit une évolution de {evolultion_prets}\")\n",
    "print(f\"Parmi ces {total_prets_year_1}, on compte :\\n{nb_prets_med_year_1} prêts médiathèque (soit {pct_prets_med_year_1} des prêts totaux) et\\n{nb_prets_bus_year_1} de prêts au Zèbre (soit {pct_prets_bus_year_1} des prêts totaux)\")\n",
    "print(f\"Les prêts de documents localisé à l'espace jeunesse représentent {repartitition_prets_jeunesse_med_year_1} du total de prêts à la médiathèque en {year_1}\")\n",
    "print(f\"Par ailleurs les livres représentent {pct_prets_livres_year_1} des prêts totaux (soit {nb_prets_livres_year_1}) tandis que les dvd représentent {pct_prets_dvd_year_1}\")\n",
    "print(f\"{nb_prets_jeunesse_med_year_1} prêts jeunesse soit {repartitition_prets_jeunesse_med_year_1} du total de prêt de documents localisés à la médiathèque\")\n",
    "print(f\"{nb_prets_pas_jeunesse_med_year_1} prêts adultes (hors collectivités) soit {repartitition_prets_pas_jeunesse_med_year_1} du total de prêt de documents localisés à la médiathèque\")\n",
    "print(\"\\n\")\n",
    "\n",
    "print(\"LES RÉSAS\\n\")\n",
    "print(f\"En {year_1}, on compte {total_resas_year_1} réservations contre {total_resas_year_2}, soit une évolution de {evolution_resas} en {year_2})\")\n",
    "print(f\"En {year_1}, on compte {nb_resas_distincts_year_1} réserveurs distincts, contre {nb_resas_distincts_year_2} en {year_2} soit une évolution de {evolution_resas_distincts}\")\n",
    "print(\"\\n\")\n",
    "\n",
    "print(\"LES CONNEXIONS AUX ORDINATEURS\\n\")\n",
    "print(f\"En {year_1}, on compte {total_ordis_year_1} connexions aux postes informatiques, contre {total_ordis_year_2} connexions en  {year_2}, soit une évolution de {evolution_ordis}\")\n",
    "print(f\"En 2023 toujours, {pct_ordis_year_1} des connexions provenait d'usagers habitant à Roubaix, contre {pct_ordis_year_2} en {year_2}\")\n",
    "print(\"\\n\")\n",
    "\n",
    "print(f\"LE NOMBRE DE VISITES DES SITES WEBS\\n\")\n",
    "print(f\"Nombre de visites du portail médiathèque en {year_1} : {nb_visites_web_year_1} contre {nb_visites_web_year_2} visites en {year_2} soit une évolution de {evolution_web}\")\n",
    "print(f\"Nombre de visites de la bn-r en {year_1}: {nb_visites_bnr_year_1} contre {nb_visites_bnr_year_2} visites en {year_2} soit une évolution de {evolution_bnr}\")"
   ]
  }
 ],
 "metadata": {
  "kernelspec": {
   "display_name": "Python 3 (ipykernel)",
   "language": "python",
   "name": "python3"
  },
  "language_info": {
   "codemirror_mode": {
    "name": "ipython",
    "version": 3
   },
   "file_extension": ".py",
   "mimetype": "text/x-python",
   "name": "python",
   "nbconvert_exporter": "python",
   "pygments_lexer": "ipython3",
   "version": "3.8.12"
  }
 },
 "nbformat": 4,
 "nbformat_minor": 5
}
