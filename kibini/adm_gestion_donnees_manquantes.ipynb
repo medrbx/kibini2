{
 "cells": [
  {
   "cell_type": "code",
   "execution_count": 1,
   "id": "f6d7f00c",
   "metadata": {},
   "outputs": [],
   "source": [
    "import pandas as pd\n",
    "\n",
    "from kiblib.utils.db import DbConn"
   ]
  },
  {
   "cell_type": "code",
   "execution_count": 2,
   "id": "adcffc03",
   "metadata": {},
   "outputs": [],
   "source": [
    "db_conn = DbConn().create_engine()"
   ]
  },
  {
   "cell_type": "markdown",
   "id": "f0b1ecdd",
   "metadata": {},
   "source": [
    "# Prêts"
   ]
  },
  {
   "cell_type": "code",
   "execution_count": 5,
   "id": "30f77620",
   "metadata": {},
   "outputs": [
    {
     "name": "stderr",
     "output_type": "stream",
     "text": [
      "/tmp/ipykernel_21205/2638905257.py:4: DtypeWarning: Columns (12,20,23) have mixed types. Specify dtype option on import or set low_memory=False.\n",
      "  statdb_issues = pd.read_csv(\"/home/kibini/statdb_issues.tsv.gz\", sep=\"\\t\")\n"
     ]
    }
   ],
   "source": [
    "#query = \"\"\"SELECT * FROM statdb.stat_issues si WHERE YEAR(si.issuedate)\"\"\"\n",
    "#statdb_issues = pd.read_sql(query,db_conn)\n",
    "\n",
    "statdb_issues = pd.read_csv(\"/home/kibini/statdb_issues.tsv.gz\", sep=\"\\t\")"
   ]
  },
  {
   "cell_type": "code",
   "execution_count": 6,
   "id": "b7333ec6",
   "metadata": {},
   "outputs": [],
   "source": [
    "statdb_issues['issuedate'] = pd.to_datetime(statdb_issues['issuedate'])"
   ]
  },
  {
   "cell_type": "code",
   "execution_count": 9,
   "id": "b0c15824",
   "metadata": {},
   "outputs": [
    {
     "data": {
      "text/plain": [
       "343864"
      ]
     },
     "execution_count": 9,
     "metadata": {},
     "output_type": "execute_result"
    }
   ],
   "source": [
    "len(statdb_issues)"
   ]
  },
  {
   "cell_type": "code",
   "execution_count": 8,
   "id": "5b348733",
   "metadata": {},
   "outputs": [],
   "source": [
    "statdb_issues = statdb_issues[statdb_issues['issuedate'].dt.year == 2023]"
   ]
  },
  {
   "cell_type": "code",
   "execution_count": 10,
   "id": "cc48684a",
   "metadata": {},
   "outputs": [],
   "source": [
    "statdb_issues = statdb_issues[~statdb_issues['itemnumber'].isna()]\n",
    "statdb_issues = statdb_issues[~statdb_issues['issuedate'].isna()]\n",
    "statdb_issues['itemnumber'] = statdb_issues['itemnumber'].astype(int)\n",
    "statdb_issues = statdb_issues[~statdb_issues['itemnumber'].isna()]\n",
    "statdb_issues['itemnumber'] = statdb_issues['itemnumber'].astype(int)\n",
    "statdb_issues['cle'] =  statdb_issues['issuedate'].astype(str) + \"-\" + statdb_issues['itemnumber'].astype(str)"
   ]
  },
  {
   "cell_type": "code",
   "execution_count": 11,
   "id": "462c3ed3",
   "metadata": {},
   "outputs": [
    {
     "name": "stderr",
     "output_type": "stream",
     "text": [
      "/tmp/ipykernel_21205/3597028274.py:8: DtypeWarning: Columns (14) have mixed types. Specify dtype option on import or set low_memory=False.\n",
      "  df2 = pd.read_csv(\"/home/kibini/koha_prod_old_issues.tsv.gz\", sep=\"\\t\")\n"
     ]
    }
   ],
   "source": [
    "#query = \"\"\"SELECT * FROM koha_prod.issues si\"\"\"\n",
    "#df1 = pd.read_sql(query,db_conn)\n",
    "df1 = pd.read_csv(\"/home/kibini/koha_prod_issues.tsv.gz\", sep=\"\\t\")\n",
    "\n",
    "#query = \"\"\"SELECT * FROM koha_prod.old_issues si3\"\"\"\n",
    "#df2 = pd.read_sql(query,db_conn)\n",
    "\n",
    "df2 = pd.read_csv(\"/home/kibini/koha_prod_old_issues.tsv.gz\", sep=\"\\t\")\n",
    "koha_issues = pd.concat([df1, df2])\n",
    "koha_issues['issuedate'] = pd.to_datetime(koha_issues['issuedate'])\n",
    "koha_issues = koha_issues[koha_issues['issuedate'].dt.year == 2023]\n",
    "\n",
    "koha_issues = koha_issues[~koha_issues['itemnumber'].isna()]\n",
    "koha_issues = koha_issues[~koha_issues['issuedate'].isna()]\n",
    "koha_issues['itemnumber'] = koha_issues['itemnumber'].astype(int)\n",
    "koha_issues = koha_issues[~koha_issues['itemnumber'].isna()]\n",
    "koha_issues['itemnumber'] = koha_issues['itemnumber'].astype(int)\n",
    "koha_issues['cle'] =  koha_issues['issuedate'].astype(str) + \"-\" + koha_issues['itemnumber'].astype(str)"
   ]
  },
  {
   "cell_type": "code",
   "execution_count": 12,
   "id": "296576a8",
   "metadata": {},
   "outputs": [
    {
     "name": "stdout",
     "output_type": "stream",
     "text": [
      "343863\n",
      "359430\n",
      "Manque : 15567\n"
     ]
    }
   ],
   "source": [
    "statdb_issues['import'] = True\n",
    "print(len(statdb_issues))\n",
    "print(len(koha_issues))\n",
    "print(f\"Manque : {len(koha_issues) - len(statdb_issues)}\")"
   ]
  },
  {
   "cell_type": "code",
   "execution_count": 28,
   "id": "9769495a",
   "metadata": {},
   "outputs": [
    {
     "data": {
      "text/plain": [
       "22089"
      ]
     },
     "execution_count": 28,
     "metadata": {},
     "output_type": "execute_result"
    }
   ],
   "source": [
    "missing = koha_issues.merge(statdb_issues[['cle', 'import']], how='outer', on=['cle'])\n",
    "missing = missing[missing['import'].isna()]\n",
    "len(missing)"
   ]
  },
  {
   "cell_type": "code",
   "execution_count": 31,
   "id": "c71120f4",
   "metadata": {},
   "outputs": [],
   "source": [
    "missing['cle'].to_csv(\"missing.csv\", index=False)"
   ]
  },
  {
   "cell_type": "code",
   "execution_count": null,
   "id": "132af9a4",
   "metadata": {},
   "outputs": [],
   "source": []
  }
 ],
 "metadata": {
  "kernelspec": {
   "display_name": "Python 3 (ipykernel)",
   "language": "python",
   "name": "python3"
  },
  "language_info": {
   "codemirror_mode": {
    "name": "ipython",
    "version": 3
   },
   "file_extension": ".py",
   "mimetype": "text/x-python",
   "name": "python",
   "nbconvert_exporter": "python",
   "pygments_lexer": "ipython3",
   "version": "3.8.12"
  }
 },
 "nbformat": 4,
 "nbformat_minor": 5
}
