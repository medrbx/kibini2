{
 "cells": [
  {
   "cell_type": "markdown",
   "id": "f34c79ad",
   "metadata": {},
   "source": [
    "# NOTEBOOK RAPPORT SLL\n",
    "\n",
    "L'objectif de ce notebook est de remplir le rapport du Service du Livre et de la Lecture (SLL)."
   ]
  },
  {
   "cell_type": "markdown",
   "id": "62b9cb84",
   "metadata": {},
   "source": [
    "# A - Site internet"
   ]
  },
  {
   "cell_type": "markdown",
   "id": "814855ec",
   "metadata": {},
   "source": [
    "## A1 - Site internet\n",
    "\n",
    "* Site internet \n",
    "* Statut site : Site internet propre\n",
    "\n",
    "La bibliothèque a-t-elle déposé une attestation de conformité de son site web aux exigences du Référentiel général d'accessibilité pour les administrations RGAA) ? **Non**"
   ]
  },
  {
   "cell_type": "code",
   "execution_count": 1,
   "id": "b70cee9c",
   "metadata": {},
   "outputs": [],
   "source": [
    "import pandas as pd\n",
    "import numpy as np\n",
    "import matplotlib.pyplot as plt\n",
    "import seaborn as sns\n",
    "sns.set_style(\"darkgrid\")\n",
    "import datetime\n",
    "\n",
    "from kiblib.utils.db import DbConn\n",
    "from kiblib.utils.code2libelle import Code2Libelle\n",
    "from kiblib.adherent import Adherent\n",
    "from kiblib.pret import Pret\n",
    "from kiblib.document import Document"
   ]
  },
  {
   "cell_type": "code",
   "execution_count": 2,
   "id": "7f95abc6",
   "metadata": {},
   "outputs": [],
   "source": [
    "db_conn = DbConn().create_engine()\n",
    "\n",
    "year = 2024\n",
    "#date_extraction_usagers = '2023-12-27'\n",
    "date_extraction_usagers = '2024-12-25'"
   ]
  },
  {
   "cell_type": "markdown",
   "id": "767f6a82",
   "metadata": {},
   "source": [
    "# C - Accès et installations\n",
    "## C1 - Accès et installations\n",
    "\n",
    "|Nombre d'heures d'ouverture hebdomadaires tous publics|54|C101|\n",
    "|:-----------------------------------------------------|---|----|\n",
    "|Nombre de jours d'ouverture hebdomadaires|6|C115|\n",
    "|Nombre de jours d'ouverture annuels|???|C102|\n",
    "|La bibliothèque est-elle ouverte dimanche ?|Oui|C116|\n",
    "|Nombre de places assises disponibles |???|C103 | \n",
    "| - Avec possibilité de connexions aux ordinateurs |47|C104|\n",
    "|Nombre de postes informatiques publics avec accès internet|???|C106|\n",
    "|La bibliothèque met-elle à disposition des usagers empêchés de lire du fait d’un handicap, des postes informatiques équipés d’aides matérielles et logicielles pour accéder aux collections ?|Non|C114|\n",
    "|Nombre de photocopieurs en accès public| 1|C109|\n",
    "|Nombre d'imprimantes en accès public|???|C110\n",
    "|Nombre de tablettes mises à disposition du public|0|C118|\n",
    "|Nombre de bibliobus|1|C112\n",
    "|Liseuses mises à la dispsition du public|0|C118|\n",
    "|Bornes d'écoute|1|C119|\n",
    "|Nombre de consoles de jeux-vidéos|6|C121|\n",
    "|Connexion wifi publique|oui|C120|"
   ]
  },
  {
   "cell_type": "markdown",
   "id": "dcc74f67",
   "metadata": {},
   "source": [
    "## C2 - Catalogue"
   ]
  },
  {
   "cell_type": "markdown",
   "id": "11e46281",
   "metadata": {},
   "source": [
    "### Notices"
   ]
  },
  {
   "cell_type": "code",
   "execution_count": 3,
   "id": "d8302b2e",
   "metadata": {},
   "outputs": [
    {
     "data": {
      "text/html": [
       "<div>\n",
       "<style scoped>\n",
       "    .dataframe tbody tr th:only-of-type {\n",
       "        vertical-align: middle;\n",
       "    }\n",
       "\n",
       "    .dataframe tbody tr th {\n",
       "        vertical-align: top;\n",
       "    }\n",
       "\n",
       "    .dataframe thead th {\n",
       "        text-align: right;\n",
       "    }\n",
       "</style>\n",
       "<table border=\"1\" class=\"dataframe\">\n",
       "  <thead>\n",
       "    <tr style=\"text-align: right;\">\n",
       "      <th></th>\n",
       "      <th>COUNT(bm.biblionumber)</th>\n",
       "    </tr>\n",
       "  </thead>\n",
       "  <tbody>\n",
       "    <tr>\n",
       "      <th>0</th>\n",
       "      <td>236170</td>\n",
       "    </tr>\n",
       "  </tbody>\n",
       "</table>\n",
       "</div>"
      ],
      "text/plain": [
       "   COUNT(bm.biblionumber)\n",
       "0                  236170"
      ]
     },
     "execution_count": 3,
     "metadata": {},
     "output_type": "execute_result"
    }
   ],
   "source": [
    "query = f\"\"\"SELECT COUNT(bm.biblionumber)\n",
    "    FROM koha{year}.biblio_metadata bm\"\"\"\n",
    "r = pd.read_sql(query, db_conn)\n",
    "r"
   ]
  },
  {
   "cell_type": "markdown",
   "id": "8a5ef3a9",
   "metadata": {},
   "source": [
    "### Notices créées dans l'année"
   ]
  },
  {
   "cell_type": "code",
   "execution_count": 4,
   "id": "2be39019",
   "metadata": {},
   "outputs": [
    {
     "data": {
      "text/html": [
       "<div>\n",
       "<style scoped>\n",
       "    .dataframe tbody tr th:only-of-type {\n",
       "        vertical-align: middle;\n",
       "    }\n",
       "\n",
       "    .dataframe tbody tr th {\n",
       "        vertical-align: top;\n",
       "    }\n",
       "\n",
       "    .dataframe thead th {\n",
       "        text-align: right;\n",
       "    }\n",
       "</style>\n",
       "<table border=\"1\" class=\"dataframe\">\n",
       "  <thead>\n",
       "    <tr style=\"text-align: right;\">\n",
       "      <th></th>\n",
       "      <th>COUNT(bm.biblionumber)</th>\n",
       "    </tr>\n",
       "  </thead>\n",
       "  <tbody>\n",
       "    <tr>\n",
       "      <th>0</th>\n",
       "      <td>8861</td>\n",
       "    </tr>\n",
       "  </tbody>\n",
       "</table>\n",
       "</div>"
      ],
      "text/plain": [
       "   COUNT(bm.biblionumber)\n",
       "0                    8861"
      ]
     },
     "execution_count": 4,
     "metadata": {},
     "output_type": "execute_result"
    }
   ],
   "source": [
    "query = f\"\"\"SELECT COUNT(bm.biblionumber)\n",
    "    FROM koha{year}.biblio_metadata bm\n",
    "    JOIN koha{year}.biblio b ON b.biblionumber = bm.biblionumber \n",
    "    WHERE YEAR(b.datecreated) = '{year}'\"\"\"\n",
    "r = pd.read_sql(query, db_conn)\n",
    "r"
   ]
  },
  {
   "cell_type": "markdown",
   "id": "4d9766a6",
   "metadata": {},
   "source": [
    "### Notices créées dans l'année \"à la main\""
   ]
  },
  {
   "cell_type": "code",
   "execution_count": 5,
   "id": "eae1aee0",
   "metadata": {},
   "outputs": [
    {
     "data": {
      "text/html": [
       "<div>\n",
       "<style scoped>\n",
       "    .dataframe tbody tr th:only-of-type {\n",
       "        vertical-align: middle;\n",
       "    }\n",
       "\n",
       "    .dataframe tbody tr th {\n",
       "        vertical-align: top;\n",
       "    }\n",
       "\n",
       "    .dataframe thead th {\n",
       "        text-align: right;\n",
       "    }\n",
       "</style>\n",
       "<table border=\"1\" class=\"dataframe\">\n",
       "  <thead>\n",
       "    <tr style=\"text-align: right;\">\n",
       "      <th></th>\n",
       "      <th>COUNT(bm.biblionumber)</th>\n",
       "    </tr>\n",
       "  </thead>\n",
       "  <tbody>\n",
       "    <tr>\n",
       "      <th>0</th>\n",
       "      <td>828</td>\n",
       "    </tr>\n",
       "  </tbody>\n",
       "</table>\n",
       "</div>"
      ],
      "text/plain": [
       "   COUNT(bm.biblionumber)\n",
       "0                     828"
      ]
     },
     "execution_count": 5,
     "metadata": {},
     "output_type": "execute_result"
    }
   ],
   "source": [
    "query = f\"\"\"SELECT COUNT(bm.biblionumber)\n",
    "    FROM koha{year}.biblio_metadata bm\n",
    "    JOIN koha{year}.biblio b ON b.biblionumber = bm.biblionumber \n",
    "    WHERE YEAR(b.datecreated) = '{year}'\n",
    "    AND ExtractValue( bm.metadata, '//datafield[@tag=\"801\"]/subfield[@code=\"b\"]' ) = '595126101'\"\"\"\n",
    "r = pd.read_sql(query, db_conn)\n",
    "r"
   ]
  },
  {
   "cell_type": "markdown",
   "id": "503b3efc",
   "metadata": {},
   "source": [
    "### Nombre de notices entrées par importation dans l'année"
   ]
  },
  {
   "cell_type": "code",
   "execution_count": 6,
   "id": "16946ca6",
   "metadata": {
    "scrolled": true
   },
   "outputs": [
    {
     "data": {
      "text/html": [
       "<div>\n",
       "<style scoped>\n",
       "    .dataframe tbody tr th:only-of-type {\n",
       "        vertical-align: middle;\n",
       "    }\n",
       "\n",
       "    .dataframe tbody tr th {\n",
       "        vertical-align: top;\n",
       "    }\n",
       "\n",
       "    .dataframe thead th {\n",
       "        text-align: right;\n",
       "    }\n",
       "</style>\n",
       "<table border=\"1\" class=\"dataframe\">\n",
       "  <thead>\n",
       "    <tr style=\"text-align: right;\">\n",
       "      <th></th>\n",
       "      <th>COUNT(bm.biblionumber)</th>\n",
       "    </tr>\n",
       "  </thead>\n",
       "  <tbody>\n",
       "    <tr>\n",
       "      <th>0</th>\n",
       "      <td>8033</td>\n",
       "    </tr>\n",
       "  </tbody>\n",
       "</table>\n",
       "</div>"
      ],
      "text/plain": [
       "   COUNT(bm.biblionumber)\n",
       "0                    8033"
      ]
     },
     "execution_count": 6,
     "metadata": {},
     "output_type": "execute_result"
    }
   ],
   "source": [
    "# Nombre de notices entrées dans l'année - nombre de notices entrées à la main\n",
    "query = f\"\"\"SELECT COUNT(bm.biblionumber)\n",
    "    FROM koha{year}.biblio_metadata bm\n",
    "    JOIN koha{year}.biblio b ON b.biblionumber = bm.biblionumber \n",
    "    WHERE YEAR(b.datecreated) = '{year}'\n",
    "    AND ExtractValue( bm.metadata, '//datafield[@tag=\"801\"]/subfield[@code=\"b\"]' ) != '595126101'\"\"\"\n",
    "r = pd.read_sql(query, db_conn)\n",
    "r"
   ]
  },
  {
   "cell_type": "markdown",
   "id": "fa55a619",
   "metadata": {},
   "source": [
    "## C3 - Locaux\n",
    "|Intitulé|valeur|code SLL|\n",
    "|:--|---|---|\n",
    "|Surface utile nette totale (en m²)|5300|C301|\n",
    "|Espaces de services Interns ( en m²)|590|C302|\n",
    "|Espace de service public (en m²)|3350|C303|\n",
    "|Espace manifestations et animations (en m²)|250|C304|\n",
    "|Espace de magains|550|C305|\n",
    "|Caféterias et surfaces détente|140|C306|\n",
    "|Votre bâtiment est-il accessible au sens de la loi du 11 février 2005 ?|oui|C309|\n",
    "|Précisez|Monte-personnes et ascenseurs qui permettent à chacun d'accéder à l'ensemble du bâtiment|C310|\n"
   ]
  },
  {
   "cell_type": "markdown",
   "id": "578efb3c",
   "metadata": {},
   "source": [
    "# D - Collections"
   ]
  },
  {
   "cell_type": "code",
   "execution_count": 7,
   "id": "1421c2f6",
   "metadata": {},
   "outputs": [],
   "source": [
    "query = f\"\"\"SELECT\n",
    "                    i.itemnumber,\n",
    "                    i.barcode,\n",
    "                    i.dateaccessioned,\n",
    "                    i.price,\n",
    "                    i.homebranch,\n",
    "                    i.holdingbranch,\n",
    "                    i.location,\n",
    "                    i.ccode,\n",
    "                    i.itemcallnumber,\n",
    "                    i.notforloan,\n",
    "                    i.damaged,\n",
    "                    DATE(i.damaged_on),\n",
    "                    i.withdrawn,\n",
    "                    DATE(i.withdrawn_on),\n",
    "                    i.itemlost,\n",
    "                    DATE(i.itemlost_on),\n",
    "                    i.onloan,\n",
    "                    i.datelastborrowed,\n",
    "                    i.biblionumber,\n",
    "                    b.title as titre,\n",
    "                    bi.publicationyear,\n",
    "                    bi.itemtype,\n",
    "                    i.timestamp\n",
    "                FROM koha{year}.items i\n",
    "                JOIN koha{year}.biblioitems bi ON i.biblionumber = bi.biblionumber\n",
    "                JOIN koha{year}.biblio b ON i.biblionumber = b.biblionumber\n",
    "                WHERE i.notforloan IN (-1, -2, 0, 2, -4, -3, 5)\n",
    "                AND i.homebranch != 'MUS'\"\"\"\n",
    "items = pd.read_sql(query, db_conn)"
   ]
  },
  {
   "cell_type": "code",
   "execution_count": 8,
   "id": "0981933b",
   "metadata": {},
   "outputs": [],
   "source": [
    "# On instancie la classe Document\n",
    "# La classe Document permet d'ajouter les infos dont ont a besoin pour le SLL\n",
    "\n",
    "exemplaires = Document(df=items, db_conn=db_conn)\n",
    "exemplaires.get_doc_statdb_data()\n",
    "exemplaires.get_doc_es_data()"
   ]
  },
  {
   "cell_type": "code",
   "execution_count": 9,
   "id": "744a7616",
   "metadata": {},
   "outputs": [
    {
     "data": {
      "text/plain": [
       "Index(['itemnumber', 'barcode', 'dateaccessioned', 'price', 'homebranch',\n",
       "       'holdingbranch', 'location', 'ccode', 'itemcallnumber', 'notforloan',\n",
       "       'damaged', 'DATE(i.damaged_on)', 'withdrawn', 'DATE(i.withdrawn_on)',\n",
       "       'itemlost', 'DATE(i.itemlost_on)', 'onloan', 'datelastborrowed',\n",
       "       'biblionumber', 'titre', 'publicationyear', 'itemtype', 'timestamp',\n",
       "       'doc_item_id', 'doc_item_code_barre', 'doc_item_date_creation',\n",
       "       'doc_item_prix', 'doc_item_site_detenteur_code',\n",
       "       'doc_item_site_rattachement_code', 'doc_item_localisation_code',\n",
       "       'doc_item_collection_ccode', 'doc_item_cote', 'doc_statut_code',\n",
       "       'doc_statut_abime_code', 'doc_statut_desherbe_code',\n",
       "       'doc_statut_perdu_code', 'doc_usage_emprunt_date',\n",
       "       'doc_usage_date_dernier_pret', 'doc_biblio_id', 'doc_biblio_titre',\n",
       "       'doc_biblio_annee_publication', 'doc_biblio_support_code',\n",
       "       'doc_item_date_modif', 'doc_item_date_creation_annee',\n",
       "       'doc_item_site_detenteur', 'doc_item_site_rattachement',\n",
       "       'doc_item_localisation', 'doc_item_site_poldoc',\n",
       "       'doc_item_collection_lib', 'doc_item_collection_lib1',\n",
       "       'doc_item_collection_lib2', 'doc_item_collection_lib3',\n",
       "       'doc_item_collection_lib4', 'doc_statut', 'doc_statut_abime',\n",
       "       'doc_statut_desherbe', 'doc_statut_perdu', 'doc_usage_emprunt',\n",
       "       'doc_usage_date_dernier_pret_annee', 'doc_biblio_support', 'sll_public',\n",
       "       'sll_acces', 'sll_collection'],\n",
       "      dtype='object')"
      ]
     },
     "execution_count": 9,
     "metadata": {},
     "output_type": "execute_result"
    }
   ],
   "source": [
    "exemplaires.df.columns"
   ]
  },
  {
   "cell_type": "code",
   "execution_count": 10,
   "id": "916ece94",
   "metadata": {},
   "outputs": [],
   "source": [
    "exemplaires.df['sll_acq'] = 'non'\n",
    "exemplaires.df.loc[exemplaires.df['doc_item_date_creation'].astype('str').str[0:4] == '2023', 'sll_acq' ] = 'oui'"
   ]
  },
  {
   "cell_type": "code",
   "execution_count": 11,
   "id": "363614ba",
   "metadata": {},
   "outputs": [],
   "source": [
    "exemplaires_sll = exemplaires.df\n",
    "exemplaires_sll = exemplaires_sll[['sll_acq', 'sll_public', 'sll_acces', 'sll_collection', 'doc_biblio_id', 'doc_item_id']]"
   ]
  },
  {
   "cell_type": "code",
   "execution_count": 12,
   "id": "3ee84a9e",
   "metadata": {},
   "outputs": [
    {
     "data": {
      "text/plain": [
       "adultes    193890\n",
       "enfants     71315\n",
       "Name: sll_public, dtype: int64"
      ]
     },
     "execution_count": 12,
     "metadata": {},
     "output_type": "execute_result"
    }
   ],
   "source": [
    "exemplaires_sll['sll_public'].value_counts()"
   ]
  },
  {
   "cell_type": "code",
   "execution_count": 13,
   "id": "84c1d33e",
   "metadata": {},
   "outputs": [
    {
     "data": {
      "text/plain": [
       "non    251428\n",
       "oui     13777\n",
       "Name: sll_acq, dtype: int64"
      ]
     },
     "execution_count": 13,
     "metadata": {},
     "output_type": "execute_result"
    }
   ],
   "source": [
    "exemplaires_sll['sll_acq'].value_counts()"
   ]
  },
  {
   "cell_type": "code",
   "execution_count": 14,
   "id": "769786bf",
   "metadata": {},
   "outputs": [
    {
     "data": {
      "text/plain": [
       "accès direct      138005\n",
       "accès indirect    127200\n",
       "Name: sll_acces, dtype: int64"
      ]
     },
     "execution_count": 14,
     "metadata": {},
     "output_type": "execute_result"
    }
   ],
   "source": [
    "exemplaires_sll['sll_acces'].value_counts()"
   ]
  },
  {
   "cell_type": "code",
   "execution_count": 15,
   "id": "3f3f18e4",
   "metadata": {},
   "outputs": [],
   "source": [
    "query = f\"\"\"SELECT\n",
    "                    itemnumber,\n",
    "                    barcode,\n",
    "                    dateaccessioned,\n",
    "                    homebranch,\n",
    "                    location,\n",
    "                    ccode,\n",
    "                    biblionumber,\n",
    "                    itemtype\n",
    "                FROM statdb.stat_eliminations\n",
    "                WHERE annee_mise_pilon = '{year}'\"\"\"\n",
    "elim = pd.read_sql(query, db_conn)"
   ]
  },
  {
   "cell_type": "code",
   "execution_count": 16,
   "id": "66ee9669",
   "metadata": {},
   "outputs": [],
   "source": [
    "eliminations = Document(df=elim, db_conn=db_conn)\n",
    "eliminations.get_doc_statdb_data()\n",
    "eliminations.get_doc_es_data()"
   ]
  },
  {
   "cell_type": "code",
   "execution_count": 17,
   "id": "2ccc56ba",
   "metadata": {},
   "outputs": [],
   "source": [
    "eliminations_sll = eliminations.df\n",
    "eliminations_sll = eliminations_sll[['sll_public', 'sll_acces', 'sll_collection', 'doc_biblio_id', 'doc_item_id']]"
   ]
  },
  {
   "cell_type": "markdown",
   "id": "78af9a99",
   "metadata": {},
   "source": [
    "## D1 - Livres imprimés"
   ]
  },
  {
   "cell_type": "code",
   "execution_count": 18,
   "id": "3ebaa22d",
   "metadata": {},
   "outputs": [],
   "source": [
    "data = exemplaires_sll[exemplaires_sll['sll_collection'] == 'D1 - Livres imprimés']\n",
    "data_el = eliminations_sll[eliminations_sll['sll_collection'] == 'D1 - Livres imprimés']"
   ]
  },
  {
   "cell_type": "markdown",
   "id": "52a365dd",
   "metadata": {},
   "source": [
    "### Fonds\n",
    "#### UM - Adultes et Enfants"
   ]
  },
  {
   "cell_type": "code",
   "execution_count": 19,
   "id": "c43641a0",
   "metadata": {},
   "outputs": [
    {
     "data": {
      "text/plain": [
       "sll_public\n",
       "adultes    126209\n",
       "enfants     67220\n",
       "Name: doc_item_id, dtype: int64"
      ]
     },
     "execution_count": 19,
     "metadata": {},
     "output_type": "execute_result"
    }
   ],
   "source": [
    "data.groupby(['sll_public'])['doc_item_id'].nunique()"
   ]
  },
  {
   "cell_type": "markdown",
   "id": "b3bfaa0e",
   "metadata": {},
   "source": [
    "#### UM en libre-accès - Adultes et Enfants"
   ]
  },
  {
   "cell_type": "code",
   "execution_count": 20,
   "id": "bfe8f073",
   "metadata": {},
   "outputs": [
    {
     "data": {
      "text/plain": [
       "sll_public\n",
       "adultes    66611\n",
       "enfants    32628\n",
       "Name: doc_item_id, dtype: int64"
      ]
     },
     "execution_count": 20,
     "metadata": {},
     "output_type": "execute_result"
    }
   ],
   "source": [
    "data_libre_acces = data[data['sll_acces'] == 'accès direct']\n",
    "data_libre_acces.groupby(['sll_public'])['doc_item_id'].nunique()"
   ]
  },
  {
   "cell_type": "markdown",
   "id": "c9d88e0e",
   "metadata": {},
   "source": [
    "#### TIT en libre accès - Adultes et Enfants"
   ]
  },
  {
   "cell_type": "code",
   "execution_count": 21,
   "id": "758bfc9c",
   "metadata": {},
   "outputs": [
    {
     "data": {
      "text/plain": [
       "sll_public\n",
       "adultes    65343\n",
       "enfants    28945\n",
       "Name: doc_biblio_id, dtype: int64"
      ]
     },
     "execution_count": 21,
     "metadata": {},
     "output_type": "execute_result"
    }
   ],
   "source": [
    "data_libre_acces = data[data['sll_acces'] == 'accès direct']\n",
    "data_libre_acces.groupby(['sll_public'])['doc_biblio_id'].nunique()"
   ]
  },
  {
   "cell_type": "markdown",
   "id": "c08542d2",
   "metadata": {},
   "source": [
    "### Acquisitions"
   ]
  },
  {
   "cell_type": "code",
   "execution_count": 22,
   "id": "8c7faf50",
   "metadata": {},
   "outputs": [
    {
     "data": {
      "text/plain": [
       "sll_public\n",
       "adultes    5421\n",
       "enfants    5625\n",
       "Name: doc_item_id, dtype: int64"
      ]
     },
     "execution_count": 22,
     "metadata": {},
     "output_type": "execute_result"
    }
   ],
   "source": [
    "data[data['sll_acq'] == 'oui'].groupby(['sll_public'])['doc_item_id'].nunique()"
   ]
  },
  {
   "cell_type": "code",
   "execution_count": 23,
   "id": "75e51a28",
   "metadata": {},
   "outputs": [
    {
     "data": {
      "text/plain": [
       "sll_public\n",
       "adultes    4400\n",
       "enfants    3787\n",
       "Name: doc_biblio_id, dtype: int64"
      ]
     },
     "execution_count": 23,
     "metadata": {},
     "output_type": "execute_result"
    }
   ],
   "source": [
    "data[(data['sll_acq'] == 'oui')\n",
    "     & (data['sll_acces'] == 'accès direct')].groupby(['sll_public'])['doc_biblio_id'].nunique()"
   ]
  },
  {
   "cell_type": "markdown",
   "id": "5ab191de",
   "metadata": {},
   "source": [
    "#### Eliminations"
   ]
  },
  {
   "cell_type": "code",
   "execution_count": 24,
   "id": "7927a091",
   "metadata": {},
   "outputs": [
    {
     "data": {
      "text/plain": [
       "sll_public\n",
       "adultes    9246\n",
       "enfants    5183\n",
       "Name: doc_item_id, dtype: int64"
      ]
     },
     "execution_count": 24,
     "metadata": {},
     "output_type": "execute_result"
    }
   ],
   "source": [
    "data_el.groupby(['sll_public'])['doc_item_id'].nunique()"
   ]
  },
  {
   "cell_type": "markdown",
   "id": "ef89f935",
   "metadata": {},
   "source": [
    "###  TEST LUCAS"
   ]
  },
  {
   "cell_type": "code",
   "execution_count": 25,
   "id": "608ee86c",
   "metadata": {},
   "outputs": [
    {
     "data": {
      "text/plain": [
       "sll_public\n",
       "adultes    126209\n",
       "enfants     67220\n",
       "Name: doc_item_id, dtype: int64"
      ]
     },
     "execution_count": 25,
     "metadata": {},
     "output_type": "execute_result"
    }
   ],
   "source": [
    "data.groupby(['sll_public'])['doc_item_id'].nunique()"
   ]
  },
  {
   "cell_type": "code",
   "execution_count": 26,
   "id": "c8a19d22",
   "metadata": {},
   "outputs": [
    {
     "name": "stderr",
     "output_type": "stream",
     "text": [
      "/tmp/ipykernel_2550/2752056215.py:11: FutureWarning: The frame.append method is deprecated and will be removed from pandas in a future version. Use pandas.concat instead.\n",
      "  y.append(y.sum().rename((x, 'Sous-Total')))\n",
      "/tmp/ipykernel_2550/2752056215.py:11: FutureWarning: The frame.append method is deprecated and will be removed from pandas in a future version. Use pandas.concat instead.\n",
      "  y.append(y.sum().rename((x, 'Sous-Total')))\n",
      "/tmp/ipykernel_2550/2752056215.py:10: FutureWarning: The frame.append method is deprecated and will be removed from pandas in a future version. Use pandas.concat instead.\n",
      "  data_fonds_concat = pd.concat([\n"
     ]
    },
    {
     "data": {
      "text/html": [
       "<div>\n",
       "<style scoped>\n",
       "    .dataframe tbody tr th:only-of-type {\n",
       "        vertical-align: middle;\n",
       "    }\n",
       "\n",
       "    .dataframe tbody tr th {\n",
       "        vertical-align: top;\n",
       "    }\n",
       "\n",
       "    .dataframe thead th {\n",
       "        text-align: right;\n",
       "    }\n",
       "</style>\n",
       "<table border=\"1\" class=\"dataframe\">\n",
       "  <thead>\n",
       "    <tr style=\"text-align: right;\">\n",
       "      <th></th>\n",
       "      <th></th>\n",
       "      <th>doc_biblio_id</th>\n",
       "      <th>doc_item_id</th>\n",
       "    </tr>\n",
       "    <tr>\n",
       "      <th>sll_public</th>\n",
       "      <th>sll_acces</th>\n",
       "      <th></th>\n",
       "      <th></th>\n",
       "    </tr>\n",
       "  </thead>\n",
       "  <tbody>\n",
       "    <tr>\n",
       "      <th rowspan=\"3\" valign=\"top\">adultes</th>\n",
       "      <th>accès direct</th>\n",
       "      <td>65343</td>\n",
       "      <td>66611</td>\n",
       "    </tr>\n",
       "    <tr>\n",
       "      <th>accès indirect</th>\n",
       "      <td>56214</td>\n",
       "      <td>59598</td>\n",
       "    </tr>\n",
       "    <tr>\n",
       "      <th>Sous-Total</th>\n",
       "      <td>121557</td>\n",
       "      <td>126209</td>\n",
       "    </tr>\n",
       "    <tr>\n",
       "      <th rowspan=\"3\" valign=\"top\">enfants</th>\n",
       "      <th>accès direct</th>\n",
       "      <td>28945</td>\n",
       "      <td>32628</td>\n",
       "    </tr>\n",
       "    <tr>\n",
       "      <th>accès indirect</th>\n",
       "      <td>25145</td>\n",
       "      <td>34592</td>\n",
       "    </tr>\n",
       "    <tr>\n",
       "      <th>Sous-Total</th>\n",
       "      <td>54090</td>\n",
       "      <td>67220</td>\n",
       "    </tr>\n",
       "    <tr>\n",
       "      <th>Enfants + Adultes</th>\n",
       "      <th>Total</th>\n",
       "      <td>175647</td>\n",
       "      <td>193429</td>\n",
       "    </tr>\n",
       "  </tbody>\n",
       "</table>\n",
       "</div>"
      ],
      "text/plain": [
       "                                  doc_biblio_id  doc_item_id\n",
       "sll_public        sll_acces                                 \n",
       "adultes           accès direct            65343        66611\n",
       "                  accès indirect          56214        59598\n",
       "                  Sous-Total             121557       126209\n",
       "enfants           accès direct            28945        32628\n",
       "                  accès indirect          25145        34592\n",
       "                  Sous-Total              54090        67220\n",
       "Enfants + Adultes Total                  175647       193429"
      ]
     },
     "execution_count": 26,
     "metadata": {},
     "output_type": "execute_result"
    }
   ],
   "source": [
    "import numpy as np\n",
    "data_fonds = data.pivot_table(index=['sll_public','sll_acces'],\n",
    "                             values=['doc_item_id','doc_biblio_id'],\n",
    "                             aggfunc=\"nunique\",\n",
    "                             #margins=True,\n",
    "                             #margins_name='Total'\n",
    "                )\n",
    "#data_fonds['total'] = data_fonds['doc_biblio_id'] + data_fonds['doc_item_id']\n",
    "\n",
    "data_fonds_concat = pd.concat([\n",
    "    y.append(y.sum().rename((x, 'Sous-Total')))\n",
    "    for x, y in data_fonds.groupby(level=0)]).append(data_fonds.sum().rename(('Enfants + Adultes','Total')))\n",
    "data_fonds_concat"
   ]
  },
  {
   "cell_type": "markdown",
   "id": "19672076",
   "metadata": {},
   "source": [
    "## D2 - Publications en séries en cours imprmimées\n",
    "> Demander à Stéphanie"
   ]
  },
  {
   "cell_type": "markdown",
   "id": "5d22b459",
   "metadata": {},
   "source": [
    "## D3 - Autres documents"
   ]
  },
  {
   "cell_type": "markdown",
   "id": "fda07e7d",
   "metadata": {},
   "source": [
    "###  Documents cartographiques"
   ]
  },
  {
   "cell_type": "code",
   "execution_count": 27,
   "id": "e3cc9a4a",
   "metadata": {},
   "outputs": [],
   "source": [
    "data = exemplaires_sll[exemplaires_sll['sll_collection'] == 'D3 – Documents cartographiques']"
   ]
  },
  {
   "cell_type": "code",
   "execution_count": 28,
   "id": "2ae968cb",
   "metadata": {},
   "outputs": [
    {
     "data": {
      "text/plain": [
       "86"
      ]
     },
     "execution_count": 28,
     "metadata": {},
     "output_type": "execute_result"
    }
   ],
   "source": [
    "data['doc_item_id'].nunique()"
   ]
  },
  {
   "cell_type": "code",
   "execution_count": 29,
   "id": "aa97a3e4",
   "metadata": {},
   "outputs": [
    {
     "data": {
      "text/plain": [
       "0"
      ]
     },
     "execution_count": 29,
     "metadata": {},
     "output_type": "execute_result"
    }
   ],
   "source": [
    "data[data['sll_acq'] == 'oui']['doc_item_id'].nunique()"
   ]
  },
  {
   "cell_type": "markdown",
   "id": "6ecc16d4",
   "metadata": {},
   "source": [
    "###  Musique imprimée"
   ]
  },
  {
   "cell_type": "code",
   "execution_count": 30,
   "id": "9d05d0f6",
   "metadata": {},
   "outputs": [],
   "source": [
    "data = exemplaires_sll[exemplaires_sll['sll_collection'] == 'D3 – Musique imprimée']"
   ]
  },
  {
   "cell_type": "code",
   "execution_count": 31,
   "id": "354c9d4c",
   "metadata": {},
   "outputs": [
    {
     "data": {
      "text/plain": [
       "3199"
      ]
     },
     "execution_count": 31,
     "metadata": {},
     "output_type": "execute_result"
    }
   ],
   "source": [
    "data['doc_item_id'].nunique()"
   ]
  },
  {
   "cell_type": "code",
   "execution_count": 32,
   "id": "1579485b",
   "metadata": {},
   "outputs": [
    {
     "data": {
      "text/plain": [
       "74"
      ]
     },
     "execution_count": 32,
     "metadata": {},
     "output_type": "execute_result"
    }
   ],
   "source": [
    "data[data['sll_acq'] == 'oui']['doc_item_id'].nunique()"
   ]
  },
  {
   "cell_type": "code",
   "execution_count": 33,
   "id": "cda59b00",
   "metadata": {},
   "outputs": [
    {
     "data": {
      "text/plain": [
       "1126"
      ]
     },
     "execution_count": 33,
     "metadata": {},
     "output_type": "execute_result"
    }
   ],
   "source": [
    "data[(data['sll_acces'] == 'accès direct')]['doc_item_id'].nunique()"
   ]
  },
  {
   "cell_type": "code",
   "execution_count": 34,
   "id": "8ab18036",
   "metadata": {},
   "outputs": [
    {
     "data": {
      "text/plain": [
       "1123"
      ]
     },
     "execution_count": 34,
     "metadata": {},
     "output_type": "execute_result"
    }
   ],
   "source": [
    "data[(data['sll_acces'] == 'accès direct')]['doc_biblio_id'].nunique()"
   ]
  },
  {
   "cell_type": "code",
   "execution_count": 35,
   "id": "fccf0cf4",
   "metadata": {},
   "outputs": [
    {
     "data": {
      "text/plain": [
       "73"
      ]
     },
     "execution_count": 35,
     "metadata": {},
     "output_type": "execute_result"
    }
   ],
   "source": [
    "data[(data['sll_acces'] == 'accès direct') & (data['sll_acq'] == 'oui')]['doc_biblio_id'].nunique()"
   ]
  },
  {
   "cell_type": "markdown",
   "id": "c275013b",
   "metadata": {},
   "source": [
    "###  Documents graphiques"
   ]
  },
  {
   "cell_type": "code",
   "execution_count": 36,
   "id": "36f0cdb7",
   "metadata": {},
   "outputs": [],
   "source": [
    "data = exemplaires_sll[exemplaires_sll['sll_collection'] == 'D3 - Documents graphiques']"
   ]
  },
  {
   "cell_type": "code",
   "execution_count": 37,
   "id": "5ce481ca",
   "metadata": {},
   "outputs": [
    {
     "data": {
      "text/plain": [
       "95"
      ]
     },
     "execution_count": 37,
     "metadata": {},
     "output_type": "execute_result"
    }
   ],
   "source": [
    "data['doc_item_id'].nunique()"
   ]
  },
  {
   "cell_type": "code",
   "execution_count": 38,
   "id": "cbb28bb0",
   "metadata": {},
   "outputs": [
    {
     "data": {
      "text/plain": [
       "1"
      ]
     },
     "execution_count": 38,
     "metadata": {},
     "output_type": "execute_result"
    }
   ],
   "source": [
    "data[data['sll_acq'] == 'oui']['doc_item_id'].nunique()"
   ]
  },
  {
   "cell_type": "markdown",
   "id": "fed4ebb0",
   "metadata": {},
   "source": [
    "###  Autres documents"
   ]
  },
  {
   "cell_type": "code",
   "execution_count": 39,
   "id": "f221daa5",
   "metadata": {},
   "outputs": [],
   "source": [
    "data = exemplaires_sll[exemplaires_sll['sll_collection'] == 'D3 - Autres documents']"
   ]
  },
  {
   "cell_type": "code",
   "execution_count": 40,
   "id": "0a82a5a8",
   "metadata": {},
   "outputs": [
    {
     "data": {
      "text/plain": [
       "129"
      ]
     },
     "execution_count": 40,
     "metadata": {},
     "output_type": "execute_result"
    }
   ],
   "source": [
    "data['doc_item_id'].nunique()"
   ]
  },
  {
   "cell_type": "code",
   "execution_count": 41,
   "id": "c0b10e7f",
   "metadata": {},
   "outputs": [
    {
     "data": {
      "text/plain": [
       "44"
      ]
     },
     "execution_count": 41,
     "metadata": {},
     "output_type": "execute_result"
    }
   ],
   "source": [
    "data[data['sll_acq'] == 'oui']['doc_item_id'].nunique()"
   ]
  },
  {
   "cell_type": "markdown",
   "id": "15694ae0",
   "metadata": {},
   "source": [
    "### Eliminations"
   ]
  },
  {
   "cell_type": "code",
   "execution_count": 42,
   "id": "5a9d6c99",
   "metadata": {},
   "outputs": [
    {
     "data": {
      "text/plain": [
       "29"
      ]
     },
     "execution_count": 42,
     "metadata": {},
     "output_type": "execute_result"
    }
   ],
   "source": [
    "data_el = eliminations_sll[eliminations_sll['sll_collection'].str[:2] == 'D3']\n",
    "len(data_el)"
   ]
  },
  {
   "cell_type": "markdown",
   "id": "752cea36",
   "metadata": {},
   "source": [
    "## D4 - Documents audiovisuels sur support"
   ]
  },
  {
   "cell_type": "code",
   "execution_count": 43,
   "id": "fd02300f",
   "metadata": {},
   "outputs": [
    {
     "data": {
      "text/plain": [
       "D1 - Livres imprimés                                                                  193429\n",
       "D4 - Documents audiovisuels fonds adultes / Documents sonores : musique                44586\n",
       "D4 - Documents audiovisuels fonds adultes / documents vidéo adultes                    12433\n",
       "D1 - Publications en série imprimées                                                    7134\n",
       "D3 – Musique imprimée                                                                   3199\n",
       "D4 - Documents audiovisuels fonds adultes / Documents sonores : livres enregistrés      1641\n",
       "D4 - Documents audiovisuels fonds enfants / documents vidéo enfants                     1359\n",
       "D4 - Documents audiovisuels fonds enfants / Documents sonores : musique                  693\n",
       "D4 - Total documents multimédia sur support                                              217\n",
       "D4 - Documents audiovisuels fonds enfants / Documents sonores : livres enregistrés       204\n",
       "D3 - Autres documents                                                                    129\n",
       "D3 - Documents graphiques                                                                 95\n",
       "D3 – Documents cartographiques                                                            86\n",
       "Name: sll_collection, dtype: int64"
      ]
     },
     "execution_count": 43,
     "metadata": {},
     "output_type": "execute_result"
    }
   ],
   "source": [
    "exemplaires_sll['sll_collection'].value_counts()"
   ]
  },
  {
   "cell_type": "code",
   "execution_count": 44,
   "id": "3fa19845",
   "metadata": {},
   "outputs": [],
   "source": [
    "d4_coll = exemplaires_sll[exemplaires_sll['sll_collection'].str[:2] == 'D4']['sll_collection'].unique().tolist()"
   ]
  },
  {
   "cell_type": "code",
   "execution_count": 45,
   "id": "c934310e",
   "metadata": {},
   "outputs": [
    {
     "name": "stdout",
     "output_type": "stream",
     "text": [
      "D4 - Documents audiovisuels fonds adultes / Documents sonores : musique\n",
      "-------------\n",
      "fonds : 44586\n",
      "acquisitions : 602\n",
      "eliminations : 1237\n",
      "-------------\n",
      "D4 - Documents audiovisuels fonds enfants / Documents sonores : musique\n",
      "-------------\n",
      "fonds : 693\n",
      "acquisitions : 22\n",
      "eliminations : 7\n",
      "-------------\n",
      "D4 - Documents audiovisuels fonds adultes / Documents sonores : livres enregistrés\n",
      "-------------\n",
      "fonds : 1641\n",
      "acquisitions : 43\n",
      "eliminations : 53\n",
      "-------------\n",
      "D4 - Documents audiovisuels fonds adultes / documents vidéo adultes\n",
      "-------------\n",
      "fonds : 12433\n",
      "acquisitions : 374\n",
      "eliminations : 191\n",
      "-------------\n",
      "D4 - Total documents multimédia sur support\n",
      "-------------\n",
      "fonds : 217\n",
      "acquisitions : 1\n",
      "eliminations : 16\n",
      "-------------\n",
      "D4 - Documents audiovisuels fonds enfants / Documents sonores : livres enregistrés\n",
      "-------------\n",
      "fonds : 204\n",
      "acquisitions : 1\n",
      "eliminations : 4\n",
      "-------------\n",
      "D4 - Documents audiovisuels fonds enfants / documents vidéo enfants\n",
      "-------------\n",
      "fonds : 1359\n",
      "acquisitions : 95\n",
      "eliminations : 30\n",
      "-------------\n"
     ]
    }
   ],
   "source": [
    "for c in d4_coll:\n",
    "    print(c)\n",
    "    print('-------------')\n",
    "    data = exemplaires_sll[exemplaires_sll['sll_collection'] == c]\n",
    "    data_el = eliminations_sll[eliminations_sll['sll_collection'] == c]\n",
    "    print(f\"fonds : {len(data)}\")\n",
    "    print(f\"acquisitions : {len(data[data['sll_acq'] == 'oui'])}\")\n",
    "    print(f\"eliminations : {len(data_el)}\")\n",
    "    \n",
    "    print('-------------') "
   ]
  },
  {
   "cell_type": "code",
   "execution_count": 46,
   "id": "2927e17f",
   "metadata": {},
   "outputs": [],
   "source": [
    "data = exemplaires_sll[exemplaires_sll['sll_collection'] == 'D1 - Livres imprimés']\n",
    "data_el = eliminations_sll[eliminations_sll['sll_collection'] == 'D1 - Livres imprimés']"
   ]
  },
  {
   "cell_type": "markdown",
   "id": "0441e554",
   "metadata": {},
   "source": [
    "## D6 - Ressources numériques acquises\n",
    "> Depuis juin 2023 les ressources ne sont plus acquises directement par la médiathèque de Roubaix, mais par la MEL.\n",
    "\n",
    "### Bouquets de contenus\n",
    "Pour chaque item, merci de sélectionner le bouquet principal si vous en avez plusieurs\n",
    " \n",
    "|Intitulé|oui/non|Nom de l'offre|Code SLL\n",
    "|:---|:---:|---|---|\n",
    "    |Livre|non|   |D522\n",
    "|Livres enregistrés|non|   |D524\n",
    "|Dictionnaires, encyclopédies|non|   |D526|\n",
    "|Musique|non|   |D528\n",
    "|Vidéo|non|   |D530|\n",
    "|Presse|non|   |D532|\n",
    "|Apprentissage en ligne (adultes)|non|   |D534|\n",
    "|Ludo-éducatif (jeunesse)|non|   |D536|\n",
    "|Autres bouquets acquis|non|   |D538"
   ]
  },
  {
   "cell_type": "markdown",
   "id": "72eec01d",
   "metadata": {},
   "source": [
    "### Ressources à l'unité\n",
    "\n",
    "|Intitulé|oui/non|Nombre d'acquisitions|Nom du fournisseur|Code SLL|\n",
    "|:---|---|---|---|---|\n",
    "|Livres|oui|45|Autre|D539-540-541|\n",
    "|Presse|non|   |   |   |\n",
    "Applications|non|   |   |   |\n",
    "Autres ressources|non|   |   |    |"
   ]
  },
  {
   "cell_type": "markdown",
   "id": "4338b530",
   "metadata": {},
   "source": [
    "## D7 - Collections adaptées\n",
    "\n",
    "|intitulé|oui/non|Code SLL|\n",
    "|:---|---|---|\n",
    "|La bibliothèque propose-t-elle des collections adaptées ?|oui|D701\n",
    "|Livres en gros caractères|oui|D708\n",
    "|Livres lus du commerce|oui|D709\n",
    "|Braille|non|D702\n",
    "|Ouvrages en Daisy|non|\n",
    "|Revues en synthèse vocale|non|D703\n",
    "|Revues en synthèse vocale|non|D704\n",
    "|Livres-DVD en langue des signes française (LSF)|non|D705\n",
    "|Livres tactiles ou en relief|non|D706\n",
    "|Autres collections adaptées|oui|D707"
   ]
  },
  {
   "cell_type": "markdown",
   "id": "4628911a",
   "metadata": {},
   "source": [
    "# E - Usages et usagers de la bibliothèque"
   ]
  },
  {
   "cell_type": "markdown",
   "id": "298bab1a",
   "metadata": {},
   "source": [
    "## E1 - Usagers"
   ]
  },
  {
   "cell_type": "code",
   "execution_count": 47,
   "id": "4a114f44",
   "metadata": {},
   "outputs": [],
   "source": [
    "query = f\"\"\"SELECT\n",
    "    date_extraction,\n",
    "    age as adh_age,\n",
    "    geo_ville as adh_geo_ville,\n",
    "    geo_roubaix_iris as adh_geo_rbx_iris_code,\n",
    "    sexe as adh_sexe,\n",
    "    inscription_code_carte as adh_inscription_carte_code,\n",
    "    inscription_code_site as adh_inscription_site_code,\n",
    "    inscription_attribut as adh_inscription_attribut_action_code,\n",
    "    inscription_fidelite as adh_inscription_nb_annees_adhesion,\n",
    "    nb_venues_prets_mediatheque,\n",
    "    nb_venues_prets_bus\n",
    "FROM statdb.stat_adherents WHERE date_extraction = '{date_extraction_usagers}'\"\"\"\n",
    "inscrits = pd.read_sql(query, db_conn)"
   ]
  },
  {
   "cell_type": "code",
   "execution_count": 48,
   "id": "6d7b7497",
   "metadata": {},
   "outputs": [],
   "source": [
    "adh = Adherent(df=inscrits, db_conn=db_conn)\n",
    "adh.get_adherent_statdb_data()\n",
    "adh.get_adherent_es_data()"
   ]
  },
  {
   "cell_type": "code",
   "execution_count": 49,
   "id": "38f0a33b",
   "metadata": {},
   "outputs": [],
   "source": [
    "adh.df['nb'] = 1\n",
    "adh.df['adh_age_sll'] = 'Non pertinent'\n",
    "adh.df.loc[adh.df['adh_age_lib3'] == '0 - 14 ans', 'adh_age_sll'] = '0 - 14 ans'\n",
    "adh.df.loc[adh.df['adh_age_lib3'] == '15 - 24 ans', 'adh_age_sll'] = '15 - 64 ans'\n",
    "adh.df.loc[adh.df['adh_age_lib3'] == '25 - 64 ans', 'adh_age_sll'] = '15 - 64 ans'\n",
    "adh.df.loc[adh.df['adh_age_lib3'] == '65 ans et plus', 'adh_age_sll'] = '65 ans et plus'\n",
    "adh.df.loc[adh.df['adh_age_lib3'] == 'Inconnu', 'adh_age_sll'] = 'Inconnu'"
   ]
  },
  {
   "cell_type": "markdown",
   "id": "96700cd8",
   "metadata": {},
   "source": [
    "### Inscrits actifs"
   ]
  },
  {
   "cell_type": "code",
   "execution_count": 50,
   "id": "58812cb4",
   "metadata": {},
   "outputs": [],
   "source": [
    "data = adh.df"
   ]
  },
  {
   "cell_type": "code",
   "execution_count": 51,
   "id": "b7984a8b",
   "metadata": {},
   "outputs": [
    {
     "data": {
      "text/plain": [
       "adh_age_sll     adh_sexe\n",
       "0 - 14 ans                    54\n",
       "                F           2772\n",
       "                M           2516\n",
       "                O              1\n",
       "15 - 64 ans                  127\n",
       "                F           5328\n",
       "                M           3433\n",
       "                O              6\n",
       "65 ans et plus                 6\n",
       "                F            515\n",
       "                M            417\n",
       "Non pertinent   N            302\n",
       "Name: nb, dtype: int64"
      ]
     },
     "execution_count": 51,
     "metadata": {},
     "output_type": "execute_result"
    }
   ],
   "source": [
    "data.groupby(['adh_age_sll', 'adh_sexe'])['nb'].sum()"
   ]
  },
  {
   "cell_type": "code",
   "execution_count": 52,
   "id": "a5bd3147",
   "metadata": {},
   "outputs": [
    {
     "data": {
      "text/plain": [
       "adh_age_sll\n",
       "0 - 14 ans        5343\n",
       "15 - 64 ans       8894\n",
       "65 ans et plus     938\n",
       "Non pertinent      302\n",
       "Name: nb, dtype: int64"
      ]
     },
     "execution_count": 52,
     "metadata": {},
     "output_type": "execute_result"
    }
   ],
   "source": [
    "data.groupby(['adh_age_sll'])['nb'].sum()"
   ]
  },
  {
   "cell_type": "code",
   "execution_count": 53,
   "id": "dabe709c",
   "metadata": {},
   "outputs": [
    {
     "data": {
      "text/plain": [
       "adh_age_lib2    adh_sexe\n",
       "15 ans et plus               133\n",
       "                F           5843\n",
       "                M           3850\n",
       "                O              6\n",
       "<= 14 ans                     54\n",
       "                F           2772\n",
       "                M           2516\n",
       "                O              1\n",
       "Non pertinent   N            302\n",
       "Name: nb, dtype: int64"
      ]
     },
     "execution_count": 53,
     "metadata": {},
     "output_type": "execute_result"
    }
   ],
   "source": [
    "data.groupby(['adh_age_lib2', 'adh_sexe'])['nb'].sum()"
   ]
  },
  {
   "cell_type": "code",
   "execution_count": 54,
   "id": "2c60606a",
   "metadata": {},
   "outputs": [
    {
     "data": {
      "text/plain": [
       "10705"
      ]
     },
     "execution_count": 54,
     "metadata": {},
     "output_type": "execute_result"
    }
   ],
   "source": [
    "data[(data['adh_geo_ville'] == 'ROUBAIX') & (~adh.df['adh_age_sll'].isin(['Non pertinent', 'Inconnu']))]['nb'].sum()"
   ]
  },
  {
   "cell_type": "markdown",
   "id": "0338da86",
   "metadata": {},
   "source": [
    "### dont nouveaux inscrits"
   ]
  },
  {
   "cell_type": "code",
   "execution_count": 55,
   "id": "e01ccd43",
   "metadata": {},
   "outputs": [
    {
     "data": {
      "text/plain": [
       "6451"
      ]
     },
     "execution_count": 55,
     "metadata": {},
     "output_type": "execute_result"
    }
   ],
   "source": [
    "data = adh.df[adh.df['adh_inscription_nb_annees_adhesion'] == 0]\n",
    "len(data)"
   ]
  },
  {
   "cell_type": "code",
   "execution_count": 56,
   "id": "b08c5dda",
   "metadata": {},
   "outputs": [
    {
     "data": {
      "text/plain": [
       "adh_age_sll     adh_sexe\n",
       "0 - 14 ans                    54\n",
       "                F           1229\n",
       "                M           1148\n",
       "                O              1\n",
       "15 - 64 ans                  127\n",
       "                F           2205\n",
       "                M           1408\n",
       "                O              5\n",
       "65 ans et plus                 6\n",
       "                F            110\n",
       "                M             94\n",
       "Non pertinent   N             64\n",
       "Name: nb, dtype: int64"
      ]
     },
     "execution_count": 56,
     "metadata": {},
     "output_type": "execute_result"
    }
   ],
   "source": [
    "data.groupby(['adh_age_sll', 'adh_sexe'])['nb'].sum()"
   ]
  },
  {
   "cell_type": "code",
   "execution_count": 57,
   "id": "d2122b67",
   "metadata": {},
   "outputs": [
    {
     "data": {
      "text/plain": [
       "adh_age_sll\n",
       "0 - 14 ans        2432\n",
       "15 - 64 ans       3745\n",
       "65 ans et plus     210\n",
       "Non pertinent       64\n",
       "Name: nb, dtype: int64"
      ]
     },
     "execution_count": 57,
     "metadata": {},
     "output_type": "execute_result"
    }
   ],
   "source": [
    "data.groupby(['adh_age_sll'])['nb'].sum()"
   ]
  },
  {
   "cell_type": "code",
   "execution_count": 58,
   "id": "16b21c63",
   "metadata": {},
   "outputs": [
    {
     "data": {
      "text/plain": [
       "adh_age_lib2    adh_sexe\n",
       "15 ans et plus               133\n",
       "                F           2315\n",
       "                M           1502\n",
       "                O              5\n",
       "<= 14 ans                     54\n",
       "                F           1229\n",
       "                M           1148\n",
       "                O              1\n",
       "Non pertinent   N             64\n",
       "Name: nb, dtype: int64"
      ]
     },
     "execution_count": 58,
     "metadata": {},
     "output_type": "execute_result"
    }
   ],
   "source": [
    "data.groupby(['adh_age_lib2', 'adh_sexe'])['nb'].sum()"
   ]
  },
  {
   "cell_type": "code",
   "execution_count": 59,
   "id": "a21daf04",
   "metadata": {},
   "outputs": [
    {
     "data": {
      "text/plain": [
       "adh_age_lib2\n",
       "15 ans et plus    3955\n",
       "<= 14 ans         2432\n",
       "Non pertinent       64\n",
       "Name: nb, dtype: int64"
      ]
     },
     "execution_count": 59,
     "metadata": {},
     "output_type": "execute_result"
    }
   ],
   "source": [
    "data.groupby(['adh_age_lib2'])['nb'].sum()"
   ]
  },
  {
   "cell_type": "code",
   "execution_count": 60,
   "id": "6f2318bc",
   "metadata": {},
   "outputs": [
    {
     "name": "stderr",
     "output_type": "stream",
     "text": [
      "/tmp/ipykernel_2550/3053756961.py:1: UserWarning: Boolean Series key will be reindexed to match DataFrame index.\n",
      "  data[(data['adh_geo_ville'] == 'ROUBAIX') & (~adh.df['adh_age_sll'].isin(['Non pertinent', 'Inconnu']))]['nb'].sum()\n"
     ]
    },
    {
     "data": {
      "text/plain": [
       "4493"
      ]
     },
     "execution_count": 60,
     "metadata": {},
     "output_type": "execute_result"
    }
   ],
   "source": [
    "data[(data['adh_geo_ville'] == 'ROUBAIX') & (~adh.df['adh_age_sll'].isin(['Non pertinent', 'Inconnu']))]['nb'].sum()"
   ]
  },
  {
   "cell_type": "code",
   "execution_count": 61,
   "id": "3bd9952c",
   "metadata": {},
   "outputs": [
    {
     "data": {
      "text/plain": [
       "Personne        6387\n",
       "Collectivité      64\n",
       "Name: adh_inscription_carte_personnalite, dtype: int64"
      ]
     },
     "execution_count": 61,
     "metadata": {},
     "output_type": "execute_result"
    }
   ],
   "source": [
    "data['adh_inscription_carte_personnalite'].value_counts()"
   ]
  },
  {
   "cell_type": "markdown",
   "id": "365efbd0",
   "metadata": {},
   "source": [
    "### Emprunteurs actifs"
   ]
  },
  {
   "cell_type": "code",
   "execution_count": 62,
   "id": "ca184add",
   "metadata": {},
   "outputs": [
    {
     "data": {
      "text/plain": [
       "Index(['date_extraction', 'adh_age', 'adh_geo_ville', 'adh_geo_rbx_iris_code',\n",
       "       'adh_sexe', 'adh_inscription_carte_code', 'adh_inscription_site_code',\n",
       "       'adh_inscription_attribut_action_code',\n",
       "       'adh_inscription_nb_annees_adhesion', 'nb_venues_prets_mediatheque',\n",
       "       'nb_venues_prets_bus', 'adh_inscription_carte_personnalite_code',\n",
       "       'adh_age_code', 'adh_age_lib1', 'adh_age_lib2', 'adh_age_lib3',\n",
       "       'adh_geo_gentilite', 'adh_geo_rbx_iris', 'adh_geo_rbx_quartier',\n",
       "       'geo_rbx_secteur', 'inscription_carte', 'adh_inscription_carte_type',\n",
       "       'adh_inscription_carte_gratuite', 'adh_inscription_carte_prix',\n",
       "       'adh_inscription_carte_personnalite', 'adh_inscription_site',\n",
       "       'adh_inscription_nb_annees_adhesion_tra',\n",
       "       'adh_inscription_attribut_action', 'nb', 'adh_age_sll'],\n",
       "      dtype='object')"
      ]
     },
     "execution_count": 62,
     "metadata": {},
     "output_type": "execute_result"
    }
   ],
   "source": [
    "adh.df.columns"
   ]
  },
  {
   "cell_type": "code",
   "execution_count": 63,
   "id": "ca276820",
   "metadata": {},
   "outputs": [
    {
     "data": {
      "text/plain": [
       "9993"
      ]
     },
     "execution_count": 63,
     "metadata": {},
     "output_type": "execute_result"
    }
   ],
   "source": [
    "adh.df['emprunteur'] = 'non'\n",
    "adh.df.loc[adh.df['nb_venues_prets_bus'] > 0, 'emprunteur'] = 'oui'\n",
    "adh.df.loc[adh.df['nb_venues_prets_mediatheque'] > 0, 'emprunteur'] = 'oui'\n",
    "\n",
    "data = adh.df[adh.df['emprunteur'] == 'oui']\n",
    "len(data)"
   ]
  },
  {
   "cell_type": "code",
   "execution_count": 64,
   "id": "1b7e2e95",
   "metadata": {},
   "outputs": [
    {
     "data": {
      "text/plain": [
       "adh_age_sll     adh_sexe\n",
       "0 - 14 ans                    30\n",
       "                F           2128\n",
       "                M           1838\n",
       "15 - 64 ans                   42\n",
       "                F           3260\n",
       "                M           1685\n",
       "                O              3\n",
       "65 ans et plus                 3\n",
       "                F            434\n",
       "                M            285\n",
       "Non pertinent   N            285\n",
       "Name: nb, dtype: int64"
      ]
     },
     "execution_count": 64,
     "metadata": {},
     "output_type": "execute_result"
    }
   ],
   "source": [
    "data.groupby(['adh_age_sll', 'adh_sexe'])['nb'].sum()"
   ]
  },
  {
   "cell_type": "code",
   "execution_count": 65,
   "id": "1a096f0b",
   "metadata": {},
   "outputs": [
    {
     "data": {
      "text/plain": [
       "adh_age_sll\n",
       "0 - 14 ans        3996\n",
       "15 - 64 ans       4990\n",
       "65 ans et plus     722\n",
       "Non pertinent      285\n",
       "Name: nb, dtype: int64"
      ]
     },
     "execution_count": 65,
     "metadata": {},
     "output_type": "execute_result"
    }
   ],
   "source": [
    "data.groupby(['adh_age_sll'])['nb'].sum()"
   ]
  },
  {
   "cell_type": "code",
   "execution_count": 66,
   "id": "96d68bd9",
   "metadata": {},
   "outputs": [
    {
     "data": {
      "text/plain": [
       "adh_age_lib2    adh_sexe\n",
       "15 ans et plus                45\n",
       "                F           3694\n",
       "                M           1970\n",
       "                O              3\n",
       "<= 14 ans                     30\n",
       "                F           2128\n",
       "                M           1838\n",
       "Non pertinent   N            285\n",
       "Name: nb, dtype: int64"
      ]
     },
     "execution_count": 66,
     "metadata": {},
     "output_type": "execute_result"
    }
   ],
   "source": [
    "data.groupby(['adh_age_lib2', 'adh_sexe'])['nb'].sum()"
   ]
  },
  {
   "cell_type": "code",
   "execution_count": 67,
   "id": "f8962100",
   "metadata": {},
   "outputs": [
    {
     "data": {
      "text/plain": [
       "adh_age_lib2\n",
       "15 ans et plus    5712\n",
       "<= 14 ans         3996\n",
       "Non pertinent      285\n",
       "Name: nb, dtype: int64"
      ]
     },
     "execution_count": 67,
     "metadata": {},
     "output_type": "execute_result"
    }
   ],
   "source": [
    "data.groupby(['adh_age_lib2'])['nb'].sum()"
   ]
  },
  {
   "cell_type": "code",
   "execution_count": 68,
   "id": "12b96e58",
   "metadata": {},
   "outputs": [
    {
     "name": "stderr",
     "output_type": "stream",
     "text": [
      "/tmp/ipykernel_2550/3053756961.py:1: UserWarning: Boolean Series key will be reindexed to match DataFrame index.\n",
      "  data[(data['adh_geo_ville'] == 'ROUBAIX') & (~adh.df['adh_age_sll'].isin(['Non pertinent', 'Inconnu']))]['nb'].sum()\n"
     ]
    },
    {
     "data": {
      "text/plain": [
       "6677"
      ]
     },
     "execution_count": 68,
     "metadata": {},
     "output_type": "execute_result"
    }
   ],
   "source": [
    "data[(data['adh_geo_ville'] == 'ROUBAIX') & (~adh.df['adh_age_sll'].isin(['Non pertinent', 'Inconnu']))]['nb'].sum()"
   ]
  },
  {
   "cell_type": "code",
   "execution_count": 69,
   "id": "71f57180",
   "metadata": {},
   "outputs": [
    {
     "data": {
      "text/plain": [
       "Personne        9708\n",
       "Collectivité     285\n",
       "Name: adh_inscription_carte_personnalite, dtype: int64"
      ]
     },
     "execution_count": 69,
     "metadata": {},
     "output_type": "execute_result"
    }
   ],
   "source": [
    "data['adh_inscription_carte_personnalite'].value_counts()"
   ]
  },
  {
   "cell_type": "markdown",
   "id": "91bf7832",
   "metadata": {},
   "source": [
    "### Fréquentation : entrées dans l'établissement"
   ]
  },
  {
   "cell_type": "code",
   "execution_count": 70,
   "id": "1beb2b4f",
   "metadata": {},
   "outputs": [
    {
     "data": {
      "text/html": [
       "<div>\n",
       "<style scoped>\n",
       "    .dataframe tbody tr th:only-of-type {\n",
       "        vertical-align: middle;\n",
       "    }\n",
       "\n",
       "    .dataframe tbody tr th {\n",
       "        vertical-align: top;\n",
       "    }\n",
       "\n",
       "    .dataframe thead th {\n",
       "        text-align: right;\n",
       "    }\n",
       "</style>\n",
       "<table border=\"1\" class=\"dataframe\">\n",
       "  <thead>\n",
       "    <tr style=\"text-align: right;\">\n",
       "      <th></th>\n",
       "      <th>SUM(entrees)</th>\n",
       "    </tr>\n",
       "  </thead>\n",
       "  <tbody>\n",
       "    <tr>\n",
       "      <th>0</th>\n",
       "      <td>258427.0</td>\n",
       "    </tr>\n",
       "  </tbody>\n",
       "</table>\n",
       "</div>"
      ],
      "text/plain": [
       "   SUM(entrees)\n",
       "0      258427.0"
      ]
     },
     "execution_count": 70,
     "metadata": {},
     "output_type": "execute_result"
    }
   ],
   "source": [
    "query = f\"\"\"SELECT\n",
    "    SUM(entrees)\n",
    "FROM statdb.stat_entrees WHERE YEAR(datetime) = '{year}'\"\"\"\n",
    "entrees = pd.read_sql(query, db_conn)\n",
    "entrees"
   ]
  },
  {
   "cell_type": "markdown",
   "id": "269bf245",
   "metadata": {},
   "source": [
    "## E2 - Prêts"
   ]
  },
  {
   "cell_type": "code",
   "execution_count": 71,
   "id": "884ab43f",
   "metadata": {},
   "outputs": [
    {
     "data": {
      "text/plain": [
       "364269"
      ]
     },
     "execution_count": 71,
     "metadata": {},
     "output_type": "execute_result"
    }
   ],
   "source": [
    "query = f\"\"\"SELECT\n",
    "    issuedate as pret_date,\n",
    "    date_due as pret_date_retour_prevue,\n",
    "    returndate as pret_date_retour_effectif,\n",
    "    renewals as pret_nb_renouvellement,\n",
    "    branch as pret_site_pret_code,\n",
    "    age as adh_age,\n",
    "    sexe as adh_sexe_code,\n",
    "    ville as adh_geo_ville,\n",
    "    iris as adh_geo_rbx_iris_code,\n",
    "    branchcode as adh_inscription_site_code,\n",
    "    categorycode as adh_inscription_carte_code,\n",
    "    fidelite as adh_inscription_nb_annees_adhesion,\n",
    "    itemnumber as doc_item_id,\n",
    "    homebranch as doc_item_site_detenteur_code,\n",
    "    location as doc_item_localisation_code,\n",
    "    ccode as doc_item_collection_ccode,\n",
    "    itemcallnumber as doc_item_cote,\n",
    "    itemtype as doc_biblio_support_code,\n",
    "    publicationyear as doc_biblio_annee_publication,\n",
    "    biblionumber as doc_biblio_id,\n",
    "    dateaccessioned as doc_item_date_creation\n",
    "FROM statdb.stat_issues\n",
    "WHERE YEAR(issuedate) = '{year}'\"\"\"\n",
    "prts = pd.read_sql(query, db_conn)\n",
    "len(prts)"
   ]
  },
  {
   "cell_type": "code",
   "execution_count": 72,
   "id": "38db9951",
   "metadata": {},
   "outputs": [],
   "source": [
    "c2l = Code2Libelle(db_conn)\n",
    "c2l.get_val()\n",
    "c2l = c2l.dict_codes_lib\n",
    "\n",
    "prets = Pret(df=prts, db_conn=db_conn, c2l=c2l)\n",
    "prets.get_pret_statdb_data()\n",
    "prets.get_pret_es_data()"
   ]
  },
  {
   "cell_type": "code",
   "execution_count": 73,
   "id": "112e8753",
   "metadata": {},
   "outputs": [
    {
     "name": "stderr",
     "output_type": "stream",
     "text": [
      "/tmp/ipykernel_2550/3051755607.py:2: SettingWithCopyWarning: \n",
      "A value is trying to be set on a copy of a slice from a DataFrame.\n",
      "Try using .loc[row_indexer,col_indexer] = value instead\n",
      "\n",
      "See the caveats in the documentation: https://pandas.pydata.org/pandas-docs/stable/user_guide/indexing.html#returning-a-view-versus-a-copy\n",
      "  prets_sll['nb'] = 1\n"
     ]
    }
   ],
   "source": [
    "prets_sll = prets.df[['sll_public', 'sll_acces', 'sll_prets_coll', 'sll_collection', 'sll_prets']]\n",
    "prets_sll['nb'] = 1"
   ]
  },
  {
   "cell_type": "code",
   "execution_count": 74,
   "id": "bb4ea0ba",
   "metadata": {},
   "outputs": [
    {
     "data": {
      "text/plain": [
       "E2 - Livres                             306996\n",
       "E2 - Documents vidéo                     22179\n",
       "E2 – Publications en série imprimées     18380\n",
       "E2 – Documents sonores : musique         13796\n",
       "E2 – Documents sonores : livres           1786\n",
       "Autres documents                          1132\n",
       "Name: sll_prets, dtype: int64"
      ]
     },
     "execution_count": 74,
     "metadata": {},
     "output_type": "execute_result"
    }
   ],
   "source": [
    "prets_sll['sll_prets'].value_counts()"
   ]
  },
  {
   "cell_type": "code",
   "execution_count": 75,
   "id": "2a88f70c",
   "metadata": {},
   "outputs": [
    {
     "data": {
      "text/plain": [
       "enfants    211646\n",
       "adultes    152623\n",
       "Name: sll_public, dtype: int64"
      ]
     },
     "execution_count": 75,
     "metadata": {},
     "output_type": "execute_result"
    }
   ],
   "source": [
    "prets_sll['sll_public'].value_counts()"
   ]
  },
  {
   "cell_type": "code",
   "execution_count": 76,
   "id": "ef51ae84",
   "metadata": {},
   "outputs": [
    {
     "data": {
      "text/plain": [
       "Pas de prêt aux collectivités    334710\n",
       "Prêt aux collectivités            29559\n",
       "Name: sll_prets_coll, dtype: int64"
      ]
     },
     "execution_count": 76,
     "metadata": {},
     "output_type": "execute_result"
    }
   ],
   "source": [
    "prets_sll['sll_prets_coll'].value_counts()"
   ]
  },
  {
   "cell_type": "markdown",
   "id": "53c13c0f",
   "metadata": {},
   "source": [
    "### Hors collectivités"
   ]
  },
  {
   "cell_type": "code",
   "execution_count": 77,
   "id": "28473caa",
   "metadata": {},
   "outputs": [],
   "source": [
    "data = prets_sll[prets_sll['sll_prets_coll'] == 'Pas de prêt aux collectivités']"
   ]
  },
  {
   "cell_type": "code",
   "execution_count": 78,
   "id": "894e87ba",
   "metadata": {},
   "outputs": [
    {
     "data": {
      "text/plain": [
       "sll_prets\n",
       "Autres documents                          1048\n",
       "E2 - Documents vidéo                     22098\n",
       "E2 - Livres                             277706\n",
       "E2 – Documents sonores : livres           1758\n",
       "E2 – Documents sonores : musique         13772\n",
       "E2 – Publications en série imprimées     18328\n",
       "Name: nb, dtype: int64"
      ]
     },
     "execution_count": 78,
     "metadata": {},
     "output_type": "execute_result"
    }
   ],
   "source": [
    "data.groupby(['sll_prets'])['nb'].sum()"
   ]
  },
  {
   "cell_type": "code",
   "execution_count": 79,
   "id": "aa19b6de",
   "metadata": {},
   "outputs": [
    {
     "data": {
      "text/plain": [
       "sll_prets                             sll_public\n",
       "Autres documents                      adultes         1047\n",
       "                                      enfants            1\n",
       "E2 - Documents vidéo                  adultes        18106\n",
       "                                      enfants         3992\n",
       "E2 - Livres                           adultes       105769\n",
       "                                      enfants       171937\n",
       "E2 – Documents sonores : livres       adultes         1472\n",
       "                                      enfants          286\n",
       "E2 – Documents sonores : musique      adultes        13305\n",
       "                                      enfants          467\n",
       "E2 – Publications en série imprimées  adultes        12890\n",
       "                                      enfants         5438\n",
       "Name: nb, dtype: int64"
      ]
     },
     "execution_count": 79,
     "metadata": {},
     "output_type": "execute_result"
    }
   ],
   "source": [
    "data.groupby(['sll_prets', 'sll_public'])['nb'].sum()"
   ]
  },
  {
   "cell_type": "code",
   "execution_count": 80,
   "id": "3d21a6a6",
   "metadata": {},
   "outputs": [
    {
     "data": {
      "text/plain": [
       "sll_public\n",
       "adultes    152589\n",
       "enfants    182121\n",
       "Name: nb, dtype: int64"
      ]
     },
     "execution_count": 80,
     "metadata": {},
     "output_type": "execute_result"
    }
   ],
   "source": [
    "data.groupby(['sll_public'])['nb'].sum()"
   ]
  },
  {
   "cell_type": "code",
   "execution_count": 81,
   "id": "59af800b",
   "metadata": {},
   "outputs": [
    {
     "data": {
      "text/plain": [
       "334710"
      ]
     },
     "execution_count": 81,
     "metadata": {},
     "output_type": "execute_result"
    }
   ],
   "source": [
    "data['nb'].sum()"
   ]
  },
  {
   "cell_type": "markdown",
   "id": "11ae6b59",
   "metadata": {},
   "source": [
    "### Collectivités"
   ]
  },
  {
   "cell_type": "code",
   "execution_count": 82,
   "id": "904cf0f7",
   "metadata": {},
   "outputs": [
    {
     "data": {
      "text/plain": [
       "29559"
      ]
     },
     "execution_count": 82,
     "metadata": {},
     "output_type": "execute_result"
    }
   ],
   "source": [
    "data = prets_sll[prets_sll['sll_prets_coll'] == 'Prêt aux collectivités']\n",
    "len(data)"
   ]
  },
  {
   "cell_type": "code",
   "execution_count": 83,
   "id": "f2b6defc",
   "metadata": {},
   "outputs": [
    {
     "data": {
      "text/plain": [
       "sll_prets\n",
       "Autres documents                           84\n",
       "E2 - Documents vidéo                       81\n",
       "E2 - Livres                             29290\n",
       "E2 – Documents sonores : livres            28\n",
       "E2 – Documents sonores : musique           24\n",
       "E2 – Publications en série imprimées       52\n",
       "Name: nb, dtype: int64"
      ]
     },
     "execution_count": 83,
     "metadata": {},
     "output_type": "execute_result"
    }
   ],
   "source": [
    "data.groupby(['sll_prets'])['nb'].sum()"
   ]
  },
  {
   "cell_type": "code",
   "execution_count": 84,
   "id": "4012a83c",
   "metadata": {},
   "outputs": [
    {
     "data": {
      "text/html": [
       "<div>\n",
       "<style scoped>\n",
       "    .dataframe tbody tr th:only-of-type {\n",
       "        vertical-align: middle;\n",
       "    }\n",
       "\n",
       "    .dataframe tbody tr th {\n",
       "        vertical-align: top;\n",
       "    }\n",
       "\n",
       "    .dataframe thead th {\n",
       "        text-align: right;\n",
       "    }\n",
       "</style>\n",
       "<table border=\"1\" class=\"dataframe\">\n",
       "  <thead>\n",
       "    <tr style=\"text-align: right;\">\n",
       "      <th></th>\n",
       "      <th>sll_public</th>\n",
       "      <th>sll_acces</th>\n",
       "      <th>sll_prets_coll</th>\n",
       "      <th>sll_collection</th>\n",
       "      <th>sll_prets</th>\n",
       "      <th>nb</th>\n",
       "    </tr>\n",
       "  </thead>\n",
       "  <tbody>\n",
       "    <tr>\n",
       "      <th>916</th>\n",
       "      <td>enfants</td>\n",
       "      <td>accès indirect</td>\n",
       "      <td>Prêt aux collectivités</td>\n",
       "      <td>D1 - Livres imprimés</td>\n",
       "      <td>E2 - Livres</td>\n",
       "      <td>1</td>\n",
       "    </tr>\n",
       "    <tr>\n",
       "      <th>1472</th>\n",
       "      <td>enfants</td>\n",
       "      <td>accès indirect</td>\n",
       "      <td>Prêt aux collectivités</td>\n",
       "      <td>D1 - Livres imprimés</td>\n",
       "      <td>E2 - Livres</td>\n",
       "      <td>1</td>\n",
       "    </tr>\n",
       "    <tr>\n",
       "      <th>2819</th>\n",
       "      <td>enfants</td>\n",
       "      <td>accès indirect</td>\n",
       "      <td>Prêt aux collectivités</td>\n",
       "      <td>D1 - Livres imprimés</td>\n",
       "      <td>E2 - Livres</td>\n",
       "      <td>1</td>\n",
       "    </tr>\n",
       "    <tr>\n",
       "      <th>2833</th>\n",
       "      <td>enfants</td>\n",
       "      <td>accès indirect</td>\n",
       "      <td>Prêt aux collectivités</td>\n",
       "      <td>D3 - Autres documents</td>\n",
       "      <td>Autres documents</td>\n",
       "      <td>1</td>\n",
       "    </tr>\n",
       "    <tr>\n",
       "      <th>3736</th>\n",
       "      <td>enfants</td>\n",
       "      <td>accès indirect</td>\n",
       "      <td>Prêt aux collectivités</td>\n",
       "      <td>D1 - Livres imprimés</td>\n",
       "      <td>E2 - Livres</td>\n",
       "      <td>1</td>\n",
       "    </tr>\n",
       "    <tr>\n",
       "      <th>...</th>\n",
       "      <td>...</td>\n",
       "      <td>...</td>\n",
       "      <td>...</td>\n",
       "      <td>...</td>\n",
       "      <td>...</td>\n",
       "      <td>...</td>\n",
       "    </tr>\n",
       "    <tr>\n",
       "      <th>361609</th>\n",
       "      <td>enfants</td>\n",
       "      <td>accès indirect</td>\n",
       "      <td>Prêt aux collectivités</td>\n",
       "      <td>D1 - Livres imprimés</td>\n",
       "      <td>E2 - Livres</td>\n",
       "      <td>1</td>\n",
       "    </tr>\n",
       "    <tr>\n",
       "      <th>361611</th>\n",
       "      <td>enfants</td>\n",
       "      <td>accès indirect</td>\n",
       "      <td>Prêt aux collectivités</td>\n",
       "      <td>D1 - Livres imprimés</td>\n",
       "      <td>E2 - Livres</td>\n",
       "      <td>1</td>\n",
       "    </tr>\n",
       "    <tr>\n",
       "      <th>361612</th>\n",
       "      <td>enfants</td>\n",
       "      <td>accès indirect</td>\n",
       "      <td>Prêt aux collectivités</td>\n",
       "      <td>D1 - Livres imprimés</td>\n",
       "      <td>E2 - Livres</td>\n",
       "      <td>1</td>\n",
       "    </tr>\n",
       "    <tr>\n",
       "      <th>361613</th>\n",
       "      <td>enfants</td>\n",
       "      <td>accès indirect</td>\n",
       "      <td>Prêt aux collectivités</td>\n",
       "      <td>D1 - Livres imprimés</td>\n",
       "      <td>E2 - Livres</td>\n",
       "      <td>1</td>\n",
       "    </tr>\n",
       "    <tr>\n",
       "      <th>361919</th>\n",
       "      <td>enfants</td>\n",
       "      <td>accès indirect</td>\n",
       "      <td>Prêt aux collectivités</td>\n",
       "      <td>D1 - Livres imprimés</td>\n",
       "      <td>E2 - Livres</td>\n",
       "      <td>1</td>\n",
       "    </tr>\n",
       "  </tbody>\n",
       "</table>\n",
       "<p>29559 rows × 6 columns</p>\n",
       "</div>"
      ],
      "text/plain": [
       "       sll_public       sll_acces          sll_prets_coll  \\\n",
       "916       enfants  accès indirect  Prêt aux collectivités   \n",
       "1472      enfants  accès indirect  Prêt aux collectivités   \n",
       "2819      enfants  accès indirect  Prêt aux collectivités   \n",
       "2833      enfants  accès indirect  Prêt aux collectivités   \n",
       "3736      enfants  accès indirect  Prêt aux collectivités   \n",
       "...           ...             ...                     ...   \n",
       "361609    enfants  accès indirect  Prêt aux collectivités   \n",
       "361611    enfants  accès indirect  Prêt aux collectivités   \n",
       "361612    enfants  accès indirect  Prêt aux collectivités   \n",
       "361613    enfants  accès indirect  Prêt aux collectivités   \n",
       "361919    enfants  accès indirect  Prêt aux collectivités   \n",
       "\n",
       "               sll_collection         sll_prets  nb  \n",
       "916      D1 - Livres imprimés       E2 - Livres   1  \n",
       "1472     D1 - Livres imprimés       E2 - Livres   1  \n",
       "2819     D1 - Livres imprimés       E2 - Livres   1  \n",
       "2833    D3 - Autres documents  Autres documents   1  \n",
       "3736     D1 - Livres imprimés       E2 - Livres   1  \n",
       "...                       ...               ...  ..  \n",
       "361609   D1 - Livres imprimés       E2 - Livres   1  \n",
       "361611   D1 - Livres imprimés       E2 - Livres   1  \n",
       "361612   D1 - Livres imprimés       E2 - Livres   1  \n",
       "361613   D1 - Livres imprimés       E2 - Livres   1  \n",
       "361919   D1 - Livres imprimés       E2 - Livres   1  \n",
       "\n",
       "[29559 rows x 6 columns]"
      ]
     },
     "execution_count": 84,
     "metadata": {},
     "output_type": "execute_result"
    }
   ],
   "source": [
    "prets_sll[prets_sll['sll_prets_coll'] == 'Prêt aux collectivités']"
   ]
  },
  {
   "cell_type": "markdown",
   "id": "9d9fe514",
   "metadata": {},
   "source": [
    "## E3 - Autres types d'usages"
   ]
  },
  {
   "cell_type": "markdown",
   "id": "d96dd165",
   "metadata": {},
   "source": [
    "### Réservations"
   ]
  },
  {
   "cell_type": "code",
   "execution_count": 85,
   "id": "65955913",
   "metadata": {},
   "outputs": [
    {
     "data": {
      "text/html": [
       "<div>\n",
       "<style scoped>\n",
       "    .dataframe tbody tr th:only-of-type {\n",
       "        vertical-align: middle;\n",
       "    }\n",
       "\n",
       "    .dataframe tbody tr th {\n",
       "        vertical-align: top;\n",
       "    }\n",
       "\n",
       "    .dataframe thead th {\n",
       "        text-align: right;\n",
       "    }\n",
       "</style>\n",
       "<table border=\"1\" class=\"dataframe\">\n",
       "  <thead>\n",
       "    <tr style=\"text-align: right;\">\n",
       "      <th></th>\n",
       "      <th>COUNT(*)</th>\n",
       "    </tr>\n",
       "  </thead>\n",
       "  <tbody>\n",
       "    <tr>\n",
       "      <th>0</th>\n",
       "      <td>43341</td>\n",
       "    </tr>\n",
       "  </tbody>\n",
       "</table>\n",
       "</div>"
      ],
      "text/plain": [
       "   COUNT(*)\n",
       "0     43341"
      ]
     },
     "execution_count": 85,
     "metadata": {},
     "output_type": "execute_result"
    }
   ],
   "source": [
    "query = f\"\"\"SELECT\n",
    "    COUNT(*)\n",
    "FROM statdb.stat_reserves WHERE YEAR(reservedate) = '{year}'\"\"\"\n",
    "r = pd.read_sql(query, db_conn)\n",
    "r"
   ]
  },
  {
   "cell_type": "markdown",
   "id": "b2bbf3d3",
   "metadata": {},
   "source": [
    "## E5 - Sessions internet (connexions + wifi)"
   ]
  },
  {
   "cell_type": "code",
   "execution_count": 86,
   "id": "ab57fbdb",
   "metadata": {},
   "outputs": [
    {
     "data": {
      "text/html": [
       "<div>\n",
       "<style scoped>\n",
       "    .dataframe tbody tr th:only-of-type {\n",
       "        vertical-align: middle;\n",
       "    }\n",
       "\n",
       "    .dataframe tbody tr th {\n",
       "        vertical-align: top;\n",
       "    }\n",
       "\n",
       "    .dataframe thead th {\n",
       "        text-align: right;\n",
       "    }\n",
       "</style>\n",
       "<table border=\"1\" class=\"dataframe\">\n",
       "  <thead>\n",
       "    <tr style=\"text-align: right;\">\n",
       "      <th></th>\n",
       "      <th>COUNT(*)</th>\n",
       "    </tr>\n",
       "  </thead>\n",
       "  <tbody>\n",
       "    <tr>\n",
       "      <th>0</th>\n",
       "      <td>55961</td>\n",
       "    </tr>\n",
       "  </tbody>\n",
       "</table>\n",
       "</div>"
      ],
      "text/plain": [
       "   COUNT(*)\n",
       "0     55961"
      ]
     },
     "execution_count": 86,
     "metadata": {},
     "output_type": "execute_result"
    }
   ],
   "source": [
    "query = f\"\"\"SELECT\n",
    "    COUNT(*)\n",
    "FROM statdb.stat_webkiosk WHERE YEAR(heure_deb) = '{year}'\"\"\"\n",
    "r = pd.read_sql(query, db_conn)\n",
    "r"
   ]
  },
  {
   "cell_type": "code",
   "execution_count": 87,
   "id": "4b3383a6",
   "metadata": {},
   "outputs": [
    {
     "data": {
      "text/html": [
       "<div>\n",
       "<style scoped>\n",
       "    .dataframe tbody tr th:only-of-type {\n",
       "        vertical-align: middle;\n",
       "    }\n",
       "\n",
       "    .dataframe tbody tr th {\n",
       "        vertical-align: top;\n",
       "    }\n",
       "\n",
       "    .dataframe thead th {\n",
       "        text-align: right;\n",
       "    }\n",
       "</style>\n",
       "<table border=\"1\" class=\"dataframe\">\n",
       "  <thead>\n",
       "    <tr style=\"text-align: right;\">\n",
       "      <th></th>\n",
       "      <th>COUNT(*)</th>\n",
       "    </tr>\n",
       "  </thead>\n",
       "  <tbody>\n",
       "    <tr>\n",
       "      <th>0</th>\n",
       "      <td>13988</td>\n",
       "    </tr>\n",
       "  </tbody>\n",
       "</table>\n",
       "</div>"
      ],
      "text/plain": [
       "   COUNT(*)\n",
       "0     13988"
      ]
     },
     "execution_count": 87,
     "metadata": {},
     "output_type": "execute_result"
    }
   ],
   "source": [
    "query = f\"\"\"SELECT\n",
    "    COUNT(*)\n",
    "FROM statdb.stat_wifi WHERE YEAR(start_wifi) = '{year}'\"\"\"\n",
    "r = pd.read_sql(query, db_conn)\n",
    "r"
   ]
  },
  {
   "cell_type": "markdown",
   "id": "cad26f59",
   "metadata": {},
   "source": [
    "### E502 - Nombre de visites du site dans la bibliothèque (visite interne)"
   ]
  },
  {
   "cell_type": "code",
   "execution_count": 88,
   "id": "469c8585",
   "metadata": {},
   "outputs": [
    {
     "data": {
      "text/html": [
       "<div>\n",
       "<style scoped>\n",
       "    .dataframe tbody tr th:only-of-type {\n",
       "        vertical-align: middle;\n",
       "    }\n",
       "\n",
       "    .dataframe tbody tr th {\n",
       "        vertical-align: top;\n",
       "    }\n",
       "\n",
       "    .dataframe thead th {\n",
       "        text-align: right;\n",
       "    }\n",
       "</style>\n",
       "<table border=\"1\" class=\"dataframe\">\n",
       "  <thead>\n",
       "    <tr style=\"text-align: right;\">\n",
       "      <th></th>\n",
       "      <th>Total visites interne</th>\n",
       "    </tr>\n",
       "  </thead>\n",
       "  <tbody>\n",
       "    <tr>\n",
       "      <th>0</th>\n",
       "      <td>13920.0</td>\n",
       "    </tr>\n",
       "  </tbody>\n",
       "</table>\n",
       "</div>"
      ],
      "text/plain": [
       "   Total visites interne\n",
       "0                13920.0"
      ]
     },
     "execution_count": 88,
     "metadata": {},
     "output_type": "execute_result"
    }
   ],
   "source": [
    "query = f\"\"\"SELECT SUM(visites) AS 'Total visites interne'\n",
    "FROM statdb.stat_web2 sw \n",
    "WHERE YEAR(`date`) = {year}\n",
    "AND origine = 'interne'\"\"\"\n",
    "\n",
    "pd.read_sql(query,db_conn)"
   ]
  },
  {
   "cell_type": "markdown",
   "id": "64756120",
   "metadata": {},
   "source": [
    "### E503 - Nombre de visite du site internet hors bibliothèque (visite externe)"
   ]
  },
  {
   "cell_type": "code",
   "execution_count": 89,
   "id": "22e99d93",
   "metadata": {},
   "outputs": [
    {
     "data": {
      "text/html": [
       "<div>\n",
       "<style scoped>\n",
       "    .dataframe tbody tr th:only-of-type {\n",
       "        vertical-align: middle;\n",
       "    }\n",
       "\n",
       "    .dataframe tbody tr th {\n",
       "        vertical-align: top;\n",
       "    }\n",
       "\n",
       "    .dataframe thead th {\n",
       "        text-align: right;\n",
       "    }\n",
       "</style>\n",
       "<table border=\"1\" class=\"dataframe\">\n",
       "  <thead>\n",
       "    <tr style=\"text-align: right;\">\n",
       "      <th></th>\n",
       "      <th>Total visites externe</th>\n",
       "    </tr>\n",
       "  </thead>\n",
       "  <tbody>\n",
       "    <tr>\n",
       "      <th>0</th>\n",
       "      <td>175338.0</td>\n",
       "    </tr>\n",
       "  </tbody>\n",
       "</table>\n",
       "</div>"
      ],
      "text/plain": [
       "   Total visites externe\n",
       "0               175338.0"
      ]
     },
     "execution_count": 89,
     "metadata": {},
     "output_type": "execute_result"
    }
   ],
   "source": [
    "query = f\"\"\"SELECT SUM(visites) AS 'Total visites externe'\n",
    "FROM statdb.stat_web2 sw \n",
    "WHERE YEAR(`date`) = {year}\n",
    "AND origine = 'externe'\"\"\"\n",
    "\n",
    "pd.read_sql(query,db_conn)"
   ]
  },
  {
   "cell_type": "markdown",
   "id": "5de6070c",
   "metadata": {},
   "source": [
    "# H - Action culturelle (nouvelle version)"
   ]
  },
  {
   "cell_type": "code",
   "execution_count": 1,
   "id": "58675bf1",
   "metadata": {},
   "outputs": [],
   "source": [
    "import pandas as pd"
   ]
  },
  {
   "cell_type": "code",
   "execution_count": 2,
   "id": "75eff470",
   "metadata": {},
   "outputs": [
    {
     "name": "stderr",
     "output_type": "stream",
     "text": [
      "/home/kibini/miniconda3/envs/kibini/lib/python3.8/site-packages/openpyxl/worksheet/_reader.py:312: UserWarning: Data Validation extension is not supported and will be removed\n",
      "  warn(msg)\n"
     ]
    }
   ],
   "source": [
    "ac = pd.read_excel(\"/home/kibini/AC_synthese_2023-2024.xlsx\")"
   ]
  },
  {
   "cell_type": "code",
   "execution_count": 4,
   "id": "2c875bb8",
   "metadata": {},
   "outputs": [
    {
     "data": {
      "text/html": [
       "<div>\n",
       "<style scoped>\n",
       "    .dataframe tbody tr th:only-of-type {\n",
       "        vertical-align: middle;\n",
       "    }\n",
       "\n",
       "    .dataframe tbody tr th {\n",
       "        vertical-align: top;\n",
       "    }\n",
       "\n",
       "    .dataframe thead th {\n",
       "        text-align: right;\n",
       "    }\n",
       "</style>\n",
       "<table border=\"1\" class=\"dataframe\">\n",
       "  <thead>\n",
       "    <tr style=\"text-align: right;\">\n",
       "      <th></th>\n",
       "      <th>Evénement</th>\n",
       "      <th>Date</th>\n",
       "      <th>Porteur de projet</th>\n",
       "      <th>Animation</th>\n",
       "      <th>Lieu Action</th>\n",
       "      <th>Type d'action</th>\n",
       "      <th>Nouveau Type d'action</th>\n",
       "      <th>Partenariat</th>\n",
       "      <th>Public</th>\n",
       "      <th>Nombre de personnes venues</th>\n",
       "      <th>Notes</th>\n",
       "      <th>Jauge</th>\n",
       "    </tr>\n",
       "  </thead>\n",
       "  <tbody>\n",
       "    <tr>\n",
       "      <th>0</th>\n",
       "      <td>NaN</td>\n",
       "      <td>2023-01-08</td>\n",
       "      <td>Hervé</td>\n",
       "      <td>Jeux</td>\n",
       "      <td>Espace RDC</td>\n",
       "      <td>Jeux</td>\n",
       "      <td>Jeux</td>\n",
       "      <td>NaN</td>\n",
       "      <td>Tout public</td>\n",
       "      <td>25.0</td>\n",
       "      <td>NaN</td>\n",
       "      <td>NaN</td>\n",
       "    </tr>\n",
       "    <tr>\n",
       "      <th>1</th>\n",
       "      <td>NaN</td>\n",
       "      <td>2023-01-08</td>\n",
       "      <td>Jimmy</td>\n",
       "      <td>Jeux vidéo</td>\n",
       "      <td>La Criée</td>\n",
       "      <td>Jeux</td>\n",
       "      <td>Jeux</td>\n",
       "      <td>NaN</td>\n",
       "      <td>Enfants</td>\n",
       "      <td>45.0</td>\n",
       "      <td>NaN</td>\n",
       "      <td>NaN</td>\n",
       "    </tr>\n",
       "    <tr>\n",
       "      <th>2</th>\n",
       "      <td>NaN</td>\n",
       "      <td>2023-01-13</td>\n",
       "      <td>Maïté</td>\n",
       "      <td>RDV Assistance Linux</td>\n",
       "      <td>La Criée</td>\n",
       "      <td>Atelier</td>\n",
       "      <td>Atelier informatique</td>\n",
       "      <td>NaN</td>\n",
       "      <td>Adultes</td>\n",
       "      <td>2.0</td>\n",
       "      <td>NaN</td>\n",
       "      <td>NaN</td>\n",
       "    </tr>\n",
       "    <tr>\n",
       "      <th>3</th>\n",
       "      <td>NaN</td>\n",
       "      <td>2023-01-14</td>\n",
       "      <td>Laetitia C.</td>\n",
       "      <td>Racontées des petits pouces</td>\n",
       "      <td>Salle d'heure du conte</td>\n",
       "      <td>Lecture/contes</td>\n",
       "      <td>Séance de contes</td>\n",
       "      <td>NaN</td>\n",
       "      <td>Petite enfance</td>\n",
       "      <td>25.0</td>\n",
       "      <td>11 adultes et 14 enfants</td>\n",
       "      <td>NaN</td>\n",
       "    </tr>\n",
       "    <tr>\n",
       "      <th>4</th>\n",
       "      <td>NaN</td>\n",
       "      <td>2023-01-15</td>\n",
       "      <td>Céline</td>\n",
       "      <td>Ciné-concert La ronde des couleurs</td>\n",
       "      <td>La Criée</td>\n",
       "      <td>Concert</td>\n",
       "      <td>Concert</td>\n",
       "      <td>Duo Fratassons</td>\n",
       "      <td>Enfants</td>\n",
       "      <td>80.0</td>\n",
       "      <td>NaN</td>\n",
       "      <td>NaN</td>\n",
       "    </tr>\n",
       "    <tr>\n",
       "      <th>...</th>\n",
       "      <td>...</td>\n",
       "      <td>...</td>\n",
       "      <td>...</td>\n",
       "      <td>...</td>\n",
       "      <td>...</td>\n",
       "      <td>...</td>\n",
       "      <td>...</td>\n",
       "      <td>...</td>\n",
       "      <td>...</td>\n",
       "      <td>...</td>\n",
       "      <td>...</td>\n",
       "      <td>...</td>\n",
       "    </tr>\n",
       "    <tr>\n",
       "      <th>547</th>\n",
       "      <td>NaN</td>\n",
       "      <td>2025-06-25</td>\n",
       "      <td>Jean-Baptiste</td>\n",
       "      <td>Jeux vidéo</td>\n",
       "      <td>La criée</td>\n",
       "      <td>Jeux</td>\n",
       "      <td>Jeux-vidéo</td>\n",
       "      <td>NaN</td>\n",
       "      <td>Tout public</td>\n",
       "      <td>NaN</td>\n",
       "      <td>NaN</td>\n",
       "      <td>NaN</td>\n",
       "    </tr>\n",
       "    <tr>\n",
       "      <th>548</th>\n",
       "      <td>NaN</td>\n",
       "      <td>2025-06-27</td>\n",
       "      <td>Mathilde L.</td>\n",
       "      <td>Sieste littéraire</td>\n",
       "      <td>La criée</td>\n",
       "      <td>Projection/diffusion</td>\n",
       "      <td>diffusion</td>\n",
       "      <td>NaN</td>\n",
       "      <td>Adultes</td>\n",
       "      <td>NaN</td>\n",
       "      <td>NaN</td>\n",
       "      <td>NaN</td>\n",
       "    </tr>\n",
       "    <tr>\n",
       "      <th>549</th>\n",
       "      <td>NaN</td>\n",
       "      <td>2025-06-28</td>\n",
       "      <td>Julie</td>\n",
       "      <td>Masque et gommage</td>\n",
       "      <td>La criée</td>\n",
       "      <td>Atelier</td>\n",
       "      <td>Atelier</td>\n",
       "      <td>NaN</td>\n",
       "      <td>Tout public</td>\n",
       "      <td>NaN</td>\n",
       "      <td>NaN</td>\n",
       "      <td>NaN</td>\n",
       "    </tr>\n",
       "    <tr>\n",
       "      <th>550</th>\n",
       "      <td>NaN</td>\n",
       "      <td>2025-06-28</td>\n",
       "      <td>Zina</td>\n",
       "      <td>Atelier de conversation en français</td>\n",
       "      <td>Salle VDM</td>\n",
       "      <td>Atelier</td>\n",
       "      <td>Atelier</td>\n",
       "      <td>NaN</td>\n",
       "      <td>Adultes</td>\n",
       "      <td>NaN</td>\n",
       "      <td>NaN</td>\n",
       "      <td>NaN</td>\n",
       "    </tr>\n",
       "    <tr>\n",
       "      <th>551</th>\n",
       "      <td>NaN</td>\n",
       "      <td>2025-07-05</td>\n",
       "      <td>Mathilde L./Stéphanie</td>\n",
       "      <td>Les Tulalus</td>\n",
       "      <td>Salle VDM</td>\n",
       "      <td>Club lecture</td>\n",
       "      <td>Club lecture</td>\n",
       "      <td>NaN</td>\n",
       "      <td>Adultes</td>\n",
       "      <td>NaN</td>\n",
       "      <td>NaN</td>\n",
       "      <td>NaN</td>\n",
       "    </tr>\n",
       "  </tbody>\n",
       "</table>\n",
       "<p>552 rows × 12 columns</p>\n",
       "</div>"
      ],
      "text/plain": [
       "    Evénement       Date      Porteur de projet  \\\n",
       "0         NaN 2023-01-08                  Hervé   \n",
       "1         NaN 2023-01-08                  Jimmy   \n",
       "2         NaN 2023-01-13                  Maïté   \n",
       "3         NaN 2023-01-14            Laetitia C.   \n",
       "4         NaN 2023-01-15                 Céline   \n",
       "..        ...        ...                    ...   \n",
       "547       NaN 2025-06-25          Jean-Baptiste   \n",
       "548       NaN 2025-06-27            Mathilde L.   \n",
       "549       NaN 2025-06-28                  Julie   \n",
       "550       NaN 2025-06-28                   Zina   \n",
       "551       NaN 2025-07-05  Mathilde L./Stéphanie   \n",
       "\n",
       "                               Animation             Lieu Action  \\\n",
       "0                                   Jeux              Espace RDC   \n",
       "1                             Jeux vidéo                La Criée   \n",
       "2                   RDV Assistance Linux                La Criée   \n",
       "3            Racontées des petits pouces  Salle d'heure du conte   \n",
       "4     Ciné-concert La ronde des couleurs                La Criée   \n",
       "..                                   ...                     ...   \n",
       "547                           Jeux vidéo                La criée   \n",
       "548                    Sieste littéraire                La criée   \n",
       "549                    Masque et gommage                La criée   \n",
       "550  Atelier de conversation en français               Salle VDM   \n",
       "551                          Les Tulalus               Salle VDM   \n",
       "\n",
       "            Type d'action Nouveau Type d'action     Partenariat  \\\n",
       "0                    Jeux                  Jeux             NaN   \n",
       "1                    Jeux                  Jeux             NaN   \n",
       "2                 Atelier  Atelier informatique             NaN   \n",
       "3          Lecture/contes      Séance de contes             NaN   \n",
       "4                 Concert               Concert  Duo Fratassons   \n",
       "..                    ...                   ...             ...   \n",
       "547                  Jeux            Jeux-vidéo             NaN   \n",
       "548  Projection/diffusion             diffusion             NaN   \n",
       "549               Atelier               Atelier             NaN   \n",
       "550               Atelier               Atelier             NaN   \n",
       "551          Club lecture          Club lecture             NaN   \n",
       "\n",
       "             Public  Nombre de personnes venues                     Notes  \\\n",
       "0       Tout public                        25.0                       NaN   \n",
       "1           Enfants                        45.0                       NaN   \n",
       "2           Adultes                         2.0                       NaN   \n",
       "3    Petite enfance                        25.0  11 adultes et 14 enfants   \n",
       "4           Enfants                        80.0                       NaN   \n",
       "..              ...                         ...                       ...   \n",
       "547     Tout public                         NaN                       NaN   \n",
       "548         Adultes                         NaN                       NaN   \n",
       "549     Tout public                         NaN                       NaN   \n",
       "550         Adultes                         NaN                       NaN   \n",
       "551         Adultes                         NaN                       NaN   \n",
       "\n",
       "     Jauge  \n",
       "0      NaN  \n",
       "1      NaN  \n",
       "2      NaN  \n",
       "3      NaN  \n",
       "4      NaN  \n",
       "..     ...  \n",
       "547    NaN  \n",
       "548    NaN  \n",
       "549    NaN  \n",
       "550    NaN  \n",
       "551    NaN  \n",
       "\n",
       "[552 rows x 12 columns]"
      ]
     },
     "execution_count": 4,
     "metadata": {},
     "output_type": "execute_result"
    }
   ],
   "source": [
    "dico_sll_h4 = {Atelier,\n",
    "               Atelier d'écriture,\n",
    "               Atelier informatique,\n",
    "               Club lecture,\n",
    "               Concert,\n",
    "               Conférence,\n",
    "               Danse,\n",
    "               Diffusion,\n",
    "               Exposition,\n",
    "               Festival,\n",
    "               Jeux,\n",
    "               Jeux-vidéo,\n",
    "               Journée festive,\n",
    "               Lecture,\n",
    "               Projection,\n",
    "               Rencontre,\n",
    "               Salon du livre,\n",
    "               Séance de contes,\n",
    "               Spectacle,\n",
    "               Vente,\n",
    "               Autre"
   ]
  },
  {
   "cell_type": "markdown",
   "id": "65ab2aab",
   "metadata": {},
   "source": [
    "## H1 - Etablissements scolaires et universitaires"
   ]
  },
  {
   "cell_type": "markdown",
   "id": "85f9ce7c",
   "metadata": {},
   "source": [
    "## H2 - Equipements culturels "
   ]
  },
  {
   "cell_type": "markdown",
   "id": "eec80690",
   "metadata": {},
   "source": [
    "## H3 - Structures associatives"
   ]
  },
  {
   "cell_type": "markdown",
   "id": "1b2422aa",
   "metadata": {},
   "source": [
    "## H4 - Actions au sein de l'établissement\n",
    "\n",
    "|Intitulé|Oui/Non?|Champ|\n",
    "|:---|---|---|\n",
    "|Coopération locale|Oui|H601\n",
    "|- Dont dont actions de coopération intercommunale (avec des bibliothèques n’appartenant pas à votre collectivité)|Oui|H610|\n",
    "|Catalogue commun|Oui|H612|\n",
    "|Portail documentaire commun|Non|H613|\n",
    "|Politique documentaire commune|Non|H613\n",
    "|Navette documentaire|Non|H614\n",
    "|Carte unique de lecteur|Non|H615\n",
    "|Action culturelle commune|Oui|H617\n",
    "|Autre action de coopération intercommunal|Non|H616\n",
    "|Coopération nationale|Oui|H604\n",
    "|Nombre d'actions|4|H605\n",
    "|Coopération internationale|Non|H607"
   ]
  },
  {
   "cell_type": "markdown",
   "id": "eebe92b6",
   "metadata": {},
   "source": [
    "## H5 - Actions hors de l'établissement"
   ]
  },
  {
   "cell_type": "markdown",
   "id": "9ab11f5f",
   "metadata": {},
   "source": [
    "## H6 - Actions de coopération"
   ]
  },
  {
   "cell_type": "markdown",
   "id": "84766e26",
   "metadata": {},
   "source": [
    "## H7 - Actions et services à destination de publics à besoins spécifiques "
   ]
  },
  {
   "cell_type": "markdown",
   "id": "13a5befc",
   "metadata": {},
   "source": [
    "---\n",
    "## H4 - Action culturelle (ANCIENNE VERSION)"
   ]
  },
  {
   "cell_type": "code",
   "execution_count": 90,
   "id": "3aa317f2",
   "metadata": {},
   "outputs": [],
   "source": [
    "query = f\"SELECT * FROM statdb.stat_action_culturelle WHERE YEAR(`date`)={year}\""
   ]
  },
  {
   "cell_type": "code",
   "execution_count": 91,
   "id": "144f0c2f",
   "metadata": {},
   "outputs": [],
   "source": [
    "ac_2023 = pd.read_sql(query,db_conn)"
   ]
  },
  {
   "cell_type": "markdown",
   "id": "737cf7bd",
   "metadata": {},
   "source": [
    "## H2 - Etablissements culturels"
   ]
  },
  {
   "cell_type": "markdown",
   "id": "afcb4b9d",
   "metadata": {},
   "source": [
    "> Pour l'année 2023, je vais sortir une liste à compléter par Mathilde M. pour lister les partenaires par types d'établissement culturel\n",
    "\n",
    "> Il faudra ensuite importé le tableau complété et faire les requêtes nécessaires"
   ]
  },
  {
   "cell_type": "code",
   "execution_count": 92,
   "id": "f73a501d",
   "metadata": {},
   "outputs": [],
   "source": [
    "ac_partenariats_23 = ac_2023.groupby([\"type\",\"partenariat\"])[\"participants\"].sum().to_frame()"
   ]
  },
  {
   "cell_type": "code",
   "execution_count": 93,
   "id": "72539d0f",
   "metadata": {},
   "outputs": [],
   "source": [
    "ac_partenariats_23.to_excel(\"../data_lucas/liste_partenariats_action_culturelle_2023_V2.xlsx\")"
   ]
  },
  {
   "cell_type": "code",
   "execution_count": 94,
   "id": "38e0cc77",
   "metadata": {},
   "outputs": [],
   "source": [
    "# Création d'une liste des partenaires et du nombre de participant pour chacun\n",
    "ac_2023.groupby('partenariat')['participants'].sum(\"total_participants\").to_frame().to_excel('../data_lucas/liste_partenariats_action_culturelle_2023.xlsx')"
   ]
  },
  {
   "cell_type": "code",
   "execution_count": 95,
   "id": "b057b437",
   "metadata": {},
   "outputs": [],
   "source": [
    "#Import de la liste complété\n"
   ]
  },
  {
   "cell_type": "markdown",
   "id": "a13e7ef6",
   "metadata": {},
   "source": [
    "## H4 Actions au sein de l'établissement"
   ]
  },
  {
   "cell_type": "code",
   "execution_count": 96,
   "id": "96e38fe8",
   "metadata": {},
   "outputs": [],
   "source": [
    "# Ajouter une colonne Conférences, rencontres, lecture = Conférence + Rencontre/conférence + lecture"
   ]
  },
  {
   "cell_type": "code",
   "execution_count": 97,
   "id": "be9b5c37",
   "metadata": {},
   "outputs": [],
   "source": [
    "# Recréer des catégories d'usagers sur la base des données suivantes : \n",
    "# Tous publics = toutes les actions qui ne sont pas Enfants\n",
    "# Enfants = 0-14 ans\n",
    "# Tous publics = inverse de Enfants et PetiteEnfance\n",
    "# Enfants = Enfants + Petite Enfance"
   ]
  },
  {
   "cell_type": "code",
   "execution_count": 98,
   "id": "7ef0adb3",
   "metadata": {},
   "outputs": [],
   "source": [
    "ac_2023['public_sll'] = np.NaN"
   ]
  },
  {
   "cell_type": "code",
   "execution_count": 99,
   "id": "f5ca90f2",
   "metadata": {},
   "outputs": [],
   "source": [
    "ac_2023.loc[ac_2023['public'].isin(['Enfants','Petite enfance']),['public_sll']] = 'Enfants' "
   ]
  },
  {
   "cell_type": "code",
   "execution_count": 100,
   "id": "99c65982",
   "metadata": {},
   "outputs": [],
   "source": [
    "ac_2023.loc[~ac_2023['public'].isin(['Enfants','Petite enfance']),['public_sll']] = 'Tous publics' "
   ]
  },
  {
   "cell_type": "code",
   "execution_count": 101,
   "id": "92415095",
   "metadata": {},
   "outputs": [
    {
     "data": {
      "text/html": [
       "<div>\n",
       "<style scoped>\n",
       "    .dataframe tbody tr th:only-of-type {\n",
       "        vertical-align: middle;\n",
       "    }\n",
       "\n",
       "    .dataframe tbody tr th {\n",
       "        vertical-align: top;\n",
       "    }\n",
       "\n",
       "    .dataframe thead th {\n",
       "        text-align: right;\n",
       "    }\n",
       "</style>\n",
       "<table border=\"1\" class=\"dataframe\">\n",
       "  <thead>\n",
       "    <tr style=\"text-align: right;\">\n",
       "      <th></th>\n",
       "      <th>id</th>\n",
       "      <th>date</th>\n",
       "      <th>action</th>\n",
       "      <th>lieu</th>\n",
       "      <th>type</th>\n",
       "      <th>public</th>\n",
       "      <th>partenariat</th>\n",
       "      <th>participants</th>\n",
       "      <th>jauge</th>\n",
       "      <th>evenement</th>\n",
       "      <th>notes</th>\n",
       "      <th>public_sll</th>\n",
       "    </tr>\n",
       "  </thead>\n",
       "  <tbody>\n",
       "    <tr>\n",
       "      <th>0</th>\n",
       "      <td>1613</td>\n",
       "      <td>2024-01-03</td>\n",
       "      <td>Jeux vidéo</td>\n",
       "      <td>La criée</td>\n",
       "      <td>Jeux</td>\n",
       "      <td>Tout public</td>\n",
       "      <td>None</td>\n",
       "      <td>60.0</td>\n",
       "      <td>NaN</td>\n",
       "      <td>None</td>\n",
       "      <td>None</td>\n",
       "      <td>Tous publics</td>\n",
       "    </tr>\n",
       "    <tr>\n",
       "      <th>1</th>\n",
       "      <td>1614</td>\n",
       "      <td>2024-01-06</td>\n",
       "      <td>Jeux vidéo</td>\n",
       "      <td>La criée</td>\n",
       "      <td>Jeux</td>\n",
       "      <td>Tout public</td>\n",
       "      <td>None</td>\n",
       "      <td>55.0</td>\n",
       "      <td>NaN</td>\n",
       "      <td>None</td>\n",
       "      <td>None</td>\n",
       "      <td>Tous publics</td>\n",
       "    </tr>\n",
       "    <tr>\n",
       "      <th>2</th>\n",
       "      <td>1615</td>\n",
       "      <td>2024-01-13</td>\n",
       "      <td>39-45 : elles n'ont rien oublié</td>\n",
       "      <td>La criée</td>\n",
       "      <td>Projection/diffusion</td>\n",
       "      <td>Adultes</td>\n",
       "      <td>None</td>\n",
       "      <td>80.0</td>\n",
       "      <td>45.0</td>\n",
       "      <td>None</td>\n",
       "      <td>None</td>\n",
       "      <td>Tous publics</td>\n",
       "    </tr>\n",
       "    <tr>\n",
       "      <th>3</th>\n",
       "      <td>1616</td>\n",
       "      <td>2024-01-14</td>\n",
       "      <td>Tricot des Lulus</td>\n",
       "      <td>La criée</td>\n",
       "      <td>Atelier</td>\n",
       "      <td>Tout public</td>\n",
       "      <td>None</td>\n",
       "      <td>22.0</td>\n",
       "      <td>20.0</td>\n",
       "      <td>None</td>\n",
       "      <td>None</td>\n",
       "      <td>Tous publics</td>\n",
       "    </tr>\n",
       "    <tr>\n",
       "      <th>4</th>\n",
       "      <td>1617</td>\n",
       "      <td>2024-01-16</td>\n",
       "      <td>Atelier informatique pour débutants</td>\n",
       "      <td>Espace multimédia</td>\n",
       "      <td>Atelier</td>\n",
       "      <td>Adultes</td>\n",
       "      <td>None</td>\n",
       "      <td>10.0</td>\n",
       "      <td>12.0</td>\n",
       "      <td>None</td>\n",
       "      <td>None</td>\n",
       "      <td>Tous publics</td>\n",
       "    </tr>\n",
       "  </tbody>\n",
       "</table>\n",
       "</div>"
      ],
      "text/plain": [
       "     id        date                               action               lieu  \\\n",
       "0  1613  2024-01-03                           Jeux vidéo           La criée   \n",
       "1  1614  2024-01-06                           Jeux vidéo           La criée   \n",
       "2  1615  2024-01-13      39-45 : elles n'ont rien oublié           La criée   \n",
       "3  1616  2024-01-14                     Tricot des Lulus           La criée   \n",
       "4  1617  2024-01-16  Atelier informatique pour débutants  Espace multimédia   \n",
       "\n",
       "                   type       public partenariat  participants  jauge  \\\n",
       "0                  Jeux  Tout public        None          60.0    NaN   \n",
       "1                  Jeux  Tout public        None          55.0    NaN   \n",
       "2  Projection/diffusion      Adultes        None          80.0   45.0   \n",
       "3               Atelier  Tout public        None          22.0   20.0   \n",
       "4               Atelier      Adultes        None          10.0   12.0   \n",
       "\n",
       "  evenement notes    public_sll  \n",
       "0      None  None  Tous publics  \n",
       "1      None  None  Tous publics  \n",
       "2      None  None  Tous publics  \n",
       "3      None  None  Tous publics  \n",
       "4      None  None  Tous publics  "
      ]
     },
     "execution_count": 101,
     "metadata": {},
     "output_type": "execute_result"
    }
   ],
   "source": [
    "ac_2023.head(5)"
   ]
  },
  {
   "cell_type": "code",
   "execution_count": 102,
   "id": "5cdeaa62",
   "metadata": {},
   "outputs": [],
   "source": [
    "ac_2023['nb_actions'] = 1"
   ]
  },
  {
   "cell_type": "code",
   "execution_count": 103,
   "id": "c9021248",
   "metadata": {},
   "outputs": [],
   "source": [
    "# Séances de Contes = Lectures/Contes + Racontées (demander ces chiffres à Chantale et/ou Laetitia)\n",
    "# Formations = Ateliers Action culturelle + Ateliers informatiques (demander ces chiffres à Maïté)"
   ]
  },
  {
   "cell_type": "code",
   "execution_count": 104,
   "id": "a85b6300",
   "metadata": {},
   "outputs": [],
   "source": [
    "ac_2023_hors_evenement = ac_2023[ac_2023['evenement'].isna()]"
   ]
  },
  {
   "cell_type": "code",
   "execution_count": 105,
   "id": "480d31d4",
   "metadata": {},
   "outputs": [
    {
     "data": {
      "text/html": [
       "<div>\n",
       "<style scoped>\n",
       "    .dataframe tbody tr th:only-of-type {\n",
       "        vertical-align: middle;\n",
       "    }\n",
       "\n",
       "    .dataframe tbody tr th {\n",
       "        vertical-align: top;\n",
       "    }\n",
       "\n",
       "    .dataframe thead th {\n",
       "        text-align: right;\n",
       "    }\n",
       "</style>\n",
       "<table border=\"1\" class=\"dataframe\">\n",
       "  <thead>\n",
       "    <tr style=\"text-align: right;\">\n",
       "      <th></th>\n",
       "      <th>id</th>\n",
       "      <th>date</th>\n",
       "      <th>action</th>\n",
       "      <th>lieu</th>\n",
       "      <th>type</th>\n",
       "      <th>public</th>\n",
       "      <th>partenariat</th>\n",
       "      <th>participants</th>\n",
       "      <th>jauge</th>\n",
       "      <th>evenement</th>\n",
       "      <th>notes</th>\n",
       "      <th>public_sll</th>\n",
       "      <th>nb_actions</th>\n",
       "    </tr>\n",
       "  </thead>\n",
       "  <tbody>\n",
       "    <tr>\n",
       "      <th>0</th>\n",
       "      <td>1613</td>\n",
       "      <td>2024-01-03</td>\n",
       "      <td>Jeux vidéo</td>\n",
       "      <td>La criée</td>\n",
       "      <td>Jeux</td>\n",
       "      <td>Tout public</td>\n",
       "      <td>None</td>\n",
       "      <td>60.0</td>\n",
       "      <td>NaN</td>\n",
       "      <td>None</td>\n",
       "      <td>None</td>\n",
       "      <td>Tous publics</td>\n",
       "      <td>1</td>\n",
       "    </tr>\n",
       "    <tr>\n",
       "      <th>1</th>\n",
       "      <td>1614</td>\n",
       "      <td>2024-01-06</td>\n",
       "      <td>Jeux vidéo</td>\n",
       "      <td>La criée</td>\n",
       "      <td>Jeux</td>\n",
       "      <td>Tout public</td>\n",
       "      <td>None</td>\n",
       "      <td>55.0</td>\n",
       "      <td>NaN</td>\n",
       "      <td>None</td>\n",
       "      <td>None</td>\n",
       "      <td>Tous publics</td>\n",
       "      <td>1</td>\n",
       "    </tr>\n",
       "    <tr>\n",
       "      <th>2</th>\n",
       "      <td>1615</td>\n",
       "      <td>2024-01-13</td>\n",
       "      <td>39-45 : elles n'ont rien oublié</td>\n",
       "      <td>La criée</td>\n",
       "      <td>Projection/diffusion</td>\n",
       "      <td>Adultes</td>\n",
       "      <td>None</td>\n",
       "      <td>80.0</td>\n",
       "      <td>45.0</td>\n",
       "      <td>None</td>\n",
       "      <td>None</td>\n",
       "      <td>Tous publics</td>\n",
       "      <td>1</td>\n",
       "    </tr>\n",
       "    <tr>\n",
       "      <th>3</th>\n",
       "      <td>1616</td>\n",
       "      <td>2024-01-14</td>\n",
       "      <td>Tricot des Lulus</td>\n",
       "      <td>La criée</td>\n",
       "      <td>Atelier</td>\n",
       "      <td>Tout public</td>\n",
       "      <td>None</td>\n",
       "      <td>22.0</td>\n",
       "      <td>20.0</td>\n",
       "      <td>None</td>\n",
       "      <td>None</td>\n",
       "      <td>Tous publics</td>\n",
       "      <td>1</td>\n",
       "    </tr>\n",
       "    <tr>\n",
       "      <th>4</th>\n",
       "      <td>1617</td>\n",
       "      <td>2024-01-16</td>\n",
       "      <td>Atelier informatique pour débutants</td>\n",
       "      <td>Espace multimédia</td>\n",
       "      <td>Atelier</td>\n",
       "      <td>Adultes</td>\n",
       "      <td>None</td>\n",
       "      <td>10.0</td>\n",
       "      <td>12.0</td>\n",
       "      <td>None</td>\n",
       "      <td>None</td>\n",
       "      <td>Tous publics</td>\n",
       "      <td>1</td>\n",
       "    </tr>\n",
       "    <tr>\n",
       "      <th>...</th>\n",
       "      <td>...</td>\n",
       "      <td>...</td>\n",
       "      <td>...</td>\n",
       "      <td>...</td>\n",
       "      <td>...</td>\n",
       "      <td>...</td>\n",
       "      <td>...</td>\n",
       "      <td>...</td>\n",
       "      <td>...</td>\n",
       "      <td>...</td>\n",
       "      <td>...</td>\n",
       "      <td>...</td>\n",
       "      <td>...</td>\n",
       "    </tr>\n",
       "    <tr>\n",
       "      <th>213</th>\n",
       "      <td>1926</td>\n",
       "      <td>2024-12-20</td>\n",
       "      <td>Radio à La Grand-Plage</td>\n",
       "      <td>Salle VDM</td>\n",
       "      <td>Atelier</td>\n",
       "      <td>Adultes</td>\n",
       "      <td>None</td>\n",
       "      <td>4.0</td>\n",
       "      <td>15.0</td>\n",
       "      <td>None</td>\n",
       "      <td>None</td>\n",
       "      <td>Tous publics</td>\n",
       "      <td>1</td>\n",
       "    </tr>\n",
       "    <tr>\n",
       "      <th>214</th>\n",
       "      <td>1927</td>\n",
       "      <td>2024-12-21</td>\n",
       "      <td>Atelier de conversation en français</td>\n",
       "      <td>Salle VDM</td>\n",
       "      <td>Atelier</td>\n",
       "      <td>Adultes</td>\n",
       "      <td>None</td>\n",
       "      <td>7.0</td>\n",
       "      <td>10.0</td>\n",
       "      <td>None</td>\n",
       "      <td>None</td>\n",
       "      <td>Tous publics</td>\n",
       "      <td>1</td>\n",
       "    </tr>\n",
       "    <tr>\n",
       "      <th>215</th>\n",
       "      <td>1928</td>\n",
       "      <td>2024-12-21</td>\n",
       "      <td>Petit déjeuner jeux vidéo</td>\n",
       "      <td>La criée</td>\n",
       "      <td>Jeux</td>\n",
       "      <td>Familles</td>\n",
       "      <td>None</td>\n",
       "      <td>12.0</td>\n",
       "      <td>12.0</td>\n",
       "      <td>None</td>\n",
       "      <td>None</td>\n",
       "      <td>Tous publics</td>\n",
       "      <td>1</td>\n",
       "    </tr>\n",
       "    <tr>\n",
       "      <th>216</th>\n",
       "      <td>1929</td>\n",
       "      <td>2024-12-21</td>\n",
       "      <td>Les racontées musicales</td>\n",
       "      <td>Salle d'heure du conte</td>\n",
       "      <td>Lecture/contes</td>\n",
       "      <td>Petite enfance</td>\n",
       "      <td>None</td>\n",
       "      <td>48.0</td>\n",
       "      <td>40.0</td>\n",
       "      <td>None</td>\n",
       "      <td>25 enfants et 23 adultes</td>\n",
       "      <td>Enfants</td>\n",
       "      <td>1</td>\n",
       "    </tr>\n",
       "    <tr>\n",
       "      <th>217</th>\n",
       "      <td>1930</td>\n",
       "      <td>2024-12-21</td>\n",
       "      <td>Noël avec les frères Koala</td>\n",
       "      <td>La criée</td>\n",
       "      <td>Projection/diffusion</td>\n",
       "      <td>Enfants</td>\n",
       "      <td>None</td>\n",
       "      <td>52.0</td>\n",
       "      <td>60.0</td>\n",
       "      <td>None</td>\n",
       "      <td>30 enfants et 22 adultes</td>\n",
       "      <td>Enfants</td>\n",
       "      <td>1</td>\n",
       "    </tr>\n",
       "  </tbody>\n",
       "</table>\n",
       "<p>168 rows × 13 columns</p>\n",
       "</div>"
      ],
      "text/plain": [
       "       id        date                               action  \\\n",
       "0    1613  2024-01-03                           Jeux vidéo   \n",
       "1    1614  2024-01-06                           Jeux vidéo   \n",
       "2    1615  2024-01-13      39-45 : elles n'ont rien oublié   \n",
       "3    1616  2024-01-14                     Tricot des Lulus   \n",
       "4    1617  2024-01-16  Atelier informatique pour débutants   \n",
       "..    ...         ...                                  ...   \n",
       "213  1926  2024-12-20               Radio à La Grand-Plage   \n",
       "214  1927  2024-12-21  Atelier de conversation en français   \n",
       "215  1928  2024-12-21            Petit déjeuner jeux vidéo   \n",
       "216  1929  2024-12-21              Les racontées musicales   \n",
       "217  1930  2024-12-21           Noël avec les frères Koala   \n",
       "\n",
       "                       lieu                  type          public partenariat  \\\n",
       "0                  La criée                  Jeux     Tout public        None   \n",
       "1                  La criée                  Jeux     Tout public        None   \n",
       "2                  La criée  Projection/diffusion         Adultes        None   \n",
       "3                  La criée               Atelier     Tout public        None   \n",
       "4         Espace multimédia               Atelier         Adultes        None   \n",
       "..                      ...                   ...             ...         ...   \n",
       "213               Salle VDM               Atelier         Adultes        None   \n",
       "214               Salle VDM               Atelier         Adultes        None   \n",
       "215                La criée                  Jeux        Familles        None   \n",
       "216  Salle d'heure du conte        Lecture/contes  Petite enfance        None   \n",
       "217                La criée  Projection/diffusion         Enfants        None   \n",
       "\n",
       "     participants  jauge evenement                     notes    public_sll  \\\n",
       "0            60.0    NaN      None                      None  Tous publics   \n",
       "1            55.0    NaN      None                      None  Tous publics   \n",
       "2            80.0   45.0      None                      None  Tous publics   \n",
       "3            22.0   20.0      None                      None  Tous publics   \n",
       "4            10.0   12.0      None                      None  Tous publics   \n",
       "..            ...    ...       ...                       ...           ...   \n",
       "213           4.0   15.0      None                      None  Tous publics   \n",
       "214           7.0   10.0      None                      None  Tous publics   \n",
       "215          12.0   12.0      None                      None  Tous publics   \n",
       "216          48.0   40.0      None  25 enfants et 23 adultes       Enfants   \n",
       "217          52.0   60.0      None  30 enfants et 22 adultes       Enfants   \n",
       "\n",
       "     nb_actions  \n",
       "0             1  \n",
       "1             1  \n",
       "2             1  \n",
       "3             1  \n",
       "4             1  \n",
       "..          ...  \n",
       "213           1  \n",
       "214           1  \n",
       "215           1  \n",
       "216           1  \n",
       "217           1  \n",
       "\n",
       "[168 rows x 13 columns]"
      ]
     },
     "execution_count": 105,
     "metadata": {},
     "output_type": "execute_result"
    }
   ],
   "source": [
    "ac_2023_hors_evenement"
   ]
  },
  {
   "cell_type": "markdown",
   "id": "b8a3c7ae",
   "metadata": {},
   "source": [
    "> Si on compte dans action dans l'établissement les fêtes etc... Alors pour tous les dataframes sauf le dataframe Fêtes etc... utiliser `ac_2023.loc[ac_2023_hors_evenement]`. Cela permettra de ne pas compter 2 fois le même événement."
   ]
  },
  {
   "cell_type": "markdown",
   "id": "9d7e0ebc",
   "metadata": {},
   "source": [
    "### H401 - Expositions"
   ]
  },
  {
   "cell_type": "code",
   "execution_count": 106,
   "id": "1e11f7c9",
   "metadata": {},
   "outputs": [],
   "source": [
    "ac_2023.loc[ac_2023['type']=='Exposition',['type_sll']] = 'Exposition'"
   ]
  },
  {
   "cell_type": "code",
   "execution_count": 107,
   "id": "1040e4c0",
   "metadata": {},
   "outputs": [
    {
     "data": {
      "text/plain": [
       "6"
      ]
     },
     "execution_count": 107,
     "metadata": {},
     "output_type": "execute_result"
    }
   ],
   "source": [
    "# Nombre d'exposition dans l'année pour Tous publics\n",
    "len(ac_2023[(ac_2023['type']=='Exposition')&\n",
    "            (ac_2023['public_sll']=='Tous publics')]\n",
    "   )"
   ]
  },
  {
   "cell_type": "code",
   "execution_count": 108,
   "id": "497fb2b4",
   "metadata": {},
   "outputs": [
    {
     "data": {
      "text/plain": [
       "0"
      ]
     },
     "execution_count": 108,
     "metadata": {},
     "output_type": "execute_result"
    }
   ],
   "source": [
    "# Nombre d'exposition dans l'année pour enfants\n",
    "len(ac_2023[(ac_2023['type']=='Exposition')&\n",
    "            (ac_2023['public_sll']=='Enfants')]\n",
    "   )"
   ]
  },
  {
   "cell_type": "markdown",
   "id": "40ab95b7",
   "metadata": {},
   "source": [
    "### H409 - Conférences, rencontres, lectures"
   ]
  },
  {
   "cell_type": "code",
   "execution_count": 109,
   "id": "63265ffc",
   "metadata": {},
   "outputs": [],
   "source": [
    "ac_2023.loc[ac_2023['type'].isin(['Conférence','Lecture','Rencontre/conférence']),['type_sll']] = 'Conférences, rencontres, lectures'"
   ]
  },
  {
   "cell_type": "code",
   "execution_count": 110,
   "id": "679f548e",
   "metadata": {},
   "outputs": [
    {
     "data": {
      "text/plain": [
       "30"
      ]
     },
     "execution_count": 110,
     "metadata": {},
     "output_type": "execute_result"
    }
   ],
   "source": [
    "# Nombre de conférences, rencontres et lectures TOUT PUBLIC\n",
    "len(ac_2023[(ac_2023['type_sll']=='Conférences, rencontres, lectures')&\n",
    "            (ac_2023['public_sll']=='Tous publics')]\n",
    "   )"
   ]
  },
  {
   "cell_type": "code",
   "execution_count": 111,
   "id": "bdfdfce9",
   "metadata": {},
   "outputs": [
    {
     "data": {
      "text/plain": [
       "0"
      ]
     },
     "execution_count": 111,
     "metadata": {},
     "output_type": "execute_result"
    }
   ],
   "source": [
    "# Nombre de conférences, rencontres et lectures Enfants\n",
    "len(ac_2023[(ac_2023['type_sll']=='Conférences, rencontres, lectures')&\n",
    "        (ac_2023['public_sll']=='Enfants')]\n",
    "   )"
   ]
  },
  {
   "cell_type": "code",
   "execution_count": 112,
   "id": "4396bac6",
   "metadata": {},
   "outputs": [
    {
     "data": {
      "text/plain": [
       "type_sll                           public_sll  \n",
       "Conférences, rencontres, lectures  Tous publics    674.0\n",
       "Exposition                         Tous publics    123.0\n",
       "Name: participants, dtype: float64"
      ]
     },
     "execution_count": 112,
     "metadata": {},
     "output_type": "execute_result"
    }
   ],
   "source": [
    "# Population touchée\n",
    "ac_2023.groupby(['type_sll','public_sll'])['participants'].sum()"
   ]
  },
  {
   "cell_type": "markdown",
   "id": "cc1dcee3",
   "metadata": {},
   "source": [
    "### H413 - Concerts projections"
   ]
  },
  {
   "cell_type": "code",
   "execution_count": 113,
   "id": "739a47aa",
   "metadata": {},
   "outputs": [],
   "source": [
    "ac_2023.loc[ac_2023['type'].isin(['Concert','Projection','Projection/diffusion']),['type_sll']] = 'Concerts, projections'"
   ]
  },
  {
   "cell_type": "code",
   "execution_count": 114,
   "id": "ba95fbb0",
   "metadata": {},
   "outputs": [
    {
     "data": {
      "text/plain": [
       "16"
      ]
     },
     "execution_count": 114,
     "metadata": {},
     "output_type": "execute_result"
    }
   ],
   "source": [
    "len(ac_2023[(ac_2023['type_sll']=='Concerts, projections')&\n",
    "            (ac_2023['public_sll']=='Tous publics')\n",
    "           ]\n",
    "   )"
   ]
  },
  {
   "cell_type": "code",
   "execution_count": 115,
   "id": "fd547fc5",
   "metadata": {},
   "outputs": [
    {
     "data": {
      "text/plain": [
       "8"
      ]
     },
     "execution_count": 115,
     "metadata": {},
     "output_type": "execute_result"
    }
   ],
   "source": [
    "len(ac_2023[(ac_2023['type_sll']=='Concerts, projections')&\n",
    "            (ac_2023['public_sll']=='Enfants')\n",
    "           ]\n",
    "   )"
   ]
  },
  {
   "cell_type": "code",
   "execution_count": 116,
   "id": "970a5ec0",
   "metadata": {},
   "outputs": [
    {
     "data": {
      "text/plain": [
       "type_sll                           public_sll  \n",
       "Concerts, projections              Enfants         514.0\n",
       "                                   Tous publics    446.0\n",
       "Conférences, rencontres, lectures  Tous publics    674.0\n",
       "Exposition                         Tous publics    123.0\n",
       "Name: participants, dtype: float64"
      ]
     },
     "execution_count": 116,
     "metadata": {},
     "output_type": "execute_result"
    }
   ],
   "source": [
    "ac_2023.groupby(['type_sll','public_sll'])['participants'].sum()"
   ]
  },
  {
   "cell_type": "markdown",
   "id": "3c8f8f0a",
   "metadata": {},
   "source": [
    "### H417 - Séances de conte"
   ]
  },
  {
   "cell_type": "code",
   "execution_count": 117,
   "id": "a5d64cba",
   "metadata": {},
   "outputs": [],
   "source": [
    "ac_2023.loc[(ac_2023['type']=='Lecture/contes'),['type_sll']] = 'Séances de conte'"
   ]
  },
  {
   "cell_type": "code",
   "execution_count": 118,
   "id": "3dcfba78",
   "metadata": {},
   "outputs": [
    {
     "data": {
      "text/plain": [
       "0"
      ]
     },
     "execution_count": 118,
     "metadata": {},
     "output_type": "execute_result"
    }
   ],
   "source": [
    "len(ac_2023[(ac_2023['type']=='Séances de conte')&\n",
    "            (ac_2023['public']=='Tout public')\n",
    "           ]\n",
    "   )"
   ]
  },
  {
   "cell_type": "code",
   "execution_count": 119,
   "id": "380b7344",
   "metadata": {},
   "outputs": [
    {
     "data": {
      "text/plain": [
       "0"
      ]
     },
     "execution_count": 119,
     "metadata": {},
     "output_type": "execute_result"
    }
   ],
   "source": [
    "len(ac_2023[(ac_2023['type']=='Séances de conte')&\n",
    "            (ac_2023['public']=='Enfants')\n",
    "           ]\n",
    "   )"
   ]
  },
  {
   "cell_type": "code",
   "execution_count": 120,
   "id": "19766697",
   "metadata": {},
   "outputs": [
    {
     "data": {
      "text/plain": [
       "0.0"
      ]
     },
     "execution_count": 120,
     "metadata": {},
     "output_type": "execute_result"
    }
   ],
   "source": [
    "ac_2023[ac_2023['type']=='Séances de conte']['participants'].sum()"
   ]
  },
  {
   "cell_type": "markdown",
   "id": "9e86f902",
   "metadata": {},
   "source": [
    "### H420 - Clubs de lecteurs ateliers d'écriture"
   ]
  },
  {
   "cell_type": "code",
   "execution_count": 121,
   "id": "59a281b3",
   "metadata": {},
   "outputs": [],
   "source": [
    "ac_2023.loc[ac_2023['type']=='Club lecture',['type_sll']] = 'Club lecture'"
   ]
  },
  {
   "cell_type": "code",
   "execution_count": 122,
   "id": "6e03abb4",
   "metadata": {},
   "outputs": [
    {
     "data": {
      "text/plain": [
       "7"
      ]
     },
     "execution_count": 122,
     "metadata": {},
     "output_type": "execute_result"
    }
   ],
   "source": [
    "# Nombre total de clubs lectures TOUT PUBLIC\n",
    "len(ac_2023[(ac_2023['type']=='Club lecture')&\n",
    "            (ac_2023['public_sll']=='Tous publics')\n",
    "           ])"
   ]
  },
  {
   "cell_type": "code",
   "execution_count": 123,
   "id": "b244f517",
   "metadata": {},
   "outputs": [
    {
     "data": {
      "text/plain": [
       "0"
      ]
     },
     "execution_count": 123,
     "metadata": {},
     "output_type": "execute_result"
    }
   ],
   "source": [
    "# Nombre total de clubs lectures ENFANTS\n",
    "len(ac_2023[(ac_2023['type']=='Club lecture')&\n",
    "            (ac_2023['public_sll']=='Enfants')\n",
    "           ])"
   ]
  },
  {
   "cell_type": "code",
   "execution_count": 124,
   "id": "8b3b51dd",
   "metadata": {},
   "outputs": [
    {
     "data": {
      "text/plain": [
       "87.0"
      ]
     },
     "execution_count": 124,
     "metadata": {},
     "output_type": "execute_result"
    }
   ],
   "source": [
    "ac_2023[ac_2023['type']=='Club lecture']['participants'].sum()"
   ]
  },
  {
   "cell_type": "markdown",
   "id": "b06811de",
   "metadata": {},
   "source": [
    "### H424 - Fêtes, salons du livre, festivals\n",
    "\n"
   ]
  },
  {
   "cell_type": "code",
   "execution_count": 125,
   "id": "bc668b02",
   "metadata": {},
   "outputs": [],
   "source": [
    "ac_2023.loc[ac_2023['evenement'].notna(),['type_sll']] = 'Fêtes, salons du livre, festivals'"
   ]
  },
  {
   "cell_type": "code",
   "execution_count": 126,
   "id": "3225fc3b",
   "metadata": {},
   "outputs": [
    {
     "data": {
      "text/html": [
       "<div>\n",
       "<style scoped>\n",
       "    .dataframe tbody tr th:only-of-type {\n",
       "        vertical-align: middle;\n",
       "    }\n",
       "\n",
       "    .dataframe tbody tr th {\n",
       "        vertical-align: top;\n",
       "    }\n",
       "\n",
       "    .dataframe thead th {\n",
       "        text-align: right;\n",
       "    }\n",
       "</style>\n",
       "<table border=\"1\" class=\"dataframe\">\n",
       "  <thead>\n",
       "    <tr style=\"text-align: right;\">\n",
       "      <th></th>\n",
       "      <th>id</th>\n",
       "      <th>date</th>\n",
       "      <th>action</th>\n",
       "      <th>lieu</th>\n",
       "      <th>type</th>\n",
       "      <th>public</th>\n",
       "      <th>partenariat</th>\n",
       "      <th>participants</th>\n",
       "      <th>jauge</th>\n",
       "      <th>evenement</th>\n",
       "      <th>notes</th>\n",
       "      <th>public_sll</th>\n",
       "      <th>nb_actions</th>\n",
       "      <th>type_sll</th>\n",
       "    </tr>\n",
       "  </thead>\n",
       "  <tbody>\n",
       "    <tr>\n",
       "      <th>6</th>\n",
       "      <td>1619</td>\n",
       "      <td>2024-01-20</td>\n",
       "      <td>Bulles de lecture - à partir de 4 ans</td>\n",
       "      <td>Espace RDC</td>\n",
       "      <td>Lecture/contes</td>\n",
       "      <td>Enfants</td>\n",
       "      <td>None</td>\n",
       "      <td>25.0</td>\n",
       "      <td>NaN</td>\n",
       "      <td>Nuits de la lecture</td>\n",
       "      <td>None</td>\n",
       "      <td>Enfants</td>\n",
       "      <td>1</td>\n",
       "      <td>Fêtes, salons du livre, festivals</td>\n",
       "    </tr>\n",
       "    <tr>\n",
       "      <th>7</th>\n",
       "      <td>1620</td>\n",
       "      <td>2024-01-20</td>\n",
       "      <td>Bulles de lecture 0-3 ans</td>\n",
       "      <td>Salle d'heure du conte</td>\n",
       "      <td>Lecture/contes</td>\n",
       "      <td>Enfants</td>\n",
       "      <td>None</td>\n",
       "      <td>17.0</td>\n",
       "      <td>NaN</td>\n",
       "      <td>Nuits de la lecture</td>\n",
       "      <td>10 enfants et 7 adultes</td>\n",
       "      <td>Enfants</td>\n",
       "      <td>1</td>\n",
       "      <td>Fêtes, salons du livre, festivals</td>\n",
       "    </tr>\n",
       "    <tr>\n",
       "      <th>8</th>\n",
       "      <td>1621</td>\n",
       "      <td>2024-01-20</td>\n",
       "      <td>Zik et bouquins</td>\n",
       "      <td>La criée</td>\n",
       "      <td>Lecture/contes</td>\n",
       "      <td>Familles</td>\n",
       "      <td>None</td>\n",
       "      <td>39.0</td>\n",
       "      <td>NaN</td>\n",
       "      <td>Nuits de la lecture</td>\n",
       "      <td>None</td>\n",
       "      <td>Tous publics</td>\n",
       "      <td>1</td>\n",
       "      <td>Fêtes, salons du livre, festivals</td>\n",
       "    </tr>\n",
       "    <tr>\n",
       "      <th>9</th>\n",
       "      <td>1622</td>\n",
       "      <td>2024-01-20</td>\n",
       "      <td>Between, Ballet du Nord</td>\n",
       "      <td>Espace RDC</td>\n",
       "      <td>Lecture/contes</td>\n",
       "      <td>Tout public</td>\n",
       "      <td>None</td>\n",
       "      <td>26.0</td>\n",
       "      <td>NaN</td>\n",
       "      <td>Nuits de la lecture</td>\n",
       "      <td>None</td>\n",
       "      <td>Tous publics</td>\n",
       "      <td>1</td>\n",
       "      <td>Fêtes, salons du livre, festivals</td>\n",
       "    </tr>\n",
       "    <tr>\n",
       "      <th>10</th>\n",
       "      <td>1623</td>\n",
       "      <td>2024-01-21</td>\n",
       "      <td>Le corps fait son cinéma !</td>\n",
       "      <td>Espace RDC</td>\n",
       "      <td>Atelier</td>\n",
       "      <td>Tout public</td>\n",
       "      <td>None</td>\n",
       "      <td>28.0</td>\n",
       "      <td>NaN</td>\n",
       "      <td>Nuits de la lecture</td>\n",
       "      <td>None</td>\n",
       "      <td>Tous publics</td>\n",
       "      <td>1</td>\n",
       "      <td>Fêtes, salons du livre, festivals</td>\n",
       "    </tr>\n",
       "    <tr>\n",
       "      <th>11</th>\n",
       "      <td>1624</td>\n",
       "      <td>2024-01-21</td>\n",
       "      <td>Corps accords</td>\n",
       "      <td>La criée</td>\n",
       "      <td>Lecture/contes</td>\n",
       "      <td>Tout public</td>\n",
       "      <td>None</td>\n",
       "      <td>25.0</td>\n",
       "      <td>NaN</td>\n",
       "      <td>Nuits de la lecture</td>\n",
       "      <td>None</td>\n",
       "      <td>Tous publics</td>\n",
       "      <td>1</td>\n",
       "      <td>Fêtes, salons du livre, festivals</td>\n",
       "    </tr>\n",
       "    <tr>\n",
       "      <th>18</th>\n",
       "      <td>1631</td>\n",
       "      <td>2024-02-02</td>\n",
       "      <td>Questions de parents : épuisement parental</td>\n",
       "      <td>La criée</td>\n",
       "      <td>Rencontre/conférence</td>\n",
       "      <td>Adultes</td>\n",
       "      <td>None</td>\n",
       "      <td>7.0</td>\n",
       "      <td>NaN</td>\n",
       "      <td>Week-end des bébés</td>\n",
       "      <td>None</td>\n",
       "      <td>Tous publics</td>\n",
       "      <td>1</td>\n",
       "      <td>Fêtes, salons du livre, festivals</td>\n",
       "    </tr>\n",
       "    <tr>\n",
       "      <th>23</th>\n",
       "      <td>1636</td>\n",
       "      <td>2024-02-03</td>\n",
       "      <td>À la pêche aux albums !</td>\n",
       "      <td>Salle d'heure du conte</td>\n",
       "      <td>Lecture/contes</td>\n",
       "      <td>Enfants</td>\n",
       "      <td>None</td>\n",
       "      <td>28.0</td>\n",
       "      <td>NaN</td>\n",
       "      <td>Week-end des bébés</td>\n",
       "      <td>14 enfants et 14 adultes</td>\n",
       "      <td>Enfants</td>\n",
       "      <td>1</td>\n",
       "      <td>Fêtes, salons du livre, festivals</td>\n",
       "    </tr>\n",
       "    <tr>\n",
       "      <th>25</th>\n",
       "      <td>1638</td>\n",
       "      <td>2024-02-03</td>\n",
       "      <td>Veillée musicale</td>\n",
       "      <td>Espace Jeunesse</td>\n",
       "      <td>Concert</td>\n",
       "      <td>Enfants</td>\n",
       "      <td>None</td>\n",
       "      <td>65.0</td>\n",
       "      <td>NaN</td>\n",
       "      <td>Week-end des bébés</td>\n",
       "      <td>None</td>\n",
       "      <td>Enfants</td>\n",
       "      <td>1</td>\n",
       "      <td>Fêtes, salons du livre, festivals</td>\n",
       "    </tr>\n",
       "    <tr>\n",
       "      <th>26</th>\n",
       "      <td>1639</td>\n",
       "      <td>2024-02-04</td>\n",
       "      <td>Racontée musicale spéciale</td>\n",
       "      <td>Salle d'heure du conte</td>\n",
       "      <td>Lecture/contes</td>\n",
       "      <td>Enfants</td>\n",
       "      <td>None</td>\n",
       "      <td>110.0</td>\n",
       "      <td>NaN</td>\n",
       "      <td>Week-end des bébés</td>\n",
       "      <td>None</td>\n",
       "      <td>Enfants</td>\n",
       "      <td>1</td>\n",
       "      <td>Fêtes, salons du livre, festivals</td>\n",
       "    </tr>\n",
       "    <tr>\n",
       "      <th>48</th>\n",
       "      <td>1661</td>\n",
       "      <td>2024-03-17</td>\n",
       "      <td>Lectures dansées</td>\n",
       "      <td>Espace Rdc</td>\n",
       "      <td>Spectacle</td>\n",
       "      <td>Tout public</td>\n",
       "      <td>None</td>\n",
       "      <td>80.0</td>\n",
       "      <td>NaN</td>\n",
       "      <td>Printemps des poètes</td>\n",
       "      <td>None</td>\n",
       "      <td>Tous publics</td>\n",
       "      <td>1</td>\n",
       "      <td>Fêtes, salons du livre, festivals</td>\n",
       "    </tr>\n",
       "    <tr>\n",
       "      <th>54</th>\n",
       "      <td>1667</td>\n",
       "      <td>2024-03-23</td>\n",
       "      <td>Dictée</td>\n",
       "      <td>La criée</td>\n",
       "      <td>Autre</td>\n",
       "      <td>Adultes</td>\n",
       "      <td>None</td>\n",
       "      <td>41.0</td>\n",
       "      <td>NaN</td>\n",
       "      <td>Semaine Langue française &amp; francophonie</td>\n",
       "      <td>None</td>\n",
       "      <td>Tous publics</td>\n",
       "      <td>1</td>\n",
       "      <td>Fêtes, salons du livre, festivals</td>\n",
       "    </tr>\n",
       "    <tr>\n",
       "      <th>56</th>\n",
       "      <td>1669</td>\n",
       "      <td>2024-03-24</td>\n",
       "      <td>Jeux de mots</td>\n",
       "      <td>Espace RDC</td>\n",
       "      <td>Jeux</td>\n",
       "      <td>Tout public</td>\n",
       "      <td>None</td>\n",
       "      <td>25.0</td>\n",
       "      <td>NaN</td>\n",
       "      <td>Semaine Langue française &amp; francophonie</td>\n",
       "      <td>None</td>\n",
       "      <td>Tous publics</td>\n",
       "      <td>1</td>\n",
       "      <td>Fêtes, salons du livre, festivals</td>\n",
       "    </tr>\n",
       "    <tr>\n",
       "      <th>85</th>\n",
       "      <td>1698</td>\n",
       "      <td>2024-05-22</td>\n",
       "      <td>Une soirée avec Mélanie Rutten</td>\n",
       "      <td>La criée</td>\n",
       "      <td>Rencontre/conférence</td>\n",
       "      <td>Adultes</td>\n",
       "      <td>None</td>\n",
       "      <td>23.0</td>\n",
       "      <td>NaN</td>\n",
       "      <td>Regards sur : Mélanie Rutten</td>\n",
       "      <td>None</td>\n",
       "      <td>Tous publics</td>\n",
       "      <td>1</td>\n",
       "      <td>Fêtes, salons du livre, festivals</td>\n",
       "    </tr>\n",
       "    <tr>\n",
       "      <th>91</th>\n",
       "      <td>1704</td>\n",
       "      <td>2024-05-25</td>\n",
       "      <td>Création de doudou</td>\n",
       "      <td>La criée</td>\n",
       "      <td>Atelier</td>\n",
       "      <td>Enfants</td>\n",
       "      <td>None</td>\n",
       "      <td>36.0</td>\n",
       "      <td>NaN</td>\n",
       "      <td>Regards sur : Mélanie Rutten</td>\n",
       "      <td>17 enfants et 19 adultes</td>\n",
       "      <td>Enfants</td>\n",
       "      <td>1</td>\n",
       "      <td>Fêtes, salons du livre, festivals</td>\n",
       "    </tr>\n",
       "    <tr>\n",
       "      <th>92</th>\n",
       "      <td>1705</td>\n",
       "      <td>2024-05-25</td>\n",
       "      <td>Raspberry Pi et rétrogaming</td>\n",
       "      <td>Espace multimédia</td>\n",
       "      <td>Atelier</td>\n",
       "      <td>Adultes</td>\n",
       "      <td>None</td>\n",
       "      <td>9.0</td>\n",
       "      <td>NaN</td>\n",
       "      <td>Regards sur : Mélanie Rutten</td>\n",
       "      <td>None</td>\n",
       "      <td>Tous publics</td>\n",
       "      <td>1</td>\n",
       "      <td>Fêtes, salons du livre, festivals</td>\n",
       "    </tr>\n",
       "    <tr>\n",
       "      <th>93</th>\n",
       "      <td>1706</td>\n",
       "      <td>2024-05-25</td>\n",
       "      <td>Les Tulalus</td>\n",
       "      <td>Salle VDM</td>\n",
       "      <td>Club lecture</td>\n",
       "      <td>Adultes</td>\n",
       "      <td>None</td>\n",
       "      <td>15.0</td>\n",
       "      <td>NaN</td>\n",
       "      <td>Regards sur : Mélanie Rutten</td>\n",
       "      <td>None</td>\n",
       "      <td>Tous publics</td>\n",
       "      <td>1</td>\n",
       "      <td>Fêtes, salons du livre, festivals</td>\n",
       "    </tr>\n",
       "    <tr>\n",
       "      <th>94</th>\n",
       "      <td>1707</td>\n",
       "      <td>2024-05-26</td>\n",
       "      <td>À la dérive</td>\n",
       "      <td>La criée</td>\n",
       "      <td>Spectacle</td>\n",
       "      <td>Tout public</td>\n",
       "      <td>None</td>\n",
       "      <td>110.0</td>\n",
       "      <td>NaN</td>\n",
       "      <td>Regards sur : Mélanie Rutten</td>\n",
       "      <td>None</td>\n",
       "      <td>Tous publics</td>\n",
       "      <td>1</td>\n",
       "      <td>Fêtes, salons du livre, festivals</td>\n",
       "    </tr>\n",
       "    <tr>\n",
       "      <th>96</th>\n",
       "      <td>1714</td>\n",
       "      <td>2024-06-02</td>\n",
       "      <td>Jeux traditionnels en bois</td>\n",
       "      <td>Espace RDC</td>\n",
       "      <td>Jeux</td>\n",
       "      <td>Tout public</td>\n",
       "      <td>None</td>\n",
       "      <td>50.0</td>\n",
       "      <td>NaN</td>\n",
       "      <td>Ducasse à La Grand-Plage</td>\n",
       "      <td>None</td>\n",
       "      <td>Tous publics</td>\n",
       "      <td>1</td>\n",
       "      <td>Fêtes, salons du livre, festivals</td>\n",
       "    </tr>\n",
       "    <tr>\n",
       "      <th>97</th>\n",
       "      <td>1715</td>\n",
       "      <td>2024-06-02</td>\n",
       "      <td>Triop's, la plus petite fanfare au monde</td>\n",
       "      <td>Toute la médiathèque</td>\n",
       "      <td>Concert</td>\n",
       "      <td>Tout public</td>\n",
       "      <td>None</td>\n",
       "      <td>NaN</td>\n",
       "      <td>NaN</td>\n",
       "      <td>Ducasse à La Grand-Plage</td>\n",
       "      <td>None</td>\n",
       "      <td>Tous publics</td>\n",
       "      <td>1</td>\n",
       "      <td>Fêtes, salons du livre, festivals</td>\n",
       "    </tr>\n",
       "    <tr>\n",
       "      <th>100</th>\n",
       "      <td>1718</td>\n",
       "      <td>2024-06-08</td>\n",
       "      <td>Le livre d'heures d'Isabeau de Roubaix</td>\n",
       "      <td>La criée</td>\n",
       "      <td>Rencontre/conférence</td>\n",
       "      <td>Adultes</td>\n",
       "      <td>None</td>\n",
       "      <td>41.0</td>\n",
       "      <td>NaN</td>\n",
       "      <td>À la découverte des manuscrits</td>\n",
       "      <td>None</td>\n",
       "      <td>Tous publics</td>\n",
       "      <td>1</td>\n",
       "      <td>Fêtes, salons du livre, festivals</td>\n",
       "    </tr>\n",
       "    <tr>\n",
       "      <th>101</th>\n",
       "      <td>1719</td>\n",
       "      <td>2024-06-08</td>\n",
       "      <td>Ensemble Tormis : musique à l'époque d'Isabeau...</td>\n",
       "      <td>Espace 1er étage</td>\n",
       "      <td>Concert</td>\n",
       "      <td>Tout public</td>\n",
       "      <td>None</td>\n",
       "      <td>45.0</td>\n",
       "      <td>NaN</td>\n",
       "      <td>À la découverte des manuscrits</td>\n",
       "      <td>None</td>\n",
       "      <td>Tous publics</td>\n",
       "      <td>1</td>\n",
       "      <td>Fêtes, salons du livre, festivals</td>\n",
       "    </tr>\n",
       "    <tr>\n",
       "      <th>102</th>\n",
       "      <td>1720</td>\n",
       "      <td>2024-06-08</td>\n",
       "      <td>Le monde des manuscrits</td>\n",
       "      <td>Salle d'étude</td>\n",
       "      <td>Atelier</td>\n",
       "      <td>Tout public</td>\n",
       "      <td>None</td>\n",
       "      <td>50.0</td>\n",
       "      <td>NaN</td>\n",
       "      <td>À la découverte des manuscrits</td>\n",
       "      <td>None</td>\n",
       "      <td>Tous publics</td>\n",
       "      <td>1</td>\n",
       "      <td>Fêtes, salons du livre, festivals</td>\n",
       "    </tr>\n",
       "    <tr>\n",
       "      <th>103</th>\n",
       "      <td>1721</td>\n",
       "      <td>2024-06-08</td>\n",
       "      <td>Trésors du Patrimoine et des Archives</td>\n",
       "      <td>La criée</td>\n",
       "      <td>Autre</td>\n",
       "      <td>Tout public</td>\n",
       "      <td>None</td>\n",
       "      <td>8.0</td>\n",
       "      <td>NaN</td>\n",
       "      <td>À la découverte des manuscrits</td>\n",
       "      <td>None</td>\n",
       "      <td>Tous publics</td>\n",
       "      <td>1</td>\n",
       "      <td>Fêtes, salons du livre, festivals</td>\n",
       "    </tr>\n",
       "    <tr>\n",
       "      <th>104</th>\n",
       "      <td>1722</td>\n",
       "      <td>2024-06-09</td>\n",
       "      <td>Le monde des manuscrits</td>\n",
       "      <td>La criée</td>\n",
       "      <td>Atelier</td>\n",
       "      <td>Tout public</td>\n",
       "      <td>None</td>\n",
       "      <td>13.0</td>\n",
       "      <td>NaN</td>\n",
       "      <td>À la découverte des manuscrits</td>\n",
       "      <td>None</td>\n",
       "      <td>Tous publics</td>\n",
       "      <td>1</td>\n",
       "      <td>Fêtes, salons du livre, festivals</td>\n",
       "    </tr>\n",
       "    <tr>\n",
       "      <th>105</th>\n",
       "      <td>1723</td>\n",
       "      <td>2024-06-09</td>\n",
       "      <td>Trésors du Patrimoine et des Archives</td>\n",
       "      <td>La criée</td>\n",
       "      <td>Autre</td>\n",
       "      <td>Tout public</td>\n",
       "      <td>None</td>\n",
       "      <td>6.0</td>\n",
       "      <td>NaN</td>\n",
       "      <td>À la découverte des manuscrits</td>\n",
       "      <td>None</td>\n",
       "      <td>Tous publics</td>\n",
       "      <td>1</td>\n",
       "      <td>Fêtes, salons du livre, festivals</td>\n",
       "    </tr>\n",
       "    <tr>\n",
       "      <th>106</th>\n",
       "      <td>1724</td>\n",
       "      <td>2024-06-12</td>\n",
       "      <td>Vyznam</td>\n",
       "      <td>La criée</td>\n",
       "      <td>Spectacle</td>\n",
       "      <td>Tout public</td>\n",
       "      <td>None</td>\n",
       "      <td>45.0</td>\n",
       "      <td>NaN</td>\n",
       "      <td>Festival URBX</td>\n",
       "      <td>None</td>\n",
       "      <td>Tous publics</td>\n",
       "      <td>1</td>\n",
       "      <td>Fêtes, salons du livre, festivals</td>\n",
       "    </tr>\n",
       "    <tr>\n",
       "      <th>110</th>\n",
       "      <td>1728</td>\n",
       "      <td>2024-06-16</td>\n",
       "      <td>Percussions corporelles</td>\n",
       "      <td>La criée</td>\n",
       "      <td>Atelier</td>\n",
       "      <td>Tout public</td>\n",
       "      <td>None</td>\n",
       "      <td>17.0</td>\n",
       "      <td>NaN</td>\n",
       "      <td>Festival URBX</td>\n",
       "      <td>None</td>\n",
       "      <td>Tous publics</td>\n",
       "      <td>1</td>\n",
       "      <td>Fêtes, salons du livre, festivals</td>\n",
       "    </tr>\n",
       "    <tr>\n",
       "      <th>133</th>\n",
       "      <td>1846</td>\n",
       "      <td>2024-09-21</td>\n",
       "      <td>Trésors du Patrimoine et des Archives</td>\n",
       "      <td>Salle d'étude</td>\n",
       "      <td>Exposition</td>\n",
       "      <td>Adultes</td>\n",
       "      <td>None</td>\n",
       "      <td>30.0</td>\n",
       "      <td>10.0</td>\n",
       "      <td>JEP</td>\n",
       "      <td>None</td>\n",
       "      <td>Tous publics</td>\n",
       "      <td>1</td>\n",
       "      <td>Fêtes, salons du livre, festivals</td>\n",
       "    </tr>\n",
       "    <tr>\n",
       "      <th>134</th>\n",
       "      <td>1847</td>\n",
       "      <td>2024-09-21</td>\n",
       "      <td>L'histoire du sport, un jeu d'enfant</td>\n",
       "      <td>Salle d'étude</td>\n",
       "      <td>Atelier</td>\n",
       "      <td>Enfants</td>\n",
       "      <td>None</td>\n",
       "      <td>71.0</td>\n",
       "      <td>50.0</td>\n",
       "      <td>JEP</td>\n",
       "      <td>None</td>\n",
       "      <td>Enfants</td>\n",
       "      <td>1</td>\n",
       "      <td>Fêtes, salons du livre, festivals</td>\n",
       "    </tr>\n",
       "    <tr>\n",
       "      <th>135</th>\n",
       "      <td>1848</td>\n",
       "      <td>2024-09-21</td>\n",
       "      <td>En long et en large, des équipements pour le s...</td>\n",
       "      <td>La criée</td>\n",
       "      <td>Rencontre/conférence</td>\n",
       "      <td>Adultes</td>\n",
       "      <td>François Vergin</td>\n",
       "      <td>3.0</td>\n",
       "      <td>50.0</td>\n",
       "      <td>JEP</td>\n",
       "      <td>None</td>\n",
       "      <td>Tous publics</td>\n",
       "      <td>1</td>\n",
       "      <td>Fêtes, salons du livre, festivals</td>\n",
       "    </tr>\n",
       "    <tr>\n",
       "      <th>136</th>\n",
       "      <td>1849</td>\n",
       "      <td>2024-09-21</td>\n",
       "      <td>Trésors du Patrimoine et des Archives</td>\n",
       "      <td>La criée</td>\n",
       "      <td>Exposition</td>\n",
       "      <td>Adultes</td>\n",
       "      <td>None</td>\n",
       "      <td>10.0</td>\n",
       "      <td>10.0</td>\n",
       "      <td>JEP</td>\n",
       "      <td>None</td>\n",
       "      <td>Tous publics</td>\n",
       "      <td>1</td>\n",
       "      <td>Fêtes, salons du livre, festivals</td>\n",
       "    </tr>\n",
       "    <tr>\n",
       "      <th>137</th>\n",
       "      <td>1850</td>\n",
       "      <td>2024-09-21</td>\n",
       "      <td>L'histoire du sport, un jeu d'enfant</td>\n",
       "      <td>La criée</td>\n",
       "      <td>Atelier</td>\n",
       "      <td>Enfants</td>\n",
       "      <td>None</td>\n",
       "      <td>18.0</td>\n",
       "      <td>50.0</td>\n",
       "      <td>JEP</td>\n",
       "      <td>None</td>\n",
       "      <td>Enfants</td>\n",
       "      <td>1</td>\n",
       "      <td>Fêtes, salons du livre, festivals</td>\n",
       "    </tr>\n",
       "    <tr>\n",
       "      <th>146</th>\n",
       "      <td>1859</td>\n",
       "      <td>2024-10-05</td>\n",
       "      <td>Ma salle de bain Zéro Déchet</td>\n",
       "      <td>La criée</td>\n",
       "      <td>Atelier</td>\n",
       "      <td>Tout public</td>\n",
       "      <td>None</td>\n",
       "      <td>12.0</td>\n",
       "      <td>15.0</td>\n",
       "      <td>Fête de la science</td>\n",
       "      <td>None</td>\n",
       "      <td>Tous publics</td>\n",
       "      <td>1</td>\n",
       "      <td>Fêtes, salons du livre, festivals</td>\n",
       "    </tr>\n",
       "    <tr>\n",
       "      <th>147</th>\n",
       "      <td>1860</td>\n",
       "      <td>2024-10-05</td>\n",
       "      <td>Les racontées musicales</td>\n",
       "      <td>Salle d'heure du conte</td>\n",
       "      <td>Lecture/contes</td>\n",
       "      <td>Petite enfance</td>\n",
       "      <td>None</td>\n",
       "      <td>34.0</td>\n",
       "      <td>40.0</td>\n",
       "      <td>Fête de la science</td>\n",
       "      <td>15 adultes et 19 enfants</td>\n",
       "      <td>Enfants</td>\n",
       "      <td>1</td>\n",
       "      <td>Fêtes, salons du livre, festivals</td>\n",
       "    </tr>\n",
       "    <tr>\n",
       "      <th>148</th>\n",
       "      <td>1861</td>\n",
       "      <td>2024-10-05</td>\n",
       "      <td>La pollution plastique</td>\n",
       "      <td>La criée</td>\n",
       "      <td>Rencontre/conférence</td>\n",
       "      <td>Adultes</td>\n",
       "      <td>None</td>\n",
       "      <td>3.0</td>\n",
       "      <td>50.0</td>\n",
       "      <td>Fête de la science</td>\n",
       "      <td>None</td>\n",
       "      <td>Tous publics</td>\n",
       "      <td>1</td>\n",
       "      <td>Fêtes, salons du livre, festivals</td>\n",
       "    </tr>\n",
       "    <tr>\n",
       "      <th>149</th>\n",
       "      <td>1862</td>\n",
       "      <td>2024-10-06</td>\n",
       "      <td>Science et jeux</td>\n",
       "      <td>Espace RDC</td>\n",
       "      <td>Jeux</td>\n",
       "      <td>Tout public</td>\n",
       "      <td>None</td>\n",
       "      <td>18.0</td>\n",
       "      <td>35.0</td>\n",
       "      <td>Fête de la science</td>\n",
       "      <td>None</td>\n",
       "      <td>Tous publics</td>\n",
       "      <td>1</td>\n",
       "      <td>Fêtes, salons du livre, festivals</td>\n",
       "    </tr>\n",
       "    <tr>\n",
       "      <th>150</th>\n",
       "      <td>1863</td>\n",
       "      <td>2024-10-06</td>\n",
       "      <td>Arête - Mathilde Bensaïd</td>\n",
       "      <td>La criée</td>\n",
       "      <td>Spectacle</td>\n",
       "      <td>Enfants</td>\n",
       "      <td>None</td>\n",
       "      <td>53.0</td>\n",
       "      <td>50.0</td>\n",
       "      <td>Fête de la science</td>\n",
       "      <td>21 adultes et 32 enfants</td>\n",
       "      <td>Enfants</td>\n",
       "      <td>1</td>\n",
       "      <td>Fêtes, salons du livre, festivals</td>\n",
       "    </tr>\n",
       "    <tr>\n",
       "      <th>153</th>\n",
       "      <td>1866</td>\n",
       "      <td>2024-10-12</td>\n",
       "      <td>Les contes du Blaireau</td>\n",
       "      <td>Salle d'heure du conte</td>\n",
       "      <td>Lecture/contes</td>\n",
       "      <td>Enfants</td>\n",
       "      <td>None</td>\n",
       "      <td>12.0</td>\n",
       "      <td>25.0</td>\n",
       "      <td>Nuit des bibliothèques</td>\n",
       "      <td>None</td>\n",
       "      <td>Enfants</td>\n",
       "      <td>1</td>\n",
       "      <td>Fêtes, salons du livre, festivals</td>\n",
       "    </tr>\n",
       "    <tr>\n",
       "      <th>154</th>\n",
       "      <td>1867</td>\n",
       "      <td>2024-10-12</td>\n",
       "      <td>Veillée musicale</td>\n",
       "      <td>Espace Jeunesse</td>\n",
       "      <td>Concert</td>\n",
       "      <td>Enfants</td>\n",
       "      <td>None</td>\n",
       "      <td>85.0</td>\n",
       "      <td>60.0</td>\n",
       "      <td>Nuit des bibliothèques</td>\n",
       "      <td>40 adultes et 45 enfants</td>\n",
       "      <td>Enfants</td>\n",
       "      <td>1</td>\n",
       "      <td>Fêtes, salons du livre, festivals</td>\n",
       "    </tr>\n",
       "    <tr>\n",
       "      <th>157</th>\n",
       "      <td>1870</td>\n",
       "      <td>2024-10-12</td>\n",
       "      <td>Atelier</td>\n",
       "      <td>Espace RDC</td>\n",
       "      <td>Atelier</td>\n",
       "      <td>Tout public</td>\n",
       "      <td>None</td>\n",
       "      <td>65.0</td>\n",
       "      <td>50.0</td>\n",
       "      <td>Nuit des bibliothèques</td>\n",
       "      <td>None</td>\n",
       "      <td>Tous publics</td>\n",
       "      <td>1</td>\n",
       "      <td>Fêtes, salons du livre, festivals</td>\n",
       "    </tr>\n",
       "    <tr>\n",
       "      <th>158</th>\n",
       "      <td>1871</td>\n",
       "      <td>2024-10-12</td>\n",
       "      <td>Visites</td>\n",
       "      <td>Toute la médiathèque</td>\n",
       "      <td>Autre</td>\n",
       "      <td>Adultes</td>\n",
       "      <td>None</td>\n",
       "      <td>32.0</td>\n",
       "      <td>30.0</td>\n",
       "      <td>Nuit des bibliothèques</td>\n",
       "      <td>None</td>\n",
       "      <td>Tous publics</td>\n",
       "      <td>1</td>\n",
       "      <td>Fêtes, salons du livre, festivals</td>\n",
       "    </tr>\n",
       "    <tr>\n",
       "      <th>159</th>\n",
       "      <td>1872</td>\n",
       "      <td>2024-10-12</td>\n",
       "      <td>La femme sauvage - cie Cendres la rouge</td>\n",
       "      <td>La criée</td>\n",
       "      <td>Spectacle</td>\n",
       "      <td>Tout public</td>\n",
       "      <td>None</td>\n",
       "      <td>53.0</td>\n",
       "      <td>60.0</td>\n",
       "      <td>Nuit des bibliothèques</td>\n",
       "      <td>None</td>\n",
       "      <td>Tous publics</td>\n",
       "      <td>1</td>\n",
       "      <td>Fêtes, salons du livre, festivals</td>\n",
       "    </tr>\n",
       "    <tr>\n",
       "      <th>160</th>\n",
       "      <td>1873</td>\n",
       "      <td>2024-10-13</td>\n",
       "      <td>La petite fabrique du pop-up</td>\n",
       "      <td>La criée</td>\n",
       "      <td>Atelier</td>\n",
       "      <td>Tout public</td>\n",
       "      <td>None</td>\n",
       "      <td>60.0</td>\n",
       "      <td>40.0</td>\n",
       "      <td>Nuit des bibliothèques</td>\n",
       "      <td>None</td>\n",
       "      <td>Tous publics</td>\n",
       "      <td>1</td>\n",
       "      <td>Fêtes, salons du livre, festivals</td>\n",
       "    </tr>\n",
       "    <tr>\n",
       "      <th>161</th>\n",
       "      <td>1874</td>\n",
       "      <td>2024-10-13</td>\n",
       "      <td>Jeux fantastiques</td>\n",
       "      <td>Espace RDC</td>\n",
       "      <td>Jeux</td>\n",
       "      <td>Tout public</td>\n",
       "      <td>None</td>\n",
       "      <td>20.0</td>\n",
       "      <td>20.0</td>\n",
       "      <td>Nuit des bibliothèques</td>\n",
       "      <td>None</td>\n",
       "      <td>Tous publics</td>\n",
       "      <td>1</td>\n",
       "      <td>Fêtes, salons du livre, festivals</td>\n",
       "    </tr>\n",
       "    <tr>\n",
       "      <th>177</th>\n",
       "      <td>1890</td>\n",
       "      <td>2024-11-15</td>\n",
       "      <td>Queerying Nature</td>\n",
       "      <td>La criée</td>\n",
       "      <td>Projection/diffusion</td>\n",
       "      <td>Adultes</td>\n",
       "      <td>None</td>\n",
       "      <td>45.0</td>\n",
       "      <td>50.0</td>\n",
       "      <td>Mois du film documentaire</td>\n",
       "      <td>None</td>\n",
       "      <td>Tous publics</td>\n",
       "      <td>1</td>\n",
       "      <td>Fêtes, salons du livre, festivals</td>\n",
       "    </tr>\n",
       "    <tr>\n",
       "      <th>179</th>\n",
       "      <td>1892</td>\n",
       "      <td>2024-11-16</td>\n",
       "      <td>Conférence Citéphilo</td>\n",
       "      <td>La criée</td>\n",
       "      <td>Rencontre/conférence</td>\n",
       "      <td>Adultes</td>\n",
       "      <td>Citéphilo</td>\n",
       "      <td>42.0</td>\n",
       "      <td>50.0</td>\n",
       "      <td>Temps fort Transitions</td>\n",
       "      <td>None</td>\n",
       "      <td>Tous publics</td>\n",
       "      <td>1</td>\n",
       "      <td>Fêtes, salons du livre, festivals</td>\n",
       "    </tr>\n",
       "    <tr>\n",
       "      <th>200</th>\n",
       "      <td>1913</td>\n",
       "      <td>2024-12-06</td>\n",
       "      <td>Carte blanche aux étudiants de l'ESAAT</td>\n",
       "      <td>La criée</td>\n",
       "      <td>Exposition</td>\n",
       "      <td>Tout public</td>\n",
       "      <td>None</td>\n",
       "      <td>15.0</td>\n",
       "      <td>40.0</td>\n",
       "      <td>Temps fort Transitions</td>\n",
       "      <td>None</td>\n",
       "      <td>Tous publics</td>\n",
       "      <td>1</td>\n",
       "      <td>Fêtes, salons du livre, festivals</td>\n",
       "    </tr>\n",
       "    <tr>\n",
       "      <th>202</th>\n",
       "      <td>1915</td>\n",
       "      <td>2024-12-07</td>\n",
       "      <td>Carte blanche aux étudiants de l'ESAAT</td>\n",
       "      <td>La criée</td>\n",
       "      <td>Exposition</td>\n",
       "      <td>Tout public</td>\n",
       "      <td>None</td>\n",
       "      <td>30.0</td>\n",
       "      <td>40.0</td>\n",
       "      <td>Temps fort Transitions</td>\n",
       "      <td>None</td>\n",
       "      <td>Tous publics</td>\n",
       "      <td>1</td>\n",
       "      <td>Fêtes, salons du livre, festivals</td>\n",
       "    </tr>\n",
       "    <tr>\n",
       "      <th>203</th>\n",
       "      <td>1916</td>\n",
       "      <td>2024-12-08</td>\n",
       "      <td>Carte blanche aux étudiants de l'ESAAT</td>\n",
       "      <td>La criée</td>\n",
       "      <td>Exposition</td>\n",
       "      <td>Tout public</td>\n",
       "      <td>None</td>\n",
       "      <td>20.0</td>\n",
       "      <td>40.0</td>\n",
       "      <td>Temps fort Transitions</td>\n",
       "      <td>None</td>\n",
       "      <td>Tous publics</td>\n",
       "      <td>1</td>\n",
       "      <td>Fêtes, salons du livre, festivals</td>\n",
       "    </tr>\n",
       "  </tbody>\n",
       "</table>\n",
       "</div>"
      ],
      "text/plain": [
       "       id        date                                             action  \\\n",
       "6    1619  2024-01-20              Bulles de lecture - à partir de 4 ans   \n",
       "7    1620  2024-01-20                          Bulles de lecture 0-3 ans   \n",
       "8    1621  2024-01-20                                    Zik et bouquins   \n",
       "9    1622  2024-01-20                            Between, Ballet du Nord   \n",
       "10   1623  2024-01-21                         Le corps fait son cinéma !   \n",
       "11   1624  2024-01-21                                      Corps accords   \n",
       "18   1631  2024-02-02         Questions de parents : épuisement parental   \n",
       "23   1636  2024-02-03                            À la pêche aux albums !   \n",
       "25   1638  2024-02-03                                   Veillée musicale   \n",
       "26   1639  2024-02-04                         Racontée musicale spéciale   \n",
       "48   1661  2024-03-17                                   Lectures dansées   \n",
       "54   1667  2024-03-23                                             Dictée   \n",
       "56   1669  2024-03-24                                       Jeux de mots   \n",
       "85   1698  2024-05-22                     Une soirée avec Mélanie Rutten   \n",
       "91   1704  2024-05-25                                 Création de doudou   \n",
       "92   1705  2024-05-25                        Raspberry Pi et rétrogaming   \n",
       "93   1706  2024-05-25                                        Les Tulalus   \n",
       "94   1707  2024-05-26                                        À la dérive   \n",
       "96   1714  2024-06-02                         Jeux traditionnels en bois   \n",
       "97   1715  2024-06-02           Triop's, la plus petite fanfare au monde   \n",
       "100  1718  2024-06-08             Le livre d'heures d'Isabeau de Roubaix   \n",
       "101  1719  2024-06-08  Ensemble Tormis : musique à l'époque d'Isabeau...   \n",
       "102  1720  2024-06-08                            Le monde des manuscrits   \n",
       "103  1721  2024-06-08              Trésors du Patrimoine et des Archives   \n",
       "104  1722  2024-06-09                            Le monde des manuscrits   \n",
       "105  1723  2024-06-09              Trésors du Patrimoine et des Archives   \n",
       "106  1724  2024-06-12                                             Vyznam   \n",
       "110  1728  2024-06-16                            Percussions corporelles   \n",
       "133  1846  2024-09-21              Trésors du Patrimoine et des Archives   \n",
       "134  1847  2024-09-21               L'histoire du sport, un jeu d'enfant   \n",
       "135  1848  2024-09-21  En long et en large, des équipements pour le s...   \n",
       "136  1849  2024-09-21              Trésors du Patrimoine et des Archives   \n",
       "137  1850  2024-09-21               L'histoire du sport, un jeu d'enfant   \n",
       "146  1859  2024-10-05                       Ma salle de bain Zéro Déchet   \n",
       "147  1860  2024-10-05                            Les racontées musicales   \n",
       "148  1861  2024-10-05                             La pollution plastique   \n",
       "149  1862  2024-10-06                                    Science et jeux   \n",
       "150  1863  2024-10-06                           Arête - Mathilde Bensaïd   \n",
       "153  1866  2024-10-12                             Les contes du Blaireau   \n",
       "154  1867  2024-10-12                                   Veillée musicale   \n",
       "157  1870  2024-10-12                                            Atelier   \n",
       "158  1871  2024-10-12                                            Visites   \n",
       "159  1872  2024-10-12            La femme sauvage - cie Cendres la rouge   \n",
       "160  1873  2024-10-13                       La petite fabrique du pop-up   \n",
       "161  1874  2024-10-13                                  Jeux fantastiques   \n",
       "177  1890  2024-11-15                                   Queerying Nature   \n",
       "179  1892  2024-11-16                               Conférence Citéphilo   \n",
       "200  1913  2024-12-06             Carte blanche aux étudiants de l'ESAAT   \n",
       "202  1915  2024-12-07             Carte blanche aux étudiants de l'ESAAT   \n",
       "203  1916  2024-12-08             Carte blanche aux étudiants de l'ESAAT   \n",
       "\n",
       "                       lieu                  type          public  \\\n",
       "6                Espace RDC        Lecture/contes         Enfants   \n",
       "7    Salle d'heure du conte        Lecture/contes         Enfants   \n",
       "8                  La criée        Lecture/contes        Familles   \n",
       "9                Espace RDC        Lecture/contes     Tout public   \n",
       "10               Espace RDC               Atelier     Tout public   \n",
       "11                 La criée        Lecture/contes     Tout public   \n",
       "18                 La criée  Rencontre/conférence         Adultes   \n",
       "23   Salle d'heure du conte        Lecture/contes         Enfants   \n",
       "25          Espace Jeunesse               Concert         Enfants   \n",
       "26   Salle d'heure du conte        Lecture/contes         Enfants   \n",
       "48               Espace Rdc             Spectacle     Tout public   \n",
       "54                 La criée                 Autre         Adultes   \n",
       "56               Espace RDC                  Jeux     Tout public   \n",
       "85                 La criée  Rencontre/conférence         Adultes   \n",
       "91                 La criée               Atelier         Enfants   \n",
       "92        Espace multimédia               Atelier         Adultes   \n",
       "93                Salle VDM          Club lecture         Adultes   \n",
       "94                 La criée             Spectacle     Tout public   \n",
       "96               Espace RDC                  Jeux     Tout public   \n",
       "97     Toute la médiathèque               Concert     Tout public   \n",
       "100                La criée  Rencontre/conférence         Adultes   \n",
       "101        Espace 1er étage               Concert     Tout public   \n",
       "102           Salle d'étude               Atelier     Tout public   \n",
       "103                La criée                 Autre     Tout public   \n",
       "104                La criée               Atelier     Tout public   \n",
       "105                La criée                 Autre     Tout public   \n",
       "106                La criée             Spectacle     Tout public   \n",
       "110                La criée               Atelier     Tout public   \n",
       "133           Salle d'étude            Exposition         Adultes   \n",
       "134           Salle d'étude               Atelier         Enfants   \n",
       "135                La criée  Rencontre/conférence         Adultes   \n",
       "136                La criée            Exposition         Adultes   \n",
       "137                La criée               Atelier         Enfants   \n",
       "146                La criée               Atelier     Tout public   \n",
       "147  Salle d'heure du conte        Lecture/contes  Petite enfance   \n",
       "148                La criée  Rencontre/conférence         Adultes   \n",
       "149              Espace RDC                  Jeux     Tout public   \n",
       "150                La criée             Spectacle         Enfants   \n",
       "153  Salle d'heure du conte        Lecture/contes         Enfants   \n",
       "154         Espace Jeunesse               Concert         Enfants   \n",
       "157              Espace RDC               Atelier     Tout public   \n",
       "158    Toute la médiathèque                 Autre         Adultes   \n",
       "159                La criée             Spectacle     Tout public   \n",
       "160                La criée               Atelier     Tout public   \n",
       "161              Espace RDC                  Jeux     Tout public   \n",
       "177                La criée  Projection/diffusion         Adultes   \n",
       "179                La criée  Rencontre/conférence         Adultes   \n",
       "200                La criée            Exposition     Tout public   \n",
       "202                La criée            Exposition     Tout public   \n",
       "203                La criée            Exposition     Tout public   \n",
       "\n",
       "         partenariat  participants  jauge  \\\n",
       "6               None          25.0    NaN   \n",
       "7               None          17.0    NaN   \n",
       "8               None          39.0    NaN   \n",
       "9               None          26.0    NaN   \n",
       "10              None          28.0    NaN   \n",
       "11              None          25.0    NaN   \n",
       "18              None           7.0    NaN   \n",
       "23              None          28.0    NaN   \n",
       "25              None          65.0    NaN   \n",
       "26              None         110.0    NaN   \n",
       "48              None          80.0    NaN   \n",
       "54              None          41.0    NaN   \n",
       "56              None          25.0    NaN   \n",
       "85              None          23.0    NaN   \n",
       "91              None          36.0    NaN   \n",
       "92              None           9.0    NaN   \n",
       "93              None          15.0    NaN   \n",
       "94              None         110.0    NaN   \n",
       "96              None          50.0    NaN   \n",
       "97              None           NaN    NaN   \n",
       "100             None          41.0    NaN   \n",
       "101             None          45.0    NaN   \n",
       "102             None          50.0    NaN   \n",
       "103             None           8.0    NaN   \n",
       "104             None          13.0    NaN   \n",
       "105             None           6.0    NaN   \n",
       "106             None          45.0    NaN   \n",
       "110             None          17.0    NaN   \n",
       "133             None          30.0   10.0   \n",
       "134             None          71.0   50.0   \n",
       "135  François Vergin           3.0   50.0   \n",
       "136             None          10.0   10.0   \n",
       "137             None          18.0   50.0   \n",
       "146             None          12.0   15.0   \n",
       "147             None          34.0   40.0   \n",
       "148             None           3.0   50.0   \n",
       "149             None          18.0   35.0   \n",
       "150             None          53.0   50.0   \n",
       "153             None          12.0   25.0   \n",
       "154             None          85.0   60.0   \n",
       "157             None          65.0   50.0   \n",
       "158             None          32.0   30.0   \n",
       "159             None          53.0   60.0   \n",
       "160             None          60.0   40.0   \n",
       "161             None          20.0   20.0   \n",
       "177             None          45.0   50.0   \n",
       "179        Citéphilo          42.0   50.0   \n",
       "200             None          15.0   40.0   \n",
       "202             None          30.0   40.0   \n",
       "203             None          20.0   40.0   \n",
       "\n",
       "                                   evenement                     notes  \\\n",
       "6                        Nuits de la lecture                      None   \n",
       "7                        Nuits de la lecture   10 enfants et 7 adultes   \n",
       "8                        Nuits de la lecture                      None   \n",
       "9                        Nuits de la lecture                      None   \n",
       "10                       Nuits de la lecture                      None   \n",
       "11                       Nuits de la lecture                      None   \n",
       "18                        Week-end des bébés                      None   \n",
       "23                        Week-end des bébés  14 enfants et 14 adultes   \n",
       "25                        Week-end des bébés                      None   \n",
       "26                        Week-end des bébés                      None   \n",
       "48                      Printemps des poètes                      None   \n",
       "54   Semaine Langue française & francophonie                      None   \n",
       "56   Semaine Langue française & francophonie                      None   \n",
       "85              Regards sur : Mélanie Rutten                      None   \n",
       "91              Regards sur : Mélanie Rutten  17 enfants et 19 adultes   \n",
       "92              Regards sur : Mélanie Rutten                      None   \n",
       "93              Regards sur : Mélanie Rutten                      None   \n",
       "94              Regards sur : Mélanie Rutten                      None   \n",
       "96                  Ducasse à La Grand-Plage                      None   \n",
       "97                  Ducasse à La Grand-Plage                      None   \n",
       "100           À la découverte des manuscrits                      None   \n",
       "101           À la découverte des manuscrits                      None   \n",
       "102           À la découverte des manuscrits                      None   \n",
       "103           À la découverte des manuscrits                      None   \n",
       "104           À la découverte des manuscrits                      None   \n",
       "105           À la découverte des manuscrits                      None   \n",
       "106                            Festival URBX                      None   \n",
       "110                            Festival URBX                      None   \n",
       "133                                      JEP                      None   \n",
       "134                                      JEP                      None   \n",
       "135                                      JEP                      None   \n",
       "136                                      JEP                      None   \n",
       "137                                      JEP                      None   \n",
       "146                       Fête de la science                      None   \n",
       "147                       Fête de la science  15 adultes et 19 enfants   \n",
       "148                       Fête de la science                      None   \n",
       "149                       Fête de la science                      None   \n",
       "150                       Fête de la science  21 adultes et 32 enfants   \n",
       "153                   Nuit des bibliothèques                      None   \n",
       "154                   Nuit des bibliothèques  40 adultes et 45 enfants   \n",
       "157                   Nuit des bibliothèques                      None   \n",
       "158                   Nuit des bibliothèques                      None   \n",
       "159                   Nuit des bibliothèques                      None   \n",
       "160                   Nuit des bibliothèques                      None   \n",
       "161                   Nuit des bibliothèques                      None   \n",
       "177                Mois du film documentaire                      None   \n",
       "179                   Temps fort Transitions                      None   \n",
       "200                   Temps fort Transitions                      None   \n",
       "202                   Temps fort Transitions                      None   \n",
       "203                   Temps fort Transitions                      None   \n",
       "\n",
       "       public_sll  nb_actions                           type_sll  \n",
       "6         Enfants           1  Fêtes, salons du livre, festivals  \n",
       "7         Enfants           1  Fêtes, salons du livre, festivals  \n",
       "8    Tous publics           1  Fêtes, salons du livre, festivals  \n",
       "9    Tous publics           1  Fêtes, salons du livre, festivals  \n",
       "10   Tous publics           1  Fêtes, salons du livre, festivals  \n",
       "11   Tous publics           1  Fêtes, salons du livre, festivals  \n",
       "18   Tous publics           1  Fêtes, salons du livre, festivals  \n",
       "23        Enfants           1  Fêtes, salons du livre, festivals  \n",
       "25        Enfants           1  Fêtes, salons du livre, festivals  \n",
       "26        Enfants           1  Fêtes, salons du livre, festivals  \n",
       "48   Tous publics           1  Fêtes, salons du livre, festivals  \n",
       "54   Tous publics           1  Fêtes, salons du livre, festivals  \n",
       "56   Tous publics           1  Fêtes, salons du livre, festivals  \n",
       "85   Tous publics           1  Fêtes, salons du livre, festivals  \n",
       "91        Enfants           1  Fêtes, salons du livre, festivals  \n",
       "92   Tous publics           1  Fêtes, salons du livre, festivals  \n",
       "93   Tous publics           1  Fêtes, salons du livre, festivals  \n",
       "94   Tous publics           1  Fêtes, salons du livre, festivals  \n",
       "96   Tous publics           1  Fêtes, salons du livre, festivals  \n",
       "97   Tous publics           1  Fêtes, salons du livre, festivals  \n",
       "100  Tous publics           1  Fêtes, salons du livre, festivals  \n",
       "101  Tous publics           1  Fêtes, salons du livre, festivals  \n",
       "102  Tous publics           1  Fêtes, salons du livre, festivals  \n",
       "103  Tous publics           1  Fêtes, salons du livre, festivals  \n",
       "104  Tous publics           1  Fêtes, salons du livre, festivals  \n",
       "105  Tous publics           1  Fêtes, salons du livre, festivals  \n",
       "106  Tous publics           1  Fêtes, salons du livre, festivals  \n",
       "110  Tous publics           1  Fêtes, salons du livre, festivals  \n",
       "133  Tous publics           1  Fêtes, salons du livre, festivals  \n",
       "134       Enfants           1  Fêtes, salons du livre, festivals  \n",
       "135  Tous publics           1  Fêtes, salons du livre, festivals  \n",
       "136  Tous publics           1  Fêtes, salons du livre, festivals  \n",
       "137       Enfants           1  Fêtes, salons du livre, festivals  \n",
       "146  Tous publics           1  Fêtes, salons du livre, festivals  \n",
       "147       Enfants           1  Fêtes, salons du livre, festivals  \n",
       "148  Tous publics           1  Fêtes, salons du livre, festivals  \n",
       "149  Tous publics           1  Fêtes, salons du livre, festivals  \n",
       "150       Enfants           1  Fêtes, salons du livre, festivals  \n",
       "153       Enfants           1  Fêtes, salons du livre, festivals  \n",
       "154       Enfants           1  Fêtes, salons du livre, festivals  \n",
       "157  Tous publics           1  Fêtes, salons du livre, festivals  \n",
       "158  Tous publics           1  Fêtes, salons du livre, festivals  \n",
       "159  Tous publics           1  Fêtes, salons du livre, festivals  \n",
       "160  Tous publics           1  Fêtes, salons du livre, festivals  \n",
       "161  Tous publics           1  Fêtes, salons du livre, festivals  \n",
       "177  Tous publics           1  Fêtes, salons du livre, festivals  \n",
       "179  Tous publics           1  Fêtes, salons du livre, festivals  \n",
       "200  Tous publics           1  Fêtes, salons du livre, festivals  \n",
       "202  Tous publics           1  Fêtes, salons du livre, festivals  \n",
       "203  Tous publics           1  Fêtes, salons du livre, festivals  "
      ]
     },
     "execution_count": 126,
     "metadata": {},
     "output_type": "execute_result"
    }
   ],
   "source": [
    "ac_2023[ac_2023['type_sll']=='Fêtes, salons du livre, festivals']"
   ]
  },
  {
   "cell_type": "markdown",
   "id": "13af17f2",
   "metadata": {},
   "source": [
    "### H428 - Autres"
   ]
  },
  {
   "cell_type": "code",
   "execution_count": 127,
   "id": "e1668fba",
   "metadata": {},
   "outputs": [],
   "source": [
    "ac_2023.loc[(ac_2023['type']=='Autre',['type_sll'])] = 'Autre'"
   ]
  },
  {
   "cell_type": "code",
   "execution_count": 128,
   "id": "970c65ea",
   "metadata": {},
   "outputs": [
    {
     "data": {
      "text/plain": [
       "5"
      ]
     },
     "execution_count": 128,
     "metadata": {},
     "output_type": "execute_result"
    }
   ],
   "source": [
    "len(ac_2023[(ac_2023['type']=='Autre')&\n",
    "        (ac_2023['public']=='Tout public')\n",
    "       ]\n",
    "   )"
   ]
  },
  {
   "cell_type": "code",
   "execution_count": 129,
   "id": "e8e97eb8",
   "metadata": {},
   "outputs": [
    {
     "data": {
      "text/plain": [
       "1"
      ]
     },
     "execution_count": 129,
     "metadata": {},
     "output_type": "execute_result"
    }
   ],
   "source": [
    "len(ac_2023[(ac_2023['type']=='Autre')&\n",
    "        (ac_2023['public']=='Enfants')\n",
    "       ]\n",
    "   )"
   ]
  },
  {
   "cell_type": "code",
   "execution_count": 130,
   "id": "18c247e6",
   "metadata": {},
   "outputs": [
    {
     "data": {
      "text/html": [
       "<div>\n",
       "<style scoped>\n",
       "    .dataframe tbody tr th:only-of-type {\n",
       "        vertical-align: middle;\n",
       "    }\n",
       "\n",
       "    .dataframe tbody tr th {\n",
       "        vertical-align: top;\n",
       "    }\n",
       "\n",
       "    .dataframe thead th {\n",
       "        text-align: right;\n",
       "    }\n",
       "</style>\n",
       "<table border=\"1\" class=\"dataframe\">\n",
       "  <thead>\n",
       "    <tr style=\"text-align: right;\">\n",
       "      <th></th>\n",
       "      <th>id</th>\n",
       "      <th>date</th>\n",
       "      <th>action</th>\n",
       "      <th>lieu</th>\n",
       "      <th>type</th>\n",
       "      <th>public</th>\n",
       "      <th>partenariat</th>\n",
       "      <th>participants</th>\n",
       "      <th>jauge</th>\n",
       "      <th>evenement</th>\n",
       "      <th>notes</th>\n",
       "      <th>public_sll</th>\n",
       "      <th>nb_actions</th>\n",
       "      <th>type_sll</th>\n",
       "    </tr>\n",
       "  </thead>\n",
       "  <tbody>\n",
       "    <tr>\n",
       "      <th>52</th>\n",
       "      <td>1665</td>\n",
       "      <td>2024-03-23</td>\n",
       "      <td>Speed-dating patrimonial</td>\n",
       "      <td>Magasins</td>\n",
       "      <td>Autre</td>\n",
       "      <td>Adultes</td>\n",
       "      <td>None</td>\n",
       "      <td>14.0</td>\n",
       "      <td>NaN</td>\n",
       "      <td>None</td>\n",
       "      <td>None</td>\n",
       "      <td>Tous publics</td>\n",
       "      <td>1</td>\n",
       "      <td>Autre</td>\n",
       "    </tr>\n",
       "    <tr>\n",
       "      <th>54</th>\n",
       "      <td>1667</td>\n",
       "      <td>2024-03-23</td>\n",
       "      <td>Dictée</td>\n",
       "      <td>La criée</td>\n",
       "      <td>Autre</td>\n",
       "      <td>Adultes</td>\n",
       "      <td>None</td>\n",
       "      <td>41.0</td>\n",
       "      <td>NaN</td>\n",
       "      <td>Semaine Langue française &amp; francophonie</td>\n",
       "      <td>None</td>\n",
       "      <td>Tous publics</td>\n",
       "      <td>1</td>\n",
       "      <td>Autre</td>\n",
       "    </tr>\n",
       "    <tr>\n",
       "      <th>79</th>\n",
       "      <td>1692</td>\n",
       "      <td>2024-05-12</td>\n",
       "      <td>Vide dressing</td>\n",
       "      <td>La criée</td>\n",
       "      <td>Autre</td>\n",
       "      <td>Tout public</td>\n",
       "      <td>Do it Céline Caffè</td>\n",
       "      <td>35.0</td>\n",
       "      <td>NaN</td>\n",
       "      <td>None</td>\n",
       "      <td>None</td>\n",
       "      <td>Tous publics</td>\n",
       "      <td>1</td>\n",
       "      <td>Autre</td>\n",
       "    </tr>\n",
       "    <tr>\n",
       "      <th>103</th>\n",
       "      <td>1721</td>\n",
       "      <td>2024-06-08</td>\n",
       "      <td>Trésors du Patrimoine et des Archives</td>\n",
       "      <td>La criée</td>\n",
       "      <td>Autre</td>\n",
       "      <td>Tout public</td>\n",
       "      <td>None</td>\n",
       "      <td>8.0</td>\n",
       "      <td>NaN</td>\n",
       "      <td>À la découverte des manuscrits</td>\n",
       "      <td>None</td>\n",
       "      <td>Tous publics</td>\n",
       "      <td>1</td>\n",
       "      <td>Autre</td>\n",
       "    </tr>\n",
       "    <tr>\n",
       "      <th>105</th>\n",
       "      <td>1723</td>\n",
       "      <td>2024-06-09</td>\n",
       "      <td>Trésors du Patrimoine et des Archives</td>\n",
       "      <td>La criée</td>\n",
       "      <td>Autre</td>\n",
       "      <td>Tout public</td>\n",
       "      <td>None</td>\n",
       "      <td>6.0</td>\n",
       "      <td>NaN</td>\n",
       "      <td>À la découverte des manuscrits</td>\n",
       "      <td>None</td>\n",
       "      <td>Tous publics</td>\n",
       "      <td>1</td>\n",
       "      <td>Autre</td>\n",
       "    </tr>\n",
       "    <tr>\n",
       "      <th>139</th>\n",
       "      <td>1852</td>\n",
       "      <td>2024-09-28</td>\n",
       "      <td>Grande braderie de La Grand-Plage</td>\n",
       "      <td>Espace RDC</td>\n",
       "      <td>Autre</td>\n",
       "      <td>Tout public</td>\n",
       "      <td>None</td>\n",
       "      <td>0.0</td>\n",
       "      <td>NaN</td>\n",
       "      <td>None</td>\n",
       "      <td>None</td>\n",
       "      <td>Tous publics</td>\n",
       "      <td>1</td>\n",
       "      <td>Autre</td>\n",
       "    </tr>\n",
       "    <tr>\n",
       "      <th>140</th>\n",
       "      <td>1853</td>\n",
       "      <td>2024-09-29</td>\n",
       "      <td>Vide dressing</td>\n",
       "      <td>Espace RDC</td>\n",
       "      <td>Autre</td>\n",
       "      <td>Tout public</td>\n",
       "      <td>Do It Céline Caffè</td>\n",
       "      <td>60.0</td>\n",
       "      <td>50.0</td>\n",
       "      <td>None</td>\n",
       "      <td>None</td>\n",
       "      <td>Tous publics</td>\n",
       "      <td>1</td>\n",
       "      <td>Autre</td>\n",
       "    </tr>\n",
       "    <tr>\n",
       "      <th>158</th>\n",
       "      <td>1871</td>\n",
       "      <td>2024-10-12</td>\n",
       "      <td>Visites</td>\n",
       "      <td>Toute la médiathèque</td>\n",
       "      <td>Autre</td>\n",
       "      <td>Adultes</td>\n",
       "      <td>None</td>\n",
       "      <td>32.0</td>\n",
       "      <td>30.0</td>\n",
       "      <td>Nuit des bibliothèques</td>\n",
       "      <td>None</td>\n",
       "      <td>Tous publics</td>\n",
       "      <td>1</td>\n",
       "      <td>Autre</td>\n",
       "    </tr>\n",
       "    <tr>\n",
       "      <th>167</th>\n",
       "      <td>1880</td>\n",
       "      <td>2024-10-19</td>\n",
       "      <td>Graines de philo enfant</td>\n",
       "      <td>Salle d'heure du conte</td>\n",
       "      <td>Autre</td>\n",
       "      <td>Enfants</td>\n",
       "      <td>None</td>\n",
       "      <td>15.0</td>\n",
       "      <td>15.0</td>\n",
       "      <td>None</td>\n",
       "      <td>None</td>\n",
       "      <td>Enfants</td>\n",
       "      <td>1</td>\n",
       "      <td>Autre</td>\n",
       "    </tr>\n",
       "    <tr>\n",
       "      <th>176</th>\n",
       "      <td>1889</td>\n",
       "      <td>2024-11-10</td>\n",
       "      <td>Karaoké en famille</td>\n",
       "      <td>La criée</td>\n",
       "      <td>Autre</td>\n",
       "      <td>Familles</td>\n",
       "      <td>None</td>\n",
       "      <td>64.0</td>\n",
       "      <td>40.0</td>\n",
       "      <td>None</td>\n",
       "      <td>None</td>\n",
       "      <td>Tous publics</td>\n",
       "      <td>1</td>\n",
       "      <td>Autre</td>\n",
       "    </tr>\n",
       "    <tr>\n",
       "      <th>195</th>\n",
       "      <td>1908</td>\n",
       "      <td>2024-11-30</td>\n",
       "      <td>Graines de philo adulte</td>\n",
       "      <td>Espace RDC</td>\n",
       "      <td>Autre</td>\n",
       "      <td>Adultes</td>\n",
       "      <td>None</td>\n",
       "      <td>4.0</td>\n",
       "      <td>10.0</td>\n",
       "      <td>None</td>\n",
       "      <td>None</td>\n",
       "      <td>Tous publics</td>\n",
       "      <td>1</td>\n",
       "      <td>Autre</td>\n",
       "    </tr>\n",
       "  </tbody>\n",
       "</table>\n",
       "</div>"
      ],
      "text/plain": [
       "       id        date                                 action  \\\n",
       "52   1665  2024-03-23               Speed-dating patrimonial   \n",
       "54   1667  2024-03-23                                 Dictée   \n",
       "79   1692  2024-05-12                          Vide dressing   \n",
       "103  1721  2024-06-08  Trésors du Patrimoine et des Archives   \n",
       "105  1723  2024-06-09  Trésors du Patrimoine et des Archives   \n",
       "139  1852  2024-09-28      Grande braderie de La Grand-Plage   \n",
       "140  1853  2024-09-29                          Vide dressing   \n",
       "158  1871  2024-10-12                                Visites   \n",
       "167  1880  2024-10-19                Graines de philo enfant   \n",
       "176  1889  2024-11-10                     Karaoké en famille   \n",
       "195  1908  2024-11-30                Graines de philo adulte   \n",
       "\n",
       "                       lieu   type       public         partenariat  \\\n",
       "52                 Magasins  Autre      Adultes                None   \n",
       "54                 La criée  Autre      Adultes                None   \n",
       "79                 La criée  Autre  Tout public  Do it Céline Caffè   \n",
       "103                La criée  Autre  Tout public                None   \n",
       "105                La criée  Autre  Tout public                None   \n",
       "139              Espace RDC  Autre  Tout public                None   \n",
       "140              Espace RDC  Autre  Tout public  Do It Céline Caffè   \n",
       "158    Toute la médiathèque  Autre      Adultes                None   \n",
       "167  Salle d'heure du conte  Autre      Enfants                None   \n",
       "176                La criée  Autre     Familles                None   \n",
       "195              Espace RDC  Autre      Adultes                None   \n",
       "\n",
       "     participants  jauge                                evenement notes  \\\n",
       "52           14.0    NaN                                     None  None   \n",
       "54           41.0    NaN  Semaine Langue française & francophonie  None   \n",
       "79           35.0    NaN                                     None  None   \n",
       "103           8.0    NaN           À la découverte des manuscrits  None   \n",
       "105           6.0    NaN           À la découverte des manuscrits  None   \n",
       "139           0.0    NaN                                     None  None   \n",
       "140          60.0   50.0                                     None  None   \n",
       "158          32.0   30.0                   Nuit des bibliothèques  None   \n",
       "167          15.0   15.0                                     None  None   \n",
       "176          64.0   40.0                                     None  None   \n",
       "195           4.0   10.0                                     None  None   \n",
       "\n",
       "       public_sll  nb_actions type_sll  \n",
       "52   Tous publics           1    Autre  \n",
       "54   Tous publics           1    Autre  \n",
       "79   Tous publics           1    Autre  \n",
       "103  Tous publics           1    Autre  \n",
       "105  Tous publics           1    Autre  \n",
       "139  Tous publics           1    Autre  \n",
       "140  Tous publics           1    Autre  \n",
       "158  Tous publics           1    Autre  \n",
       "167       Enfants           1    Autre  \n",
       "176  Tous publics           1    Autre  \n",
       "195  Tous publics           1    Autre  "
      ]
     },
     "execution_count": 130,
     "metadata": {},
     "output_type": "execute_result"
    }
   ],
   "source": [
    "ac_2023[ac_2023['type_sll']=='Autre']"
   ]
  },
  {
   "cell_type": "markdown",
   "id": "7fdfa68a",
   "metadata": {},
   "source": [
    "### Formations au public"
   ]
  },
  {
   "cell_type": "code",
   "execution_count": 131,
   "id": "681673c6",
   "metadata": {},
   "outputs": [
    {
     "data": {
      "text/html": [
       "<div>\n",
       "<style scoped>\n",
       "    .dataframe tbody tr th:only-of-type {\n",
       "        vertical-align: middle;\n",
       "    }\n",
       "\n",
       "    .dataframe tbody tr th {\n",
       "        vertical-align: top;\n",
       "    }\n",
       "\n",
       "    .dataframe thead th {\n",
       "        text-align: right;\n",
       "    }\n",
       "</style>\n",
       "<table border=\"1\" class=\"dataframe\">\n",
       "  <thead>\n",
       "    <tr style=\"text-align: right;\">\n",
       "      <th></th>\n",
       "      <th>id</th>\n",
       "      <th>date</th>\n",
       "      <th>action</th>\n",
       "      <th>lieu</th>\n",
       "      <th>type</th>\n",
       "      <th>public</th>\n",
       "      <th>partenariat</th>\n",
       "      <th>participants</th>\n",
       "      <th>jauge</th>\n",
       "      <th>evenement</th>\n",
       "      <th>notes</th>\n",
       "      <th>public_sll</th>\n",
       "      <th>nb_actions</th>\n",
       "      <th>type_sll</th>\n",
       "    </tr>\n",
       "  </thead>\n",
       "  <tbody>\n",
       "    <tr>\n",
       "      <th>3</th>\n",
       "      <td>1616</td>\n",
       "      <td>2024-01-14</td>\n",
       "      <td>Tricot des Lulus</td>\n",
       "      <td>La criée</td>\n",
       "      <td>Atelier</td>\n",
       "      <td>Tout public</td>\n",
       "      <td>None</td>\n",
       "      <td>22.0</td>\n",
       "      <td>20.0</td>\n",
       "      <td>None</td>\n",
       "      <td>None</td>\n",
       "      <td>Tous publics</td>\n",
       "      <td>1</td>\n",
       "      <td>NaN</td>\n",
       "    </tr>\n",
       "    <tr>\n",
       "      <th>4</th>\n",
       "      <td>1617</td>\n",
       "      <td>2024-01-16</td>\n",
       "      <td>Atelier informatique pour débutants</td>\n",
       "      <td>Espace multimédia</td>\n",
       "      <td>Atelier</td>\n",
       "      <td>Adultes</td>\n",
       "      <td>None</td>\n",
       "      <td>10.0</td>\n",
       "      <td>12.0</td>\n",
       "      <td>None</td>\n",
       "      <td>None</td>\n",
       "      <td>Tous publics</td>\n",
       "      <td>1</td>\n",
       "      <td>NaN</td>\n",
       "    </tr>\n",
       "    <tr>\n",
       "      <th>5</th>\n",
       "      <td>1618</td>\n",
       "      <td>2024-01-19</td>\n",
       "      <td>Radio à La Grand-Plage</td>\n",
       "      <td>Salle VDM</td>\n",
       "      <td>Atelier</td>\n",
       "      <td>Adultes</td>\n",
       "      <td>None</td>\n",
       "      <td>15.0</td>\n",
       "      <td>10.0</td>\n",
       "      <td>None</td>\n",
       "      <td>None</td>\n",
       "      <td>Tous publics</td>\n",
       "      <td>1</td>\n",
       "      <td>NaN</td>\n",
       "    </tr>\n",
       "    <tr>\n",
       "      <th>10</th>\n",
       "      <td>1623</td>\n",
       "      <td>2024-01-21</td>\n",
       "      <td>Le corps fait son cinéma !</td>\n",
       "      <td>Espace RDC</td>\n",
       "      <td>Atelier</td>\n",
       "      <td>Tout public</td>\n",
       "      <td>None</td>\n",
       "      <td>28.0</td>\n",
       "      <td>NaN</td>\n",
       "      <td>Nuits de la lecture</td>\n",
       "      <td>None</td>\n",
       "      <td>Tous publics</td>\n",
       "      <td>1</td>\n",
       "      <td>Fêtes, salons du livre, festivals</td>\n",
       "    </tr>\n",
       "    <tr>\n",
       "      <th>12</th>\n",
       "      <td>1625</td>\n",
       "      <td>2024-01-24</td>\n",
       "      <td>Dans tes rêves</td>\n",
       "      <td>La criée</td>\n",
       "      <td>Atelier</td>\n",
       "      <td>Enfants</td>\n",
       "      <td>La Condition Publique</td>\n",
       "      <td>45.0</td>\n",
       "      <td>NaN</td>\n",
       "      <td>None</td>\n",
       "      <td>None</td>\n",
       "      <td>Enfants</td>\n",
       "      <td>1</td>\n",
       "      <td>NaN</td>\n",
       "    </tr>\n",
       "    <tr>\n",
       "      <th>...</th>\n",
       "      <td>...</td>\n",
       "      <td>...</td>\n",
       "      <td>...</td>\n",
       "      <td>...</td>\n",
       "      <td>...</td>\n",
       "      <td>...</td>\n",
       "      <td>...</td>\n",
       "      <td>...</td>\n",
       "      <td>...</td>\n",
       "      <td>...</td>\n",
       "      <td>...</td>\n",
       "      <td>...</td>\n",
       "      <td>...</td>\n",
       "      <td>...</td>\n",
       "    </tr>\n",
       "    <tr>\n",
       "      <th>199</th>\n",
       "      <td>1912</td>\n",
       "      <td>2024-12-06</td>\n",
       "      <td>Radio à La Grand-Plage</td>\n",
       "      <td>Salle VDM</td>\n",
       "      <td>Atelier</td>\n",
       "      <td>Adultes</td>\n",
       "      <td>None</td>\n",
       "      <td>10.0</td>\n",
       "      <td>15.0</td>\n",
       "      <td>None</td>\n",
       "      <td>None</td>\n",
       "      <td>Tous publics</td>\n",
       "      <td>1</td>\n",
       "      <td>NaN</td>\n",
       "    </tr>\n",
       "    <tr>\n",
       "      <th>206</th>\n",
       "      <td>1919</td>\n",
       "      <td>2024-12-13</td>\n",
       "      <td>Radio à La Grand-Plage</td>\n",
       "      <td>Salle VDM</td>\n",
       "      <td>Atelier</td>\n",
       "      <td>Adultes</td>\n",
       "      <td>None</td>\n",
       "      <td>8.0</td>\n",
       "      <td>15.0</td>\n",
       "      <td>None</td>\n",
       "      <td>None</td>\n",
       "      <td>Tous publics</td>\n",
       "      <td>1</td>\n",
       "      <td>NaN</td>\n",
       "    </tr>\n",
       "    <tr>\n",
       "      <th>211</th>\n",
       "      <td>1924</td>\n",
       "      <td>2024-12-15</td>\n",
       "      <td>Mon maquillage Zéro Déchet pour les fêtes !</td>\n",
       "      <td>La criée</td>\n",
       "      <td>Atelier</td>\n",
       "      <td>Tout public</td>\n",
       "      <td>None</td>\n",
       "      <td>18.0</td>\n",
       "      <td>20.0</td>\n",
       "      <td>None</td>\n",
       "      <td>None</td>\n",
       "      <td>Tous publics</td>\n",
       "      <td>1</td>\n",
       "      <td>NaN</td>\n",
       "    </tr>\n",
       "    <tr>\n",
       "      <th>213</th>\n",
       "      <td>1926</td>\n",
       "      <td>2024-12-20</td>\n",
       "      <td>Radio à La Grand-Plage</td>\n",
       "      <td>Salle VDM</td>\n",
       "      <td>Atelier</td>\n",
       "      <td>Adultes</td>\n",
       "      <td>None</td>\n",
       "      <td>4.0</td>\n",
       "      <td>15.0</td>\n",
       "      <td>None</td>\n",
       "      <td>None</td>\n",
       "      <td>Tous publics</td>\n",
       "      <td>1</td>\n",
       "      <td>NaN</td>\n",
       "    </tr>\n",
       "    <tr>\n",
       "      <th>214</th>\n",
       "      <td>1927</td>\n",
       "      <td>2024-12-21</td>\n",
       "      <td>Atelier de conversation en français</td>\n",
       "      <td>Salle VDM</td>\n",
       "      <td>Atelier</td>\n",
       "      <td>Adultes</td>\n",
       "      <td>None</td>\n",
       "      <td>7.0</td>\n",
       "      <td>10.0</td>\n",
       "      <td>None</td>\n",
       "      <td>None</td>\n",
       "      <td>Tous publics</td>\n",
       "      <td>1</td>\n",
       "      <td>NaN</td>\n",
       "    </tr>\n",
       "  </tbody>\n",
       "</table>\n",
       "<p>68 rows × 14 columns</p>\n",
       "</div>"
      ],
      "text/plain": [
       "       id        date                                       action  \\\n",
       "3    1616  2024-01-14                             Tricot des Lulus   \n",
       "4    1617  2024-01-16          Atelier informatique pour débutants   \n",
       "5    1618  2024-01-19                       Radio à La Grand-Plage   \n",
       "10   1623  2024-01-21                   Le corps fait son cinéma !   \n",
       "12   1625  2024-01-24                               Dans tes rêves   \n",
       "..    ...         ...                                          ...   \n",
       "199  1912  2024-12-06                       Radio à La Grand-Plage   \n",
       "206  1919  2024-12-13                       Radio à La Grand-Plage   \n",
       "211  1924  2024-12-15  Mon maquillage Zéro Déchet pour les fêtes !   \n",
       "213  1926  2024-12-20                       Radio à La Grand-Plage   \n",
       "214  1927  2024-12-21          Atelier de conversation en français   \n",
       "\n",
       "                  lieu     type       public            partenariat  \\\n",
       "3             La criée  Atelier  Tout public                   None   \n",
       "4    Espace multimédia  Atelier      Adultes                   None   \n",
       "5            Salle VDM  Atelier      Adultes                   None   \n",
       "10          Espace RDC  Atelier  Tout public                   None   \n",
       "12            La criée  Atelier      Enfants  La Condition Publique   \n",
       "..                 ...      ...          ...                    ...   \n",
       "199          Salle VDM  Atelier      Adultes                   None   \n",
       "206          Salle VDM  Atelier      Adultes                   None   \n",
       "211           La criée  Atelier  Tout public                   None   \n",
       "213          Salle VDM  Atelier      Adultes                   None   \n",
       "214          Salle VDM  Atelier      Adultes                   None   \n",
       "\n",
       "     participants  jauge            evenement notes    public_sll  nb_actions  \\\n",
       "3            22.0   20.0                 None  None  Tous publics           1   \n",
       "4            10.0   12.0                 None  None  Tous publics           1   \n",
       "5            15.0   10.0                 None  None  Tous publics           1   \n",
       "10           28.0    NaN  Nuits de la lecture  None  Tous publics           1   \n",
       "12           45.0    NaN                 None  None       Enfants           1   \n",
       "..            ...    ...                  ...   ...           ...         ...   \n",
       "199          10.0   15.0                 None  None  Tous publics           1   \n",
       "206           8.0   15.0                 None  None  Tous publics           1   \n",
       "211          18.0   20.0                 None  None  Tous publics           1   \n",
       "213           4.0   15.0                 None  None  Tous publics           1   \n",
       "214           7.0   10.0                 None  None  Tous publics           1   \n",
       "\n",
       "                              type_sll  \n",
       "3                                  NaN  \n",
       "4                                  NaN  \n",
       "5                                  NaN  \n",
       "10   Fêtes, salons du livre, festivals  \n",
       "12                                 NaN  \n",
       "..                                 ...  \n",
       "199                                NaN  \n",
       "206                                NaN  \n",
       "211                                NaN  \n",
       "213                                NaN  \n",
       "214                                NaN  \n",
       "\n",
       "[68 rows x 14 columns]"
      ]
     },
     "execution_count": 131,
     "metadata": {},
     "output_type": "execute_result"
    }
   ],
   "source": [
    "ac_2023[ac_2023['type']=='Atelier']"
   ]
  },
  {
   "cell_type": "code",
   "execution_count": 132,
   "id": "da696082",
   "metadata": {},
   "outputs": [
    {
     "data": {
      "text/html": [
       "<div>\n",
       "<style scoped>\n",
       "    .dataframe tbody tr th:only-of-type {\n",
       "        vertical-align: middle;\n",
       "    }\n",
       "\n",
       "    .dataframe tbody tr th {\n",
       "        vertical-align: top;\n",
       "    }\n",
       "\n",
       "    .dataframe thead th {\n",
       "        text-align: right;\n",
       "    }\n",
       "</style>\n",
       "<table border=\"1\" class=\"dataframe\">\n",
       "  <thead>\n",
       "    <tr style=\"text-align: right;\">\n",
       "      <th></th>\n",
       "      <th></th>\n",
       "      <th>nb_actions</th>\n",
       "    </tr>\n",
       "    <tr>\n",
       "      <th>type_sll</th>\n",
       "      <th>public_sll</th>\n",
       "      <th></th>\n",
       "    </tr>\n",
       "  </thead>\n",
       "  <tbody>\n",
       "    <tr>\n",
       "      <th rowspan=\"2\" valign=\"top\">Autre</th>\n",
       "      <th>Enfants</th>\n",
       "      <td>1</td>\n",
       "    </tr>\n",
       "    <tr>\n",
       "      <th>Tous publics</th>\n",
       "      <td>10</td>\n",
       "    </tr>\n",
       "    <tr>\n",
       "      <th>Club lecture</th>\n",
       "      <th>Tous publics</th>\n",
       "      <td>6</td>\n",
       "    </tr>\n",
       "    <tr>\n",
       "      <th rowspan=\"2\" valign=\"top\">Concerts, projections</th>\n",
       "      <th>Enfants</th>\n",
       "      <td>6</td>\n",
       "    </tr>\n",
       "    <tr>\n",
       "      <th>Tous publics</th>\n",
       "      <td>13</td>\n",
       "    </tr>\n",
       "    <tr>\n",
       "      <th>Conférences, rencontres, lectures</th>\n",
       "      <th>Tous publics</th>\n",
       "      <td>24</td>\n",
       "    </tr>\n",
       "    <tr>\n",
       "      <th>Exposition</th>\n",
       "      <th>Tous publics</th>\n",
       "      <td>1</td>\n",
       "    </tr>\n",
       "    <tr>\n",
       "      <th rowspan=\"2\" valign=\"top\">Fêtes, salons du livre, festivals</th>\n",
       "      <th>Enfants</th>\n",
       "      <td>12</td>\n",
       "    </tr>\n",
       "    <tr>\n",
       "      <th>Tous publics</th>\n",
       "      <td>34</td>\n",
       "    </tr>\n",
       "    <tr>\n",
       "      <th rowspan=\"2\" valign=\"top\">Séances de conte</th>\n",
       "      <th>Enfants</th>\n",
       "      <td>9</td>\n",
       "    </tr>\n",
       "    <tr>\n",
       "      <th>Tous publics</th>\n",
       "      <td>3</td>\n",
       "    </tr>\n",
       "  </tbody>\n",
       "</table>\n",
       "</div>"
      ],
      "text/plain": [
       "                                                nb_actions\n",
       "type_sll                          public_sll              \n",
       "Autre                             Enfants                1\n",
       "                                  Tous publics          10\n",
       "Club lecture                      Tous publics           6\n",
       "Concerts, projections             Enfants                6\n",
       "                                  Tous publics          13\n",
       "Conférences, rencontres, lectures Tous publics          24\n",
       "Exposition                        Tous publics           1\n",
       "Fêtes, salons du livre, festivals Enfants               12\n",
       "                                  Tous publics          34\n",
       "Séances de conte                  Enfants                9\n",
       "                                  Tous publics           3"
      ]
     },
     "execution_count": 132,
     "metadata": {},
     "output_type": "execute_result"
    }
   ],
   "source": [
    "ac_2023.pivot_table(index=['type_sll','public_sll'],\n",
    "                    values='nb_actions',\n",
    "                    aggfunc=sum\n",
    "                   )"
   ]
  },
  {
   "cell_type": "code",
   "execution_count": 133,
   "id": "71ecedd2",
   "metadata": {},
   "outputs": [
    {
     "data": {
      "text/html": [
       "<div>\n",
       "<style scoped>\n",
       "    .dataframe tbody tr th:only-of-type {\n",
       "        vertical-align: middle;\n",
       "    }\n",
       "\n",
       "    .dataframe tbody tr th {\n",
       "        vertical-align: top;\n",
       "    }\n",
       "\n",
       "    .dataframe thead th {\n",
       "        text-align: right;\n",
       "    }\n",
       "</style>\n",
       "<table border=\"1\" class=\"dataframe\">\n",
       "  <thead>\n",
       "    <tr style=\"text-align: right;\">\n",
       "      <th></th>\n",
       "      <th>participants</th>\n",
       "    </tr>\n",
       "    <tr>\n",
       "      <th>type_sll</th>\n",
       "      <th></th>\n",
       "    </tr>\n",
       "  </thead>\n",
       "  <tbody>\n",
       "    <tr>\n",
       "      <th>Autre</th>\n",
       "      <td>279.0</td>\n",
       "    </tr>\n",
       "    <tr>\n",
       "      <th>Club lecture</th>\n",
       "      <td>72.0</td>\n",
       "    </tr>\n",
       "    <tr>\n",
       "      <th>Concerts, projections</th>\n",
       "      <td>720.0</td>\n",
       "    </tr>\n",
       "    <tr>\n",
       "      <th>Conférences, rencontres, lectures</th>\n",
       "      <td>555.0</td>\n",
       "    </tr>\n",
       "    <tr>\n",
       "      <th>Exposition</th>\n",
       "      <td>18.0</td>\n",
       "    </tr>\n",
       "    <tr>\n",
       "      <th>Fêtes, salons du livre, festivals</th>\n",
       "      <td>1628.0</td>\n",
       "    </tr>\n",
       "    <tr>\n",
       "      <th>Séances de conte</th>\n",
       "      <td>417.0</td>\n",
       "    </tr>\n",
       "  </tbody>\n",
       "</table>\n",
       "</div>"
      ],
      "text/plain": [
       "                                   participants\n",
       "type_sll                                       \n",
       "Autre                                     279.0\n",
       "Club lecture                               72.0\n",
       "Concerts, projections                     720.0\n",
       "Conférences, rencontres, lectures         555.0\n",
       "Exposition                                 18.0\n",
       "Fêtes, salons du livre, festivals        1628.0\n",
       "Séances de conte                          417.0"
      ]
     },
     "execution_count": 133,
     "metadata": {},
     "output_type": "execute_result"
    }
   ],
   "source": [
    "ac_2023.pivot_table(index='type_sll',\n",
    "                    values='participants',\n",
    "                    aggfunc=sum\n",
    "                   )"
   ]
  },
  {
   "cell_type": "markdown",
   "id": "6bd96f2d",
   "metadata": {},
   "source": [
    "# K - Patrimoine\n",
    "\n",
    "## K2 - Fonds et acquisitions"
   ]
  },
  {
   "cell_type": "code",
   "execution_count": 134,
   "id": "c46137a5",
   "metadata": {},
   "outputs": [],
   "source": [
    "query = f\"\"\"SELECT\n",
    "                    i.itemnumber,\n",
    "                    i.barcode,\n",
    "                    i.dateaccessioned,\n",
    "                    i.price,\n",
    "                    i.homebranch,\n",
    "                    i.holdingbranch,\n",
    "                    i.location,\n",
    "                    i.ccode,\n",
    "                    i.itemcallnumber,\n",
    "                    i.notforloan,\n",
    "                    i.damaged,\n",
    "                    DATE(i.damaged_on),\n",
    "                    i.withdrawn,\n",
    "                    DATE(i.withdrawn_on),\n",
    "                    i.itemlost,\n",
    "                    DATE(i.itemlost_on),\n",
    "                    i.onloan,\n",
    "                    i.datelastborrowed,\n",
    "                    i.biblionumber,\n",
    "                    b.title as titre,\n",
    "                    bi.publicationyear,\n",
    "                    bi.itemtype,\n",
    "                    i.timestamp\n",
    "                FROM koha{year}.items i\n",
    "                JOIN koha{year}.biblioitems bi ON i.biblionumber = bi.biblionumber\n",
    "                JOIN koha{year}.biblio b ON i.biblionumber = b.biblionumber\n",
    "                WHERE i.notforloan IN (-1, -2, 0, 2, -4, 5)\n",
    "                AND i.homebranch != 'MUS'\"\"\"\n",
    "items = pd.read_sql(query, db_conn)"
   ]
  },
  {
   "cell_type": "code",
   "execution_count": 135,
   "id": "bc5faa1b",
   "metadata": {},
   "outputs": [],
   "source": [
    "exemplaires = Document(df=items, db_conn=db_conn)\n",
    "exemplaires.get_doc_statdb_data()\n",
    "exemplaires.get_doc_es_data()"
   ]
  },
  {
   "cell_type": "code",
   "execution_count": 136,
   "id": "a6f02647",
   "metadata": {},
   "outputs": [
    {
     "name": "stderr",
     "output_type": "stream",
     "text": [
      "/tmp/ipykernel_2550/2479472917.py:4: SettingWithCopyWarning: \n",
      "A value is trying to be set on a copy of a slice from a DataFrame.\n",
      "Try using .loc[row_indexer,col_indexer] = value instead\n",
      "\n",
      "See the caveats in the documentation: https://pandas.pydata.org/pandas-docs/stable/user_guide/indexing.html#returning-a-view-versus-a-copy\n",
      "  patrimoine_df['sll_acq'] = 'non'\n"
     ]
    }
   ],
   "source": [
    "pat_ccode = ['PENACZZ', 'PENCVZZ', 'PENDEZZ', 'PENHPZZ', 'PENPDZZ', 'PENRSZZ', 'AAPPRLP',\n",
    "             'PPAFIZZ', 'PPEFGZZ', 'PPELGZZ', 'PPEPMZZ', 'PPEPRZZ', 'PPIPIZZ', 'P17']\n",
    "patrimoine_df = exemplaires.df[exemplaires.df['doc_item_collection_ccode'].isin(pat_ccode)]\n",
    "patrimoine_df['sll_acq'] = 'non'\n",
    "patrimoine_df.loc[patrimoine_df['doc_item_date_creation'].astype('str').str[0:4] == '2022', 'sll_acq' ] = 'oui'"
   ]
  },
  {
   "cell_type": "code",
   "execution_count": 137,
   "id": "63b1cde1",
   "metadata": {},
   "outputs": [
    {
     "data": {
      "text/plain": [
       "62528"
      ]
     },
     "execution_count": 137,
     "metadata": {},
     "output_type": "execute_result"
    }
   ],
   "source": [
    "len(patrimoine_df)"
   ]
  },
  {
   "cell_type": "markdown",
   "id": "55f1e03d",
   "metadata": {},
   "source": [
    "### Livres imprimés"
   ]
  },
  {
   "cell_type": "code",
   "execution_count": 138,
   "id": "b217694f",
   "metadata": {},
   "outputs": [],
   "source": [
    "data = patrimoine_df[patrimoine_df['sll_collection'] == 'D1 - Livres imprimés']"
   ]
  },
  {
   "cell_type": "code",
   "execution_count": 139,
   "id": "1027008e",
   "metadata": {},
   "outputs": [
    {
     "data": {
      "text/plain": [
       "35947"
      ]
     },
     "execution_count": 139,
     "metadata": {},
     "output_type": "execute_result"
    }
   ],
   "source": [
    "len(data)"
   ]
  },
  {
   "cell_type": "code",
   "execution_count": 140,
   "id": "a0af6038",
   "metadata": {},
   "outputs": [
    {
     "data": {
      "text/plain": [
       "444"
      ]
     },
     "execution_count": 140,
     "metadata": {},
     "output_type": "execute_result"
    }
   ],
   "source": [
    "len(data[data['sll_acq'] == 'oui'])"
   ]
  },
  {
   "cell_type": "code",
   "execution_count": 141,
   "id": "9d9cc3f2",
   "metadata": {},
   "outputs": [
    {
     "name": "stderr",
     "output_type": "stream",
     "text": [
      "/tmp/ipykernel_2550/2076920371.py:1: SettingWithCopyWarning: \n",
      "A value is trying to be set on a copy of a slice from a DataFrame.\n",
      "Try using .loc[row_indexer,col_indexer] = value instead\n",
      "\n",
      "See the caveats in the documentation: https://pandas.pydata.org/pandas-docs/stable/user_guide/indexing.html#returning-a-view-versus-a-copy\n",
      "  data['publicationyear_'] = data['publicationyear'].str.extract(r'(^\\d{4})').astype(float)\n"
     ]
    },
    {
     "data": {
      "text/plain": [
       "1055"
      ]
     },
     "execution_count": 141,
     "metadata": {},
     "output_type": "execute_result"
    }
   ],
   "source": [
    "data['publicationyear_'] = data['publicationyear'].str.extract(r'(^\\d{4})').astype(float)\n",
    "l1811 = data[data['publicationyear_'] < 1811]\n",
    "len(l1811)"
   ]
  },
  {
   "cell_type": "code",
   "execution_count": 142,
   "id": "e3a2a0e1",
   "metadata": {},
   "outputs": [
    {
     "data": {
      "text/plain": [
       "33"
      ]
     },
     "execution_count": 142,
     "metadata": {},
     "output_type": "execute_result"
    }
   ],
   "source": [
    "len(l1811[l1811['sll_acq'] == 'oui'])"
   ]
  },
  {
   "cell_type": "code",
   "execution_count": 143,
   "id": "c6cbb921",
   "metadata": {},
   "outputs": [
    {
     "data": {
      "text/plain": [
       "546"
      ]
     },
     "execution_count": 143,
     "metadata": {},
     "output_type": "execute_result"
    }
   ],
   "source": [
    "len(patrimoine_df[patrimoine_df['doc_item_collection_ccode'] == 'AAPPRLP'])"
   ]
  },
  {
   "cell_type": "code",
   "execution_count": 144,
   "id": "e906f787",
   "metadata": {},
   "outputs": [
    {
     "data": {
      "text/plain": [
       "0"
      ]
     },
     "execution_count": 144,
     "metadata": {},
     "output_type": "execute_result"
    }
   ],
   "source": [
    "len(patrimoine_df[(patrimoine_df['doc_item_collection_ccode'] == 'AAPPRLP') & (patrimoine_df['sll_acq'] == 'oui')])"
   ]
  },
  {
   "cell_type": "markdown",
   "id": "2008f0a9",
   "metadata": {},
   "source": [
    "### Publications en séries"
   ]
  },
  {
   "cell_type": "code",
   "execution_count": 145,
   "id": "abf0483f",
   "metadata": {},
   "outputs": [
    {
     "data": {
      "text/plain": [
       "1362"
      ]
     },
     "execution_count": 145,
     "metadata": {},
     "output_type": "execute_result"
    }
   ],
   "source": [
    "data = patrimoine_df[patrimoine_df['sll_collection'] == 'D1 - Publications en série imprimées']\n",
    "len(data)"
   ]
  },
  {
   "cell_type": "code",
   "execution_count": 146,
   "id": "9ec97add",
   "metadata": {},
   "outputs": [
    {
     "data": {
      "text/plain": [
       "5"
      ]
     },
     "execution_count": 146,
     "metadata": {},
     "output_type": "execute_result"
    }
   ],
   "source": [
    "len(data[data['sll_acq'] == 'oui'])"
   ]
  },
  {
   "cell_type": "markdown",
   "id": "d1567f46",
   "metadata": {},
   "source": [
    "### Cartes"
   ]
  },
  {
   "cell_type": "code",
   "execution_count": 147,
   "id": "caa261eb",
   "metadata": {},
   "outputs": [
    {
     "name": "stdout",
     "output_type": "stream",
     "text": [
      "Fonds : 0\n",
      "Acquisitions : 0\n"
     ]
    }
   ],
   "source": [
    "data = patrimoine_df[patrimoine_df['sll_collection'] == 'D3 – Documents cartographiques']\n",
    "print(f\"Fonds : {len(data)}\")\n",
    "print(f\"Acquisitions : {len(data[data['sll_acq'] == 'oui'])}\")"
   ]
  },
  {
   "cell_type": "markdown",
   "id": "71f33bc1",
   "metadata": {},
   "source": [
    "### Partitions"
   ]
  },
  {
   "cell_type": "code",
   "execution_count": 148,
   "id": "f26eed9d",
   "metadata": {},
   "outputs": [
    {
     "name": "stdout",
     "output_type": "stream",
     "text": [
      "Fonds : 1661\n",
      "Acquisitions : 90\n"
     ]
    }
   ],
   "source": [
    "data = patrimoine_df[patrimoine_df['sll_collection'] == 'D3 – Musique imprimée']\n",
    "print(f\"Fonds : {len(data)}\")\n",
    "print(f\"Acquisitions : {len(data[data['sll_acq'] == 'oui'])}\")"
   ]
  },
  {
   "cell_type": "markdown",
   "id": "b542c34b",
   "metadata": {},
   "source": [
    "### Documents iconographiques"
   ]
  },
  {
   "cell_type": "code",
   "execution_count": 149,
   "id": "032473c4",
   "metadata": {},
   "outputs": [
    {
     "name": "stdout",
     "output_type": "stream",
     "text": [
      "Fonds : 94\n",
      "Acquisitions : 0\n"
     ]
    }
   ],
   "source": [
    "data = patrimoine_df[patrimoine_df['sll_collection'] == 'D3 - Documents graphiques']\n",
    "print(f\"Fonds : {len(data)}\")\n",
    "print(f\"Acquisitions : {len(data[data['sll_acq'] == 'oui'])}\")"
   ]
  },
  {
   "cell_type": "markdown",
   "id": "dd083604",
   "metadata": {},
   "source": [
    "### Documents sonores"
   ]
  },
  {
   "cell_type": "code",
   "execution_count": 150,
   "id": "585b0e08",
   "metadata": {},
   "outputs": [
    {
     "name": "stdout",
     "output_type": "stream",
     "text": [
      "Fonds : 22538\n",
      "Acquisitions : 157\n"
     ]
    }
   ],
   "source": [
    "data = patrimoine_df[patrimoine_df['sll_collection'].isin(['D4 - Documents audiovisuels fonds adultes / Documents sonores : musique',\n",
    "                                                           'D4 - Documents audiovisuels fonds adultes / Documents sonores : livres enregistrés'])]\n",
    "print(f\"Fonds : {len(data)}\")\n",
    "print(f\"Acquisitions : {len(data[data['sll_acq'] == 'oui'])}\")"
   ]
  },
  {
   "cell_type": "markdown",
   "id": "eab023d9",
   "metadata": {},
   "source": [
    "### Images animées"
   ]
  },
  {
   "cell_type": "code",
   "execution_count": 151,
   "id": "5067b2ad",
   "metadata": {},
   "outputs": [
    {
     "name": "stdout",
     "output_type": "stream",
     "text": [
      "Fonds : 895\n",
      "Acquisitions : 0\n"
     ]
    }
   ],
   "source": [
    "data = patrimoine_df[patrimoine_df['sll_collection'].isin(['D4 - Documents audiovisuels fonds adultes / documents vidéo adultes',\n",
    "                                                           'D4 - Documents audiovisuels fonds enfants / documents vidéo enfants'])]\n",
    "print(f\"Fonds : {len(data)}\")\n",
    "print(f\"Acquisitions : {len(data[data['sll_acq'] == 'oui'])}\")"
   ]
  },
  {
   "cell_type": "markdown",
   "id": "8881ab36",
   "metadata": {},
   "source": [
    "D1 - Livres imprimés                                                                  205053\n",
    "D4 - Documents audiovisuels fonds adultes / Documents sonores : musique                45233\n",
    "D4 - Documents audiovisuels fonds adultes / documents vidéo adultes                    12067\n",
    "D1 - Publications en série imprimées                                                    9173\n",
    "D3 – Musique imprimée                                                                   3193\n",
    "D4 - Documents audiovisuels fonds enfants / documents vidéo enfants                     1593\n",
    "D4 - Documents audiovisuels fonds adultes / Documents sonores : livres enregistrés      1541\n",
    "D4 - Documents audiovisuels fonds enfants / Documents sonores : musique                  901\n",
    "D4 - Total documents multimédia sur support                                              287\n",
    "D4 - Documents audiovisuels fonds enfants / Documents sonores : livres enregistrés       218\n",
    "D3 – Documents cartographiques                                                           125\n",
    "D3 - Documents graphiques                                                                 93\n",
    "D3 - Autres documents                                                                     83"
   ]
  },
  {
   "cell_type": "code",
   "execution_count": null,
   "id": "6cd62456",
   "metadata": {},
   "outputs": [],
   "source": []
  },
  {
   "cell_type": "code",
   "execution_count": null,
   "id": "0da5079e",
   "metadata": {},
   "outputs": [],
   "source": []
  }
 ],
 "metadata": {
  "kernelspec": {
   "display_name": "Python 3 (ipykernel)",
   "language": "python",
   "name": "python3"
  },
  "language_info": {
   "codemirror_mode": {
    "name": "ipython",
    "version": 3
   },
   "file_extension": ".py",
   "mimetype": "text/x-python",
   "name": "python",
   "nbconvert_exporter": "python",
   "pygments_lexer": "ipython3",
   "version": "3.8.12"
  }
 },
 "nbformat": 4,
 "nbformat_minor": 5
}
