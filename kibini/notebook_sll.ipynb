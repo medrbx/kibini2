{
 "cells": [
  {
   "cell_type": "code",
   "execution_count": 4,
   "id": "b70cee9c",
   "metadata": {},
   "outputs": [],
   "source": [
    "import pandas as pd\n",
    "import numpy as np\n",
    "import matplotlib.pyplot as plt\n",
    "import seaborn as sns\n",
    "sns.set_style(\"darkgrid\")\n",
    "import datetime\n",
    "\n",
    "from kiblib.utils.db import DbConn\n",
    "from kiblib.utils.code2libelle import Code2Libelle\n",
    "from kiblib.adherent import Adherent\n",
    "from kiblib.pret import Pret\n",
    "from kiblib.document import Document"
   ]
  },
  {
   "cell_type": "code",
   "execution_count": 2,
   "id": "7f95abc6",
   "metadata": {},
   "outputs": [],
   "source": [
    "db_conn = DbConn().create_engine()\n",
    "\n",
    "year = 2024\n",
    "#date_extraction_usagers = '2023-12-27'\n",
    "date_extraction_usagers = '2024-12-25'"
   ]
  },
  {
   "cell_type": "markdown",
   "id": "dcc74f67",
   "metadata": {},
   "source": [
    "## C2 - Catalogue"
   ]
  },
  {
   "cell_type": "markdown",
   "id": "11e46281",
   "metadata": {},
   "source": [
    "### Notices"
   ]
  },
  {
   "cell_type": "code",
   "execution_count": 3,
   "id": "d8302b2e",
   "metadata": {},
   "outputs": [
    {
     "ename": "KeyboardInterrupt",
     "evalue": "",
     "output_type": "error",
     "traceback": [
      "\u001b[0;31m---------------------------------------------------------------------------\u001b[0m",
      "\u001b[0;31mKeyboardInterrupt\u001b[0m                         Traceback (most recent call last)",
      "\u001b[0;32m/tmp/ipykernel_19155/329404105.py\u001b[0m in \u001b[0;36m<module>\u001b[0;34m\u001b[0m\n\u001b[1;32m      1\u001b[0m query = f\"\"\"SELECT COUNT(bm.biblionumber)\n\u001b[1;32m      2\u001b[0m     FROM koha{year}.biblio_metadata bm\"\"\"\n\u001b[0;32m----> 3\u001b[0;31m \u001b[0mr\u001b[0m \u001b[0;34m=\u001b[0m \u001b[0mpd\u001b[0m\u001b[0;34m.\u001b[0m\u001b[0mread_sql\u001b[0m\u001b[0;34m(\u001b[0m\u001b[0mquery\u001b[0m\u001b[0;34m,\u001b[0m \u001b[0mdb_conn\u001b[0m\u001b[0;34m)\u001b[0m\u001b[0;34m\u001b[0m\u001b[0;34m\u001b[0m\u001b[0m\n\u001b[0m\u001b[1;32m      4\u001b[0m \u001b[0mr\u001b[0m\u001b[0;34m\u001b[0m\u001b[0;34m\u001b[0m\u001b[0m\n",
      "\u001b[0;32m~/miniconda3/envs/kibini/lib/python3.8/site-packages/pandas/io/sql.py\u001b[0m in \u001b[0;36mread_sql\u001b[0;34m(sql, con, index_col, coerce_float, params, parse_dates, columns, chunksize)\u001b[0m\n\u001b[1;32m    590\u001b[0m         )\n\u001b[1;32m    591\u001b[0m     \u001b[0;32melse\u001b[0m\u001b[0;34m:\u001b[0m\u001b[0;34m\u001b[0m\u001b[0;34m\u001b[0m\u001b[0m\n\u001b[0;32m--> 592\u001b[0;31m         return pandas_sql.read_query(\n\u001b[0m\u001b[1;32m    593\u001b[0m             \u001b[0msql\u001b[0m\u001b[0;34m,\u001b[0m\u001b[0;34m\u001b[0m\u001b[0;34m\u001b[0m\u001b[0m\n\u001b[1;32m    594\u001b[0m             \u001b[0mindex_col\u001b[0m\u001b[0;34m=\u001b[0m\u001b[0mindex_col\u001b[0m\u001b[0;34m,\u001b[0m\u001b[0;34m\u001b[0m\u001b[0;34m\u001b[0m\u001b[0m\n",
      "\u001b[0;32m~/miniconda3/envs/kibini/lib/python3.8/site-packages/pandas/io/sql.py\u001b[0m in \u001b[0;36mread_query\u001b[0;34m(self, sql, index_col, coerce_float, parse_dates, params, chunksize, dtype)\u001b[0m\n\u001b[1;32m   1555\u001b[0m         \u001b[0margs\u001b[0m \u001b[0;34m=\u001b[0m \u001b[0m_convert_params\u001b[0m\u001b[0;34m(\u001b[0m\u001b[0msql\u001b[0m\u001b[0;34m,\u001b[0m \u001b[0mparams\u001b[0m\u001b[0;34m)\u001b[0m\u001b[0;34m\u001b[0m\u001b[0;34m\u001b[0m\u001b[0m\n\u001b[1;32m   1556\u001b[0m \u001b[0;34m\u001b[0m\u001b[0m\n\u001b[0;32m-> 1557\u001b[0;31m         \u001b[0mresult\u001b[0m \u001b[0;34m=\u001b[0m \u001b[0mself\u001b[0m\u001b[0;34m.\u001b[0m\u001b[0mexecute\u001b[0m\u001b[0;34m(\u001b[0m\u001b[0;34m*\u001b[0m\u001b[0margs\u001b[0m\u001b[0;34m)\u001b[0m\u001b[0;34m\u001b[0m\u001b[0;34m\u001b[0m\u001b[0m\n\u001b[0m\u001b[1;32m   1558\u001b[0m         \u001b[0mcolumns\u001b[0m \u001b[0;34m=\u001b[0m \u001b[0mresult\u001b[0m\u001b[0;34m.\u001b[0m\u001b[0mkeys\u001b[0m\u001b[0;34m(\u001b[0m\u001b[0;34m)\u001b[0m\u001b[0;34m\u001b[0m\u001b[0;34m\u001b[0m\u001b[0m\n\u001b[1;32m   1559\u001b[0m \u001b[0;34m\u001b[0m\u001b[0m\n",
      "\u001b[0;32m~/miniconda3/envs/kibini/lib/python3.8/site-packages/pandas/io/sql.py\u001b[0m in \u001b[0;36mexecute\u001b[0;34m(self, *args, **kwargs)\u001b[0m\n\u001b[1;32m   1400\u001b[0m     \u001b[0;32mdef\u001b[0m \u001b[0mexecute\u001b[0m\u001b[0;34m(\u001b[0m\u001b[0mself\u001b[0m\u001b[0;34m,\u001b[0m \u001b[0;34m*\u001b[0m\u001b[0margs\u001b[0m\u001b[0;34m,\u001b[0m \u001b[0;34m**\u001b[0m\u001b[0mkwargs\u001b[0m\u001b[0;34m)\u001b[0m\u001b[0;34m:\u001b[0m\u001b[0;34m\u001b[0m\u001b[0;34m\u001b[0m\u001b[0m\n\u001b[1;32m   1401\u001b[0m         \u001b[0;34m\"\"\"Simple passthrough to SQLAlchemy connectable\"\"\"\u001b[0m\u001b[0;34m\u001b[0m\u001b[0;34m\u001b[0m\u001b[0m\n\u001b[0;32m-> 1402\u001b[0;31m         \u001b[0;32mreturn\u001b[0m \u001b[0mself\u001b[0m\u001b[0;34m.\u001b[0m\u001b[0mconnectable\u001b[0m\u001b[0;34m.\u001b[0m\u001b[0mexecution_options\u001b[0m\u001b[0;34m(\u001b[0m\u001b[0;34m)\u001b[0m\u001b[0;34m.\u001b[0m\u001b[0mexecute\u001b[0m\u001b[0;34m(\u001b[0m\u001b[0;34m*\u001b[0m\u001b[0margs\u001b[0m\u001b[0;34m,\u001b[0m \u001b[0;34m**\u001b[0m\u001b[0mkwargs\u001b[0m\u001b[0;34m)\u001b[0m\u001b[0;34m\u001b[0m\u001b[0;34m\u001b[0m\u001b[0m\n\u001b[0m\u001b[1;32m   1403\u001b[0m \u001b[0;34m\u001b[0m\u001b[0m\n\u001b[1;32m   1404\u001b[0m     def read_table(\n",
      "\u001b[0;32m<string>\u001b[0m in \u001b[0;36mexecute\u001b[0;34m(self, statement, *multiparams, **params)\u001b[0m\n",
      "\u001b[0;32m~/miniconda3/envs/kibini/lib/python3.8/site-packages/sqlalchemy/util/deprecations.py\u001b[0m in \u001b[0;36mwarned\u001b[0;34m(fn, *args, **kwargs)\u001b[0m\n\u001b[1;32m    399\u001b[0m         \u001b[0;32mif\u001b[0m \u001b[0;32mnot\u001b[0m \u001b[0mskip_warning\u001b[0m\u001b[0;34m:\u001b[0m\u001b[0;34m\u001b[0m\u001b[0;34m\u001b[0m\u001b[0m\n\u001b[1;32m    400\u001b[0m             \u001b[0m_warn_with_version\u001b[0m\u001b[0;34m(\u001b[0m\u001b[0mmessage\u001b[0m\u001b[0;34m,\u001b[0m \u001b[0mversion\u001b[0m\u001b[0;34m,\u001b[0m \u001b[0mwtype\u001b[0m\u001b[0;34m,\u001b[0m \u001b[0mstacklevel\u001b[0m\u001b[0;34m=\u001b[0m\u001b[0;36m3\u001b[0m\u001b[0;34m)\u001b[0m\u001b[0;34m\u001b[0m\u001b[0;34m\u001b[0m\u001b[0m\n\u001b[0;32m--> 401\u001b[0;31m         \u001b[0;32mreturn\u001b[0m \u001b[0mfn\u001b[0m\u001b[0;34m(\u001b[0m\u001b[0;34m*\u001b[0m\u001b[0margs\u001b[0m\u001b[0;34m,\u001b[0m \u001b[0;34m**\u001b[0m\u001b[0mkwargs\u001b[0m\u001b[0;34m)\u001b[0m\u001b[0;34m\u001b[0m\u001b[0;34m\u001b[0m\u001b[0m\n\u001b[0m\u001b[1;32m    402\u001b[0m \u001b[0;34m\u001b[0m\u001b[0m\n\u001b[1;32m    403\u001b[0m     \u001b[0mdoc\u001b[0m \u001b[0;34m=\u001b[0m \u001b[0mfunc\u001b[0m\u001b[0;34m.\u001b[0m\u001b[0m__doc__\u001b[0m \u001b[0;32mis\u001b[0m \u001b[0;32mnot\u001b[0m \u001b[0;32mNone\u001b[0m \u001b[0;32mand\u001b[0m \u001b[0mfunc\u001b[0m\u001b[0;34m.\u001b[0m\u001b[0m__doc__\u001b[0m \u001b[0;32mor\u001b[0m \u001b[0;34m\"\"\u001b[0m\u001b[0;34m\u001b[0m\u001b[0;34m\u001b[0m\u001b[0m\n",
      "\u001b[0;32m~/miniconda3/envs/kibini/lib/python3.8/site-packages/sqlalchemy/engine/base.py\u001b[0m in \u001b[0;36mexecute\u001b[0;34m(self, statement, *multiparams, **params)\u001b[0m\n\u001b[1;32m   3137\u001b[0m         \"\"\"\n\u001b[1;32m   3138\u001b[0m         \u001b[0mconnection\u001b[0m \u001b[0;34m=\u001b[0m \u001b[0mself\u001b[0m\u001b[0;34m.\u001b[0m\u001b[0mconnect\u001b[0m\u001b[0;34m(\u001b[0m\u001b[0mclose_with_result\u001b[0m\u001b[0;34m=\u001b[0m\u001b[0;32mTrue\u001b[0m\u001b[0;34m)\u001b[0m\u001b[0;34m\u001b[0m\u001b[0;34m\u001b[0m\u001b[0m\n\u001b[0;32m-> 3139\u001b[0;31m         \u001b[0;32mreturn\u001b[0m \u001b[0mconnection\u001b[0m\u001b[0;34m.\u001b[0m\u001b[0mexecute\u001b[0m\u001b[0;34m(\u001b[0m\u001b[0mstatement\u001b[0m\u001b[0;34m,\u001b[0m \u001b[0;34m*\u001b[0m\u001b[0mmultiparams\u001b[0m\u001b[0;34m,\u001b[0m \u001b[0;34m**\u001b[0m\u001b[0mparams\u001b[0m\u001b[0;34m)\u001b[0m\u001b[0;34m\u001b[0m\u001b[0;34m\u001b[0m\u001b[0m\n\u001b[0m\u001b[1;32m   3140\u001b[0m \u001b[0;34m\u001b[0m\u001b[0m\n\u001b[1;32m   3141\u001b[0m     @util.deprecated_20(\n",
      "\u001b[0;32m~/miniconda3/envs/kibini/lib/python3.8/site-packages/sqlalchemy/engine/base.py\u001b[0m in \u001b[0;36mexecute\u001b[0;34m(self, statement, *multiparams, **params)\u001b[0m\n\u001b[1;32m   1272\u001b[0m             )\n\u001b[1;32m   1273\u001b[0m \u001b[0;34m\u001b[0m\u001b[0m\n\u001b[0;32m-> 1274\u001b[0;31m             return self._exec_driver_sql(\n\u001b[0m\u001b[1;32m   1275\u001b[0m                 \u001b[0mstatement\u001b[0m\u001b[0;34m,\u001b[0m\u001b[0;34m\u001b[0m\u001b[0;34m\u001b[0m\u001b[0m\n\u001b[1;32m   1276\u001b[0m                 \u001b[0mmultiparams\u001b[0m\u001b[0;34m,\u001b[0m\u001b[0;34m\u001b[0m\u001b[0;34m\u001b[0m\u001b[0m\n",
      "\u001b[0;32m~/miniconda3/envs/kibini/lib/python3.8/site-packages/sqlalchemy/engine/base.py\u001b[0m in \u001b[0;36m_exec_driver_sql\u001b[0;34m(self, statement, multiparams, params, execution_options, future)\u001b[0m\n\u001b[1;32m   1576\u001b[0m \u001b[0;34m\u001b[0m\u001b[0m\n\u001b[1;32m   1577\u001b[0m         \u001b[0mdialect\u001b[0m \u001b[0;34m=\u001b[0m \u001b[0mself\u001b[0m\u001b[0;34m.\u001b[0m\u001b[0mdialect\u001b[0m\u001b[0;34m\u001b[0m\u001b[0;34m\u001b[0m\u001b[0m\n\u001b[0;32m-> 1578\u001b[0;31m         ret = self._execute_context(\n\u001b[0m\u001b[1;32m   1579\u001b[0m             \u001b[0mdialect\u001b[0m\u001b[0;34m,\u001b[0m\u001b[0;34m\u001b[0m\u001b[0;34m\u001b[0m\u001b[0m\n\u001b[1;32m   1580\u001b[0m             \u001b[0mdialect\u001b[0m\u001b[0;34m.\u001b[0m\u001b[0mexecution_ctx_cls\u001b[0m\u001b[0;34m.\u001b[0m\u001b[0m_init_statement\u001b[0m\u001b[0;34m,\u001b[0m\u001b[0;34m\u001b[0m\u001b[0;34m\u001b[0m\u001b[0m\n",
      "\u001b[0;32m~/miniconda3/envs/kibini/lib/python3.8/site-packages/sqlalchemy/engine/base.py\u001b[0m in \u001b[0;36m_execute_context\u001b[0;34m(self, dialect, constructor, statement, parameters, execution_options, *args, **kw)\u001b[0m\n\u001b[1;32m   1843\u001b[0m \u001b[0;34m\u001b[0m\u001b[0m\n\u001b[1;32m   1844\u001b[0m         \u001b[0;32mexcept\u001b[0m \u001b[0mBaseException\u001b[0m \u001b[0;32mas\u001b[0m \u001b[0me\u001b[0m\u001b[0;34m:\u001b[0m\u001b[0;34m\u001b[0m\u001b[0;34m\u001b[0m\u001b[0m\n\u001b[0;32m-> 1845\u001b[0;31m             self._handle_dbapi_exception(\n\u001b[0m\u001b[1;32m   1846\u001b[0m                 \u001b[0me\u001b[0m\u001b[0;34m,\u001b[0m \u001b[0mstatement\u001b[0m\u001b[0;34m,\u001b[0m \u001b[0mparameters\u001b[0m\u001b[0;34m,\u001b[0m \u001b[0mcursor\u001b[0m\u001b[0;34m,\u001b[0m \u001b[0mcontext\u001b[0m\u001b[0;34m\u001b[0m\u001b[0;34m\u001b[0m\u001b[0m\n\u001b[1;32m   1847\u001b[0m             )\n",
      "\u001b[0;32m~/miniconda3/envs/kibini/lib/python3.8/site-packages/sqlalchemy/engine/base.py\u001b[0m in \u001b[0;36m_handle_dbapi_exception\u001b[0;34m(self, e, statement, parameters, cursor, context)\u001b[0m\n\u001b[1;32m   2028\u001b[0m                 )\n\u001b[1;32m   2029\u001b[0m             \u001b[0;32melse\u001b[0m\u001b[0;34m:\u001b[0m\u001b[0;34m\u001b[0m\u001b[0;34m\u001b[0m\u001b[0m\n\u001b[0;32m-> 2030\u001b[0;31m                 \u001b[0mutil\u001b[0m\u001b[0;34m.\u001b[0m\u001b[0mraise_\u001b[0m\u001b[0;34m(\u001b[0m\u001b[0mexc_info\u001b[0m\u001b[0;34m[\u001b[0m\u001b[0;36m1\u001b[0m\u001b[0;34m]\u001b[0m\u001b[0;34m,\u001b[0m \u001b[0mwith_traceback\u001b[0m\u001b[0;34m=\u001b[0m\u001b[0mexc_info\u001b[0m\u001b[0;34m[\u001b[0m\u001b[0;36m2\u001b[0m\u001b[0;34m]\u001b[0m\u001b[0;34m)\u001b[0m\u001b[0;34m\u001b[0m\u001b[0;34m\u001b[0m\u001b[0m\n\u001b[0m\u001b[1;32m   2031\u001b[0m \u001b[0;34m\u001b[0m\u001b[0m\n\u001b[1;32m   2032\u001b[0m         \u001b[0;32mfinally\u001b[0m\u001b[0;34m:\u001b[0m\u001b[0;34m\u001b[0m\u001b[0;34m\u001b[0m\u001b[0m\n",
      "\u001b[0;32m~/miniconda3/envs/kibini/lib/python3.8/site-packages/sqlalchemy/util/compat.py\u001b[0m in \u001b[0;36mraise_\u001b[0;34m(***failed resolving arguments***)\u001b[0m\n\u001b[1;32m    205\u001b[0m \u001b[0;34m\u001b[0m\u001b[0m\n\u001b[1;32m    206\u001b[0m         \u001b[0;32mtry\u001b[0m\u001b[0;34m:\u001b[0m\u001b[0;34m\u001b[0m\u001b[0;34m\u001b[0m\u001b[0m\n\u001b[0;32m--> 207\u001b[0;31m             \u001b[0;32mraise\u001b[0m \u001b[0mexception\u001b[0m\u001b[0;34m\u001b[0m\u001b[0;34m\u001b[0m\u001b[0m\n\u001b[0m\u001b[1;32m    208\u001b[0m         \u001b[0;32mfinally\u001b[0m\u001b[0;34m:\u001b[0m\u001b[0;34m\u001b[0m\u001b[0;34m\u001b[0m\u001b[0m\n\u001b[1;32m    209\u001b[0m             \u001b[0;31m# credit to\u001b[0m\u001b[0;34m\u001b[0m\u001b[0;34m\u001b[0m\u001b[0;34m\u001b[0m\u001b[0m\n",
      "\u001b[0;32m~/miniconda3/envs/kibini/lib/python3.8/site-packages/sqlalchemy/engine/base.py\u001b[0m in \u001b[0;36m_execute_context\u001b[0;34m(self, dialect, constructor, statement, parameters, execution_options, *args, **kw)\u001b[0m\n\u001b[1;32m   1800\u001b[0m                             \u001b[0;32mbreak\u001b[0m\u001b[0;34m\u001b[0m\u001b[0;34m\u001b[0m\u001b[0m\n\u001b[1;32m   1801\u001b[0m                 \u001b[0;32mif\u001b[0m \u001b[0;32mnot\u001b[0m \u001b[0mevt_handled\u001b[0m\u001b[0;34m:\u001b[0m\u001b[0;34m\u001b[0m\u001b[0;34m\u001b[0m\u001b[0m\n\u001b[0;32m-> 1802\u001b[0;31m                     self.dialect.do_execute(\n\u001b[0m\u001b[1;32m   1803\u001b[0m                         \u001b[0mcursor\u001b[0m\u001b[0;34m,\u001b[0m \u001b[0mstatement\u001b[0m\u001b[0;34m,\u001b[0m \u001b[0mparameters\u001b[0m\u001b[0;34m,\u001b[0m \u001b[0mcontext\u001b[0m\u001b[0;34m\u001b[0m\u001b[0;34m\u001b[0m\u001b[0m\n\u001b[1;32m   1804\u001b[0m                     )\n",
      "\u001b[0;32m~/miniconda3/envs/kibini/lib/python3.8/site-packages/sqlalchemy/engine/default.py\u001b[0m in \u001b[0;36mdo_execute\u001b[0;34m(self, cursor, statement, parameters, context)\u001b[0m\n\u001b[1;32m    717\u001b[0m \u001b[0;34m\u001b[0m\u001b[0m\n\u001b[1;32m    718\u001b[0m     \u001b[0;32mdef\u001b[0m \u001b[0mdo_execute\u001b[0m\u001b[0;34m(\u001b[0m\u001b[0mself\u001b[0m\u001b[0;34m,\u001b[0m \u001b[0mcursor\u001b[0m\u001b[0;34m,\u001b[0m \u001b[0mstatement\u001b[0m\u001b[0;34m,\u001b[0m \u001b[0mparameters\u001b[0m\u001b[0;34m,\u001b[0m \u001b[0mcontext\u001b[0m\u001b[0;34m=\u001b[0m\u001b[0;32mNone\u001b[0m\u001b[0;34m)\u001b[0m\u001b[0;34m:\u001b[0m\u001b[0;34m\u001b[0m\u001b[0;34m\u001b[0m\u001b[0m\n\u001b[0;32m--> 719\u001b[0;31m         \u001b[0mcursor\u001b[0m\u001b[0;34m.\u001b[0m\u001b[0mexecute\u001b[0m\u001b[0;34m(\u001b[0m\u001b[0mstatement\u001b[0m\u001b[0;34m,\u001b[0m \u001b[0mparameters\u001b[0m\u001b[0;34m)\u001b[0m\u001b[0;34m\u001b[0m\u001b[0;34m\u001b[0m\u001b[0m\n\u001b[0m\u001b[1;32m    720\u001b[0m \u001b[0;34m\u001b[0m\u001b[0m\n\u001b[1;32m    721\u001b[0m     \u001b[0;32mdef\u001b[0m \u001b[0mdo_execute_no_params\u001b[0m\u001b[0;34m(\u001b[0m\u001b[0mself\u001b[0m\u001b[0;34m,\u001b[0m \u001b[0mcursor\u001b[0m\u001b[0;34m,\u001b[0m \u001b[0mstatement\u001b[0m\u001b[0;34m,\u001b[0m \u001b[0mcontext\u001b[0m\u001b[0;34m=\u001b[0m\u001b[0;32mNone\u001b[0m\u001b[0;34m)\u001b[0m\u001b[0;34m:\u001b[0m\u001b[0;34m\u001b[0m\u001b[0;34m\u001b[0m\u001b[0m\n",
      "\u001b[0;32m~/miniconda3/envs/kibini/lib/python3.8/site-packages/pymysql/cursors.py\u001b[0m in \u001b[0;36mexecute\u001b[0;34m(self, query, args)\u001b[0m\n\u001b[1;32m    146\u001b[0m         \u001b[0mquery\u001b[0m \u001b[0;34m=\u001b[0m \u001b[0mself\u001b[0m\u001b[0;34m.\u001b[0m\u001b[0mmogrify\u001b[0m\u001b[0;34m(\u001b[0m\u001b[0mquery\u001b[0m\u001b[0;34m,\u001b[0m \u001b[0margs\u001b[0m\u001b[0;34m)\u001b[0m\u001b[0;34m\u001b[0m\u001b[0;34m\u001b[0m\u001b[0m\n\u001b[1;32m    147\u001b[0m \u001b[0;34m\u001b[0m\u001b[0m\n\u001b[0;32m--> 148\u001b[0;31m         \u001b[0mresult\u001b[0m \u001b[0;34m=\u001b[0m \u001b[0mself\u001b[0m\u001b[0;34m.\u001b[0m\u001b[0m_query\u001b[0m\u001b[0;34m(\u001b[0m\u001b[0mquery\u001b[0m\u001b[0;34m)\u001b[0m\u001b[0;34m\u001b[0m\u001b[0;34m\u001b[0m\u001b[0m\n\u001b[0m\u001b[1;32m    149\u001b[0m         \u001b[0mself\u001b[0m\u001b[0;34m.\u001b[0m\u001b[0m_executed\u001b[0m \u001b[0;34m=\u001b[0m \u001b[0mquery\u001b[0m\u001b[0;34m\u001b[0m\u001b[0;34m\u001b[0m\u001b[0m\n\u001b[1;32m    150\u001b[0m         \u001b[0;32mreturn\u001b[0m \u001b[0mresult\u001b[0m\u001b[0;34m\u001b[0m\u001b[0;34m\u001b[0m\u001b[0m\n",
      "\u001b[0;32m~/miniconda3/envs/kibini/lib/python3.8/site-packages/pymysql/cursors.py\u001b[0m in \u001b[0;36m_query\u001b[0;34m(self, q)\u001b[0m\n\u001b[1;32m    308\u001b[0m         \u001b[0mself\u001b[0m\u001b[0;34m.\u001b[0m\u001b[0m_last_executed\u001b[0m \u001b[0;34m=\u001b[0m \u001b[0mq\u001b[0m\u001b[0;34m\u001b[0m\u001b[0;34m\u001b[0m\u001b[0m\n\u001b[1;32m    309\u001b[0m         \u001b[0mself\u001b[0m\u001b[0;34m.\u001b[0m\u001b[0m_clear_result\u001b[0m\u001b[0;34m(\u001b[0m\u001b[0;34m)\u001b[0m\u001b[0;34m\u001b[0m\u001b[0;34m\u001b[0m\u001b[0m\n\u001b[0;32m--> 310\u001b[0;31m         \u001b[0mconn\u001b[0m\u001b[0;34m.\u001b[0m\u001b[0mquery\u001b[0m\u001b[0;34m(\u001b[0m\u001b[0mq\u001b[0m\u001b[0;34m)\u001b[0m\u001b[0;34m\u001b[0m\u001b[0;34m\u001b[0m\u001b[0m\n\u001b[0m\u001b[1;32m    311\u001b[0m         \u001b[0mself\u001b[0m\u001b[0;34m.\u001b[0m\u001b[0m_do_get_result\u001b[0m\u001b[0;34m(\u001b[0m\u001b[0;34m)\u001b[0m\u001b[0;34m\u001b[0m\u001b[0;34m\u001b[0m\u001b[0m\n\u001b[1;32m    312\u001b[0m         \u001b[0;32mreturn\u001b[0m \u001b[0mself\u001b[0m\u001b[0;34m.\u001b[0m\u001b[0mrowcount\u001b[0m\u001b[0;34m\u001b[0m\u001b[0;34m\u001b[0m\u001b[0m\n",
      "\u001b[0;32m~/miniconda3/envs/kibini/lib/python3.8/site-packages/pymysql/connections.py\u001b[0m in \u001b[0;36mquery\u001b[0;34m(self, sql, unbuffered)\u001b[0m\n\u001b[1;32m    546\u001b[0m             \u001b[0msql\u001b[0m \u001b[0;34m=\u001b[0m \u001b[0msql\u001b[0m\u001b[0;34m.\u001b[0m\u001b[0mencode\u001b[0m\u001b[0;34m(\u001b[0m\u001b[0mself\u001b[0m\u001b[0;34m.\u001b[0m\u001b[0mencoding\u001b[0m\u001b[0;34m,\u001b[0m \u001b[0;34m\"surrogateescape\"\u001b[0m\u001b[0;34m)\u001b[0m\u001b[0;34m\u001b[0m\u001b[0;34m\u001b[0m\u001b[0m\n\u001b[1;32m    547\u001b[0m         \u001b[0mself\u001b[0m\u001b[0;34m.\u001b[0m\u001b[0m_execute_command\u001b[0m\u001b[0;34m(\u001b[0m\u001b[0mCOMMAND\u001b[0m\u001b[0;34m.\u001b[0m\u001b[0mCOM_QUERY\u001b[0m\u001b[0;34m,\u001b[0m \u001b[0msql\u001b[0m\u001b[0;34m)\u001b[0m\u001b[0;34m\u001b[0m\u001b[0;34m\u001b[0m\u001b[0m\n\u001b[0;32m--> 548\u001b[0;31m         \u001b[0mself\u001b[0m\u001b[0;34m.\u001b[0m\u001b[0m_affected_rows\u001b[0m \u001b[0;34m=\u001b[0m \u001b[0mself\u001b[0m\u001b[0;34m.\u001b[0m\u001b[0m_read_query_result\u001b[0m\u001b[0;34m(\u001b[0m\u001b[0munbuffered\u001b[0m\u001b[0;34m=\u001b[0m\u001b[0munbuffered\u001b[0m\u001b[0;34m)\u001b[0m\u001b[0;34m\u001b[0m\u001b[0;34m\u001b[0m\u001b[0m\n\u001b[0m\u001b[1;32m    549\u001b[0m         \u001b[0;32mreturn\u001b[0m \u001b[0mself\u001b[0m\u001b[0;34m.\u001b[0m\u001b[0m_affected_rows\u001b[0m\u001b[0;34m\u001b[0m\u001b[0;34m\u001b[0m\u001b[0m\n\u001b[1;32m    550\u001b[0m \u001b[0;34m\u001b[0m\u001b[0m\n",
      "\u001b[0;32m~/miniconda3/envs/kibini/lib/python3.8/site-packages/pymysql/connections.py\u001b[0m in \u001b[0;36m_read_query_result\u001b[0;34m(self, unbuffered)\u001b[0m\n\u001b[1;32m    773\u001b[0m         \u001b[0;32melse\u001b[0m\u001b[0;34m:\u001b[0m\u001b[0;34m\u001b[0m\u001b[0;34m\u001b[0m\u001b[0m\n\u001b[1;32m    774\u001b[0m             \u001b[0mresult\u001b[0m \u001b[0;34m=\u001b[0m \u001b[0mMySQLResult\u001b[0m\u001b[0;34m(\u001b[0m\u001b[0mself\u001b[0m\u001b[0;34m)\u001b[0m\u001b[0;34m\u001b[0m\u001b[0;34m\u001b[0m\u001b[0m\n\u001b[0;32m--> 775\u001b[0;31m             \u001b[0mresult\u001b[0m\u001b[0;34m.\u001b[0m\u001b[0mread\u001b[0m\u001b[0;34m(\u001b[0m\u001b[0;34m)\u001b[0m\u001b[0;34m\u001b[0m\u001b[0;34m\u001b[0m\u001b[0m\n\u001b[0m\u001b[1;32m    776\u001b[0m         \u001b[0mself\u001b[0m\u001b[0;34m.\u001b[0m\u001b[0m_result\u001b[0m \u001b[0;34m=\u001b[0m \u001b[0mresult\u001b[0m\u001b[0;34m\u001b[0m\u001b[0;34m\u001b[0m\u001b[0m\n\u001b[1;32m    777\u001b[0m         \u001b[0;32mif\u001b[0m \u001b[0mresult\u001b[0m\u001b[0;34m.\u001b[0m\u001b[0mserver_status\u001b[0m \u001b[0;32mis\u001b[0m \u001b[0;32mnot\u001b[0m \u001b[0;32mNone\u001b[0m\u001b[0;34m:\u001b[0m\u001b[0;34m\u001b[0m\u001b[0;34m\u001b[0m\u001b[0m\n",
      "\u001b[0;32m~/miniconda3/envs/kibini/lib/python3.8/site-packages/pymysql/connections.py\u001b[0m in \u001b[0;36mread\u001b[0;34m(self)\u001b[0m\n\u001b[1;32m   1154\u001b[0m     \u001b[0;32mdef\u001b[0m \u001b[0mread\u001b[0m\u001b[0;34m(\u001b[0m\u001b[0mself\u001b[0m\u001b[0;34m)\u001b[0m\u001b[0;34m:\u001b[0m\u001b[0;34m\u001b[0m\u001b[0;34m\u001b[0m\u001b[0m\n\u001b[1;32m   1155\u001b[0m         \u001b[0;32mtry\u001b[0m\u001b[0;34m:\u001b[0m\u001b[0;34m\u001b[0m\u001b[0;34m\u001b[0m\u001b[0m\n\u001b[0;32m-> 1156\u001b[0;31m             \u001b[0mfirst_packet\u001b[0m \u001b[0;34m=\u001b[0m \u001b[0mself\u001b[0m\u001b[0;34m.\u001b[0m\u001b[0mconnection\u001b[0m\u001b[0;34m.\u001b[0m\u001b[0m_read_packet\u001b[0m\u001b[0;34m(\u001b[0m\u001b[0;34m)\u001b[0m\u001b[0;34m\u001b[0m\u001b[0;34m\u001b[0m\u001b[0m\n\u001b[0m\u001b[1;32m   1157\u001b[0m \u001b[0;34m\u001b[0m\u001b[0m\n\u001b[1;32m   1158\u001b[0m             \u001b[0;32mif\u001b[0m \u001b[0mfirst_packet\u001b[0m\u001b[0;34m.\u001b[0m\u001b[0mis_ok_packet\u001b[0m\u001b[0;34m(\u001b[0m\u001b[0;34m)\u001b[0m\u001b[0;34m:\u001b[0m\u001b[0;34m\u001b[0m\u001b[0;34m\u001b[0m\u001b[0m\n",
      "\u001b[0;32m~/miniconda3/envs/kibini/lib/python3.8/site-packages/pymysql/connections.py\u001b[0m in \u001b[0;36m_read_packet\u001b[0;34m(self, packet_type)\u001b[0m\n\u001b[1;32m    690\u001b[0m         \u001b[0mbuff\u001b[0m \u001b[0;34m=\u001b[0m \u001b[0mbytearray\u001b[0m\u001b[0;34m(\u001b[0m\u001b[0;34m)\u001b[0m\u001b[0;34m\u001b[0m\u001b[0;34m\u001b[0m\u001b[0m\n\u001b[1;32m    691\u001b[0m         \u001b[0;32mwhile\u001b[0m \u001b[0;32mTrue\u001b[0m\u001b[0;34m:\u001b[0m\u001b[0;34m\u001b[0m\u001b[0;34m\u001b[0m\u001b[0m\n\u001b[0;32m--> 692\u001b[0;31m             \u001b[0mpacket_header\u001b[0m \u001b[0;34m=\u001b[0m \u001b[0mself\u001b[0m\u001b[0;34m.\u001b[0m\u001b[0m_read_bytes\u001b[0m\u001b[0;34m(\u001b[0m\u001b[0;36m4\u001b[0m\u001b[0;34m)\u001b[0m\u001b[0;34m\u001b[0m\u001b[0;34m\u001b[0m\u001b[0m\n\u001b[0m\u001b[1;32m    693\u001b[0m             \u001b[0;31m# if DEBUG: dump_packet(packet_header)\u001b[0m\u001b[0;34m\u001b[0m\u001b[0;34m\u001b[0m\u001b[0;34m\u001b[0m\u001b[0m\n\u001b[1;32m    694\u001b[0m \u001b[0;34m\u001b[0m\u001b[0m\n",
      "\u001b[0;32m~/miniconda3/envs/kibini/lib/python3.8/site-packages/pymysql/connections.py\u001b[0m in \u001b[0;36m_read_bytes\u001b[0;34m(self, num_bytes)\u001b[0m\n\u001b[1;32m    730\u001b[0m         \u001b[0;32mwhile\u001b[0m \u001b[0;32mTrue\u001b[0m\u001b[0;34m:\u001b[0m\u001b[0;34m\u001b[0m\u001b[0;34m\u001b[0m\u001b[0m\n\u001b[1;32m    731\u001b[0m             \u001b[0;32mtry\u001b[0m\u001b[0;34m:\u001b[0m\u001b[0;34m\u001b[0m\u001b[0;34m\u001b[0m\u001b[0m\n\u001b[0;32m--> 732\u001b[0;31m                 \u001b[0mdata\u001b[0m \u001b[0;34m=\u001b[0m \u001b[0mself\u001b[0m\u001b[0;34m.\u001b[0m\u001b[0m_rfile\u001b[0m\u001b[0;34m.\u001b[0m\u001b[0mread\u001b[0m\u001b[0;34m(\u001b[0m\u001b[0mnum_bytes\u001b[0m\u001b[0;34m)\u001b[0m\u001b[0;34m\u001b[0m\u001b[0;34m\u001b[0m\u001b[0m\n\u001b[0m\u001b[1;32m    733\u001b[0m                 \u001b[0;32mbreak\u001b[0m\u001b[0;34m\u001b[0m\u001b[0;34m\u001b[0m\u001b[0m\n\u001b[1;32m    734\u001b[0m             \u001b[0;32mexcept\u001b[0m \u001b[0;34m(\u001b[0m\u001b[0mIOError\u001b[0m\u001b[0;34m,\u001b[0m \u001b[0mOSError\u001b[0m\u001b[0;34m)\u001b[0m \u001b[0;32mas\u001b[0m \u001b[0me\u001b[0m\u001b[0;34m:\u001b[0m\u001b[0;34m\u001b[0m\u001b[0;34m\u001b[0m\u001b[0m\n",
      "\u001b[0;32m~/miniconda3/envs/kibini/lib/python3.8/socket.py\u001b[0m in \u001b[0;36mreadinto\u001b[0;34m(self, b)\u001b[0m\n\u001b[1;32m    667\u001b[0m         \u001b[0;32mwhile\u001b[0m \u001b[0;32mTrue\u001b[0m\u001b[0;34m:\u001b[0m\u001b[0;34m\u001b[0m\u001b[0;34m\u001b[0m\u001b[0m\n\u001b[1;32m    668\u001b[0m             \u001b[0;32mtry\u001b[0m\u001b[0;34m:\u001b[0m\u001b[0;34m\u001b[0m\u001b[0;34m\u001b[0m\u001b[0m\n\u001b[0;32m--> 669\u001b[0;31m                 \u001b[0;32mreturn\u001b[0m \u001b[0mself\u001b[0m\u001b[0;34m.\u001b[0m\u001b[0m_sock\u001b[0m\u001b[0;34m.\u001b[0m\u001b[0mrecv_into\u001b[0m\u001b[0;34m(\u001b[0m\u001b[0mb\u001b[0m\u001b[0;34m)\u001b[0m\u001b[0;34m\u001b[0m\u001b[0;34m\u001b[0m\u001b[0m\n\u001b[0m\u001b[1;32m    670\u001b[0m             \u001b[0;32mexcept\u001b[0m \u001b[0mtimeout\u001b[0m\u001b[0;34m:\u001b[0m\u001b[0;34m\u001b[0m\u001b[0;34m\u001b[0m\u001b[0m\n\u001b[1;32m    671\u001b[0m                 \u001b[0mself\u001b[0m\u001b[0;34m.\u001b[0m\u001b[0m_timeout_occurred\u001b[0m \u001b[0;34m=\u001b[0m \u001b[0;32mTrue\u001b[0m\u001b[0;34m\u001b[0m\u001b[0;34m\u001b[0m\u001b[0m\n",
      "\u001b[0;31mKeyboardInterrupt\u001b[0m: "
     ]
    }
   ],
   "source": [
    "query = f\"\"\"SELECT COUNT(bm.biblionumber)\n",
    "    FROM koha{year}.biblio_metadata bm\"\"\"\n",
    "r = pd.read_sql(query, db_conn)\n",
    "r"
   ]
  },
  {
   "cell_type": "markdown",
   "id": "8a5ef3a9",
   "metadata": {},
   "source": [
    "### Notices créées dans l'année"
   ]
  },
  {
   "cell_type": "code",
   "execution_count": null,
   "id": "2be39019",
   "metadata": {},
   "outputs": [],
   "source": [
    "query = f\"\"\"SELECT COUNT(bm.biblionumber)\n",
    "    FROM koha{year}.biblio_metadata bm\n",
    "    JOIN koha{year}.biblio b ON b.biblionumber = bm.biblionumber \n",
    "    WHERE YEAR(b.datecreated) = '{year}'\"\"\"\n",
    "r = pd.read_sql(query, db_conn)\n",
    "r"
   ]
  },
  {
   "cell_type": "markdown",
   "id": "4d9766a6",
   "metadata": {},
   "source": [
    "### Notices créées dans l'année \"à la main\""
   ]
  },
  {
   "cell_type": "code",
   "execution_count": null,
   "id": "eae1aee0",
   "metadata": {},
   "outputs": [],
   "source": [
    "query = f\"\"\"SELECT COUNT(bm.biblionumber)\n",
    "    FROM koha{year}.biblio_metadata bm\n",
    "    JOIN koha{year}.biblio b ON b.biblionumber = bm.biblionumber \n",
    "    WHERE YEAR(b.datecreated) = '{year}'\n",
    "    AND ExtractValue( bm.metadata, '//datafield[@tag=\"801\"]/subfield[@code=\"b\"]' ) = '595126101'\"\"\"\n",
    "r = pd.read_sql(query, db_conn)\n",
    "r"
   ]
  },
  {
   "cell_type": "markdown",
   "id": "503b3efc",
   "metadata": {},
   "source": [
    "### Nombre de notices entrées par importation dans l'année"
   ]
  },
  {
   "cell_type": "code",
   "execution_count": null,
   "id": "16946ca6",
   "metadata": {},
   "outputs": [],
   "source": [
    "# Nombre de notices entrées dans l'année - nombre de notices entrées à la main\n",
    "query = f\"\"\"SELECT COUNT(bm.biblionumber)\n",
    "    FROM koha{year}.biblio_metadata bm\n",
    "    JOIN koha{year}.biblio b ON b.biblionumber = bm.biblionumber \n",
    "    WHERE YEAR(b.datecreated) = '{year}'\n",
    "    AND ExtractValue( bm.metadata, '//datafield[@tag=\"801\"]/subfield[@code=\"b\"]' ) != '595126101'\"\"\"\n",
    "r = pd.read_sql(query, db_conn)\n",
    "r"
   ]
  },
  {
   "cell_type": "markdown",
   "id": "578efb3c",
   "metadata": {},
   "source": [
    "# D - Collections"
   ]
  },
  {
   "cell_type": "code",
   "execution_count": null,
   "id": "1421c2f6",
   "metadata": {},
   "outputs": [],
   "source": [
    "query = f\"\"\"SELECT\n",
    "                    i.itemnumber,\n",
    "                    i.barcode,\n",
    "                    i.dateaccessioned,\n",
    "                    i.price,\n",
    "                    i.homebranch,\n",
    "                    i.holdingbranch,\n",
    "                    i.location,\n",
    "                    i.ccode,\n",
    "                    i.itemcallnumber,\n",
    "                    i.notforloan,\n",
    "                    i.damaged,\n",
    "                    DATE(i.damaged_on),\n",
    "                    i.withdrawn,\n",
    "                    DATE(i.withdrawn_on),\n",
    "                    i.itemlost,\n",
    "                    DATE(i.itemlost_on),\n",
    "                    i.onloan,\n",
    "                    i.datelastborrowed,\n",
    "                    i.biblionumber,\n",
    "                    b.title as titre,\n",
    "                    bi.publicationyear,\n",
    "                    bi.itemtype,\n",
    "                    i.timestamp\n",
    "                FROM koha{year}.items i\n",
    "                JOIN koha{year}.biblioitems bi ON i.biblionumber = bi.biblionumber\n",
    "                JOIN koha{year}.biblio b ON i.biblionumber = b.biblionumber\n",
    "                WHERE i.notforloan IN (-1, -2, 0, 2, -4, -3, 5)\n",
    "                AND i.homebranch != 'MUS'\"\"\"\n",
    "items = pd.read_sql(query, db_conn)"
   ]
  },
  {
   "cell_type": "code",
   "execution_count": null,
   "id": "0981933b",
   "metadata": {},
   "outputs": [],
   "source": [
    "# On instancie la classe Document\n",
    "# La classe Document permet d'ajouter les infos dont ont a besoin pour le SLL\n",
    "\n",
    "exemplaires = Document(df=items, db_conn=db_conn)\n",
    "exemplaires.get_doc_statdb_data()\n",
    "exemplaires.get_doc_es_data()"
   ]
  },
  {
   "cell_type": "code",
   "execution_count": null,
   "id": "744a7616",
   "metadata": {},
   "outputs": [],
   "source": [
    "exemplaires.df.columns"
   ]
  },
  {
   "cell_type": "code",
   "execution_count": null,
   "id": "916ece94",
   "metadata": {},
   "outputs": [],
   "source": [
    "exemplaires.df['sll_acq'] = 'non'\n",
    "exemplaires.df.loc[exemplaires.df['doc_item_date_creation'].astype('str').str[0:4] == '2023', 'sll_acq' ] = 'oui'"
   ]
  },
  {
   "cell_type": "code",
   "execution_count": null,
   "id": "363614ba",
   "metadata": {},
   "outputs": [],
   "source": [
    "exemplaires_sll = exemplaires.df\n",
    "exemplaires_sll = exemplaires_sll[['sll_acq', 'sll_public', 'sll_acces', 'sll_collection', 'doc_biblio_id', 'doc_item_id']]"
   ]
  },
  {
   "cell_type": "code",
   "execution_count": null,
   "id": "3ee84a9e",
   "metadata": {},
   "outputs": [],
   "source": [
    "exemplaires_sll['sll_public'].value_counts()"
   ]
  },
  {
   "cell_type": "code",
   "execution_count": null,
   "id": "84c1d33e",
   "metadata": {},
   "outputs": [],
   "source": [
    "exemplaires_sll['sll_acq'].value_counts()"
   ]
  },
  {
   "cell_type": "code",
   "execution_count": null,
   "id": "769786bf",
   "metadata": {},
   "outputs": [],
   "source": [
    "exemplaires_sll['sll_acces'].value_counts()"
   ]
  },
  {
   "cell_type": "code",
   "execution_count": null,
   "id": "3f3f18e4",
   "metadata": {},
   "outputs": [],
   "source": [
    "query = f\"\"\"SELECT\n",
    "                    itemnumber,\n",
    "                    barcode,\n",
    "                    dateaccessioned,\n",
    "                    homebranch,\n",
    "                    location,\n",
    "                    ccode,\n",
    "                    biblionumber,\n",
    "                    itemtype\n",
    "                FROM statdb.stat_eliminations\n",
    "                WHERE annee_mise_pilon = '{year}'\"\"\"\n",
    "elim = pd.read_sql(query, db_conn)"
   ]
  },
  {
   "cell_type": "code",
   "execution_count": null,
   "id": "66ee9669",
   "metadata": {},
   "outputs": [],
   "source": [
    "eliminations = Document(df=elim, db_conn=db_conn)\n",
    "eliminations.get_doc_statdb_data()\n",
    "eliminations.get_doc_es_data()"
   ]
  },
  {
   "cell_type": "code",
   "execution_count": null,
   "id": "2ccc56ba",
   "metadata": {},
   "outputs": [],
   "source": [
    "eliminations_sll = eliminations.df\n",
    "eliminations_sll = eliminations_sll[['sll_public', 'sll_acces', 'sll_collection', 'doc_biblio_id', 'doc_item_id']]"
   ]
  },
  {
   "cell_type": "markdown",
   "id": "78af9a99",
   "metadata": {},
   "source": [
    "## D1 - Livres imprimés"
   ]
  },
  {
   "cell_type": "code",
   "execution_count": null,
   "id": "3ebaa22d",
   "metadata": {},
   "outputs": [],
   "source": [
    "data = exemplaires_sll[exemplaires_sll['sll_collection'] == 'D1 - Livres imprimés']\n",
    "data_el = eliminations_sll[eliminations_sll['sll_collection'] == 'D1 - Livres imprimés']"
   ]
  },
  {
   "cell_type": "markdown",
   "id": "52a365dd",
   "metadata": {},
   "source": [
    "### Fonds\n",
    "#### UM - Adultes et Enfants"
   ]
  },
  {
   "cell_type": "code",
   "execution_count": null,
   "id": "c43641a0",
   "metadata": {},
   "outputs": [],
   "source": [
    "data.groupby(['sll_public'])['doc_item_id'].nunique()"
   ]
  },
  {
   "cell_type": "markdown",
   "id": "b3bfaa0e",
   "metadata": {},
   "source": [
    "#### UM en libre-accès - Adultes et Enfants"
   ]
  },
  {
   "cell_type": "code",
   "execution_count": null,
   "id": "bfe8f073",
   "metadata": {},
   "outputs": [],
   "source": [
    "data_libre_acces = data[data['sll_acces'] == 'accès direct']\n",
    "data_libre_acces.groupby(['sll_public'])['doc_item_id'].nunique()"
   ]
  },
  {
   "cell_type": "markdown",
   "id": "c9d88e0e",
   "metadata": {},
   "source": [
    "#### TIT en libre accès - Adultes et Enfants"
   ]
  },
  {
   "cell_type": "code",
   "execution_count": null,
   "id": "758bfc9c",
   "metadata": {},
   "outputs": [],
   "source": [
    "data_libre_acces = data[data['sll_acces'] == 'accès direct']\n",
    "data_libre_acces.groupby(['sll_public'])['doc_biblio_id'].nunique()"
   ]
  },
  {
   "cell_type": "markdown",
   "id": "c08542d2",
   "metadata": {},
   "source": [
    "### Acquisitions"
   ]
  },
  {
   "cell_type": "code",
   "execution_count": null,
   "id": "8c7faf50",
   "metadata": {},
   "outputs": [],
   "source": [
    "data[data['sll_acq'] == 'oui'].groupby(['sll_public'])['doc_item_id'].nunique()"
   ]
  },
  {
   "cell_type": "code",
   "execution_count": null,
   "id": "75e51a28",
   "metadata": {},
   "outputs": [],
   "source": [
    "data[(data['sll_acq'] == 'oui')\n",
    "     & (data['sll_acces'] == 'accès direct')].groupby(['sll_public'])['doc_biblio_id'].nunique()"
   ]
  },
  {
   "cell_type": "markdown",
   "id": "5ab191de",
   "metadata": {},
   "source": [
    "#### Eliminations"
   ]
  },
  {
   "cell_type": "code",
   "execution_count": null,
   "id": "7927a091",
   "metadata": {},
   "outputs": [],
   "source": [
    "data_el.groupby(['sll_public'])['doc_item_id'].nunique()"
   ]
  },
  {
   "cell_type": "markdown",
   "id": "ef89f935",
   "metadata": {},
   "source": [
    "###  TEST LUCAS"
   ]
  },
  {
   "cell_type": "code",
   "execution_count": null,
   "id": "608ee86c",
   "metadata": {},
   "outputs": [],
   "source": [
    "data.groupby(['sll_public'])['doc_item_id'].nunique()"
   ]
  },
  {
   "cell_type": "code",
   "execution_count": null,
   "id": "c8a19d22",
   "metadata": {},
   "outputs": [],
   "source": [
    "import numpy as np\n",
    "data_fonds = data.pivot_table(index=['sll_public','sll_acces'],\n",
    "                             values=['doc_item_id','doc_biblio_id'],\n",
    "                             aggfunc=\"nunique\",\n",
    "                             #margins=True,\n",
    "                             #margins_name='Total'\n",
    "                )\n",
    "#data_fonds['total'] = data_fonds['doc_biblio_id'] + data_fonds['doc_item_id']\n",
    "\n",
    "data_fonds_concat = pd.concat([\n",
    "    y.append(y.sum().rename((x, 'Sous-Total')))\n",
    "    for x, y in data_fonds.groupby(level=0)]).append(data_fonds.sum().rename(('Enfants + Adultes','Total')))\n",
    "data_fonds_concat"
   ]
  },
  {
   "cell_type": "markdown",
   "id": "5d22b459",
   "metadata": {},
   "source": [
    "## D3 - Autres documents"
   ]
  },
  {
   "cell_type": "markdown",
   "id": "fda07e7d",
   "metadata": {},
   "source": [
    "###  Documents cartographiques"
   ]
  },
  {
   "cell_type": "code",
   "execution_count": null,
   "id": "e3cc9a4a",
   "metadata": {},
   "outputs": [],
   "source": [
    "data = exemplaires_sll[exemplaires_sll['sll_collection'] == 'D3 – Documents cartographiques']"
   ]
  },
  {
   "cell_type": "code",
   "execution_count": null,
   "id": "2ae968cb",
   "metadata": {},
   "outputs": [],
   "source": [
    "data['doc_item_id'].nunique()"
   ]
  },
  {
   "cell_type": "code",
   "execution_count": null,
   "id": "aa97a3e4",
   "metadata": {},
   "outputs": [],
   "source": [
    "data[data['sll_acq'] == 'oui']['doc_item_id'].nunique()"
   ]
  },
  {
   "cell_type": "markdown",
   "id": "6ecc16d4",
   "metadata": {},
   "source": [
    "###  Musique imprimée"
   ]
  },
  {
   "cell_type": "code",
   "execution_count": null,
   "id": "9d05d0f6",
   "metadata": {},
   "outputs": [],
   "source": [
    "data = exemplaires_sll[exemplaires_sll['sll_collection'] == 'D3 – Musique imprimée']"
   ]
  },
  {
   "cell_type": "code",
   "execution_count": null,
   "id": "354c9d4c",
   "metadata": {},
   "outputs": [],
   "source": [
    "data['doc_item_id'].nunique()"
   ]
  },
  {
   "cell_type": "code",
   "execution_count": null,
   "id": "1579485b",
   "metadata": {},
   "outputs": [],
   "source": [
    "data[data['sll_acq'] == 'oui']['doc_item_id'].nunique()"
   ]
  },
  {
   "cell_type": "code",
   "execution_count": null,
   "id": "cda59b00",
   "metadata": {},
   "outputs": [],
   "source": [
    "data[(data['sll_acces'] == 'accès direct')]['doc_item_id'].nunique()"
   ]
  },
  {
   "cell_type": "code",
   "execution_count": null,
   "id": "8ab18036",
   "metadata": {},
   "outputs": [],
   "source": [
    "data[(data['sll_acces'] == 'accès direct')]['doc_biblio_id'].nunique()"
   ]
  },
  {
   "cell_type": "code",
   "execution_count": null,
   "id": "fccf0cf4",
   "metadata": {},
   "outputs": [],
   "source": [
    "data[(data['sll_acces'] == 'accès direct') & (data['sll_acq'] == 'oui')]['doc_biblio_id'].nunique()"
   ]
  },
  {
   "cell_type": "markdown",
   "id": "c275013b",
   "metadata": {},
   "source": [
    "###  Documents graphiques"
   ]
  },
  {
   "cell_type": "code",
   "execution_count": null,
   "id": "36f0cdb7",
   "metadata": {},
   "outputs": [],
   "source": [
    "data = exemplaires_sll[exemplaires_sll['sll_collection'] == 'D3 - Documents graphiques']"
   ]
  },
  {
   "cell_type": "code",
   "execution_count": null,
   "id": "5ce481ca",
   "metadata": {},
   "outputs": [],
   "source": [
    "data['doc_item_id'].nunique()"
   ]
  },
  {
   "cell_type": "code",
   "execution_count": null,
   "id": "cbb28bb0",
   "metadata": {},
   "outputs": [],
   "source": [
    "data[data['sll_acq'] == 'oui']['doc_item_id'].nunique()"
   ]
  },
  {
   "cell_type": "markdown",
   "id": "fed4ebb0",
   "metadata": {},
   "source": [
    "###  Autres documents"
   ]
  },
  {
   "cell_type": "code",
   "execution_count": null,
   "id": "f221daa5",
   "metadata": {},
   "outputs": [],
   "source": [
    "data = exemplaires_sll[exemplaires_sll['sll_collection'] == 'D3 - Autres documents']"
   ]
  },
  {
   "cell_type": "code",
   "execution_count": null,
   "id": "0a82a5a8",
   "metadata": {},
   "outputs": [],
   "source": [
    "data['doc_item_id'].nunique()"
   ]
  },
  {
   "cell_type": "code",
   "execution_count": null,
   "id": "c0b10e7f",
   "metadata": {},
   "outputs": [],
   "source": [
    "data[data['sll_acq'] == 'oui']['doc_item_id'].nunique()"
   ]
  },
  {
   "cell_type": "markdown",
   "id": "15694ae0",
   "metadata": {},
   "source": [
    "### Eliminations"
   ]
  },
  {
   "cell_type": "code",
   "execution_count": null,
   "id": "5a9d6c99",
   "metadata": {},
   "outputs": [],
   "source": [
    "data_el = eliminations_sll[eliminations_sll['sll_collection'].str[:2] == 'D3']\n",
    "len(data_el)"
   ]
  },
  {
   "cell_type": "markdown",
   "id": "752cea36",
   "metadata": {},
   "source": [
    "## D4 - Documents audiovisuels sur support"
   ]
  },
  {
   "cell_type": "code",
   "execution_count": null,
   "id": "fd02300f",
   "metadata": {},
   "outputs": [],
   "source": [
    "exemplaires_sll['sll_collection'].value_counts()"
   ]
  },
  {
   "cell_type": "code",
   "execution_count": null,
   "id": "3fa19845",
   "metadata": {},
   "outputs": [],
   "source": [
    "d4_coll = exemplaires_sll[exemplaires_sll['sll_collection'].str[:2] == 'D4']['sll_collection'].unique().tolist()"
   ]
  },
  {
   "cell_type": "code",
   "execution_count": null,
   "id": "c934310e",
   "metadata": {},
   "outputs": [],
   "source": [
    "for c in d4_coll:\n",
    "    print(c)\n",
    "    print('-------------')\n",
    "    data = exemplaires_sll[exemplaires_sll['sll_collection'] == c]\n",
    "    data_el = eliminations_sll[eliminations_sll['sll_collection'] == c]\n",
    "    print(f\"fonds : {len(data)}\")\n",
    "    print(f\"acquisitions : {len(data[data['sll_acq'] == 'oui'])}\")\n",
    "    print(f\"eliminations : {len(data_el)}\")\n",
    "    \n",
    "    print('-------------') "
   ]
  },
  {
   "cell_type": "code",
   "execution_count": null,
   "id": "2927e17f",
   "metadata": {},
   "outputs": [],
   "source": [
    "data = exemplaires_sll[exemplaires_sll['sll_collection'] == 'D1 - Livres imprimés']\n",
    "data_el = eliminations_sll[eliminations_sll['sll_collection'] == 'D1 - Livres imprimés']"
   ]
  },
  {
   "cell_type": "markdown",
   "id": "4628911a",
   "metadata": {},
   "source": [
    "# E - Usages et usagers de la bibliothèque"
   ]
  },
  {
   "cell_type": "markdown",
   "id": "298bab1a",
   "metadata": {},
   "source": [
    "## E1 - Usagers"
   ]
  },
  {
   "cell_type": "code",
   "execution_count": null,
   "id": "4a114f44",
   "metadata": {},
   "outputs": [],
   "source": [
    "query = f\"\"\"SELECT\n",
    "    date_extraction,\n",
    "    age as adh_age,\n",
    "    geo_ville as adh_geo_ville,\n",
    "    geo_roubaix_iris as adh_geo_rbx_iris_code,\n",
    "    sexe as adh_sexe,\n",
    "    inscription_code_carte as adh_inscription_carte_code,\n",
    "    inscription_code_site as adh_inscription_site_code,\n",
    "    inscription_attribut as adh_inscription_attribut_action_code,\n",
    "    inscription_fidelite as adh_inscription_nb_annees_adhesion,\n",
    "    nb_venues_prets_mediatheque,\n",
    "    nb_venues_prets_bus\n",
    "FROM statdb.stat_adherents WHERE date_extraction = '{date_extraction_usagers}'\"\"\"\n",
    "inscrits = pd.read_sql(query, db_conn)"
   ]
  },
  {
   "cell_type": "code",
   "execution_count": null,
   "id": "6d7b7497",
   "metadata": {},
   "outputs": [],
   "source": [
    "adh = Adherent(df=inscrits, db_conn=db_conn)\n",
    "adh.get_adherent_statdb_data()\n",
    "adh.get_adherent_es_data()"
   ]
  },
  {
   "cell_type": "code",
   "execution_count": null,
   "id": "38f0a33b",
   "metadata": {},
   "outputs": [],
   "source": [
    "adh.df['nb'] = 1\n",
    "adh.df['adh_age_sll'] = 'Non pertinent'\n",
    "adh.df.loc[adh.df['adh_age_lib3'] == '0 - 14 ans', 'adh_age_sll'] = '0 - 14 ans'\n",
    "adh.df.loc[adh.df['adh_age_lib3'] == '15 - 24 ans', 'adh_age_sll'] = '15 - 64 ans'\n",
    "adh.df.loc[adh.df['adh_age_lib3'] == '25 - 64 ans', 'adh_age_sll'] = '15 - 64 ans'\n",
    "adh.df.loc[adh.df['adh_age_lib3'] == '65 ans et plus', 'adh_age_sll'] = '65 ans et plus'\n",
    "adh.df.loc[adh.df['adh_age_lib3'] == 'Inconnu', 'adh_age_sll'] = 'Inconnu'"
   ]
  },
  {
   "cell_type": "markdown",
   "id": "96700cd8",
   "metadata": {},
   "source": [
    "### Inscrits actifs"
   ]
  },
  {
   "cell_type": "code",
   "execution_count": null,
   "id": "58812cb4",
   "metadata": {},
   "outputs": [],
   "source": [
    "data = adh.df"
   ]
  },
  {
   "cell_type": "code",
   "execution_count": null,
   "id": "b7984a8b",
   "metadata": {},
   "outputs": [],
   "source": [
    "data.groupby(['adh_age_sll', 'adh_sexe'])['nb'].sum()"
   ]
  },
  {
   "cell_type": "code",
   "execution_count": null,
   "id": "a5bd3147",
   "metadata": {},
   "outputs": [],
   "source": [
    "data.groupby(['adh_age_sll'])['nb'].sum()"
   ]
  },
  {
   "cell_type": "code",
   "execution_count": null,
   "id": "dabe709c",
   "metadata": {},
   "outputs": [],
   "source": [
    "data.groupby(['adh_age_lib2', 'adh_sexe'])['nb'].sum()"
   ]
  },
  {
   "cell_type": "code",
   "execution_count": null,
   "id": "2c60606a",
   "metadata": {},
   "outputs": [],
   "source": [
    "data[(data['adh_geo_ville'] == 'ROUBAIX') & (~adh.df['adh_age_sll'].isin(['Non pertinent', 'Inconnu']))]['nb'].sum()"
   ]
  },
  {
   "cell_type": "markdown",
   "id": "0338da86",
   "metadata": {},
   "source": [
    "### dont nouveaux inscrits"
   ]
  },
  {
   "cell_type": "code",
   "execution_count": null,
   "id": "e01ccd43",
   "metadata": {},
   "outputs": [],
   "source": [
    "data = adh.df[adh.df['adh_inscription_nb_annees_adhesion'] == 0]\n",
    "len(data)"
   ]
  },
  {
   "cell_type": "code",
   "execution_count": null,
   "id": "b08c5dda",
   "metadata": {},
   "outputs": [],
   "source": [
    "data.groupby(['adh_age_sll', 'adh_sexe'])['nb'].sum()"
   ]
  },
  {
   "cell_type": "code",
   "execution_count": null,
   "id": "d2122b67",
   "metadata": {},
   "outputs": [],
   "source": [
    "data.groupby(['adh_age_sll'])['nb'].sum()"
   ]
  },
  {
   "cell_type": "code",
   "execution_count": null,
   "id": "16b21c63",
   "metadata": {},
   "outputs": [],
   "source": [
    "data.groupby(['adh_age_lib2', 'adh_sexe'])['nb'].sum()"
   ]
  },
  {
   "cell_type": "code",
   "execution_count": null,
   "id": "a21daf04",
   "metadata": {},
   "outputs": [],
   "source": [
    "data.groupby(['adh_age_lib2'])['nb'].sum()"
   ]
  },
  {
   "cell_type": "code",
   "execution_count": null,
   "id": "6f2318bc",
   "metadata": {},
   "outputs": [],
   "source": [
    "data[(data['adh_geo_ville'] == 'ROUBAIX') & (~adh.df['adh_age_sll'].isin(['Non pertinent', 'Inconnu']))]['nb'].sum()"
   ]
  },
  {
   "cell_type": "code",
   "execution_count": null,
   "id": "3bd9952c",
   "metadata": {},
   "outputs": [],
   "source": [
    "data['adh_inscription_carte_personnalite'].value_counts()"
   ]
  },
  {
   "cell_type": "markdown",
   "id": "365efbd0",
   "metadata": {},
   "source": [
    "### Emprunteurs actifs"
   ]
  },
  {
   "cell_type": "code",
   "execution_count": null,
   "id": "ca184add",
   "metadata": {},
   "outputs": [],
   "source": [
    "adh.df.columns"
   ]
  },
  {
   "cell_type": "code",
   "execution_count": null,
   "id": "ca276820",
   "metadata": {},
   "outputs": [],
   "source": [
    "adh.df['emprunteur'] = 'non'\n",
    "adh.df.loc[adh.df['nb_venues_prets_bus'] > 0, 'emprunteur'] = 'oui'\n",
    "adh.df.loc[adh.df['nb_venues_prets_mediatheque'] > 0, 'emprunteur'] = 'oui'\n",
    "\n",
    "data = adh.df[adh.df['emprunteur'] == 'oui']\n",
    "len(data)"
   ]
  },
  {
   "cell_type": "code",
   "execution_count": null,
   "id": "1b7e2e95",
   "metadata": {},
   "outputs": [],
   "source": [
    "data.groupby(['adh_age_sll', 'adh_sexe'])['nb'].sum()"
   ]
  },
  {
   "cell_type": "code",
   "execution_count": null,
   "id": "1a096f0b",
   "metadata": {},
   "outputs": [],
   "source": [
    "data.groupby(['adh_age_sll'])['nb'].sum()"
   ]
  },
  {
   "cell_type": "code",
   "execution_count": null,
   "id": "96d68bd9",
   "metadata": {},
   "outputs": [],
   "source": [
    "data.groupby(['adh_age_lib2', 'adh_sexe'])['nb'].sum()"
   ]
  },
  {
   "cell_type": "code",
   "execution_count": null,
   "id": "f8962100",
   "metadata": {},
   "outputs": [],
   "source": [
    "data.groupby(['adh_age_lib2'])['nb'].sum()"
   ]
  },
  {
   "cell_type": "code",
   "execution_count": null,
   "id": "12b96e58",
   "metadata": {},
   "outputs": [],
   "source": [
    "data[(data['adh_geo_ville'] == 'ROUBAIX') & (~adh.df['adh_age_sll'].isin(['Non pertinent', 'Inconnu']))]['nb'].sum()"
   ]
  },
  {
   "cell_type": "code",
   "execution_count": null,
   "id": "71f57180",
   "metadata": {},
   "outputs": [],
   "source": [
    "data['adh_inscription_carte_personnalite'].value_counts()"
   ]
  },
  {
   "cell_type": "markdown",
   "id": "91bf7832",
   "metadata": {},
   "source": [
    "### Fréquentation : entrées dans l'établissement"
   ]
  },
  {
   "cell_type": "code",
   "execution_count": null,
   "id": "1beb2b4f",
   "metadata": {},
   "outputs": [],
   "source": [
    "query = f\"\"\"SELECT\n",
    "    SUM(entrees)\n",
    "FROM statdb.stat_entrees WHERE YEAR(datetime) = '{year}'\"\"\"\n",
    "entrees = pd.read_sql(query, db_conn)\n",
    "entrees"
   ]
  },
  {
   "cell_type": "markdown",
   "id": "269bf245",
   "metadata": {},
   "source": [
    "## E2 - Prêts"
   ]
  },
  {
   "cell_type": "code",
   "execution_count": null,
   "id": "884ab43f",
   "metadata": {},
   "outputs": [],
   "source": [
    "query = f\"\"\"SELECT\n",
    "    issuedate as pret_date,\n",
    "    date_due as pret_date_retour_prevue,\n",
    "    returndate as pret_date_retour_effectif,\n",
    "    renewals as pret_nb_renouvellement,\n",
    "    branch as pret_site_pret_code,\n",
    "    age as adh_age,\n",
    "    sexe as adh_sexe_code,\n",
    "    ville as adh_geo_ville,\n",
    "    iris as adh_geo_rbx_iris_code,\n",
    "    branchcode as adh_inscription_site_code,\n",
    "    categorycode as adh_inscription_carte_code,\n",
    "    fidelite as adh_inscription_nb_annees_adhesion,\n",
    "    itemnumber as doc_item_id,\n",
    "    homebranch as doc_item_site_detenteur_code,\n",
    "    location as doc_item_localisation_code,\n",
    "    ccode as doc_item_collection_ccode,\n",
    "    itemcallnumber as doc_item_cote,\n",
    "    itemtype as doc_biblio_support_code,\n",
    "    publicationyear as doc_biblio_annee_publication,\n",
    "    biblionumber as doc_biblio_id,\n",
    "    dateaccessioned as doc_item_date_creation\n",
    "FROM statdb.stat_issues\n",
    "WHERE YEAR(issuedate) = '{year}'\"\"\"\n",
    "prts = pd.read_sql(query, db_conn)\n",
    "len(prts)"
   ]
  },
  {
   "cell_type": "code",
   "execution_count": null,
   "id": "38db9951",
   "metadata": {},
   "outputs": [],
   "source": [
    "c2l = Code2Libelle(db_conn)\n",
    "c2l.get_val()\n",
    "c2l = c2l.dict_codes_lib\n",
    "\n",
    "prets = Pret(df=prts, db_conn=db_conn, c2l=c2l)\n",
    "prets.get_pret_statdb_data()\n",
    "prets.get_pret_es_data()"
   ]
  },
  {
   "cell_type": "code",
   "execution_count": null,
   "id": "112e8753",
   "metadata": {},
   "outputs": [],
   "source": [
    "prets_sll = prets.df[['sll_public', 'sll_acces', 'sll_prets_coll', 'sll_collection', 'sll_prets']]\n",
    "prets_sll['nb'] = 1"
   ]
  },
  {
   "cell_type": "code",
   "execution_count": null,
   "id": "bb4ea0ba",
   "metadata": {},
   "outputs": [],
   "source": [
    "prets_sll['sll_prets'].value_counts()"
   ]
  },
  {
   "cell_type": "code",
   "execution_count": null,
   "id": "2a88f70c",
   "metadata": {},
   "outputs": [],
   "source": [
    "prets_sll['sll_public'].value_counts()"
   ]
  },
  {
   "cell_type": "code",
   "execution_count": null,
   "id": "ef51ae84",
   "metadata": {},
   "outputs": [],
   "source": [
    "prets_sll['sll_prets_coll'].value_counts()"
   ]
  },
  {
   "cell_type": "markdown",
   "id": "53c13c0f",
   "metadata": {},
   "source": [
    "### Hors collectivités"
   ]
  },
  {
   "cell_type": "code",
   "execution_count": null,
   "id": "28473caa",
   "metadata": {},
   "outputs": [],
   "source": [
    "data = prets_sll[prets_sll['sll_prets_coll'] == 'Pas de prêt aux collectivités']"
   ]
  },
  {
   "cell_type": "code",
   "execution_count": null,
   "id": "894e87ba",
   "metadata": {},
   "outputs": [],
   "source": [
    "data.groupby(['sll_prets'])['nb'].sum()"
   ]
  },
  {
   "cell_type": "code",
   "execution_count": null,
   "id": "aa19b6de",
   "metadata": {},
   "outputs": [],
   "source": [
    "data.groupby(['sll_prets', 'sll_public'])['nb'].sum()"
   ]
  },
  {
   "cell_type": "code",
   "execution_count": null,
   "id": "3d21a6a6",
   "metadata": {},
   "outputs": [],
   "source": [
    "data.groupby(['sll_public'])['nb'].sum()"
   ]
  },
  {
   "cell_type": "code",
   "execution_count": null,
   "id": "59af800b",
   "metadata": {},
   "outputs": [],
   "source": [
    "data['nb'].sum()"
   ]
  },
  {
   "cell_type": "markdown",
   "id": "11ae6b59",
   "metadata": {},
   "source": [
    "### Collectivités"
   ]
  },
  {
   "cell_type": "code",
   "execution_count": null,
   "id": "904cf0f7",
   "metadata": {},
   "outputs": [],
   "source": [
    "data = prets_sll[prets_sll['sll_prets_coll'] == 'Prêt aux collectivités']\n",
    "len(data)"
   ]
  },
  {
   "cell_type": "code",
   "execution_count": null,
   "id": "f2b6defc",
   "metadata": {},
   "outputs": [],
   "source": [
    "data.groupby(['sll_prets'])['nb'].sum()"
   ]
  },
  {
   "cell_type": "code",
   "execution_count": null,
   "id": "4012a83c",
   "metadata": {},
   "outputs": [],
   "source": [
    "prets_sll[prets_sll['sll_prets_coll'] == 'Prêt aux collectivités']"
   ]
  },
  {
   "cell_type": "markdown",
   "id": "9d9fe514",
   "metadata": {},
   "source": [
    "## E3 - Autres types d'usages"
   ]
  },
  {
   "cell_type": "markdown",
   "id": "d96dd165",
   "metadata": {},
   "source": [
    "### Réservations"
   ]
  },
  {
   "cell_type": "code",
   "execution_count": null,
   "id": "65955913",
   "metadata": {},
   "outputs": [],
   "source": [
    "query = f\"\"\"SELECT\n",
    "    COUNT(*)\n",
    "FROM statdb.stat_reserves WHERE YEAR(reservedate) = '{year}'\"\"\"\n",
    "r = pd.read_sql(query, db_conn)\n",
    "r"
   ]
  },
  {
   "cell_type": "markdown",
   "id": "b2bbf3d3",
   "metadata": {},
   "source": [
    "## E5 - Sessions internet (connexions + wifi)"
   ]
  },
  {
   "cell_type": "code",
   "execution_count": null,
   "id": "ab57fbdb",
   "metadata": {},
   "outputs": [],
   "source": [
    "query = f\"\"\"SELECT\n",
    "    COUNT(*)\n",
    "FROM statdb.stat_webkiosk WHERE YEAR(heure_deb) = '{year}'\"\"\"\n",
    "r = pd.read_sql(query, db_conn)\n",
    "r"
   ]
  },
  {
   "cell_type": "code",
   "execution_count": null,
   "id": "4b3383a6",
   "metadata": {},
   "outputs": [],
   "source": [
    "query = f\"\"\"SELECT\n",
    "    COUNT(*)\n",
    "FROM statdb.stat_wifi WHERE YEAR(start_wifi) = '{year}'\"\"\"\n",
    "r = pd.read_sql(query, db_conn)\n",
    "r"
   ]
  },
  {
   "cell_type": "markdown",
   "id": "cad26f59",
   "metadata": {},
   "source": [
    "### E502 - Nombre de visites du site dans la bibliothèque (visite interne)"
   ]
  },
  {
   "cell_type": "code",
   "execution_count": null,
   "id": "469c8585",
   "metadata": {},
   "outputs": [],
   "source": [
    "query = f\"\"\"SELECT SUM(visites) AS 'Total visites interne'\n",
    "FROM statdb.stat_web2 sw \n",
    "WHERE YEAR(`date`) = {year}\n",
    "AND origine = 'interne'\"\"\"\n",
    "\n",
    "pd.read_sql(query,db_conn)"
   ]
  },
  {
   "cell_type": "markdown",
   "id": "64756120",
   "metadata": {},
   "source": [
    "### E503 - Nombre de visite du site internet hors bibliothèque (visite externe)"
   ]
  },
  {
   "cell_type": "code",
   "execution_count": null,
   "id": "22e99d93",
   "metadata": {},
   "outputs": [],
   "source": [
    "query = f\"\"\"SELECT SUM(visites) AS 'Total visites externe'\n",
    "FROM statdb.stat_web2 sw \n",
    "WHERE YEAR(`date`) = {year}\n",
    "AND origine = 'externe'\"\"\"\n",
    "\n",
    "pd.read_sql(query,db_conn)"
   ]
  },
  {
   "cell_type": "markdown",
   "id": "13a5befc",
   "metadata": {},
   "source": [
    "# H4 - Action culturelle"
   ]
  },
  {
   "cell_type": "code",
   "execution_count": null,
   "id": "3aa317f2",
   "metadata": {},
   "outputs": [],
   "source": [
    "query = f\"SELECT * FROM statdb.stat_action_culturelle WHERE YEAR(`date`)={year}\""
   ]
  },
  {
   "cell_type": "code",
   "execution_count": null,
   "id": "144f0c2f",
   "metadata": {},
   "outputs": [],
   "source": [
    "ac_2023 = pd.read_sql(query,db_conn)"
   ]
  },
  {
   "cell_type": "markdown",
   "id": "737cf7bd",
   "metadata": {},
   "source": [
    "## H2 - Etablissements culturels"
   ]
  },
  {
   "cell_type": "markdown",
   "id": "afcb4b9d",
   "metadata": {},
   "source": [
    "> Pour l'année 2023, je vais sortir une liste à compléter par Mathilde M. pour lister les partenaires par types d'établissement culturel\n",
    "\n",
    "> Il faudra ensuite importé le tableau complété et faire les requêtes nécessaires"
   ]
  },
  {
   "cell_type": "code",
   "execution_count": null,
   "id": "f73a501d",
   "metadata": {},
   "outputs": [],
   "source": [
    "ac_partenariats_23 = ac_2023.groupby([\"type\",\"partenariat\"])[\"participants\"].sum().to_frame()"
   ]
  },
  {
   "cell_type": "code",
   "execution_count": null,
   "id": "72539d0f",
   "metadata": {},
   "outputs": [],
   "source": [
    "ac_partenariats_23.to_excel(\"../data_lucas/liste_partenariats_action_culturelle_2023_V2.xlsx\")"
   ]
  },
  {
   "cell_type": "code",
   "execution_count": null,
   "id": "38e0cc77",
   "metadata": {},
   "outputs": [],
   "source": [
    "# Création d'une liste des partenaires et du nombre de participant pour chacun\n",
    "ac_2023.groupby('partenariat')['participants'].sum(\"total_participants\").to_frame().to_excel('../data_lucas/liste_partenariats_action_culturelle_2023.xlsx')"
   ]
  },
  {
   "cell_type": "code",
   "execution_count": null,
   "id": "b057b437",
   "metadata": {},
   "outputs": [],
   "source": [
    "#Import de la liste complété\n"
   ]
  },
  {
   "cell_type": "markdown",
   "id": "a13e7ef6",
   "metadata": {},
   "source": [
    "## H4 Actions au sein de l'établissement"
   ]
  },
  {
   "cell_type": "code",
   "execution_count": 96,
   "id": "96e38fe8",
   "metadata": {},
   "outputs": [],
   "source": [
    "# Ajouter une colonne Conférences, rencontres, lecture = Conférence + Rencontre/conférence + lecture"
   ]
  },
  {
   "cell_type": "code",
   "execution_count": 97,
   "id": "be9b5c37",
   "metadata": {},
   "outputs": [],
   "source": [
    "# Recréer des catégories d'usagers sur la base des données suivantes : \n",
    "# Tous publics = toutes les actions qui ne sont pas Enfants\n",
    "# Enfants = 0-14 ans\n",
    "# Tous publics = inverse de Enfants et PetiteEnfance\n",
    "# Enfants = Enfants + Petite Enfance"
   ]
  },
  {
   "cell_type": "code",
   "execution_count": 98,
   "id": "7ef0adb3",
   "metadata": {},
   "outputs": [],
   "source": [
    "ac_2023['public_sll'] = np.NaN"
   ]
  },
  {
   "cell_type": "code",
   "execution_count": 99,
   "id": "f5ca90f2",
   "metadata": {},
   "outputs": [],
   "source": [
    "ac_2023.loc[ac_2023['public'].isin(['Enfants','Petite enfance']),['public_sll']] = 'Enfants' "
   ]
  },
  {
   "cell_type": "code",
   "execution_count": 100,
   "id": "99c65982",
   "metadata": {},
   "outputs": [],
   "source": [
    "ac_2023.loc[~ac_2023['public'].isin(['Enfants','Petite enfance']),['public_sll']] = 'Tous publics' "
   ]
  },
  {
   "cell_type": "code",
   "execution_count": 101,
   "id": "92415095",
   "metadata": {},
   "outputs": [
    {
     "data": {
      "text/html": [
       "<div>\n",
       "<style scoped>\n",
       "    .dataframe tbody tr th:only-of-type {\n",
       "        vertical-align: middle;\n",
       "    }\n",
       "\n",
       "    .dataframe tbody tr th {\n",
       "        vertical-align: top;\n",
       "    }\n",
       "\n",
       "    .dataframe thead th {\n",
       "        text-align: right;\n",
       "    }\n",
       "</style>\n",
       "<table border=\"1\" class=\"dataframe\">\n",
       "  <thead>\n",
       "    <tr style=\"text-align: right;\">\n",
       "      <th></th>\n",
       "      <th>id</th>\n",
       "      <th>date</th>\n",
       "      <th>action</th>\n",
       "      <th>lieu</th>\n",
       "      <th>type</th>\n",
       "      <th>public</th>\n",
       "      <th>partenariat</th>\n",
       "      <th>participants</th>\n",
       "      <th>jauge</th>\n",
       "      <th>evenement</th>\n",
       "      <th>notes</th>\n",
       "      <th>public_sll</th>\n",
       "    </tr>\n",
       "  </thead>\n",
       "  <tbody>\n",
       "    <tr>\n",
       "      <th>0</th>\n",
       "      <td>1613</td>\n",
       "      <td>2024-01-03</td>\n",
       "      <td>Jeux vidéo</td>\n",
       "      <td>La criée</td>\n",
       "      <td>Jeux</td>\n",
       "      <td>Tout public</td>\n",
       "      <td>None</td>\n",
       "      <td>60.0</td>\n",
       "      <td>NaN</td>\n",
       "      <td>None</td>\n",
       "      <td>None</td>\n",
       "      <td>Tous publics</td>\n",
       "    </tr>\n",
       "    <tr>\n",
       "      <th>1</th>\n",
       "      <td>1614</td>\n",
       "      <td>2024-01-06</td>\n",
       "      <td>Jeux vidéo</td>\n",
       "      <td>La criée</td>\n",
       "      <td>Jeux</td>\n",
       "      <td>Tout public</td>\n",
       "      <td>None</td>\n",
       "      <td>55.0</td>\n",
       "      <td>NaN</td>\n",
       "      <td>None</td>\n",
       "      <td>None</td>\n",
       "      <td>Tous publics</td>\n",
       "    </tr>\n",
       "    <tr>\n",
       "      <th>2</th>\n",
       "      <td>1615</td>\n",
       "      <td>2024-01-13</td>\n",
       "      <td>39-45 : elles n'ont rien oublié</td>\n",
       "      <td>La criée</td>\n",
       "      <td>Projection/diffusion</td>\n",
       "      <td>Adultes</td>\n",
       "      <td>None</td>\n",
       "      <td>80.0</td>\n",
       "      <td>45.0</td>\n",
       "      <td>None</td>\n",
       "      <td>None</td>\n",
       "      <td>Tous publics</td>\n",
       "    </tr>\n",
       "    <tr>\n",
       "      <th>3</th>\n",
       "      <td>1616</td>\n",
       "      <td>2024-01-14</td>\n",
       "      <td>Tricot des Lulus</td>\n",
       "      <td>La criée</td>\n",
       "      <td>Atelier</td>\n",
       "      <td>Tout public</td>\n",
       "      <td>None</td>\n",
       "      <td>22.0</td>\n",
       "      <td>20.0</td>\n",
       "      <td>None</td>\n",
       "      <td>None</td>\n",
       "      <td>Tous publics</td>\n",
       "    </tr>\n",
       "    <tr>\n",
       "      <th>4</th>\n",
       "      <td>1617</td>\n",
       "      <td>2024-01-16</td>\n",
       "      <td>Atelier informatique pour débutants</td>\n",
       "      <td>Espace multimédia</td>\n",
       "      <td>Atelier</td>\n",
       "      <td>Adultes</td>\n",
       "      <td>None</td>\n",
       "      <td>10.0</td>\n",
       "      <td>12.0</td>\n",
       "      <td>None</td>\n",
       "      <td>None</td>\n",
       "      <td>Tous publics</td>\n",
       "    </tr>\n",
       "  </tbody>\n",
       "</table>\n",
       "</div>"
      ],
      "text/plain": [
       "     id        date                               action               lieu  \\\n",
       "0  1613  2024-01-03                           Jeux vidéo           La criée   \n",
       "1  1614  2024-01-06                           Jeux vidéo           La criée   \n",
       "2  1615  2024-01-13      39-45 : elles n'ont rien oublié           La criée   \n",
       "3  1616  2024-01-14                     Tricot des Lulus           La criée   \n",
       "4  1617  2024-01-16  Atelier informatique pour débutants  Espace multimédia   \n",
       "\n",
       "                   type       public partenariat  participants  jauge  \\\n",
       "0                  Jeux  Tout public        None          60.0    NaN   \n",
       "1                  Jeux  Tout public        None          55.0    NaN   \n",
       "2  Projection/diffusion      Adultes        None          80.0   45.0   \n",
       "3               Atelier  Tout public        None          22.0   20.0   \n",
       "4               Atelier      Adultes        None          10.0   12.0   \n",
       "\n",
       "  evenement notes    public_sll  \n",
       "0      None  None  Tous publics  \n",
       "1      None  None  Tous publics  \n",
       "2      None  None  Tous publics  \n",
       "3      None  None  Tous publics  \n",
       "4      None  None  Tous publics  "
      ]
     },
     "execution_count": 101,
     "metadata": {},
     "output_type": "execute_result"
    }
   ],
   "source": [
    "ac_2023.head(5)"
   ]
  },
  {
   "cell_type": "code",
   "execution_count": 102,
   "id": "5cdeaa62",
   "metadata": {},
   "outputs": [],
   "source": [
    "ac_2023['nb_actions'] = 1"
   ]
  },
  {
   "cell_type": "code",
   "execution_count": 103,
   "id": "c9021248",
   "metadata": {},
   "outputs": [],
   "source": [
    "# Séances de Contes = Lectures/Contes + Racontées (demander ces chiffres à Chantale et/ou Laetitia)\n",
    "# Formations = Ateliers Action culturelle + Ateliers informatiques (demander ces chiffres à Maïté)"
   ]
  },
  {
   "cell_type": "code",
   "execution_count": 104,
   "id": "a85b6300",
   "metadata": {},
   "outputs": [],
   "source": [
    "ac_2023_hors_evenement = ac_2023[ac_2023['evenement'].isna()]"
   ]
  },
  {
   "cell_type": "code",
   "execution_count": 105,
   "id": "480d31d4",
   "metadata": {},
   "outputs": [
    {
     "data": {
      "text/html": [
       "<div>\n",
       "<style scoped>\n",
       "    .dataframe tbody tr th:only-of-type {\n",
       "        vertical-align: middle;\n",
       "    }\n",
       "\n",
       "    .dataframe tbody tr th {\n",
       "        vertical-align: top;\n",
       "    }\n",
       "\n",
       "    .dataframe thead th {\n",
       "        text-align: right;\n",
       "    }\n",
       "</style>\n",
       "<table border=\"1\" class=\"dataframe\">\n",
       "  <thead>\n",
       "    <tr style=\"text-align: right;\">\n",
       "      <th></th>\n",
       "      <th>id</th>\n",
       "      <th>date</th>\n",
       "      <th>action</th>\n",
       "      <th>lieu</th>\n",
       "      <th>type</th>\n",
       "      <th>public</th>\n",
       "      <th>partenariat</th>\n",
       "      <th>participants</th>\n",
       "      <th>jauge</th>\n",
       "      <th>evenement</th>\n",
       "      <th>notes</th>\n",
       "      <th>public_sll</th>\n",
       "      <th>nb_actions</th>\n",
       "    </tr>\n",
       "  </thead>\n",
       "  <tbody>\n",
       "    <tr>\n",
       "      <th>0</th>\n",
       "      <td>1613</td>\n",
       "      <td>2024-01-03</td>\n",
       "      <td>Jeux vidéo</td>\n",
       "      <td>La criée</td>\n",
       "      <td>Jeux</td>\n",
       "      <td>Tout public</td>\n",
       "      <td>None</td>\n",
       "      <td>60.0</td>\n",
       "      <td>NaN</td>\n",
       "      <td>None</td>\n",
       "      <td>None</td>\n",
       "      <td>Tous publics</td>\n",
       "      <td>1</td>\n",
       "    </tr>\n",
       "    <tr>\n",
       "      <th>1</th>\n",
       "      <td>1614</td>\n",
       "      <td>2024-01-06</td>\n",
       "      <td>Jeux vidéo</td>\n",
       "      <td>La criée</td>\n",
       "      <td>Jeux</td>\n",
       "      <td>Tout public</td>\n",
       "      <td>None</td>\n",
       "      <td>55.0</td>\n",
       "      <td>NaN</td>\n",
       "      <td>None</td>\n",
       "      <td>None</td>\n",
       "      <td>Tous publics</td>\n",
       "      <td>1</td>\n",
       "    </tr>\n",
       "    <tr>\n",
       "      <th>2</th>\n",
       "      <td>1615</td>\n",
       "      <td>2024-01-13</td>\n",
       "      <td>39-45 : elles n'ont rien oublié</td>\n",
       "      <td>La criée</td>\n",
       "      <td>Projection/diffusion</td>\n",
       "      <td>Adultes</td>\n",
       "      <td>None</td>\n",
       "      <td>80.0</td>\n",
       "      <td>45.0</td>\n",
       "      <td>None</td>\n",
       "      <td>None</td>\n",
       "      <td>Tous publics</td>\n",
       "      <td>1</td>\n",
       "    </tr>\n",
       "    <tr>\n",
       "      <th>3</th>\n",
       "      <td>1616</td>\n",
       "      <td>2024-01-14</td>\n",
       "      <td>Tricot des Lulus</td>\n",
       "      <td>La criée</td>\n",
       "      <td>Atelier</td>\n",
       "      <td>Tout public</td>\n",
       "      <td>None</td>\n",
       "      <td>22.0</td>\n",
       "      <td>20.0</td>\n",
       "      <td>None</td>\n",
       "      <td>None</td>\n",
       "      <td>Tous publics</td>\n",
       "      <td>1</td>\n",
       "    </tr>\n",
       "    <tr>\n",
       "      <th>4</th>\n",
       "      <td>1617</td>\n",
       "      <td>2024-01-16</td>\n",
       "      <td>Atelier informatique pour débutants</td>\n",
       "      <td>Espace multimédia</td>\n",
       "      <td>Atelier</td>\n",
       "      <td>Adultes</td>\n",
       "      <td>None</td>\n",
       "      <td>10.0</td>\n",
       "      <td>12.0</td>\n",
       "      <td>None</td>\n",
       "      <td>None</td>\n",
       "      <td>Tous publics</td>\n",
       "      <td>1</td>\n",
       "    </tr>\n",
       "    <tr>\n",
       "      <th>...</th>\n",
       "      <td>...</td>\n",
       "      <td>...</td>\n",
       "      <td>...</td>\n",
       "      <td>...</td>\n",
       "      <td>...</td>\n",
       "      <td>...</td>\n",
       "      <td>...</td>\n",
       "      <td>...</td>\n",
       "      <td>...</td>\n",
       "      <td>...</td>\n",
       "      <td>...</td>\n",
       "      <td>...</td>\n",
       "      <td>...</td>\n",
       "    </tr>\n",
       "    <tr>\n",
       "      <th>213</th>\n",
       "      <td>1926</td>\n",
       "      <td>2024-12-20</td>\n",
       "      <td>Radio à La Grand-Plage</td>\n",
       "      <td>Salle VDM</td>\n",
       "      <td>Atelier</td>\n",
       "      <td>Adultes</td>\n",
       "      <td>None</td>\n",
       "      <td>4.0</td>\n",
       "      <td>15.0</td>\n",
       "      <td>None</td>\n",
       "      <td>None</td>\n",
       "      <td>Tous publics</td>\n",
       "      <td>1</td>\n",
       "    </tr>\n",
       "    <tr>\n",
       "      <th>214</th>\n",
       "      <td>1927</td>\n",
       "      <td>2024-12-21</td>\n",
       "      <td>Atelier de conversation en français</td>\n",
       "      <td>Salle VDM</td>\n",
       "      <td>Atelier</td>\n",
       "      <td>Adultes</td>\n",
       "      <td>None</td>\n",
       "      <td>7.0</td>\n",
       "      <td>10.0</td>\n",
       "      <td>None</td>\n",
       "      <td>None</td>\n",
       "      <td>Tous publics</td>\n",
       "      <td>1</td>\n",
       "    </tr>\n",
       "    <tr>\n",
       "      <th>215</th>\n",
       "      <td>1928</td>\n",
       "      <td>2024-12-21</td>\n",
       "      <td>Petit déjeuner jeux vidéo</td>\n",
       "      <td>La criée</td>\n",
       "      <td>Jeux</td>\n",
       "      <td>Familles</td>\n",
       "      <td>None</td>\n",
       "      <td>12.0</td>\n",
       "      <td>12.0</td>\n",
       "      <td>None</td>\n",
       "      <td>None</td>\n",
       "      <td>Tous publics</td>\n",
       "      <td>1</td>\n",
       "    </tr>\n",
       "    <tr>\n",
       "      <th>216</th>\n",
       "      <td>1929</td>\n",
       "      <td>2024-12-21</td>\n",
       "      <td>Les racontées musicales</td>\n",
       "      <td>Salle d'heure du conte</td>\n",
       "      <td>Lecture/contes</td>\n",
       "      <td>Petite enfance</td>\n",
       "      <td>None</td>\n",
       "      <td>48.0</td>\n",
       "      <td>40.0</td>\n",
       "      <td>None</td>\n",
       "      <td>25 enfants et 23 adultes</td>\n",
       "      <td>Enfants</td>\n",
       "      <td>1</td>\n",
       "    </tr>\n",
       "    <tr>\n",
       "      <th>217</th>\n",
       "      <td>1930</td>\n",
       "      <td>2024-12-21</td>\n",
       "      <td>Noël avec les frères Koala</td>\n",
       "      <td>La criée</td>\n",
       "      <td>Projection/diffusion</td>\n",
       "      <td>Enfants</td>\n",
       "      <td>None</td>\n",
       "      <td>52.0</td>\n",
       "      <td>60.0</td>\n",
       "      <td>None</td>\n",
       "      <td>30 enfants et 22 adultes</td>\n",
       "      <td>Enfants</td>\n",
       "      <td>1</td>\n",
       "    </tr>\n",
       "  </tbody>\n",
       "</table>\n",
       "<p>168 rows × 13 columns</p>\n",
       "</div>"
      ],
      "text/plain": [
       "       id        date                               action  \\\n",
       "0    1613  2024-01-03                           Jeux vidéo   \n",
       "1    1614  2024-01-06                           Jeux vidéo   \n",
       "2    1615  2024-01-13      39-45 : elles n'ont rien oublié   \n",
       "3    1616  2024-01-14                     Tricot des Lulus   \n",
       "4    1617  2024-01-16  Atelier informatique pour débutants   \n",
       "..    ...         ...                                  ...   \n",
       "213  1926  2024-12-20               Radio à La Grand-Plage   \n",
       "214  1927  2024-12-21  Atelier de conversation en français   \n",
       "215  1928  2024-12-21            Petit déjeuner jeux vidéo   \n",
       "216  1929  2024-12-21              Les racontées musicales   \n",
       "217  1930  2024-12-21           Noël avec les frères Koala   \n",
       "\n",
       "                       lieu                  type          public partenariat  \\\n",
       "0                  La criée                  Jeux     Tout public        None   \n",
       "1                  La criée                  Jeux     Tout public        None   \n",
       "2                  La criée  Projection/diffusion         Adultes        None   \n",
       "3                  La criée               Atelier     Tout public        None   \n",
       "4         Espace multimédia               Atelier         Adultes        None   \n",
       "..                      ...                   ...             ...         ...   \n",
       "213               Salle VDM               Atelier         Adultes        None   \n",
       "214               Salle VDM               Atelier         Adultes        None   \n",
       "215                La criée                  Jeux        Familles        None   \n",
       "216  Salle d'heure du conte        Lecture/contes  Petite enfance        None   \n",
       "217                La criée  Projection/diffusion         Enfants        None   \n",
       "\n",
       "     participants  jauge evenement                     notes    public_sll  \\\n",
       "0            60.0    NaN      None                      None  Tous publics   \n",
       "1            55.0    NaN      None                      None  Tous publics   \n",
       "2            80.0   45.0      None                      None  Tous publics   \n",
       "3            22.0   20.0      None                      None  Tous publics   \n",
       "4            10.0   12.0      None                      None  Tous publics   \n",
       "..            ...    ...       ...                       ...           ...   \n",
       "213           4.0   15.0      None                      None  Tous publics   \n",
       "214           7.0   10.0      None                      None  Tous publics   \n",
       "215          12.0   12.0      None                      None  Tous publics   \n",
       "216          48.0   40.0      None  25 enfants et 23 adultes       Enfants   \n",
       "217          52.0   60.0      None  30 enfants et 22 adultes       Enfants   \n",
       "\n",
       "     nb_actions  \n",
       "0             1  \n",
       "1             1  \n",
       "2             1  \n",
       "3             1  \n",
       "4             1  \n",
       "..          ...  \n",
       "213           1  \n",
       "214           1  \n",
       "215           1  \n",
       "216           1  \n",
       "217           1  \n",
       "\n",
       "[168 rows x 13 columns]"
      ]
     },
     "execution_count": 105,
     "metadata": {},
     "output_type": "execute_result"
    }
   ],
   "source": [
    "ac_2023_hors_evenement"
   ]
  },
  {
   "cell_type": "markdown",
   "id": "b8a3c7ae",
   "metadata": {},
   "source": [
    "> Si on compte dans action dans l'établissement les fêtes etc... Alors pour tous les dataframes sauf le dataframe Fêtes etc... utiliser `ac_2023.loc[ac_2023_hors_evenement]`. Cela permettra de ne pas compter 2 fois le même événement."
   ]
  },
  {
   "cell_type": "markdown",
   "id": "9d7e0ebc",
   "metadata": {},
   "source": [
    "### H401 - Expositions"
   ]
  },
  {
   "cell_type": "code",
   "execution_count": 106,
   "id": "1e11f7c9",
   "metadata": {},
   "outputs": [],
   "source": [
    "ac_2023.loc[ac_2023['type']=='Exposition',['type_sll']] = 'Exposition'"
   ]
  },
  {
   "cell_type": "code",
   "execution_count": 107,
   "id": "1040e4c0",
   "metadata": {},
   "outputs": [
    {
     "data": {
      "text/plain": [
       "6"
      ]
     },
     "execution_count": 107,
     "metadata": {},
     "output_type": "execute_result"
    }
   ],
   "source": [
    "# Nombre d'exposition dans l'année pour Tous publics\n",
    "len(ac_2023[(ac_2023['type']=='Exposition')&\n",
    "            (ac_2023['public_sll']=='Tous publics')]\n",
    "   )"
   ]
  },
  {
   "cell_type": "code",
   "execution_count": 108,
   "id": "497fb2b4",
   "metadata": {},
   "outputs": [
    {
     "data": {
      "text/plain": [
       "0"
      ]
     },
     "execution_count": 108,
     "metadata": {},
     "output_type": "execute_result"
    }
   ],
   "source": [
    "# Nombre d'exposition dans l'année pour enfants\n",
    "len(ac_2023[(ac_2023['type']=='Exposition')&\n",
    "            (ac_2023['public_sll']=='Enfants')]\n",
    "   )"
   ]
  },
  {
   "cell_type": "markdown",
   "id": "40ab95b7",
   "metadata": {},
   "source": [
    "### H409 - Conférences, rencontres, lectures"
   ]
  },
  {
   "cell_type": "code",
   "execution_count": 109,
   "id": "63265ffc",
   "metadata": {},
   "outputs": [],
   "source": [
    "ac_2023.loc[ac_2023['type'].isin(['Conférence','Lecture','Rencontre/conférence']),['type_sll']] = 'Conférences, rencontres, lectures'"
   ]
  },
  {
   "cell_type": "code",
   "execution_count": 110,
   "id": "679f548e",
   "metadata": {},
   "outputs": [
    {
     "data": {
      "text/plain": [
       "30"
      ]
     },
     "execution_count": 110,
     "metadata": {},
     "output_type": "execute_result"
    }
   ],
   "source": [
    "# Nombre de conférences, rencontres et lectures TOUT PUBLIC\n",
    "len(ac_2023[(ac_2023['type_sll']=='Conférences, rencontres, lectures')&\n",
    "            (ac_2023['public_sll']=='Tous publics')]\n",
    "   )"
   ]
  },
  {
   "cell_type": "code",
   "execution_count": 111,
   "id": "bdfdfce9",
   "metadata": {},
   "outputs": [
    {
     "data": {
      "text/plain": [
       "0"
      ]
     },
     "execution_count": 111,
     "metadata": {},
     "output_type": "execute_result"
    }
   ],
   "source": [
    "# Nombre de conférences, rencontres et lectures Enfants\n",
    "len(ac_2023[(ac_2023['type_sll']=='Conférences, rencontres, lectures')&\n",
    "        (ac_2023['public_sll']=='Enfants')]\n",
    "   )"
   ]
  },
  {
   "cell_type": "code",
   "execution_count": 112,
   "id": "4396bac6",
   "metadata": {},
   "outputs": [
    {
     "data": {
      "text/plain": [
       "type_sll                           public_sll  \n",
       "Conférences, rencontres, lectures  Tous publics    674.0\n",
       "Exposition                         Tous publics    123.0\n",
       "Name: participants, dtype: float64"
      ]
     },
     "execution_count": 112,
     "metadata": {},
     "output_type": "execute_result"
    }
   ],
   "source": [
    "# Population touchée\n",
    "ac_2023.groupby(['type_sll','public_sll'])['participants'].sum()"
   ]
  },
  {
   "cell_type": "markdown",
   "id": "cc1dcee3",
   "metadata": {},
   "source": [
    "### H413 - Concerts projections"
   ]
  },
  {
   "cell_type": "code",
   "execution_count": 113,
   "id": "739a47aa",
   "metadata": {},
   "outputs": [],
   "source": [
    "ac_2023.loc[ac_2023['type'].isin(['Concert','Projection','Projection/diffusion']),['type_sll']] = 'Concerts, projections'"
   ]
  },
  {
   "cell_type": "code",
   "execution_count": 114,
   "id": "ba95fbb0",
   "metadata": {},
   "outputs": [
    {
     "data": {
      "text/plain": [
       "16"
      ]
     },
     "execution_count": 114,
     "metadata": {},
     "output_type": "execute_result"
    }
   ],
   "source": [
    "len(ac_2023[(ac_2023['type_sll']=='Concerts, projections')&\n",
    "            (ac_2023['public_sll']=='Tous publics')\n",
    "           ]\n",
    "   )"
   ]
  },
  {
   "cell_type": "code",
   "execution_count": 115,
   "id": "fd547fc5",
   "metadata": {},
   "outputs": [
    {
     "data": {
      "text/plain": [
       "8"
      ]
     },
     "execution_count": 115,
     "metadata": {},
     "output_type": "execute_result"
    }
   ],
   "source": [
    "len(ac_2023[(ac_2023['type_sll']=='Concerts, projections')&\n",
    "            (ac_2023['public_sll']=='Enfants')\n",
    "           ]\n",
    "   )"
   ]
  },
  {
   "cell_type": "code",
   "execution_count": 116,
   "id": "970a5ec0",
   "metadata": {},
   "outputs": [
    {
     "data": {
      "text/plain": [
       "type_sll                           public_sll  \n",
       "Concerts, projections              Enfants         514.0\n",
       "                                   Tous publics    446.0\n",
       "Conférences, rencontres, lectures  Tous publics    674.0\n",
       "Exposition                         Tous publics    123.0\n",
       "Name: participants, dtype: float64"
      ]
     },
     "execution_count": 116,
     "metadata": {},
     "output_type": "execute_result"
    }
   ],
   "source": [
    "ac_2023.groupby(['type_sll','public_sll'])['participants'].sum()"
   ]
  },
  {
   "cell_type": "markdown",
   "id": "3c8f8f0a",
   "metadata": {},
   "source": [
    "### H417 - Séances de conte"
   ]
  },
  {
   "cell_type": "code",
   "execution_count": 117,
   "id": "a5d64cba",
   "metadata": {},
   "outputs": [],
   "source": [
    "ac_2023.loc[(ac_2023['type']=='Lecture/contes'),['type_sll']] = 'Séances de conte'"
   ]
  },
  {
   "cell_type": "code",
   "execution_count": 118,
   "id": "3dcfba78",
   "metadata": {},
   "outputs": [
    {
     "data": {
      "text/plain": [
       "0"
      ]
     },
     "execution_count": 118,
     "metadata": {},
     "output_type": "execute_result"
    }
   ],
   "source": [
    "len(ac_2023[(ac_2023['type']=='Séances de conte')&\n",
    "            (ac_2023['public']=='Tout public')\n",
    "           ]\n",
    "   )"
   ]
  },
  {
   "cell_type": "code",
   "execution_count": 119,
   "id": "380b7344",
   "metadata": {},
   "outputs": [
    {
     "data": {
      "text/plain": [
       "0"
      ]
     },
     "execution_count": 119,
     "metadata": {},
     "output_type": "execute_result"
    }
   ],
   "source": [
    "len(ac_2023[(ac_2023['type']=='Séances de conte')&\n",
    "            (ac_2023['public']=='Enfants')\n",
    "           ]\n",
    "   )"
   ]
  },
  {
   "cell_type": "code",
   "execution_count": 120,
   "id": "19766697",
   "metadata": {},
   "outputs": [
    {
     "data": {
      "text/plain": [
       "0.0"
      ]
     },
     "execution_count": 120,
     "metadata": {},
     "output_type": "execute_result"
    }
   ],
   "source": [
    "ac_2023[ac_2023['type']=='Séances de conte']['participants'].sum()"
   ]
  },
  {
   "cell_type": "markdown",
   "id": "9e86f902",
   "metadata": {},
   "source": [
    "### H420 - Clubs de lecteurs ateliers d'écriture"
   ]
  },
  {
   "cell_type": "code",
   "execution_count": 121,
   "id": "59a281b3",
   "metadata": {},
   "outputs": [],
   "source": [
    "ac_2023.loc[ac_2023['type']=='Club lecture',['type_sll']] = 'Club lecture'"
   ]
  },
  {
   "cell_type": "code",
   "execution_count": 122,
   "id": "6e03abb4",
   "metadata": {},
   "outputs": [
    {
     "data": {
      "text/plain": [
       "7"
      ]
     },
     "execution_count": 122,
     "metadata": {},
     "output_type": "execute_result"
    }
   ],
   "source": [
    "# Nombre total de clubs lectures TOUT PUBLIC\n",
    "len(ac_2023[(ac_2023['type']=='Club lecture')&\n",
    "            (ac_2023['public_sll']=='Tous publics')\n",
    "           ])"
   ]
  },
  {
   "cell_type": "code",
   "execution_count": 123,
   "id": "b244f517",
   "metadata": {},
   "outputs": [
    {
     "data": {
      "text/plain": [
       "0"
      ]
     },
     "execution_count": 123,
     "metadata": {},
     "output_type": "execute_result"
    }
   ],
   "source": [
    "# Nombre total de clubs lectures ENFANTS\n",
    "len(ac_2023[(ac_2023['type']=='Club lecture')&\n",
    "            (ac_2023['public_sll']=='Enfants')\n",
    "           ])"
   ]
  },
  {
   "cell_type": "code",
   "execution_count": 124,
   "id": "8b3b51dd",
   "metadata": {},
   "outputs": [
    {
     "data": {
      "text/plain": [
       "87.0"
      ]
     },
     "execution_count": 124,
     "metadata": {},
     "output_type": "execute_result"
    }
   ],
   "source": [
    "ac_2023[ac_2023['type']=='Club lecture']['participants'].sum()"
   ]
  },
  {
   "cell_type": "markdown",
   "id": "b06811de",
   "metadata": {},
   "source": [
    "### H424 - Fêtes, salons du livre, festivals\n",
    "\n"
   ]
  },
  {
   "cell_type": "code",
   "execution_count": 125,
   "id": "bc668b02",
   "metadata": {},
   "outputs": [],
   "source": [
    "ac_2023.loc[ac_2023['evenement'].notna(),['type_sll']] = 'Fêtes, salons du livre, festivals'"
   ]
  },
  {
   "cell_type": "code",
   "execution_count": 126,
   "id": "3225fc3b",
   "metadata": {},
   "outputs": [
    {
     "data": {
      "text/html": [
       "<div>\n",
       "<style scoped>\n",
       "    .dataframe tbody tr th:only-of-type {\n",
       "        vertical-align: middle;\n",
       "    }\n",
       "\n",
       "    .dataframe tbody tr th {\n",
       "        vertical-align: top;\n",
       "    }\n",
       "\n",
       "    .dataframe thead th {\n",
       "        text-align: right;\n",
       "    }\n",
       "</style>\n",
       "<table border=\"1\" class=\"dataframe\">\n",
       "  <thead>\n",
       "    <tr style=\"text-align: right;\">\n",
       "      <th></th>\n",
       "      <th>id</th>\n",
       "      <th>date</th>\n",
       "      <th>action</th>\n",
       "      <th>lieu</th>\n",
       "      <th>type</th>\n",
       "      <th>public</th>\n",
       "      <th>partenariat</th>\n",
       "      <th>participants</th>\n",
       "      <th>jauge</th>\n",
       "      <th>evenement</th>\n",
       "      <th>notes</th>\n",
       "      <th>public_sll</th>\n",
       "      <th>nb_actions</th>\n",
       "      <th>type_sll</th>\n",
       "    </tr>\n",
       "  </thead>\n",
       "  <tbody>\n",
       "    <tr>\n",
       "      <th>6</th>\n",
       "      <td>1619</td>\n",
       "      <td>2024-01-20</td>\n",
       "      <td>Bulles de lecture - à partir de 4 ans</td>\n",
       "      <td>Espace RDC</td>\n",
       "      <td>Lecture/contes</td>\n",
       "      <td>Enfants</td>\n",
       "      <td>None</td>\n",
       "      <td>25.0</td>\n",
       "      <td>NaN</td>\n",
       "      <td>Nuits de la lecture</td>\n",
       "      <td>None</td>\n",
       "      <td>Enfants</td>\n",
       "      <td>1</td>\n",
       "      <td>Fêtes, salons du livre, festivals</td>\n",
       "    </tr>\n",
       "    <tr>\n",
       "      <th>7</th>\n",
       "      <td>1620</td>\n",
       "      <td>2024-01-20</td>\n",
       "      <td>Bulles de lecture 0-3 ans</td>\n",
       "      <td>Salle d'heure du conte</td>\n",
       "      <td>Lecture/contes</td>\n",
       "      <td>Enfants</td>\n",
       "      <td>None</td>\n",
       "      <td>17.0</td>\n",
       "      <td>NaN</td>\n",
       "      <td>Nuits de la lecture</td>\n",
       "      <td>10 enfants et 7 adultes</td>\n",
       "      <td>Enfants</td>\n",
       "      <td>1</td>\n",
       "      <td>Fêtes, salons du livre, festivals</td>\n",
       "    </tr>\n",
       "    <tr>\n",
       "      <th>8</th>\n",
       "      <td>1621</td>\n",
       "      <td>2024-01-20</td>\n",
       "      <td>Zik et bouquins</td>\n",
       "      <td>La criée</td>\n",
       "      <td>Lecture/contes</td>\n",
       "      <td>Familles</td>\n",
       "      <td>None</td>\n",
       "      <td>39.0</td>\n",
       "      <td>NaN</td>\n",
       "      <td>Nuits de la lecture</td>\n",
       "      <td>None</td>\n",
       "      <td>Tous publics</td>\n",
       "      <td>1</td>\n",
       "      <td>Fêtes, salons du livre, festivals</td>\n",
       "    </tr>\n",
       "    <tr>\n",
       "      <th>9</th>\n",
       "      <td>1622</td>\n",
       "      <td>2024-01-20</td>\n",
       "      <td>Between, Ballet du Nord</td>\n",
       "      <td>Espace RDC</td>\n",
       "      <td>Lecture/contes</td>\n",
       "      <td>Tout public</td>\n",
       "      <td>None</td>\n",
       "      <td>26.0</td>\n",
       "      <td>NaN</td>\n",
       "      <td>Nuits de la lecture</td>\n",
       "      <td>None</td>\n",
       "      <td>Tous publics</td>\n",
       "      <td>1</td>\n",
       "      <td>Fêtes, salons du livre, festivals</td>\n",
       "    </tr>\n",
       "    <tr>\n",
       "      <th>10</th>\n",
       "      <td>1623</td>\n",
       "      <td>2024-01-21</td>\n",
       "      <td>Le corps fait son cinéma !</td>\n",
       "      <td>Espace RDC</td>\n",
       "      <td>Atelier</td>\n",
       "      <td>Tout public</td>\n",
       "      <td>None</td>\n",
       "      <td>28.0</td>\n",
       "      <td>NaN</td>\n",
       "      <td>Nuits de la lecture</td>\n",
       "      <td>None</td>\n",
       "      <td>Tous publics</td>\n",
       "      <td>1</td>\n",
       "      <td>Fêtes, salons du livre, festivals</td>\n",
       "    </tr>\n",
       "    <tr>\n",
       "      <th>11</th>\n",
       "      <td>1624</td>\n",
       "      <td>2024-01-21</td>\n",
       "      <td>Corps accords</td>\n",
       "      <td>La criée</td>\n",
       "      <td>Lecture/contes</td>\n",
       "      <td>Tout public</td>\n",
       "      <td>None</td>\n",
       "      <td>25.0</td>\n",
       "      <td>NaN</td>\n",
       "      <td>Nuits de la lecture</td>\n",
       "      <td>None</td>\n",
       "      <td>Tous publics</td>\n",
       "      <td>1</td>\n",
       "      <td>Fêtes, salons du livre, festivals</td>\n",
       "    </tr>\n",
       "    <tr>\n",
       "      <th>18</th>\n",
       "      <td>1631</td>\n",
       "      <td>2024-02-02</td>\n",
       "      <td>Questions de parents : épuisement parental</td>\n",
       "      <td>La criée</td>\n",
       "      <td>Rencontre/conférence</td>\n",
       "      <td>Adultes</td>\n",
       "      <td>None</td>\n",
       "      <td>7.0</td>\n",
       "      <td>NaN</td>\n",
       "      <td>Week-end des bébés</td>\n",
       "      <td>None</td>\n",
       "      <td>Tous publics</td>\n",
       "      <td>1</td>\n",
       "      <td>Fêtes, salons du livre, festivals</td>\n",
       "    </tr>\n",
       "    <tr>\n",
       "      <th>23</th>\n",
       "      <td>1636</td>\n",
       "      <td>2024-02-03</td>\n",
       "      <td>À la pêche aux albums !</td>\n",
       "      <td>Salle d'heure du conte</td>\n",
       "      <td>Lecture/contes</td>\n",
       "      <td>Enfants</td>\n",
       "      <td>None</td>\n",
       "      <td>28.0</td>\n",
       "      <td>NaN</td>\n",
       "      <td>Week-end des bébés</td>\n",
       "      <td>14 enfants et 14 adultes</td>\n",
       "      <td>Enfants</td>\n",
       "      <td>1</td>\n",
       "      <td>Fêtes, salons du livre, festivals</td>\n",
       "    </tr>\n",
       "    <tr>\n",
       "      <th>25</th>\n",
       "      <td>1638</td>\n",
       "      <td>2024-02-03</td>\n",
       "      <td>Veillée musicale</td>\n",
       "      <td>Espace Jeunesse</td>\n",
       "      <td>Concert</td>\n",
       "      <td>Enfants</td>\n",
       "      <td>None</td>\n",
       "      <td>65.0</td>\n",
       "      <td>NaN</td>\n",
       "      <td>Week-end des bébés</td>\n",
       "      <td>None</td>\n",
       "      <td>Enfants</td>\n",
       "      <td>1</td>\n",
       "      <td>Fêtes, salons du livre, festivals</td>\n",
       "    </tr>\n",
       "    <tr>\n",
       "      <th>26</th>\n",
       "      <td>1639</td>\n",
       "      <td>2024-02-04</td>\n",
       "      <td>Racontée musicale spéciale</td>\n",
       "      <td>Salle d'heure du conte</td>\n",
       "      <td>Lecture/contes</td>\n",
       "      <td>Enfants</td>\n",
       "      <td>None</td>\n",
       "      <td>110.0</td>\n",
       "      <td>NaN</td>\n",
       "      <td>Week-end des bébés</td>\n",
       "      <td>None</td>\n",
       "      <td>Enfants</td>\n",
       "      <td>1</td>\n",
       "      <td>Fêtes, salons du livre, festivals</td>\n",
       "    </tr>\n",
       "    <tr>\n",
       "      <th>48</th>\n",
       "      <td>1661</td>\n",
       "      <td>2024-03-17</td>\n",
       "      <td>Lectures dansées</td>\n",
       "      <td>Espace Rdc</td>\n",
       "      <td>Spectacle</td>\n",
       "      <td>Tout public</td>\n",
       "      <td>None</td>\n",
       "      <td>80.0</td>\n",
       "      <td>NaN</td>\n",
       "      <td>Printemps des poètes</td>\n",
       "      <td>None</td>\n",
       "      <td>Tous publics</td>\n",
       "      <td>1</td>\n",
       "      <td>Fêtes, salons du livre, festivals</td>\n",
       "    </tr>\n",
       "    <tr>\n",
       "      <th>54</th>\n",
       "      <td>1667</td>\n",
       "      <td>2024-03-23</td>\n",
       "      <td>Dictée</td>\n",
       "      <td>La criée</td>\n",
       "      <td>Autre</td>\n",
       "      <td>Adultes</td>\n",
       "      <td>None</td>\n",
       "      <td>41.0</td>\n",
       "      <td>NaN</td>\n",
       "      <td>Semaine Langue française &amp; francophonie</td>\n",
       "      <td>None</td>\n",
       "      <td>Tous publics</td>\n",
       "      <td>1</td>\n",
       "      <td>Fêtes, salons du livre, festivals</td>\n",
       "    </tr>\n",
       "    <tr>\n",
       "      <th>56</th>\n",
       "      <td>1669</td>\n",
       "      <td>2024-03-24</td>\n",
       "      <td>Jeux de mots</td>\n",
       "      <td>Espace RDC</td>\n",
       "      <td>Jeux</td>\n",
       "      <td>Tout public</td>\n",
       "      <td>None</td>\n",
       "      <td>25.0</td>\n",
       "      <td>NaN</td>\n",
       "      <td>Semaine Langue française &amp; francophonie</td>\n",
       "      <td>None</td>\n",
       "      <td>Tous publics</td>\n",
       "      <td>1</td>\n",
       "      <td>Fêtes, salons du livre, festivals</td>\n",
       "    </tr>\n",
       "    <tr>\n",
       "      <th>85</th>\n",
       "      <td>1698</td>\n",
       "      <td>2024-05-22</td>\n",
       "      <td>Une soirée avec Mélanie Rutten</td>\n",
       "      <td>La criée</td>\n",
       "      <td>Rencontre/conférence</td>\n",
       "      <td>Adultes</td>\n",
       "      <td>None</td>\n",
       "      <td>23.0</td>\n",
       "      <td>NaN</td>\n",
       "      <td>Regards sur : Mélanie Rutten</td>\n",
       "      <td>None</td>\n",
       "      <td>Tous publics</td>\n",
       "      <td>1</td>\n",
       "      <td>Fêtes, salons du livre, festivals</td>\n",
       "    </tr>\n",
       "    <tr>\n",
       "      <th>91</th>\n",
       "      <td>1704</td>\n",
       "      <td>2024-05-25</td>\n",
       "      <td>Création de doudou</td>\n",
       "      <td>La criée</td>\n",
       "      <td>Atelier</td>\n",
       "      <td>Enfants</td>\n",
       "      <td>None</td>\n",
       "      <td>36.0</td>\n",
       "      <td>NaN</td>\n",
       "      <td>Regards sur : Mélanie Rutten</td>\n",
       "      <td>17 enfants et 19 adultes</td>\n",
       "      <td>Enfants</td>\n",
       "      <td>1</td>\n",
       "      <td>Fêtes, salons du livre, festivals</td>\n",
       "    </tr>\n",
       "    <tr>\n",
       "      <th>92</th>\n",
       "      <td>1705</td>\n",
       "      <td>2024-05-25</td>\n",
       "      <td>Raspberry Pi et rétrogaming</td>\n",
       "      <td>Espace multimédia</td>\n",
       "      <td>Atelier</td>\n",
       "      <td>Adultes</td>\n",
       "      <td>None</td>\n",
       "      <td>9.0</td>\n",
       "      <td>NaN</td>\n",
       "      <td>Regards sur : Mélanie Rutten</td>\n",
       "      <td>None</td>\n",
       "      <td>Tous publics</td>\n",
       "      <td>1</td>\n",
       "      <td>Fêtes, salons du livre, festivals</td>\n",
       "    </tr>\n",
       "    <tr>\n",
       "      <th>93</th>\n",
       "      <td>1706</td>\n",
       "      <td>2024-05-25</td>\n",
       "      <td>Les Tulalus</td>\n",
       "      <td>Salle VDM</td>\n",
       "      <td>Club lecture</td>\n",
       "      <td>Adultes</td>\n",
       "      <td>None</td>\n",
       "      <td>15.0</td>\n",
       "      <td>NaN</td>\n",
       "      <td>Regards sur : Mélanie Rutten</td>\n",
       "      <td>None</td>\n",
       "      <td>Tous publics</td>\n",
       "      <td>1</td>\n",
       "      <td>Fêtes, salons du livre, festivals</td>\n",
       "    </tr>\n",
       "    <tr>\n",
       "      <th>94</th>\n",
       "      <td>1707</td>\n",
       "      <td>2024-05-26</td>\n",
       "      <td>À la dérive</td>\n",
       "      <td>La criée</td>\n",
       "      <td>Spectacle</td>\n",
       "      <td>Tout public</td>\n",
       "      <td>None</td>\n",
       "      <td>110.0</td>\n",
       "      <td>NaN</td>\n",
       "      <td>Regards sur : Mélanie Rutten</td>\n",
       "      <td>None</td>\n",
       "      <td>Tous publics</td>\n",
       "      <td>1</td>\n",
       "      <td>Fêtes, salons du livre, festivals</td>\n",
       "    </tr>\n",
       "    <tr>\n",
       "      <th>96</th>\n",
       "      <td>1714</td>\n",
       "      <td>2024-06-02</td>\n",
       "      <td>Jeux traditionnels en bois</td>\n",
       "      <td>Espace RDC</td>\n",
       "      <td>Jeux</td>\n",
       "      <td>Tout public</td>\n",
       "      <td>None</td>\n",
       "      <td>50.0</td>\n",
       "      <td>NaN</td>\n",
       "      <td>Ducasse à La Grand-Plage</td>\n",
       "      <td>None</td>\n",
       "      <td>Tous publics</td>\n",
       "      <td>1</td>\n",
       "      <td>Fêtes, salons du livre, festivals</td>\n",
       "    </tr>\n",
       "    <tr>\n",
       "      <th>97</th>\n",
       "      <td>1715</td>\n",
       "      <td>2024-06-02</td>\n",
       "      <td>Triop's, la plus petite fanfare au monde</td>\n",
       "      <td>Toute la médiathèque</td>\n",
       "      <td>Concert</td>\n",
       "      <td>Tout public</td>\n",
       "      <td>None</td>\n",
       "      <td>NaN</td>\n",
       "      <td>NaN</td>\n",
       "      <td>Ducasse à La Grand-Plage</td>\n",
       "      <td>None</td>\n",
       "      <td>Tous publics</td>\n",
       "      <td>1</td>\n",
       "      <td>Fêtes, salons du livre, festivals</td>\n",
       "    </tr>\n",
       "    <tr>\n",
       "      <th>100</th>\n",
       "      <td>1718</td>\n",
       "      <td>2024-06-08</td>\n",
       "      <td>Le livre d'heures d'Isabeau de Roubaix</td>\n",
       "      <td>La criée</td>\n",
       "      <td>Rencontre/conférence</td>\n",
       "      <td>Adultes</td>\n",
       "      <td>None</td>\n",
       "      <td>41.0</td>\n",
       "      <td>NaN</td>\n",
       "      <td>À la découverte des manuscrits</td>\n",
       "      <td>None</td>\n",
       "      <td>Tous publics</td>\n",
       "      <td>1</td>\n",
       "      <td>Fêtes, salons du livre, festivals</td>\n",
       "    </tr>\n",
       "    <tr>\n",
       "      <th>101</th>\n",
       "      <td>1719</td>\n",
       "      <td>2024-06-08</td>\n",
       "      <td>Ensemble Tormis : musique à l'époque d'Isabeau...</td>\n",
       "      <td>Espace 1er étage</td>\n",
       "      <td>Concert</td>\n",
       "      <td>Tout public</td>\n",
       "      <td>None</td>\n",
       "      <td>45.0</td>\n",
       "      <td>NaN</td>\n",
       "      <td>À la découverte des manuscrits</td>\n",
       "      <td>None</td>\n",
       "      <td>Tous publics</td>\n",
       "      <td>1</td>\n",
       "      <td>Fêtes, salons du livre, festivals</td>\n",
       "    </tr>\n",
       "    <tr>\n",
       "      <th>102</th>\n",
       "      <td>1720</td>\n",
       "      <td>2024-06-08</td>\n",
       "      <td>Le monde des manuscrits</td>\n",
       "      <td>Salle d'étude</td>\n",
       "      <td>Atelier</td>\n",
       "      <td>Tout public</td>\n",
       "      <td>None</td>\n",
       "      <td>50.0</td>\n",
       "      <td>NaN</td>\n",
       "      <td>À la découverte des manuscrits</td>\n",
       "      <td>None</td>\n",
       "      <td>Tous publics</td>\n",
       "      <td>1</td>\n",
       "      <td>Fêtes, salons du livre, festivals</td>\n",
       "    </tr>\n",
       "    <tr>\n",
       "      <th>103</th>\n",
       "      <td>1721</td>\n",
       "      <td>2024-06-08</td>\n",
       "      <td>Trésors du Patrimoine et des Archives</td>\n",
       "      <td>La criée</td>\n",
       "      <td>Autre</td>\n",
       "      <td>Tout public</td>\n",
       "      <td>None</td>\n",
       "      <td>8.0</td>\n",
       "      <td>NaN</td>\n",
       "      <td>À la découverte des manuscrits</td>\n",
       "      <td>None</td>\n",
       "      <td>Tous publics</td>\n",
       "      <td>1</td>\n",
       "      <td>Fêtes, salons du livre, festivals</td>\n",
       "    </tr>\n",
       "    <tr>\n",
       "      <th>104</th>\n",
       "      <td>1722</td>\n",
       "      <td>2024-06-09</td>\n",
       "      <td>Le monde des manuscrits</td>\n",
       "      <td>La criée</td>\n",
       "      <td>Atelier</td>\n",
       "      <td>Tout public</td>\n",
       "      <td>None</td>\n",
       "      <td>13.0</td>\n",
       "      <td>NaN</td>\n",
       "      <td>À la découverte des manuscrits</td>\n",
       "      <td>None</td>\n",
       "      <td>Tous publics</td>\n",
       "      <td>1</td>\n",
       "      <td>Fêtes, salons du livre, festivals</td>\n",
       "    </tr>\n",
       "    <tr>\n",
       "      <th>105</th>\n",
       "      <td>1723</td>\n",
       "      <td>2024-06-09</td>\n",
       "      <td>Trésors du Patrimoine et des Archives</td>\n",
       "      <td>La criée</td>\n",
       "      <td>Autre</td>\n",
       "      <td>Tout public</td>\n",
       "      <td>None</td>\n",
       "      <td>6.0</td>\n",
       "      <td>NaN</td>\n",
       "      <td>À la découverte des manuscrits</td>\n",
       "      <td>None</td>\n",
       "      <td>Tous publics</td>\n",
       "      <td>1</td>\n",
       "      <td>Fêtes, salons du livre, festivals</td>\n",
       "    </tr>\n",
       "    <tr>\n",
       "      <th>106</th>\n",
       "      <td>1724</td>\n",
       "      <td>2024-06-12</td>\n",
       "      <td>Vyznam</td>\n",
       "      <td>La criée</td>\n",
       "      <td>Spectacle</td>\n",
       "      <td>Tout public</td>\n",
       "      <td>None</td>\n",
       "      <td>45.0</td>\n",
       "      <td>NaN</td>\n",
       "      <td>Festival URBX</td>\n",
       "      <td>None</td>\n",
       "      <td>Tous publics</td>\n",
       "      <td>1</td>\n",
       "      <td>Fêtes, salons du livre, festivals</td>\n",
       "    </tr>\n",
       "    <tr>\n",
       "      <th>110</th>\n",
       "      <td>1728</td>\n",
       "      <td>2024-06-16</td>\n",
       "      <td>Percussions corporelles</td>\n",
       "      <td>La criée</td>\n",
       "      <td>Atelier</td>\n",
       "      <td>Tout public</td>\n",
       "      <td>None</td>\n",
       "      <td>17.0</td>\n",
       "      <td>NaN</td>\n",
       "      <td>Festival URBX</td>\n",
       "      <td>None</td>\n",
       "      <td>Tous publics</td>\n",
       "      <td>1</td>\n",
       "      <td>Fêtes, salons du livre, festivals</td>\n",
       "    </tr>\n",
       "    <tr>\n",
       "      <th>133</th>\n",
       "      <td>1846</td>\n",
       "      <td>2024-09-21</td>\n",
       "      <td>Trésors du Patrimoine et des Archives</td>\n",
       "      <td>Salle d'étude</td>\n",
       "      <td>Exposition</td>\n",
       "      <td>Adultes</td>\n",
       "      <td>None</td>\n",
       "      <td>30.0</td>\n",
       "      <td>10.0</td>\n",
       "      <td>JEP</td>\n",
       "      <td>None</td>\n",
       "      <td>Tous publics</td>\n",
       "      <td>1</td>\n",
       "      <td>Fêtes, salons du livre, festivals</td>\n",
       "    </tr>\n",
       "    <tr>\n",
       "      <th>134</th>\n",
       "      <td>1847</td>\n",
       "      <td>2024-09-21</td>\n",
       "      <td>L'histoire du sport, un jeu d'enfant</td>\n",
       "      <td>Salle d'étude</td>\n",
       "      <td>Atelier</td>\n",
       "      <td>Enfants</td>\n",
       "      <td>None</td>\n",
       "      <td>71.0</td>\n",
       "      <td>50.0</td>\n",
       "      <td>JEP</td>\n",
       "      <td>None</td>\n",
       "      <td>Enfants</td>\n",
       "      <td>1</td>\n",
       "      <td>Fêtes, salons du livre, festivals</td>\n",
       "    </tr>\n",
       "    <tr>\n",
       "      <th>135</th>\n",
       "      <td>1848</td>\n",
       "      <td>2024-09-21</td>\n",
       "      <td>En long et en large, des équipements pour le s...</td>\n",
       "      <td>La criée</td>\n",
       "      <td>Rencontre/conférence</td>\n",
       "      <td>Adultes</td>\n",
       "      <td>François Vergin</td>\n",
       "      <td>3.0</td>\n",
       "      <td>50.0</td>\n",
       "      <td>JEP</td>\n",
       "      <td>None</td>\n",
       "      <td>Tous publics</td>\n",
       "      <td>1</td>\n",
       "      <td>Fêtes, salons du livre, festivals</td>\n",
       "    </tr>\n",
       "    <tr>\n",
       "      <th>136</th>\n",
       "      <td>1849</td>\n",
       "      <td>2024-09-21</td>\n",
       "      <td>Trésors du Patrimoine et des Archives</td>\n",
       "      <td>La criée</td>\n",
       "      <td>Exposition</td>\n",
       "      <td>Adultes</td>\n",
       "      <td>None</td>\n",
       "      <td>10.0</td>\n",
       "      <td>10.0</td>\n",
       "      <td>JEP</td>\n",
       "      <td>None</td>\n",
       "      <td>Tous publics</td>\n",
       "      <td>1</td>\n",
       "      <td>Fêtes, salons du livre, festivals</td>\n",
       "    </tr>\n",
       "    <tr>\n",
       "      <th>137</th>\n",
       "      <td>1850</td>\n",
       "      <td>2024-09-21</td>\n",
       "      <td>L'histoire du sport, un jeu d'enfant</td>\n",
       "      <td>La criée</td>\n",
       "      <td>Atelier</td>\n",
       "      <td>Enfants</td>\n",
       "      <td>None</td>\n",
       "      <td>18.0</td>\n",
       "      <td>50.0</td>\n",
       "      <td>JEP</td>\n",
       "      <td>None</td>\n",
       "      <td>Enfants</td>\n",
       "      <td>1</td>\n",
       "      <td>Fêtes, salons du livre, festivals</td>\n",
       "    </tr>\n",
       "    <tr>\n",
       "      <th>146</th>\n",
       "      <td>1859</td>\n",
       "      <td>2024-10-05</td>\n",
       "      <td>Ma salle de bain Zéro Déchet</td>\n",
       "      <td>La criée</td>\n",
       "      <td>Atelier</td>\n",
       "      <td>Tout public</td>\n",
       "      <td>None</td>\n",
       "      <td>12.0</td>\n",
       "      <td>15.0</td>\n",
       "      <td>Fête de la science</td>\n",
       "      <td>None</td>\n",
       "      <td>Tous publics</td>\n",
       "      <td>1</td>\n",
       "      <td>Fêtes, salons du livre, festivals</td>\n",
       "    </tr>\n",
       "    <tr>\n",
       "      <th>147</th>\n",
       "      <td>1860</td>\n",
       "      <td>2024-10-05</td>\n",
       "      <td>Les racontées musicales</td>\n",
       "      <td>Salle d'heure du conte</td>\n",
       "      <td>Lecture/contes</td>\n",
       "      <td>Petite enfance</td>\n",
       "      <td>None</td>\n",
       "      <td>34.0</td>\n",
       "      <td>40.0</td>\n",
       "      <td>Fête de la science</td>\n",
       "      <td>15 adultes et 19 enfants</td>\n",
       "      <td>Enfants</td>\n",
       "      <td>1</td>\n",
       "      <td>Fêtes, salons du livre, festivals</td>\n",
       "    </tr>\n",
       "    <tr>\n",
       "      <th>148</th>\n",
       "      <td>1861</td>\n",
       "      <td>2024-10-05</td>\n",
       "      <td>La pollution plastique</td>\n",
       "      <td>La criée</td>\n",
       "      <td>Rencontre/conférence</td>\n",
       "      <td>Adultes</td>\n",
       "      <td>None</td>\n",
       "      <td>3.0</td>\n",
       "      <td>50.0</td>\n",
       "      <td>Fête de la science</td>\n",
       "      <td>None</td>\n",
       "      <td>Tous publics</td>\n",
       "      <td>1</td>\n",
       "      <td>Fêtes, salons du livre, festivals</td>\n",
       "    </tr>\n",
       "    <tr>\n",
       "      <th>149</th>\n",
       "      <td>1862</td>\n",
       "      <td>2024-10-06</td>\n",
       "      <td>Science et jeux</td>\n",
       "      <td>Espace RDC</td>\n",
       "      <td>Jeux</td>\n",
       "      <td>Tout public</td>\n",
       "      <td>None</td>\n",
       "      <td>18.0</td>\n",
       "      <td>35.0</td>\n",
       "      <td>Fête de la science</td>\n",
       "      <td>None</td>\n",
       "      <td>Tous publics</td>\n",
       "      <td>1</td>\n",
       "      <td>Fêtes, salons du livre, festivals</td>\n",
       "    </tr>\n",
       "    <tr>\n",
       "      <th>150</th>\n",
       "      <td>1863</td>\n",
       "      <td>2024-10-06</td>\n",
       "      <td>Arête - Mathilde Bensaïd</td>\n",
       "      <td>La criée</td>\n",
       "      <td>Spectacle</td>\n",
       "      <td>Enfants</td>\n",
       "      <td>None</td>\n",
       "      <td>53.0</td>\n",
       "      <td>50.0</td>\n",
       "      <td>Fête de la science</td>\n",
       "      <td>21 adultes et 32 enfants</td>\n",
       "      <td>Enfants</td>\n",
       "      <td>1</td>\n",
       "      <td>Fêtes, salons du livre, festivals</td>\n",
       "    </tr>\n",
       "    <tr>\n",
       "      <th>153</th>\n",
       "      <td>1866</td>\n",
       "      <td>2024-10-12</td>\n",
       "      <td>Les contes du Blaireau</td>\n",
       "      <td>Salle d'heure du conte</td>\n",
       "      <td>Lecture/contes</td>\n",
       "      <td>Enfants</td>\n",
       "      <td>None</td>\n",
       "      <td>12.0</td>\n",
       "      <td>25.0</td>\n",
       "      <td>Nuit des bibliothèques</td>\n",
       "      <td>None</td>\n",
       "      <td>Enfants</td>\n",
       "      <td>1</td>\n",
       "      <td>Fêtes, salons du livre, festivals</td>\n",
       "    </tr>\n",
       "    <tr>\n",
       "      <th>154</th>\n",
       "      <td>1867</td>\n",
       "      <td>2024-10-12</td>\n",
       "      <td>Veillée musicale</td>\n",
       "      <td>Espace Jeunesse</td>\n",
       "      <td>Concert</td>\n",
       "      <td>Enfants</td>\n",
       "      <td>None</td>\n",
       "      <td>85.0</td>\n",
       "      <td>60.0</td>\n",
       "      <td>Nuit des bibliothèques</td>\n",
       "      <td>40 adultes et 45 enfants</td>\n",
       "      <td>Enfants</td>\n",
       "      <td>1</td>\n",
       "      <td>Fêtes, salons du livre, festivals</td>\n",
       "    </tr>\n",
       "    <tr>\n",
       "      <th>157</th>\n",
       "      <td>1870</td>\n",
       "      <td>2024-10-12</td>\n",
       "      <td>Atelier</td>\n",
       "      <td>Espace RDC</td>\n",
       "      <td>Atelier</td>\n",
       "      <td>Tout public</td>\n",
       "      <td>None</td>\n",
       "      <td>65.0</td>\n",
       "      <td>50.0</td>\n",
       "      <td>Nuit des bibliothèques</td>\n",
       "      <td>None</td>\n",
       "      <td>Tous publics</td>\n",
       "      <td>1</td>\n",
       "      <td>Fêtes, salons du livre, festivals</td>\n",
       "    </tr>\n",
       "    <tr>\n",
       "      <th>158</th>\n",
       "      <td>1871</td>\n",
       "      <td>2024-10-12</td>\n",
       "      <td>Visites</td>\n",
       "      <td>Toute la médiathèque</td>\n",
       "      <td>Autre</td>\n",
       "      <td>Adultes</td>\n",
       "      <td>None</td>\n",
       "      <td>32.0</td>\n",
       "      <td>30.0</td>\n",
       "      <td>Nuit des bibliothèques</td>\n",
       "      <td>None</td>\n",
       "      <td>Tous publics</td>\n",
       "      <td>1</td>\n",
       "      <td>Fêtes, salons du livre, festivals</td>\n",
       "    </tr>\n",
       "    <tr>\n",
       "      <th>159</th>\n",
       "      <td>1872</td>\n",
       "      <td>2024-10-12</td>\n",
       "      <td>La femme sauvage - cie Cendres la rouge</td>\n",
       "      <td>La criée</td>\n",
       "      <td>Spectacle</td>\n",
       "      <td>Tout public</td>\n",
       "      <td>None</td>\n",
       "      <td>53.0</td>\n",
       "      <td>60.0</td>\n",
       "      <td>Nuit des bibliothèques</td>\n",
       "      <td>None</td>\n",
       "      <td>Tous publics</td>\n",
       "      <td>1</td>\n",
       "      <td>Fêtes, salons du livre, festivals</td>\n",
       "    </tr>\n",
       "    <tr>\n",
       "      <th>160</th>\n",
       "      <td>1873</td>\n",
       "      <td>2024-10-13</td>\n",
       "      <td>La petite fabrique du pop-up</td>\n",
       "      <td>La criée</td>\n",
       "      <td>Atelier</td>\n",
       "      <td>Tout public</td>\n",
       "      <td>None</td>\n",
       "      <td>60.0</td>\n",
       "      <td>40.0</td>\n",
       "      <td>Nuit des bibliothèques</td>\n",
       "      <td>None</td>\n",
       "      <td>Tous publics</td>\n",
       "      <td>1</td>\n",
       "      <td>Fêtes, salons du livre, festivals</td>\n",
       "    </tr>\n",
       "    <tr>\n",
       "      <th>161</th>\n",
       "      <td>1874</td>\n",
       "      <td>2024-10-13</td>\n",
       "      <td>Jeux fantastiques</td>\n",
       "      <td>Espace RDC</td>\n",
       "      <td>Jeux</td>\n",
       "      <td>Tout public</td>\n",
       "      <td>None</td>\n",
       "      <td>20.0</td>\n",
       "      <td>20.0</td>\n",
       "      <td>Nuit des bibliothèques</td>\n",
       "      <td>None</td>\n",
       "      <td>Tous publics</td>\n",
       "      <td>1</td>\n",
       "      <td>Fêtes, salons du livre, festivals</td>\n",
       "    </tr>\n",
       "    <tr>\n",
       "      <th>177</th>\n",
       "      <td>1890</td>\n",
       "      <td>2024-11-15</td>\n",
       "      <td>Queerying Nature</td>\n",
       "      <td>La criée</td>\n",
       "      <td>Projection/diffusion</td>\n",
       "      <td>Adultes</td>\n",
       "      <td>None</td>\n",
       "      <td>45.0</td>\n",
       "      <td>50.0</td>\n",
       "      <td>Mois du film documentaire</td>\n",
       "      <td>None</td>\n",
       "      <td>Tous publics</td>\n",
       "      <td>1</td>\n",
       "      <td>Fêtes, salons du livre, festivals</td>\n",
       "    </tr>\n",
       "    <tr>\n",
       "      <th>179</th>\n",
       "      <td>1892</td>\n",
       "      <td>2024-11-16</td>\n",
       "      <td>Conférence Citéphilo</td>\n",
       "      <td>La criée</td>\n",
       "      <td>Rencontre/conférence</td>\n",
       "      <td>Adultes</td>\n",
       "      <td>Citéphilo</td>\n",
       "      <td>42.0</td>\n",
       "      <td>50.0</td>\n",
       "      <td>Temps fort Transitions</td>\n",
       "      <td>None</td>\n",
       "      <td>Tous publics</td>\n",
       "      <td>1</td>\n",
       "      <td>Fêtes, salons du livre, festivals</td>\n",
       "    </tr>\n",
       "    <tr>\n",
       "      <th>200</th>\n",
       "      <td>1913</td>\n",
       "      <td>2024-12-06</td>\n",
       "      <td>Carte blanche aux étudiants de l'ESAAT</td>\n",
       "      <td>La criée</td>\n",
       "      <td>Exposition</td>\n",
       "      <td>Tout public</td>\n",
       "      <td>None</td>\n",
       "      <td>15.0</td>\n",
       "      <td>40.0</td>\n",
       "      <td>Temps fort Transitions</td>\n",
       "      <td>None</td>\n",
       "      <td>Tous publics</td>\n",
       "      <td>1</td>\n",
       "      <td>Fêtes, salons du livre, festivals</td>\n",
       "    </tr>\n",
       "    <tr>\n",
       "      <th>202</th>\n",
       "      <td>1915</td>\n",
       "      <td>2024-12-07</td>\n",
       "      <td>Carte blanche aux étudiants de l'ESAAT</td>\n",
       "      <td>La criée</td>\n",
       "      <td>Exposition</td>\n",
       "      <td>Tout public</td>\n",
       "      <td>None</td>\n",
       "      <td>30.0</td>\n",
       "      <td>40.0</td>\n",
       "      <td>Temps fort Transitions</td>\n",
       "      <td>None</td>\n",
       "      <td>Tous publics</td>\n",
       "      <td>1</td>\n",
       "      <td>Fêtes, salons du livre, festivals</td>\n",
       "    </tr>\n",
       "    <tr>\n",
       "      <th>203</th>\n",
       "      <td>1916</td>\n",
       "      <td>2024-12-08</td>\n",
       "      <td>Carte blanche aux étudiants de l'ESAAT</td>\n",
       "      <td>La criée</td>\n",
       "      <td>Exposition</td>\n",
       "      <td>Tout public</td>\n",
       "      <td>None</td>\n",
       "      <td>20.0</td>\n",
       "      <td>40.0</td>\n",
       "      <td>Temps fort Transitions</td>\n",
       "      <td>None</td>\n",
       "      <td>Tous publics</td>\n",
       "      <td>1</td>\n",
       "      <td>Fêtes, salons du livre, festivals</td>\n",
       "    </tr>\n",
       "  </tbody>\n",
       "</table>\n",
       "</div>"
      ],
      "text/plain": [
       "       id        date                                             action  \\\n",
       "6    1619  2024-01-20              Bulles de lecture - à partir de 4 ans   \n",
       "7    1620  2024-01-20                          Bulles de lecture 0-3 ans   \n",
       "8    1621  2024-01-20                                    Zik et bouquins   \n",
       "9    1622  2024-01-20                            Between, Ballet du Nord   \n",
       "10   1623  2024-01-21                         Le corps fait son cinéma !   \n",
       "11   1624  2024-01-21                                      Corps accords   \n",
       "18   1631  2024-02-02         Questions de parents : épuisement parental   \n",
       "23   1636  2024-02-03                            À la pêche aux albums !   \n",
       "25   1638  2024-02-03                                   Veillée musicale   \n",
       "26   1639  2024-02-04                         Racontée musicale spéciale   \n",
       "48   1661  2024-03-17                                   Lectures dansées   \n",
       "54   1667  2024-03-23                                             Dictée   \n",
       "56   1669  2024-03-24                                       Jeux de mots   \n",
       "85   1698  2024-05-22                     Une soirée avec Mélanie Rutten   \n",
       "91   1704  2024-05-25                                 Création de doudou   \n",
       "92   1705  2024-05-25                        Raspberry Pi et rétrogaming   \n",
       "93   1706  2024-05-25                                        Les Tulalus   \n",
       "94   1707  2024-05-26                                        À la dérive   \n",
       "96   1714  2024-06-02                         Jeux traditionnels en bois   \n",
       "97   1715  2024-06-02           Triop's, la plus petite fanfare au monde   \n",
       "100  1718  2024-06-08             Le livre d'heures d'Isabeau de Roubaix   \n",
       "101  1719  2024-06-08  Ensemble Tormis : musique à l'époque d'Isabeau...   \n",
       "102  1720  2024-06-08                            Le monde des manuscrits   \n",
       "103  1721  2024-06-08              Trésors du Patrimoine et des Archives   \n",
       "104  1722  2024-06-09                            Le monde des manuscrits   \n",
       "105  1723  2024-06-09              Trésors du Patrimoine et des Archives   \n",
       "106  1724  2024-06-12                                             Vyznam   \n",
       "110  1728  2024-06-16                            Percussions corporelles   \n",
       "133  1846  2024-09-21              Trésors du Patrimoine et des Archives   \n",
       "134  1847  2024-09-21               L'histoire du sport, un jeu d'enfant   \n",
       "135  1848  2024-09-21  En long et en large, des équipements pour le s...   \n",
       "136  1849  2024-09-21              Trésors du Patrimoine et des Archives   \n",
       "137  1850  2024-09-21               L'histoire du sport, un jeu d'enfant   \n",
       "146  1859  2024-10-05                       Ma salle de bain Zéro Déchet   \n",
       "147  1860  2024-10-05                            Les racontées musicales   \n",
       "148  1861  2024-10-05                             La pollution plastique   \n",
       "149  1862  2024-10-06                                    Science et jeux   \n",
       "150  1863  2024-10-06                           Arête - Mathilde Bensaïd   \n",
       "153  1866  2024-10-12                             Les contes du Blaireau   \n",
       "154  1867  2024-10-12                                   Veillée musicale   \n",
       "157  1870  2024-10-12                                            Atelier   \n",
       "158  1871  2024-10-12                                            Visites   \n",
       "159  1872  2024-10-12            La femme sauvage - cie Cendres la rouge   \n",
       "160  1873  2024-10-13                       La petite fabrique du pop-up   \n",
       "161  1874  2024-10-13                                  Jeux fantastiques   \n",
       "177  1890  2024-11-15                                   Queerying Nature   \n",
       "179  1892  2024-11-16                               Conférence Citéphilo   \n",
       "200  1913  2024-12-06             Carte blanche aux étudiants de l'ESAAT   \n",
       "202  1915  2024-12-07             Carte blanche aux étudiants de l'ESAAT   \n",
       "203  1916  2024-12-08             Carte blanche aux étudiants de l'ESAAT   \n",
       "\n",
       "                       lieu                  type          public  \\\n",
       "6                Espace RDC        Lecture/contes         Enfants   \n",
       "7    Salle d'heure du conte        Lecture/contes         Enfants   \n",
       "8                  La criée        Lecture/contes        Familles   \n",
       "9                Espace RDC        Lecture/contes     Tout public   \n",
       "10               Espace RDC               Atelier     Tout public   \n",
       "11                 La criée        Lecture/contes     Tout public   \n",
       "18                 La criée  Rencontre/conférence         Adultes   \n",
       "23   Salle d'heure du conte        Lecture/contes         Enfants   \n",
       "25          Espace Jeunesse               Concert         Enfants   \n",
       "26   Salle d'heure du conte        Lecture/contes         Enfants   \n",
       "48               Espace Rdc             Spectacle     Tout public   \n",
       "54                 La criée                 Autre         Adultes   \n",
       "56               Espace RDC                  Jeux     Tout public   \n",
       "85                 La criée  Rencontre/conférence         Adultes   \n",
       "91                 La criée               Atelier         Enfants   \n",
       "92        Espace multimédia               Atelier         Adultes   \n",
       "93                Salle VDM          Club lecture         Adultes   \n",
       "94                 La criée             Spectacle     Tout public   \n",
       "96               Espace RDC                  Jeux     Tout public   \n",
       "97     Toute la médiathèque               Concert     Tout public   \n",
       "100                La criée  Rencontre/conférence         Adultes   \n",
       "101        Espace 1er étage               Concert     Tout public   \n",
       "102           Salle d'étude               Atelier     Tout public   \n",
       "103                La criée                 Autre     Tout public   \n",
       "104                La criée               Atelier     Tout public   \n",
       "105                La criée                 Autre     Tout public   \n",
       "106                La criée             Spectacle     Tout public   \n",
       "110                La criée               Atelier     Tout public   \n",
       "133           Salle d'étude            Exposition         Adultes   \n",
       "134           Salle d'étude               Atelier         Enfants   \n",
       "135                La criée  Rencontre/conférence         Adultes   \n",
       "136                La criée            Exposition         Adultes   \n",
       "137                La criée               Atelier         Enfants   \n",
       "146                La criée               Atelier     Tout public   \n",
       "147  Salle d'heure du conte        Lecture/contes  Petite enfance   \n",
       "148                La criée  Rencontre/conférence         Adultes   \n",
       "149              Espace RDC                  Jeux     Tout public   \n",
       "150                La criée             Spectacle         Enfants   \n",
       "153  Salle d'heure du conte        Lecture/contes         Enfants   \n",
       "154         Espace Jeunesse               Concert         Enfants   \n",
       "157              Espace RDC               Atelier     Tout public   \n",
       "158    Toute la médiathèque                 Autre         Adultes   \n",
       "159                La criée             Spectacle     Tout public   \n",
       "160                La criée               Atelier     Tout public   \n",
       "161              Espace RDC                  Jeux     Tout public   \n",
       "177                La criée  Projection/diffusion         Adultes   \n",
       "179                La criée  Rencontre/conférence         Adultes   \n",
       "200                La criée            Exposition     Tout public   \n",
       "202                La criée            Exposition     Tout public   \n",
       "203                La criée            Exposition     Tout public   \n",
       "\n",
       "         partenariat  participants  jauge  \\\n",
       "6               None          25.0    NaN   \n",
       "7               None          17.0    NaN   \n",
       "8               None          39.0    NaN   \n",
       "9               None          26.0    NaN   \n",
       "10              None          28.0    NaN   \n",
       "11              None          25.0    NaN   \n",
       "18              None           7.0    NaN   \n",
       "23              None          28.0    NaN   \n",
       "25              None          65.0    NaN   \n",
       "26              None         110.0    NaN   \n",
       "48              None          80.0    NaN   \n",
       "54              None          41.0    NaN   \n",
       "56              None          25.0    NaN   \n",
       "85              None          23.0    NaN   \n",
       "91              None          36.0    NaN   \n",
       "92              None           9.0    NaN   \n",
       "93              None          15.0    NaN   \n",
       "94              None         110.0    NaN   \n",
       "96              None          50.0    NaN   \n",
       "97              None           NaN    NaN   \n",
       "100             None          41.0    NaN   \n",
       "101             None          45.0    NaN   \n",
       "102             None          50.0    NaN   \n",
       "103             None           8.0    NaN   \n",
       "104             None          13.0    NaN   \n",
       "105             None           6.0    NaN   \n",
       "106             None          45.0    NaN   \n",
       "110             None          17.0    NaN   \n",
       "133             None          30.0   10.0   \n",
       "134             None          71.0   50.0   \n",
       "135  François Vergin           3.0   50.0   \n",
       "136             None          10.0   10.0   \n",
       "137             None          18.0   50.0   \n",
       "146             None          12.0   15.0   \n",
       "147             None          34.0   40.0   \n",
       "148             None           3.0   50.0   \n",
       "149             None          18.0   35.0   \n",
       "150             None          53.0   50.0   \n",
       "153             None          12.0   25.0   \n",
       "154             None          85.0   60.0   \n",
       "157             None          65.0   50.0   \n",
       "158             None          32.0   30.0   \n",
       "159             None          53.0   60.0   \n",
       "160             None          60.0   40.0   \n",
       "161             None          20.0   20.0   \n",
       "177             None          45.0   50.0   \n",
       "179        Citéphilo          42.0   50.0   \n",
       "200             None          15.0   40.0   \n",
       "202             None          30.0   40.0   \n",
       "203             None          20.0   40.0   \n",
       "\n",
       "                                   evenement                     notes  \\\n",
       "6                        Nuits de la lecture                      None   \n",
       "7                        Nuits de la lecture   10 enfants et 7 adultes   \n",
       "8                        Nuits de la lecture                      None   \n",
       "9                        Nuits de la lecture                      None   \n",
       "10                       Nuits de la lecture                      None   \n",
       "11                       Nuits de la lecture                      None   \n",
       "18                        Week-end des bébés                      None   \n",
       "23                        Week-end des bébés  14 enfants et 14 adultes   \n",
       "25                        Week-end des bébés                      None   \n",
       "26                        Week-end des bébés                      None   \n",
       "48                      Printemps des poètes                      None   \n",
       "54   Semaine Langue française & francophonie                      None   \n",
       "56   Semaine Langue française & francophonie                      None   \n",
       "85              Regards sur : Mélanie Rutten                      None   \n",
       "91              Regards sur : Mélanie Rutten  17 enfants et 19 adultes   \n",
       "92              Regards sur : Mélanie Rutten                      None   \n",
       "93              Regards sur : Mélanie Rutten                      None   \n",
       "94              Regards sur : Mélanie Rutten                      None   \n",
       "96                  Ducasse à La Grand-Plage                      None   \n",
       "97                  Ducasse à La Grand-Plage                      None   \n",
       "100           À la découverte des manuscrits                      None   \n",
       "101           À la découverte des manuscrits                      None   \n",
       "102           À la découverte des manuscrits                      None   \n",
       "103           À la découverte des manuscrits                      None   \n",
       "104           À la découverte des manuscrits                      None   \n",
       "105           À la découverte des manuscrits                      None   \n",
       "106                            Festival URBX                      None   \n",
       "110                            Festival URBX                      None   \n",
       "133                                      JEP                      None   \n",
       "134                                      JEP                      None   \n",
       "135                                      JEP                      None   \n",
       "136                                      JEP                      None   \n",
       "137                                      JEP                      None   \n",
       "146                       Fête de la science                      None   \n",
       "147                       Fête de la science  15 adultes et 19 enfants   \n",
       "148                       Fête de la science                      None   \n",
       "149                       Fête de la science                      None   \n",
       "150                       Fête de la science  21 adultes et 32 enfants   \n",
       "153                   Nuit des bibliothèques                      None   \n",
       "154                   Nuit des bibliothèques  40 adultes et 45 enfants   \n",
       "157                   Nuit des bibliothèques                      None   \n",
       "158                   Nuit des bibliothèques                      None   \n",
       "159                   Nuit des bibliothèques                      None   \n",
       "160                   Nuit des bibliothèques                      None   \n",
       "161                   Nuit des bibliothèques                      None   \n",
       "177                Mois du film documentaire                      None   \n",
       "179                   Temps fort Transitions                      None   \n",
       "200                   Temps fort Transitions                      None   \n",
       "202                   Temps fort Transitions                      None   \n",
       "203                   Temps fort Transitions                      None   \n",
       "\n",
       "       public_sll  nb_actions                           type_sll  \n",
       "6         Enfants           1  Fêtes, salons du livre, festivals  \n",
       "7         Enfants           1  Fêtes, salons du livre, festivals  \n",
       "8    Tous publics           1  Fêtes, salons du livre, festivals  \n",
       "9    Tous publics           1  Fêtes, salons du livre, festivals  \n",
       "10   Tous publics           1  Fêtes, salons du livre, festivals  \n",
       "11   Tous publics           1  Fêtes, salons du livre, festivals  \n",
       "18   Tous publics           1  Fêtes, salons du livre, festivals  \n",
       "23        Enfants           1  Fêtes, salons du livre, festivals  \n",
       "25        Enfants           1  Fêtes, salons du livre, festivals  \n",
       "26        Enfants           1  Fêtes, salons du livre, festivals  \n",
       "48   Tous publics           1  Fêtes, salons du livre, festivals  \n",
       "54   Tous publics           1  Fêtes, salons du livre, festivals  \n",
       "56   Tous publics           1  Fêtes, salons du livre, festivals  \n",
       "85   Tous publics           1  Fêtes, salons du livre, festivals  \n",
       "91        Enfants           1  Fêtes, salons du livre, festivals  \n",
       "92   Tous publics           1  Fêtes, salons du livre, festivals  \n",
       "93   Tous publics           1  Fêtes, salons du livre, festivals  \n",
       "94   Tous publics           1  Fêtes, salons du livre, festivals  \n",
       "96   Tous publics           1  Fêtes, salons du livre, festivals  \n",
       "97   Tous publics           1  Fêtes, salons du livre, festivals  \n",
       "100  Tous publics           1  Fêtes, salons du livre, festivals  \n",
       "101  Tous publics           1  Fêtes, salons du livre, festivals  \n",
       "102  Tous publics           1  Fêtes, salons du livre, festivals  \n",
       "103  Tous publics           1  Fêtes, salons du livre, festivals  \n",
       "104  Tous publics           1  Fêtes, salons du livre, festivals  \n",
       "105  Tous publics           1  Fêtes, salons du livre, festivals  \n",
       "106  Tous publics           1  Fêtes, salons du livre, festivals  \n",
       "110  Tous publics           1  Fêtes, salons du livre, festivals  \n",
       "133  Tous publics           1  Fêtes, salons du livre, festivals  \n",
       "134       Enfants           1  Fêtes, salons du livre, festivals  \n",
       "135  Tous publics           1  Fêtes, salons du livre, festivals  \n",
       "136  Tous publics           1  Fêtes, salons du livre, festivals  \n",
       "137       Enfants           1  Fêtes, salons du livre, festivals  \n",
       "146  Tous publics           1  Fêtes, salons du livre, festivals  \n",
       "147       Enfants           1  Fêtes, salons du livre, festivals  \n",
       "148  Tous publics           1  Fêtes, salons du livre, festivals  \n",
       "149  Tous publics           1  Fêtes, salons du livre, festivals  \n",
       "150       Enfants           1  Fêtes, salons du livre, festivals  \n",
       "153       Enfants           1  Fêtes, salons du livre, festivals  \n",
       "154       Enfants           1  Fêtes, salons du livre, festivals  \n",
       "157  Tous publics           1  Fêtes, salons du livre, festivals  \n",
       "158  Tous publics           1  Fêtes, salons du livre, festivals  \n",
       "159  Tous publics           1  Fêtes, salons du livre, festivals  \n",
       "160  Tous publics           1  Fêtes, salons du livre, festivals  \n",
       "161  Tous publics           1  Fêtes, salons du livre, festivals  \n",
       "177  Tous publics           1  Fêtes, salons du livre, festivals  \n",
       "179  Tous publics           1  Fêtes, salons du livre, festivals  \n",
       "200  Tous publics           1  Fêtes, salons du livre, festivals  \n",
       "202  Tous publics           1  Fêtes, salons du livre, festivals  \n",
       "203  Tous publics           1  Fêtes, salons du livre, festivals  "
      ]
     },
     "execution_count": 126,
     "metadata": {},
     "output_type": "execute_result"
    }
   ],
   "source": [
    "ac_2023[ac_2023['type_sll']=='Fêtes, salons du livre, festivals']"
   ]
  },
  {
   "cell_type": "markdown",
   "id": "13af17f2",
   "metadata": {},
   "source": [
    "### H428 - Autres"
   ]
  },
  {
   "cell_type": "code",
   "execution_count": 127,
   "id": "e1668fba",
   "metadata": {},
   "outputs": [],
   "source": [
    "ac_2023.loc[(ac_2023['type']=='Autre',['type_sll'])] = 'Autre'"
   ]
  },
  {
   "cell_type": "code",
   "execution_count": 128,
   "id": "970c65ea",
   "metadata": {},
   "outputs": [
    {
     "data": {
      "text/plain": [
       "5"
      ]
     },
     "execution_count": 128,
     "metadata": {},
     "output_type": "execute_result"
    }
   ],
   "source": [
    "len(ac_2023[(ac_2023['type']=='Autre')&\n",
    "        (ac_2023['public']=='Tout public')\n",
    "       ]\n",
    "   )"
   ]
  },
  {
   "cell_type": "code",
   "execution_count": 129,
   "id": "e8e97eb8",
   "metadata": {},
   "outputs": [
    {
     "data": {
      "text/plain": [
       "1"
      ]
     },
     "execution_count": 129,
     "metadata": {},
     "output_type": "execute_result"
    }
   ],
   "source": [
    "len(ac_2023[(ac_2023['type']=='Autre')&\n",
    "        (ac_2023['public']=='Enfants')\n",
    "       ]\n",
    "   )"
   ]
  },
  {
   "cell_type": "code",
   "execution_count": 130,
   "id": "18c247e6",
   "metadata": {},
   "outputs": [
    {
     "data": {
      "text/html": [
       "<div>\n",
       "<style scoped>\n",
       "    .dataframe tbody tr th:only-of-type {\n",
       "        vertical-align: middle;\n",
       "    }\n",
       "\n",
       "    .dataframe tbody tr th {\n",
       "        vertical-align: top;\n",
       "    }\n",
       "\n",
       "    .dataframe thead th {\n",
       "        text-align: right;\n",
       "    }\n",
       "</style>\n",
       "<table border=\"1\" class=\"dataframe\">\n",
       "  <thead>\n",
       "    <tr style=\"text-align: right;\">\n",
       "      <th></th>\n",
       "      <th>id</th>\n",
       "      <th>date</th>\n",
       "      <th>action</th>\n",
       "      <th>lieu</th>\n",
       "      <th>type</th>\n",
       "      <th>public</th>\n",
       "      <th>partenariat</th>\n",
       "      <th>participants</th>\n",
       "      <th>jauge</th>\n",
       "      <th>evenement</th>\n",
       "      <th>notes</th>\n",
       "      <th>public_sll</th>\n",
       "      <th>nb_actions</th>\n",
       "      <th>type_sll</th>\n",
       "    </tr>\n",
       "  </thead>\n",
       "  <tbody>\n",
       "    <tr>\n",
       "      <th>52</th>\n",
       "      <td>1665</td>\n",
       "      <td>2024-03-23</td>\n",
       "      <td>Speed-dating patrimonial</td>\n",
       "      <td>Magasins</td>\n",
       "      <td>Autre</td>\n",
       "      <td>Adultes</td>\n",
       "      <td>None</td>\n",
       "      <td>14.0</td>\n",
       "      <td>NaN</td>\n",
       "      <td>None</td>\n",
       "      <td>None</td>\n",
       "      <td>Tous publics</td>\n",
       "      <td>1</td>\n",
       "      <td>Autre</td>\n",
       "    </tr>\n",
       "    <tr>\n",
       "      <th>54</th>\n",
       "      <td>1667</td>\n",
       "      <td>2024-03-23</td>\n",
       "      <td>Dictée</td>\n",
       "      <td>La criée</td>\n",
       "      <td>Autre</td>\n",
       "      <td>Adultes</td>\n",
       "      <td>None</td>\n",
       "      <td>41.0</td>\n",
       "      <td>NaN</td>\n",
       "      <td>Semaine Langue française &amp; francophonie</td>\n",
       "      <td>None</td>\n",
       "      <td>Tous publics</td>\n",
       "      <td>1</td>\n",
       "      <td>Autre</td>\n",
       "    </tr>\n",
       "    <tr>\n",
       "      <th>79</th>\n",
       "      <td>1692</td>\n",
       "      <td>2024-05-12</td>\n",
       "      <td>Vide dressing</td>\n",
       "      <td>La criée</td>\n",
       "      <td>Autre</td>\n",
       "      <td>Tout public</td>\n",
       "      <td>Do it Céline Caffè</td>\n",
       "      <td>35.0</td>\n",
       "      <td>NaN</td>\n",
       "      <td>None</td>\n",
       "      <td>None</td>\n",
       "      <td>Tous publics</td>\n",
       "      <td>1</td>\n",
       "      <td>Autre</td>\n",
       "    </tr>\n",
       "    <tr>\n",
       "      <th>103</th>\n",
       "      <td>1721</td>\n",
       "      <td>2024-06-08</td>\n",
       "      <td>Trésors du Patrimoine et des Archives</td>\n",
       "      <td>La criée</td>\n",
       "      <td>Autre</td>\n",
       "      <td>Tout public</td>\n",
       "      <td>None</td>\n",
       "      <td>8.0</td>\n",
       "      <td>NaN</td>\n",
       "      <td>À la découverte des manuscrits</td>\n",
       "      <td>None</td>\n",
       "      <td>Tous publics</td>\n",
       "      <td>1</td>\n",
       "      <td>Autre</td>\n",
       "    </tr>\n",
       "    <tr>\n",
       "      <th>105</th>\n",
       "      <td>1723</td>\n",
       "      <td>2024-06-09</td>\n",
       "      <td>Trésors du Patrimoine et des Archives</td>\n",
       "      <td>La criée</td>\n",
       "      <td>Autre</td>\n",
       "      <td>Tout public</td>\n",
       "      <td>None</td>\n",
       "      <td>6.0</td>\n",
       "      <td>NaN</td>\n",
       "      <td>À la découverte des manuscrits</td>\n",
       "      <td>None</td>\n",
       "      <td>Tous publics</td>\n",
       "      <td>1</td>\n",
       "      <td>Autre</td>\n",
       "    </tr>\n",
       "    <tr>\n",
       "      <th>139</th>\n",
       "      <td>1852</td>\n",
       "      <td>2024-09-28</td>\n",
       "      <td>Grande braderie de La Grand-Plage</td>\n",
       "      <td>Espace RDC</td>\n",
       "      <td>Autre</td>\n",
       "      <td>Tout public</td>\n",
       "      <td>None</td>\n",
       "      <td>0.0</td>\n",
       "      <td>NaN</td>\n",
       "      <td>None</td>\n",
       "      <td>None</td>\n",
       "      <td>Tous publics</td>\n",
       "      <td>1</td>\n",
       "      <td>Autre</td>\n",
       "    </tr>\n",
       "    <tr>\n",
       "      <th>140</th>\n",
       "      <td>1853</td>\n",
       "      <td>2024-09-29</td>\n",
       "      <td>Vide dressing</td>\n",
       "      <td>Espace RDC</td>\n",
       "      <td>Autre</td>\n",
       "      <td>Tout public</td>\n",
       "      <td>Do It Céline Caffè</td>\n",
       "      <td>60.0</td>\n",
       "      <td>50.0</td>\n",
       "      <td>None</td>\n",
       "      <td>None</td>\n",
       "      <td>Tous publics</td>\n",
       "      <td>1</td>\n",
       "      <td>Autre</td>\n",
       "    </tr>\n",
       "    <tr>\n",
       "      <th>158</th>\n",
       "      <td>1871</td>\n",
       "      <td>2024-10-12</td>\n",
       "      <td>Visites</td>\n",
       "      <td>Toute la médiathèque</td>\n",
       "      <td>Autre</td>\n",
       "      <td>Adultes</td>\n",
       "      <td>None</td>\n",
       "      <td>32.0</td>\n",
       "      <td>30.0</td>\n",
       "      <td>Nuit des bibliothèques</td>\n",
       "      <td>None</td>\n",
       "      <td>Tous publics</td>\n",
       "      <td>1</td>\n",
       "      <td>Autre</td>\n",
       "    </tr>\n",
       "    <tr>\n",
       "      <th>167</th>\n",
       "      <td>1880</td>\n",
       "      <td>2024-10-19</td>\n",
       "      <td>Graines de philo enfant</td>\n",
       "      <td>Salle d'heure du conte</td>\n",
       "      <td>Autre</td>\n",
       "      <td>Enfants</td>\n",
       "      <td>None</td>\n",
       "      <td>15.0</td>\n",
       "      <td>15.0</td>\n",
       "      <td>None</td>\n",
       "      <td>None</td>\n",
       "      <td>Enfants</td>\n",
       "      <td>1</td>\n",
       "      <td>Autre</td>\n",
       "    </tr>\n",
       "    <tr>\n",
       "      <th>176</th>\n",
       "      <td>1889</td>\n",
       "      <td>2024-11-10</td>\n",
       "      <td>Karaoké en famille</td>\n",
       "      <td>La criée</td>\n",
       "      <td>Autre</td>\n",
       "      <td>Familles</td>\n",
       "      <td>None</td>\n",
       "      <td>64.0</td>\n",
       "      <td>40.0</td>\n",
       "      <td>None</td>\n",
       "      <td>None</td>\n",
       "      <td>Tous publics</td>\n",
       "      <td>1</td>\n",
       "      <td>Autre</td>\n",
       "    </tr>\n",
       "    <tr>\n",
       "      <th>195</th>\n",
       "      <td>1908</td>\n",
       "      <td>2024-11-30</td>\n",
       "      <td>Graines de philo adulte</td>\n",
       "      <td>Espace RDC</td>\n",
       "      <td>Autre</td>\n",
       "      <td>Adultes</td>\n",
       "      <td>None</td>\n",
       "      <td>4.0</td>\n",
       "      <td>10.0</td>\n",
       "      <td>None</td>\n",
       "      <td>None</td>\n",
       "      <td>Tous publics</td>\n",
       "      <td>1</td>\n",
       "      <td>Autre</td>\n",
       "    </tr>\n",
       "  </tbody>\n",
       "</table>\n",
       "</div>"
      ],
      "text/plain": [
       "       id        date                                 action  \\\n",
       "52   1665  2024-03-23               Speed-dating patrimonial   \n",
       "54   1667  2024-03-23                                 Dictée   \n",
       "79   1692  2024-05-12                          Vide dressing   \n",
       "103  1721  2024-06-08  Trésors du Patrimoine et des Archives   \n",
       "105  1723  2024-06-09  Trésors du Patrimoine et des Archives   \n",
       "139  1852  2024-09-28      Grande braderie de La Grand-Plage   \n",
       "140  1853  2024-09-29                          Vide dressing   \n",
       "158  1871  2024-10-12                                Visites   \n",
       "167  1880  2024-10-19                Graines de philo enfant   \n",
       "176  1889  2024-11-10                     Karaoké en famille   \n",
       "195  1908  2024-11-30                Graines de philo adulte   \n",
       "\n",
       "                       lieu   type       public         partenariat  \\\n",
       "52                 Magasins  Autre      Adultes                None   \n",
       "54                 La criée  Autre      Adultes                None   \n",
       "79                 La criée  Autre  Tout public  Do it Céline Caffè   \n",
       "103                La criée  Autre  Tout public                None   \n",
       "105                La criée  Autre  Tout public                None   \n",
       "139              Espace RDC  Autre  Tout public                None   \n",
       "140              Espace RDC  Autre  Tout public  Do It Céline Caffè   \n",
       "158    Toute la médiathèque  Autre      Adultes                None   \n",
       "167  Salle d'heure du conte  Autre      Enfants                None   \n",
       "176                La criée  Autre     Familles                None   \n",
       "195              Espace RDC  Autre      Adultes                None   \n",
       "\n",
       "     participants  jauge                                evenement notes  \\\n",
       "52           14.0    NaN                                     None  None   \n",
       "54           41.0    NaN  Semaine Langue française & francophonie  None   \n",
       "79           35.0    NaN                                     None  None   \n",
       "103           8.0    NaN           À la découverte des manuscrits  None   \n",
       "105           6.0    NaN           À la découverte des manuscrits  None   \n",
       "139           0.0    NaN                                     None  None   \n",
       "140          60.0   50.0                                     None  None   \n",
       "158          32.0   30.0                   Nuit des bibliothèques  None   \n",
       "167          15.0   15.0                                     None  None   \n",
       "176          64.0   40.0                                     None  None   \n",
       "195           4.0   10.0                                     None  None   \n",
       "\n",
       "       public_sll  nb_actions type_sll  \n",
       "52   Tous publics           1    Autre  \n",
       "54   Tous publics           1    Autre  \n",
       "79   Tous publics           1    Autre  \n",
       "103  Tous publics           1    Autre  \n",
       "105  Tous publics           1    Autre  \n",
       "139  Tous publics           1    Autre  \n",
       "140  Tous publics           1    Autre  \n",
       "158  Tous publics           1    Autre  \n",
       "167       Enfants           1    Autre  \n",
       "176  Tous publics           1    Autre  \n",
       "195  Tous publics           1    Autre  "
      ]
     },
     "execution_count": 130,
     "metadata": {},
     "output_type": "execute_result"
    }
   ],
   "source": [
    "ac_2023[ac_2023['type_sll']=='Autre']"
   ]
  },
  {
   "cell_type": "markdown",
   "id": "7fdfa68a",
   "metadata": {},
   "source": [
    "### Formations au public"
   ]
  },
  {
   "cell_type": "code",
   "execution_count": 131,
   "id": "681673c6",
   "metadata": {},
   "outputs": [
    {
     "data": {
      "text/html": [
       "<div>\n",
       "<style scoped>\n",
       "    .dataframe tbody tr th:only-of-type {\n",
       "        vertical-align: middle;\n",
       "    }\n",
       "\n",
       "    .dataframe tbody tr th {\n",
       "        vertical-align: top;\n",
       "    }\n",
       "\n",
       "    .dataframe thead th {\n",
       "        text-align: right;\n",
       "    }\n",
       "</style>\n",
       "<table border=\"1\" class=\"dataframe\">\n",
       "  <thead>\n",
       "    <tr style=\"text-align: right;\">\n",
       "      <th></th>\n",
       "      <th>id</th>\n",
       "      <th>date</th>\n",
       "      <th>action</th>\n",
       "      <th>lieu</th>\n",
       "      <th>type</th>\n",
       "      <th>public</th>\n",
       "      <th>partenariat</th>\n",
       "      <th>participants</th>\n",
       "      <th>jauge</th>\n",
       "      <th>evenement</th>\n",
       "      <th>notes</th>\n",
       "      <th>public_sll</th>\n",
       "      <th>nb_actions</th>\n",
       "      <th>type_sll</th>\n",
       "    </tr>\n",
       "  </thead>\n",
       "  <tbody>\n",
       "    <tr>\n",
       "      <th>3</th>\n",
       "      <td>1616</td>\n",
       "      <td>2024-01-14</td>\n",
       "      <td>Tricot des Lulus</td>\n",
       "      <td>La criée</td>\n",
       "      <td>Atelier</td>\n",
       "      <td>Tout public</td>\n",
       "      <td>None</td>\n",
       "      <td>22.0</td>\n",
       "      <td>20.0</td>\n",
       "      <td>None</td>\n",
       "      <td>None</td>\n",
       "      <td>Tous publics</td>\n",
       "      <td>1</td>\n",
       "      <td>NaN</td>\n",
       "    </tr>\n",
       "    <tr>\n",
       "      <th>4</th>\n",
       "      <td>1617</td>\n",
       "      <td>2024-01-16</td>\n",
       "      <td>Atelier informatique pour débutants</td>\n",
       "      <td>Espace multimédia</td>\n",
       "      <td>Atelier</td>\n",
       "      <td>Adultes</td>\n",
       "      <td>None</td>\n",
       "      <td>10.0</td>\n",
       "      <td>12.0</td>\n",
       "      <td>None</td>\n",
       "      <td>None</td>\n",
       "      <td>Tous publics</td>\n",
       "      <td>1</td>\n",
       "      <td>NaN</td>\n",
       "    </tr>\n",
       "    <tr>\n",
       "      <th>5</th>\n",
       "      <td>1618</td>\n",
       "      <td>2024-01-19</td>\n",
       "      <td>Radio à La Grand-Plage</td>\n",
       "      <td>Salle VDM</td>\n",
       "      <td>Atelier</td>\n",
       "      <td>Adultes</td>\n",
       "      <td>None</td>\n",
       "      <td>15.0</td>\n",
       "      <td>10.0</td>\n",
       "      <td>None</td>\n",
       "      <td>None</td>\n",
       "      <td>Tous publics</td>\n",
       "      <td>1</td>\n",
       "      <td>NaN</td>\n",
       "    </tr>\n",
       "    <tr>\n",
       "      <th>10</th>\n",
       "      <td>1623</td>\n",
       "      <td>2024-01-21</td>\n",
       "      <td>Le corps fait son cinéma !</td>\n",
       "      <td>Espace RDC</td>\n",
       "      <td>Atelier</td>\n",
       "      <td>Tout public</td>\n",
       "      <td>None</td>\n",
       "      <td>28.0</td>\n",
       "      <td>NaN</td>\n",
       "      <td>Nuits de la lecture</td>\n",
       "      <td>None</td>\n",
       "      <td>Tous publics</td>\n",
       "      <td>1</td>\n",
       "      <td>Fêtes, salons du livre, festivals</td>\n",
       "    </tr>\n",
       "    <tr>\n",
       "      <th>12</th>\n",
       "      <td>1625</td>\n",
       "      <td>2024-01-24</td>\n",
       "      <td>Dans tes rêves</td>\n",
       "      <td>La criée</td>\n",
       "      <td>Atelier</td>\n",
       "      <td>Enfants</td>\n",
       "      <td>La Condition Publique</td>\n",
       "      <td>45.0</td>\n",
       "      <td>NaN</td>\n",
       "      <td>None</td>\n",
       "      <td>None</td>\n",
       "      <td>Enfants</td>\n",
       "      <td>1</td>\n",
       "      <td>NaN</td>\n",
       "    </tr>\n",
       "    <tr>\n",
       "      <th>...</th>\n",
       "      <td>...</td>\n",
       "      <td>...</td>\n",
       "      <td>...</td>\n",
       "      <td>...</td>\n",
       "      <td>...</td>\n",
       "      <td>...</td>\n",
       "      <td>...</td>\n",
       "      <td>...</td>\n",
       "      <td>...</td>\n",
       "      <td>...</td>\n",
       "      <td>...</td>\n",
       "      <td>...</td>\n",
       "      <td>...</td>\n",
       "      <td>...</td>\n",
       "    </tr>\n",
       "    <tr>\n",
       "      <th>199</th>\n",
       "      <td>1912</td>\n",
       "      <td>2024-12-06</td>\n",
       "      <td>Radio à La Grand-Plage</td>\n",
       "      <td>Salle VDM</td>\n",
       "      <td>Atelier</td>\n",
       "      <td>Adultes</td>\n",
       "      <td>None</td>\n",
       "      <td>10.0</td>\n",
       "      <td>15.0</td>\n",
       "      <td>None</td>\n",
       "      <td>None</td>\n",
       "      <td>Tous publics</td>\n",
       "      <td>1</td>\n",
       "      <td>NaN</td>\n",
       "    </tr>\n",
       "    <tr>\n",
       "      <th>206</th>\n",
       "      <td>1919</td>\n",
       "      <td>2024-12-13</td>\n",
       "      <td>Radio à La Grand-Plage</td>\n",
       "      <td>Salle VDM</td>\n",
       "      <td>Atelier</td>\n",
       "      <td>Adultes</td>\n",
       "      <td>None</td>\n",
       "      <td>8.0</td>\n",
       "      <td>15.0</td>\n",
       "      <td>None</td>\n",
       "      <td>None</td>\n",
       "      <td>Tous publics</td>\n",
       "      <td>1</td>\n",
       "      <td>NaN</td>\n",
       "    </tr>\n",
       "    <tr>\n",
       "      <th>211</th>\n",
       "      <td>1924</td>\n",
       "      <td>2024-12-15</td>\n",
       "      <td>Mon maquillage Zéro Déchet pour les fêtes !</td>\n",
       "      <td>La criée</td>\n",
       "      <td>Atelier</td>\n",
       "      <td>Tout public</td>\n",
       "      <td>None</td>\n",
       "      <td>18.0</td>\n",
       "      <td>20.0</td>\n",
       "      <td>None</td>\n",
       "      <td>None</td>\n",
       "      <td>Tous publics</td>\n",
       "      <td>1</td>\n",
       "      <td>NaN</td>\n",
       "    </tr>\n",
       "    <tr>\n",
       "      <th>213</th>\n",
       "      <td>1926</td>\n",
       "      <td>2024-12-20</td>\n",
       "      <td>Radio à La Grand-Plage</td>\n",
       "      <td>Salle VDM</td>\n",
       "      <td>Atelier</td>\n",
       "      <td>Adultes</td>\n",
       "      <td>None</td>\n",
       "      <td>4.0</td>\n",
       "      <td>15.0</td>\n",
       "      <td>None</td>\n",
       "      <td>None</td>\n",
       "      <td>Tous publics</td>\n",
       "      <td>1</td>\n",
       "      <td>NaN</td>\n",
       "    </tr>\n",
       "    <tr>\n",
       "      <th>214</th>\n",
       "      <td>1927</td>\n",
       "      <td>2024-12-21</td>\n",
       "      <td>Atelier de conversation en français</td>\n",
       "      <td>Salle VDM</td>\n",
       "      <td>Atelier</td>\n",
       "      <td>Adultes</td>\n",
       "      <td>None</td>\n",
       "      <td>7.0</td>\n",
       "      <td>10.0</td>\n",
       "      <td>None</td>\n",
       "      <td>None</td>\n",
       "      <td>Tous publics</td>\n",
       "      <td>1</td>\n",
       "      <td>NaN</td>\n",
       "    </tr>\n",
       "  </tbody>\n",
       "</table>\n",
       "<p>68 rows × 14 columns</p>\n",
       "</div>"
      ],
      "text/plain": [
       "       id        date                                       action  \\\n",
       "3    1616  2024-01-14                             Tricot des Lulus   \n",
       "4    1617  2024-01-16          Atelier informatique pour débutants   \n",
       "5    1618  2024-01-19                       Radio à La Grand-Plage   \n",
       "10   1623  2024-01-21                   Le corps fait son cinéma !   \n",
       "12   1625  2024-01-24                               Dans tes rêves   \n",
       "..    ...         ...                                          ...   \n",
       "199  1912  2024-12-06                       Radio à La Grand-Plage   \n",
       "206  1919  2024-12-13                       Radio à La Grand-Plage   \n",
       "211  1924  2024-12-15  Mon maquillage Zéro Déchet pour les fêtes !   \n",
       "213  1926  2024-12-20                       Radio à La Grand-Plage   \n",
       "214  1927  2024-12-21          Atelier de conversation en français   \n",
       "\n",
       "                  lieu     type       public            partenariat  \\\n",
       "3             La criée  Atelier  Tout public                   None   \n",
       "4    Espace multimédia  Atelier      Adultes                   None   \n",
       "5            Salle VDM  Atelier      Adultes                   None   \n",
       "10          Espace RDC  Atelier  Tout public                   None   \n",
       "12            La criée  Atelier      Enfants  La Condition Publique   \n",
       "..                 ...      ...          ...                    ...   \n",
       "199          Salle VDM  Atelier      Adultes                   None   \n",
       "206          Salle VDM  Atelier      Adultes                   None   \n",
       "211           La criée  Atelier  Tout public                   None   \n",
       "213          Salle VDM  Atelier      Adultes                   None   \n",
       "214          Salle VDM  Atelier      Adultes                   None   \n",
       "\n",
       "     participants  jauge            evenement notes    public_sll  nb_actions  \\\n",
       "3            22.0   20.0                 None  None  Tous publics           1   \n",
       "4            10.0   12.0                 None  None  Tous publics           1   \n",
       "5            15.0   10.0                 None  None  Tous publics           1   \n",
       "10           28.0    NaN  Nuits de la lecture  None  Tous publics           1   \n",
       "12           45.0    NaN                 None  None       Enfants           1   \n",
       "..            ...    ...                  ...   ...           ...         ...   \n",
       "199          10.0   15.0                 None  None  Tous publics           1   \n",
       "206           8.0   15.0                 None  None  Tous publics           1   \n",
       "211          18.0   20.0                 None  None  Tous publics           1   \n",
       "213           4.0   15.0                 None  None  Tous publics           1   \n",
       "214           7.0   10.0                 None  None  Tous publics           1   \n",
       "\n",
       "                              type_sll  \n",
       "3                                  NaN  \n",
       "4                                  NaN  \n",
       "5                                  NaN  \n",
       "10   Fêtes, salons du livre, festivals  \n",
       "12                                 NaN  \n",
       "..                                 ...  \n",
       "199                                NaN  \n",
       "206                                NaN  \n",
       "211                                NaN  \n",
       "213                                NaN  \n",
       "214                                NaN  \n",
       "\n",
       "[68 rows x 14 columns]"
      ]
     },
     "execution_count": 131,
     "metadata": {},
     "output_type": "execute_result"
    }
   ],
   "source": [
    "ac_2023[ac_2023['type']=='Atelier']"
   ]
  },
  {
   "cell_type": "code",
   "execution_count": 132,
   "id": "da696082",
   "metadata": {},
   "outputs": [
    {
     "data": {
      "text/html": [
       "<div>\n",
       "<style scoped>\n",
       "    .dataframe tbody tr th:only-of-type {\n",
       "        vertical-align: middle;\n",
       "    }\n",
       "\n",
       "    .dataframe tbody tr th {\n",
       "        vertical-align: top;\n",
       "    }\n",
       "\n",
       "    .dataframe thead th {\n",
       "        text-align: right;\n",
       "    }\n",
       "</style>\n",
       "<table border=\"1\" class=\"dataframe\">\n",
       "  <thead>\n",
       "    <tr style=\"text-align: right;\">\n",
       "      <th></th>\n",
       "      <th></th>\n",
       "      <th>nb_actions</th>\n",
       "    </tr>\n",
       "    <tr>\n",
       "      <th>type_sll</th>\n",
       "      <th>public_sll</th>\n",
       "      <th></th>\n",
       "    </tr>\n",
       "  </thead>\n",
       "  <tbody>\n",
       "    <tr>\n",
       "      <th rowspan=\"2\" valign=\"top\">Autre</th>\n",
       "      <th>Enfants</th>\n",
       "      <td>1</td>\n",
       "    </tr>\n",
       "    <tr>\n",
       "      <th>Tous publics</th>\n",
       "      <td>10</td>\n",
       "    </tr>\n",
       "    <tr>\n",
       "      <th>Club lecture</th>\n",
       "      <th>Tous publics</th>\n",
       "      <td>6</td>\n",
       "    </tr>\n",
       "    <tr>\n",
       "      <th rowspan=\"2\" valign=\"top\">Concerts, projections</th>\n",
       "      <th>Enfants</th>\n",
       "      <td>6</td>\n",
       "    </tr>\n",
       "    <tr>\n",
       "      <th>Tous publics</th>\n",
       "      <td>13</td>\n",
       "    </tr>\n",
       "    <tr>\n",
       "      <th>Conférences, rencontres, lectures</th>\n",
       "      <th>Tous publics</th>\n",
       "      <td>24</td>\n",
       "    </tr>\n",
       "    <tr>\n",
       "      <th>Exposition</th>\n",
       "      <th>Tous publics</th>\n",
       "      <td>1</td>\n",
       "    </tr>\n",
       "    <tr>\n",
       "      <th rowspan=\"2\" valign=\"top\">Fêtes, salons du livre, festivals</th>\n",
       "      <th>Enfants</th>\n",
       "      <td>12</td>\n",
       "    </tr>\n",
       "    <tr>\n",
       "      <th>Tous publics</th>\n",
       "      <td>34</td>\n",
       "    </tr>\n",
       "    <tr>\n",
       "      <th rowspan=\"2\" valign=\"top\">Séances de conte</th>\n",
       "      <th>Enfants</th>\n",
       "      <td>9</td>\n",
       "    </tr>\n",
       "    <tr>\n",
       "      <th>Tous publics</th>\n",
       "      <td>3</td>\n",
       "    </tr>\n",
       "  </tbody>\n",
       "</table>\n",
       "</div>"
      ],
      "text/plain": [
       "                                                nb_actions\n",
       "type_sll                          public_sll              \n",
       "Autre                             Enfants                1\n",
       "                                  Tous publics          10\n",
       "Club lecture                      Tous publics           6\n",
       "Concerts, projections             Enfants                6\n",
       "                                  Tous publics          13\n",
       "Conférences, rencontres, lectures Tous publics          24\n",
       "Exposition                        Tous publics           1\n",
       "Fêtes, salons du livre, festivals Enfants               12\n",
       "                                  Tous publics          34\n",
       "Séances de conte                  Enfants                9\n",
       "                                  Tous publics           3"
      ]
     },
     "execution_count": 132,
     "metadata": {},
     "output_type": "execute_result"
    }
   ],
   "source": [
    "ac_2023.pivot_table(index=['type_sll','public_sll'],\n",
    "                    values='nb_actions',\n",
    "                    aggfunc=sum\n",
    "                   )"
   ]
  },
  {
   "cell_type": "code",
   "execution_count": 133,
   "id": "71ecedd2",
   "metadata": {},
   "outputs": [
    {
     "data": {
      "text/html": [
       "<div>\n",
       "<style scoped>\n",
       "    .dataframe tbody tr th:only-of-type {\n",
       "        vertical-align: middle;\n",
       "    }\n",
       "\n",
       "    .dataframe tbody tr th {\n",
       "        vertical-align: top;\n",
       "    }\n",
       "\n",
       "    .dataframe thead th {\n",
       "        text-align: right;\n",
       "    }\n",
       "</style>\n",
       "<table border=\"1\" class=\"dataframe\">\n",
       "  <thead>\n",
       "    <tr style=\"text-align: right;\">\n",
       "      <th></th>\n",
       "      <th>participants</th>\n",
       "    </tr>\n",
       "    <tr>\n",
       "      <th>type_sll</th>\n",
       "      <th></th>\n",
       "    </tr>\n",
       "  </thead>\n",
       "  <tbody>\n",
       "    <tr>\n",
       "      <th>Autre</th>\n",
       "      <td>279.0</td>\n",
       "    </tr>\n",
       "    <tr>\n",
       "      <th>Club lecture</th>\n",
       "      <td>72.0</td>\n",
       "    </tr>\n",
       "    <tr>\n",
       "      <th>Concerts, projections</th>\n",
       "      <td>720.0</td>\n",
       "    </tr>\n",
       "    <tr>\n",
       "      <th>Conférences, rencontres, lectures</th>\n",
       "      <td>555.0</td>\n",
       "    </tr>\n",
       "    <tr>\n",
       "      <th>Exposition</th>\n",
       "      <td>18.0</td>\n",
       "    </tr>\n",
       "    <tr>\n",
       "      <th>Fêtes, salons du livre, festivals</th>\n",
       "      <td>1628.0</td>\n",
       "    </tr>\n",
       "    <tr>\n",
       "      <th>Séances de conte</th>\n",
       "      <td>417.0</td>\n",
       "    </tr>\n",
       "  </tbody>\n",
       "</table>\n",
       "</div>"
      ],
      "text/plain": [
       "                                   participants\n",
       "type_sll                                       \n",
       "Autre                                     279.0\n",
       "Club lecture                               72.0\n",
       "Concerts, projections                     720.0\n",
       "Conférences, rencontres, lectures         555.0\n",
       "Exposition                                 18.0\n",
       "Fêtes, salons du livre, festivals        1628.0\n",
       "Séances de conte                          417.0"
      ]
     },
     "execution_count": 133,
     "metadata": {},
     "output_type": "execute_result"
    }
   ],
   "source": [
    "ac_2023.pivot_table(index='type_sll',\n",
    "                    values='participants',\n",
    "                    aggfunc=sum\n",
    "                   )"
   ]
  },
  {
   "cell_type": "markdown",
   "id": "6bd96f2d",
   "metadata": {},
   "source": [
    "# K - Patrimoine\n",
    "\n",
    "## K2 - Fonds et acquisitions"
   ]
  },
  {
   "cell_type": "code",
   "execution_count": 5,
   "id": "c46137a5",
   "metadata": {},
   "outputs": [],
   "source": [
    "query = f\"\"\"SELECT\n",
    "                    i.itemnumber,\n",
    "                    i.barcode,\n",
    "                    i.dateaccessioned,\n",
    "                    i.price,\n",
    "                    i.homebranch,\n",
    "                    i.holdingbranch,\n",
    "                    i.location,\n",
    "                    i.ccode,\n",
    "                    i.itemcallnumber,\n",
    "                    i.notforloan,\n",
    "                    i.damaged,\n",
    "                    DATE(i.damaged_on),\n",
    "                    i.withdrawn,\n",
    "                    DATE(i.withdrawn_on),\n",
    "                    i.itemlost,\n",
    "                    DATE(i.itemlost_on),\n",
    "                    i.onloan,\n",
    "                    i.datelastborrowed,\n",
    "                    i.biblionumber,\n",
    "                    b.title as titre,\n",
    "                    bi.publicationyear,\n",
    "                    bi.itemtype,\n",
    "                    i.timestamp\n",
    "                FROM koha{year}.items i\n",
    "                JOIN koha{year}.biblioitems bi ON i.biblionumber = bi.biblionumber\n",
    "                JOIN koha{year}.biblio b ON i.biblionumber = b.biblionumber\n",
    "                WHERE i.notforloan IN (-1, -2, 0, 2, -4, 5)\n",
    "                AND i.homebranch != 'MUS'\"\"\"\n",
    "items = pd.read_sql(query, db_conn)"
   ]
  },
  {
   "cell_type": "code",
   "execution_count": 6,
   "id": "bc5faa1b",
   "metadata": {},
   "outputs": [],
   "source": [
    "exemplaires = Document(df=items, db_conn=db_conn)\n",
    "exemplaires.get_doc_statdb_data()\n",
    "exemplaires.get_doc_es_data()"
   ]
  },
  {
   "cell_type": "code",
   "execution_count": 7,
   "id": "a6f02647",
   "metadata": {},
   "outputs": [
    {
     "name": "stderr",
     "output_type": "stream",
     "text": [
      "/tmp/ipykernel_19155/517813940.py:4: SettingWithCopyWarning: \n",
      "A value is trying to be set on a copy of a slice from a DataFrame.\n",
      "Try using .loc[row_indexer,col_indexer] = value instead\n",
      "\n",
      "See the caveats in the documentation: https://pandas.pydata.org/pandas-docs/stable/user_guide/indexing.html#returning-a-view-versus-a-copy\n",
      "  patrimoine_df['sll_acq'] = 'non'\n"
     ]
    }
   ],
   "source": [
    "pat_ccode = ['PENACZZ', 'PENCVZZ', 'PENDEZZ', 'PENHPZZ', 'PENPDZZ', 'PENRSZZ', 'AAPPRLP',\n",
    "             'PPAFIZZ', 'PPEFGZZ', 'PPELGZZ', 'PPEPMZZ', 'PPEPRZZ']\n",
    "patrimoine_df = exemplaires.df[exemplaires.df['doc_item_collection_ccode'].isin(pat_ccode)]\n",
    "patrimoine_df['sll_acq'] = 'non'\n",
    "patrimoine_df.loc[patrimoine_df['doc_item_date_creation'].astype('str').str[0:4] == '2024', 'sll_acq' ] = 'oui'"
   ]
  },
  {
   "cell_type": "code",
   "execution_count": 11,
   "id": "63b1cde1",
   "metadata": {},
   "outputs": [
    {
     "data": {
      "text/plain": [
       "61937"
      ]
     },
     "execution_count": 11,
     "metadata": {},
     "output_type": "execute_result"
    }
   ],
   "source": [
    "len(patrimoine_df)"
   ]
  },
  {
   "cell_type": "markdown",
   "id": "55f1e03d",
   "metadata": {},
   "source": [
    "### Livres imprimés"
   ]
  },
  {
   "cell_type": "code",
   "execution_count": 12,
   "id": "b217694f",
   "metadata": {},
   "outputs": [],
   "source": [
    "data = patrimoine_df[patrimoine_df['sll_collection'] == 'D1 - Livres imprimés']"
   ]
  },
  {
   "cell_type": "code",
   "execution_count": 13,
   "id": "1027008e",
   "metadata": {},
   "outputs": [
    {
     "data": {
      "text/plain": [
       "35901"
      ]
     },
     "execution_count": 13,
     "metadata": {},
     "output_type": "execute_result"
    }
   ],
   "source": [
    "len(data)"
   ]
  },
  {
   "cell_type": "code",
   "execution_count": 14,
   "id": "a0af6038",
   "metadata": {},
   "outputs": [
    {
     "data": {
      "text/plain": [
       "365"
      ]
     },
     "execution_count": 14,
     "metadata": {},
     "output_type": "execute_result"
    }
   ],
   "source": [
    "len(data[data['sll_acq'] == 'oui'])"
   ]
  },
  {
   "cell_type": "code",
   "execution_count": 15,
   "id": "9d9cc3f2",
   "metadata": {},
   "outputs": [
    {
     "name": "stderr",
     "output_type": "stream",
     "text": [
      "/tmp/ipykernel_31765/2076920371.py:1: SettingWithCopyWarning: \n",
      "A value is trying to be set on a copy of a slice from a DataFrame.\n",
      "Try using .loc[row_indexer,col_indexer] = value instead\n",
      "\n",
      "See the caveats in the documentation: https://pandas.pydata.org/pandas-docs/stable/user_guide/indexing.html#returning-a-view-versus-a-copy\n",
      "  data['publicationyear_'] = data['publicationyear'].str.extract(r'(^\\d{4})').astype(float)\n"
     ]
    },
    {
     "data": {
      "text/plain": [
       "1055"
      ]
     },
     "execution_count": 15,
     "metadata": {},
     "output_type": "execute_result"
    }
   ],
   "source": [
    "data['publicationyear_'] = data['publicationyear'].str.extract(r'(^\\d{4})').astype(float)\n",
    "l1811 = data[data['publicationyear_'] < 1811]\n",
    "len(l1811)"
   ]
  },
  {
   "cell_type": "code",
   "execution_count": 16,
   "id": "e3a2a0e1",
   "metadata": {},
   "outputs": [
    {
     "data": {
      "text/plain": [
       "0"
      ]
     },
     "execution_count": 16,
     "metadata": {},
     "output_type": "execute_result"
    }
   ],
   "source": [
    "len(l1811[l1811['sll_acq'] == 'oui'])"
   ]
  },
  {
   "cell_type": "code",
   "execution_count": 17,
   "id": "c6cbb921",
   "metadata": {},
   "outputs": [
    {
     "data": {
      "text/plain": [
       "546"
      ]
     },
     "execution_count": 17,
     "metadata": {},
     "output_type": "execute_result"
    }
   ],
   "source": [
    "len(patrimoine_df[patrimoine_df['doc_item_collection_ccode'] == 'AAPPRLP'])"
   ]
  },
  {
   "cell_type": "code",
   "execution_count": 18,
   "id": "e906f787",
   "metadata": {},
   "outputs": [
    {
     "data": {
      "text/plain": [
       "0"
      ]
     },
     "execution_count": 18,
     "metadata": {},
     "output_type": "execute_result"
    }
   ],
   "source": [
    "len(patrimoine_df[(patrimoine_df['doc_item_collection_ccode'] == 'AAPPRLP') & (patrimoine_df['sll_acq'] == 'oui')])"
   ]
  },
  {
   "cell_type": "markdown",
   "id": "2008f0a9",
   "metadata": {},
   "source": [
    "### Publications en séries : ne pas traiter"
   ]
  },
  {
   "cell_type": "code",
   "execution_count": 20,
   "id": "abf0483f",
   "metadata": {},
   "outputs": [],
   "source": [
    "#data = patrimoine_df[patrimoine_df['sll_collection'] == 'D1 - Publications en série imprimées']\n",
    "#len(data)"
   ]
  },
  {
   "cell_type": "code",
   "execution_count": 21,
   "id": "9ec97add",
   "metadata": {},
   "outputs": [],
   "source": [
    "#len(data[data['sll_acq'] == 'oui'])"
   ]
  },
  {
   "cell_type": "markdown",
   "id": "d1567f46",
   "metadata": {},
   "source": [
    "### Cartes"
   ]
  },
  {
   "cell_type": "code",
   "execution_count": 22,
   "id": "caa261eb",
   "metadata": {},
   "outputs": [
    {
     "name": "stdout",
     "output_type": "stream",
     "text": [
      "Fonds : 0\n",
      "Acquisitions : 0\n"
     ]
    }
   ],
   "source": [
    "data = patrimoine_df[patrimoine_df['sll_collection'] == 'D3 – Documents cartographiques']\n",
    "print(f\"Fonds : {len(data)}\")\n",
    "print(f\"Acquisitions : {len(data[data['sll_acq'] == 'oui'])}\")"
   ]
  },
  {
   "cell_type": "markdown",
   "id": "71f33bc1",
   "metadata": {},
   "source": [
    "### Partitions"
   ]
  },
  {
   "cell_type": "code",
   "execution_count": 23,
   "id": "f26eed9d",
   "metadata": {},
   "outputs": [
    {
     "name": "stdout",
     "output_type": "stream",
     "text": [
      "Fonds : 1661\n",
      "Acquisitions : 4\n"
     ]
    }
   ],
   "source": [
    "data = patrimoine_df[patrimoine_df['sll_collection'] == 'D3 – Musique imprimée']\n",
    "print(f\"Fonds : {len(data)}\")\n",
    "print(f\"Acquisitions : {len(data[data['sll_acq'] == 'oui'])}\")"
   ]
  },
  {
   "cell_type": "markdown",
   "id": "b542c34b",
   "metadata": {},
   "source": [
    "### Documents iconographiques: aucun sens, signalé dans bn-r"
   ]
  },
  {
   "cell_type": "code",
   "execution_count": 24,
   "id": "032473c4",
   "metadata": {},
   "outputs": [],
   "source": [
    "# data = patrimoine_df[patrimoine_df['sll_collection'] == 'D3 - Documents graphiques']\n",
    "# print(f\"Fonds : {len(data)}\")\n",
    "# print(f\"Acquisitions : {len(data[data['sll_acq'] == 'oui'])}\")"
   ]
  },
  {
   "cell_type": "markdown",
   "id": "dd083604",
   "metadata": {},
   "source": [
    "### Documents sonores"
   ]
  },
  {
   "cell_type": "code",
   "execution_count": 25,
   "id": "585b0e08",
   "metadata": {},
   "outputs": [
    {
     "name": "stdout",
     "output_type": "stream",
     "text": [
      "Fonds : 22538\n",
      "Acquisitions : 1045\n"
     ]
    }
   ],
   "source": [
    "data = patrimoine_df[patrimoine_df['sll_collection'].isin(['D4 - Documents audiovisuels fonds adultes / Documents sonores : musique',\n",
    "                                                           'D4 - Documents audiovisuels fonds adultes / Documents sonores : livres enregistrés'])]\n",
    "print(f\"Fonds : {len(data)}\")\n",
    "print(f\"Acquisitions : {len(data[data['sll_acq'] == 'oui'])}\")"
   ]
  },
  {
   "cell_type": "markdown",
   "id": "eab023d9",
   "metadata": {},
   "source": [
    "### Images animées"
   ]
  },
  {
   "cell_type": "code",
   "execution_count": 26,
   "id": "5067b2ad",
   "metadata": {},
   "outputs": [
    {
     "name": "stdout",
     "output_type": "stream",
     "text": [
      "Fonds : 895\n",
      "Acquisitions : 0\n"
     ]
    }
   ],
   "source": [
    "data = patrimoine_df[patrimoine_df['sll_collection'].isin(['D4 - Documents audiovisuels fonds adultes / documents vidéo adultes',\n",
    "                                                           'D4 - Documents audiovisuels fonds enfants / documents vidéo enfants'])]\n",
    "print(f\"Fonds : {len(data)}\")\n",
    "print(f\"Acquisitions : {len(data[data['sll_acq'] == 'oui'])}\")"
   ]
  },
  {
   "cell_type": "code",
   "execution_count": 9,
   "id": "6cd62456",
   "metadata": {},
   "outputs": [
    {
     "data": {
      "text/html": [
       "<div>\n",
       "<style scoped>\n",
       "    .dataframe tbody tr th:only-of-type {\n",
       "        vertical-align: middle;\n",
       "    }\n",
       "\n",
       "    .dataframe tbody tr th {\n",
       "        vertical-align: top;\n",
       "    }\n",
       "\n",
       "    .dataframe thead th {\n",
       "        text-align: right;\n",
       "    }\n",
       "</style>\n",
       "<table border=\"1\" class=\"dataframe\">\n",
       "  <thead>\n",
       "    <tr style=\"text-align: right;\">\n",
       "      <th></th>\n",
       "      <th>itemnumber</th>\n",
       "      <th>barcode</th>\n",
       "      <th>dateaccessioned</th>\n",
       "      <th>price</th>\n",
       "      <th>homebranch</th>\n",
       "      <th>holdingbranch</th>\n",
       "      <th>location</th>\n",
       "      <th>ccode</th>\n",
       "      <th>itemcallnumber</th>\n",
       "      <th>notforloan</th>\n",
       "      <th>...</th>\n",
       "      <th>doc_statut_abime</th>\n",
       "      <th>doc_statut_desherbe</th>\n",
       "      <th>doc_statut_perdu</th>\n",
       "      <th>doc_usage_emprunt</th>\n",
       "      <th>doc_usage_date_dernier_pret_annee</th>\n",
       "      <th>doc_biblio_support</th>\n",
       "      <th>sll_public</th>\n",
       "      <th>sll_acces</th>\n",
       "      <th>sll_collection</th>\n",
       "      <th>sll_acq</th>\n",
       "    </tr>\n",
       "  </thead>\n",
       "  <tbody>\n",
       "    <tr>\n",
       "      <th>1493</th>\n",
       "      <td>3436</td>\n",
       "      <td>C0002444543</td>\n",
       "      <td>2005-03-22</td>\n",
       "      <td>64.79</td>\n",
       "      <td>MED</td>\n",
       "      <td>MED</td>\n",
       "      <td>MED3C</td>\n",
       "      <td>PPAFIZZ</td>\n",
       "      <td>FL VHS/Image 201</td>\n",
       "      <td>2</td>\n",
       "      <td>...</td>\n",
       "      <td>Non</td>\n",
       "      <td>Non</td>\n",
       "      <td>Non</td>\n",
       "      <td>non</td>\n",
       "      <td>NaN</td>\n",
       "      <td>VHS, UMATIC ou film</td>\n",
       "      <td>adultes</td>\n",
       "      <td>accès indirect</td>\n",
       "      <td>D4 - Documents audiovisuels fonds adultes / do...</td>\n",
       "      <td>non</td>\n",
       "    </tr>\n",
       "    <tr>\n",
       "      <th>6396</th>\n",
       "      <td>12460</td>\n",
       "      <td>C0001418272</td>\n",
       "      <td>2005-03-23</td>\n",
       "      <td>NaN</td>\n",
       "      <td>MED</td>\n",
       "      <td>MED</td>\n",
       "      <td>MED3C</td>\n",
       "      <td>PPAFIZZ</td>\n",
       "      <td>FL VHS/Image 94</td>\n",
       "      <td>2</td>\n",
       "      <td>...</td>\n",
       "      <td>Non</td>\n",
       "      <td>Non</td>\n",
       "      <td>Non</td>\n",
       "      <td>non</td>\n",
       "      <td>NaN</td>\n",
       "      <td>VHS, UMATIC ou film</td>\n",
       "      <td>adultes</td>\n",
       "      <td>accès indirect</td>\n",
       "      <td>D4 - Documents audiovisuels fonds adultes / do...</td>\n",
       "      <td>non</td>\n",
       "    </tr>\n",
       "    <tr>\n",
       "      <th>6397</th>\n",
       "      <td>12461</td>\n",
       "      <td>C0001560532</td>\n",
       "      <td>2005-03-23</td>\n",
       "      <td>NaN</td>\n",
       "      <td>MED</td>\n",
       "      <td>MED</td>\n",
       "      <td>MED3C</td>\n",
       "      <td>PPAFIZZ</td>\n",
       "      <td>FL VHS/Image 95</td>\n",
       "      <td>2</td>\n",
       "      <td>...</td>\n",
       "      <td>Non</td>\n",
       "      <td>Non</td>\n",
       "      <td>Non</td>\n",
       "      <td>non</td>\n",
       "      <td>NaN</td>\n",
       "      <td>VHS, UMATIC ou film</td>\n",
       "      <td>adultes</td>\n",
       "      <td>accès indirect</td>\n",
       "      <td>D4 - Documents audiovisuels fonds adultes / do...</td>\n",
       "      <td>non</td>\n",
       "    </tr>\n",
       "    <tr>\n",
       "      <th>6398</th>\n",
       "      <td>12462</td>\n",
       "      <td>C0001560524</td>\n",
       "      <td>2005-03-23</td>\n",
       "      <td>NaN</td>\n",
       "      <td>MED</td>\n",
       "      <td>MED</td>\n",
       "      <td>MED3C</td>\n",
       "      <td>PPAFIZZ</td>\n",
       "      <td>FL VHS/Image 96</td>\n",
       "      <td>2</td>\n",
       "      <td>...</td>\n",
       "      <td>Non</td>\n",
       "      <td>Non</td>\n",
       "      <td>Non</td>\n",
       "      <td>non</td>\n",
       "      <td>NaN</td>\n",
       "      <td>VHS, UMATIC ou film</td>\n",
       "      <td>adultes</td>\n",
       "      <td>accès indirect</td>\n",
       "      <td>D4 - Documents audiovisuels fonds adultes / do...</td>\n",
       "      <td>non</td>\n",
       "    </tr>\n",
       "    <tr>\n",
       "      <th>6684</th>\n",
       "      <td>13017</td>\n",
       "      <td>C0001557979</td>\n",
       "      <td>2005-03-23</td>\n",
       "      <td>15.24</td>\n",
       "      <td>MED</td>\n",
       "      <td>MED</td>\n",
       "      <td>MED3C</td>\n",
       "      <td>PPAFIZZ</td>\n",
       "      <td>FL VHS/Image 97</td>\n",
       "      <td>2</td>\n",
       "      <td>...</td>\n",
       "      <td>Non</td>\n",
       "      <td>Non</td>\n",
       "      <td>Non</td>\n",
       "      <td>non</td>\n",
       "      <td>NaN</td>\n",
       "      <td>VHS, UMATIC ou film</td>\n",
       "      <td>adultes</td>\n",
       "      <td>accès indirect</td>\n",
       "      <td>D4 - Documents audiovisuels fonds adultes / do...</td>\n",
       "      <td>non</td>\n",
       "    </tr>\n",
       "    <tr>\n",
       "      <th>...</th>\n",
       "      <td>...</td>\n",
       "      <td>...</td>\n",
       "      <td>...</td>\n",
       "      <td>...</td>\n",
       "      <td>...</td>\n",
       "      <td>...</td>\n",
       "      <td>...</td>\n",
       "      <td>...</td>\n",
       "      <td>...</td>\n",
       "      <td>...</td>\n",
       "      <td>...</td>\n",
       "      <td>...</td>\n",
       "      <td>...</td>\n",
       "      <td>...</td>\n",
       "      <td>...</td>\n",
       "      <td>...</td>\n",
       "      <td>...</td>\n",
       "      <td>...</td>\n",
       "      <td>...</td>\n",
       "      <td>...</td>\n",
       "      <td>...</td>\n",
       "    </tr>\n",
       "    <tr>\n",
       "      <th>130172</th>\n",
       "      <td>268984</td>\n",
       "      <td>C0003610074</td>\n",
       "      <td>2011-06-09</td>\n",
       "      <td>NaN</td>\n",
       "      <td>MED</td>\n",
       "      <td>MED</td>\n",
       "      <td>MED3C</td>\n",
       "      <td>PPAFIZZ</td>\n",
       "      <td>FL Image 633</td>\n",
       "      <td>2</td>\n",
       "      <td>...</td>\n",
       "      <td>Non</td>\n",
       "      <td>Non</td>\n",
       "      <td>Non</td>\n",
       "      <td>non</td>\n",
       "      <td>NaN</td>\n",
       "      <td>DVD</td>\n",
       "      <td>adultes</td>\n",
       "      <td>accès indirect</td>\n",
       "      <td>D4 - Documents audiovisuels fonds adultes / do...</td>\n",
       "      <td>non</td>\n",
       "    </tr>\n",
       "    <tr>\n",
       "      <th>130173</th>\n",
       "      <td>268985</td>\n",
       "      <td>C0003610016</td>\n",
       "      <td>2011-06-09</td>\n",
       "      <td>NaN</td>\n",
       "      <td>MED</td>\n",
       "      <td>MED</td>\n",
       "      <td>MED3C</td>\n",
       "      <td>PPAFIZZ</td>\n",
       "      <td>FL Image 634</td>\n",
       "      <td>2</td>\n",
       "      <td>...</td>\n",
       "      <td>Non</td>\n",
       "      <td>Non</td>\n",
       "      <td>Non</td>\n",
       "      <td>non</td>\n",
       "      <td>NaN</td>\n",
       "      <td>DVD</td>\n",
       "      <td>adultes</td>\n",
       "      <td>accès indirect</td>\n",
       "      <td>D4 - Documents audiovisuels fonds adultes / do...</td>\n",
       "      <td>non</td>\n",
       "    </tr>\n",
       "    <tr>\n",
       "      <th>134838</th>\n",
       "      <td>276993</td>\n",
       "      <td>C0005486441</td>\n",
       "      <td>2012-01-12</td>\n",
       "      <td>NaN</td>\n",
       "      <td>MED</td>\n",
       "      <td>MED</td>\n",
       "      <td>MED3C</td>\n",
       "      <td>PPAFIZZ</td>\n",
       "      <td>FL Image / 637</td>\n",
       "      <td>2</td>\n",
       "      <td>...</td>\n",
       "      <td>Non</td>\n",
       "      <td>Non</td>\n",
       "      <td>Non</td>\n",
       "      <td>non</td>\n",
       "      <td>NaN</td>\n",
       "      <td>DVD</td>\n",
       "      <td>adultes</td>\n",
       "      <td>accès indirect</td>\n",
       "      <td>D4 - Documents audiovisuels fonds adultes / do...</td>\n",
       "      <td>non</td>\n",
       "    </tr>\n",
       "    <tr>\n",
       "      <th>147810</th>\n",
       "      <td>300472</td>\n",
       "      <td>C0005356683</td>\n",
       "      <td>2013-11-28</td>\n",
       "      <td>NaN</td>\n",
       "      <td>MED</td>\n",
       "      <td>MED</td>\n",
       "      <td>MED3C</td>\n",
       "      <td>PPAFIZZ</td>\n",
       "      <td>FL Image/638</td>\n",
       "      <td>2</td>\n",
       "      <td>...</td>\n",
       "      <td>Non</td>\n",
       "      <td>Non</td>\n",
       "      <td>Non</td>\n",
       "      <td>non</td>\n",
       "      <td>NaN</td>\n",
       "      <td>DVD</td>\n",
       "      <td>adultes</td>\n",
       "      <td>accès indirect</td>\n",
       "      <td>D4 - Documents audiovisuels fonds adultes / do...</td>\n",
       "      <td>non</td>\n",
       "    </tr>\n",
       "    <tr>\n",
       "      <th>169960</th>\n",
       "      <td>349560</td>\n",
       "      <td>C2200004213</td>\n",
       "      <td>2016-10-12</td>\n",
       "      <td>37.00</td>\n",
       "      <td>MED</td>\n",
       "      <td>MED</td>\n",
       "      <td>MED3C</td>\n",
       "      <td>PPAFIZZ</td>\n",
       "      <td>FL Image</td>\n",
       "      <td>-2</td>\n",
       "      <td>...</td>\n",
       "      <td>Non</td>\n",
       "      <td>Non</td>\n",
       "      <td>Non</td>\n",
       "      <td>non</td>\n",
       "      <td>NaN</td>\n",
       "      <td>DVD</td>\n",
       "      <td>adultes</td>\n",
       "      <td>accès indirect</td>\n",
       "      <td>D4 - Documents audiovisuels fonds adultes / do...</td>\n",
       "      <td>non</td>\n",
       "    </tr>\n",
       "  </tbody>\n",
       "</table>\n",
       "<p>891 rows × 64 columns</p>\n",
       "</div>"
      ],
      "text/plain": [
       "        itemnumber      barcode dateaccessioned  price homebranch  \\\n",
       "1493          3436  C0002444543      2005-03-22  64.79        MED   \n",
       "6396         12460  C0001418272      2005-03-23    NaN        MED   \n",
       "6397         12461  C0001560532      2005-03-23    NaN        MED   \n",
       "6398         12462  C0001560524      2005-03-23    NaN        MED   \n",
       "6684         13017  C0001557979      2005-03-23  15.24        MED   \n",
       "...            ...          ...             ...    ...        ...   \n",
       "130172      268984  C0003610074      2011-06-09    NaN        MED   \n",
       "130173      268985  C0003610016      2011-06-09    NaN        MED   \n",
       "134838      276993  C0005486441      2012-01-12    NaN        MED   \n",
       "147810      300472  C0005356683      2013-11-28    NaN        MED   \n",
       "169960      349560  C2200004213      2016-10-12  37.00        MED   \n",
       "\n",
       "       holdingbranch location    ccode    itemcallnumber  notforloan  ...  \\\n",
       "1493             MED    MED3C  PPAFIZZ  FL VHS/Image 201           2  ...   \n",
       "6396             MED    MED3C  PPAFIZZ   FL VHS/Image 94           2  ...   \n",
       "6397             MED    MED3C  PPAFIZZ   FL VHS/Image 95           2  ...   \n",
       "6398             MED    MED3C  PPAFIZZ   FL VHS/Image 96           2  ...   \n",
       "6684             MED    MED3C  PPAFIZZ   FL VHS/Image 97           2  ...   \n",
       "...              ...      ...      ...               ...         ...  ...   \n",
       "130172           MED    MED3C  PPAFIZZ      FL Image 633           2  ...   \n",
       "130173           MED    MED3C  PPAFIZZ      FL Image 634           2  ...   \n",
       "134838           MED    MED3C  PPAFIZZ    FL Image / 637           2  ...   \n",
       "147810           MED    MED3C  PPAFIZZ      FL Image/638           2  ...   \n",
       "169960           MED    MED3C  PPAFIZZ          FL Image          -2  ...   \n",
       "\n",
       "        doc_statut_abime doc_statut_desherbe  doc_statut_perdu  \\\n",
       "1493                 Non                 Non               Non   \n",
       "6396                 Non                 Non               Non   \n",
       "6397                 Non                 Non               Non   \n",
       "6398                 Non                 Non               Non   \n",
       "6684                 Non                 Non               Non   \n",
       "...                  ...                 ...               ...   \n",
       "130172               Non                 Non               Non   \n",
       "130173               Non                 Non               Non   \n",
       "134838               Non                 Non               Non   \n",
       "147810               Non                 Non               Non   \n",
       "169960               Non                 Non               Non   \n",
       "\n",
       "       doc_usage_emprunt  doc_usage_date_dernier_pret_annee  \\\n",
       "1493                 non                                NaN   \n",
       "6396                 non                                NaN   \n",
       "6397                 non                                NaN   \n",
       "6398                 non                                NaN   \n",
       "6684                 non                                NaN   \n",
       "...                  ...                                ...   \n",
       "130172               non                                NaN   \n",
       "130173               non                                NaN   \n",
       "134838               non                                NaN   \n",
       "147810               non                                NaN   \n",
       "169960               non                                NaN   \n",
       "\n",
       "         doc_biblio_support sll_public       sll_acces  \\\n",
       "1493    VHS, UMATIC ou film    adultes  accès indirect   \n",
       "6396    VHS, UMATIC ou film    adultes  accès indirect   \n",
       "6397    VHS, UMATIC ou film    adultes  accès indirect   \n",
       "6398    VHS, UMATIC ou film    adultes  accès indirect   \n",
       "6684    VHS, UMATIC ou film    adultes  accès indirect   \n",
       "...                     ...        ...             ...   \n",
       "130172                  DVD    adultes  accès indirect   \n",
       "130173                  DVD    adultes  accès indirect   \n",
       "134838                  DVD    adultes  accès indirect   \n",
       "147810                  DVD    adultes  accès indirect   \n",
       "169960                  DVD    adultes  accès indirect   \n",
       "\n",
       "                                           sll_collection sll_acq  \n",
       "1493    D4 - Documents audiovisuels fonds adultes / do...     non  \n",
       "6396    D4 - Documents audiovisuels fonds adultes / do...     non  \n",
       "6397    D4 - Documents audiovisuels fonds adultes / do...     non  \n",
       "6398    D4 - Documents audiovisuels fonds adultes / do...     non  \n",
       "6684    D4 - Documents audiovisuels fonds adultes / do...     non  \n",
       "...                                                   ...     ...  \n",
       "130172  D4 - Documents audiovisuels fonds adultes / do...     non  \n",
       "130173  D4 - Documents audiovisuels fonds adultes / do...     non  \n",
       "134838  D4 - Documents audiovisuels fonds adultes / do...     non  \n",
       "147810  D4 - Documents audiovisuels fonds adultes / do...     non  \n",
       "169960  D4 - Documents audiovisuels fonds adultes / do...     non  \n",
       "\n",
       "[891 rows x 64 columns]"
      ]
     },
     "execution_count": 9,
     "metadata": {},
     "output_type": "execute_result"
    }
   ],
   "source": [
    "patrimoine_df[patrimoine_df['doc_item_collection_ccode'] == 'PPAFIZZ']"
   ]
  },
  {
   "cell_type": "code",
   "execution_count": null,
   "id": "0da5079e",
   "metadata": {},
   "outputs": [],
   "source": []
  }
 ],
 "metadata": {
  "kernelspec": {
   "display_name": "Python 3 (ipykernel)",
   "language": "python",
   "name": "python3"
  },
  "language_info": {
   "codemirror_mode": {
    "name": "ipython",
    "version": 3
   },
   "file_extension": ".py",
   "mimetype": "text/x-python",
   "name": "python",
   "nbconvert_exporter": "python",
   "pygments_lexer": "ipython3",
   "version": "3.8.12"
  }
 },
 "nbformat": 4,
 "nbformat_minor": 5
}
