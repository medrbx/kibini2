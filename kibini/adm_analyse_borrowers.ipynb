{
 "cells": [
  {
   "cell_type": "code",
   "execution_count": 123,
   "id": "cb918ef8",
   "metadata": {},
   "outputs": [],
   "source": [
    "import pandas as pd\n",
    "import numpy as np\n",
    "\n",
    "import matplotlib.pyplot as plt\n",
    "import seaborn as sns\n",
    "sns.set_style(\"darkgrid\")\n",
    "\n",
    "from unidecode import unidecode\n",
    "\n",
    "import requests\n",
    "import json\n",
    "\n",
    "import datetime\n",
    "\n",
    "from sklearn.feature_extraction.text import TfidfVectorizer\n",
    "from sklearn.metrics.pairwise import cosine_similarity\n",
    "\n",
    "from kiblib.utils.db import DbConn\n",
    "from kiblib.utils.code2libelle import Code2Libelle\n",
    "from kiblib.adherent import Adherent"
   ]
  },
  {
   "cell_type": "code",
   "execution_count": 124,
   "id": "2d8e43d0",
   "metadata": {},
   "outputs": [],
   "source": [
    "def texte_comp(input, referentiel):\n",
    "    i = len(input)\n",
    "    chaines = referentiel + input\n",
    "\n",
    "    vectorizer = TfidfVectorizer(strip_accents='unicode', analyzer='char_wb', ngram_range=(3,3))\n",
    "    X = vectorizer.fit_transform(chaines)\n",
    "\n",
    "    s = cosine_similarity(X[-i:], X[:-i])\n",
    "    res = [referentiel[idx] for idx in np.argmax(s, axis = 1)]\n",
    "\n",
    "    return res"
   ]
  },
  {
   "cell_type": "code",
   "execution_count": 125,
   "id": "1f213168",
   "metadata": {},
   "outputs": [],
   "source": [
    "def mod_borrower(userid, data):\n",
    "    api_url = \"http://cataloguekoha.ntrbx.local/cgi-bin/koha/rest.pl/user\"\n",
    "    url = f\"{api_url}/{userid}\"\n",
    "    data = json.dumps(data)\n",
    "    data2mod = f\"dhttp://localhost:8889/notebooks/kibini2/kibini/adm_analyse_borrowers.ipynb#ata={data}\"\n",
    "    print(data2mod)\n",
    "    response = requests.put(url, data=data2mod)\n",
    "    print(f\"{userid} : {response.content}\")"
   ]
  },
  {
   "cell_type": "code",
   "execution_count": 126,
   "id": "43115199",
   "metadata": {},
   "outputs": [],
   "source": [
    "db_conn = DbConn().create_engine()\n",
    "\n",
    "c2l = Code2Libelle(db_conn)\n",
    "c2l.get_val()\n",
    "c2l = c2l.dict_codes_lib"
   ]
  },
  {
   "cell_type": "code",
   "execution_count": 127,
   "id": "f7d33d43",
   "metadata": {},
   "outputs": [],
   "source": [
    "query = \"SELECT * from statdb.iris\"\n",
    "ref_adresses = pd.read_sql(query, con=db_conn)"
   ]
  },
  {
   "cell_type": "code",
   "execution_count": 128,
   "id": "ed522988",
   "metadata": {},
   "outputs": [],
   "source": [
    "villes_fr = pd.read_excel(\"../data/villes_france_wikidata.xlsx\")\n",
    "villes_be = pd.read_excel(\"../data/villes_belgique_wikidata.xlsx\")"
   ]
  },
  {
   "cell_type": "code",
   "execution_count": 129,
   "id": "2fcc44f3",
   "metadata": {},
   "outputs": [],
   "source": [
    "adh = pd.read_json(\"http://cataloguekoha.ntrbx.local/cgi-bin/koha/rest.pl/user\")"
   ]
  },
  {
   "cell_type": "code",
   "execution_count": 130,
   "id": "7ca55f83",
   "metadata": {},
   "outputs": [
    {
     "data": {
      "text/plain": [
       "Index(['date_renewed', 'B_address', 'dateofbirth', 'B_zipcode', 'opacnote',\n",
       "       'altcontactaddress3', 'password', 'sort2', 'fax', 'B_address2',\n",
       "       'altcontactsurname', 'debarred', 'emailpro', 'branchcode', 'address',\n",
       "       'login_attempts', 'autorenew_checkouts', 'dateenrolled', 'phone',\n",
       "       'altcontactfirstname', 'borrowernotes', 'B_email', 'country',\n",
       "       'B_streetnumber', 'address2', 'altcontactaddress2', 'sms_provider_id',\n",
       "       'sex', 'lang', 'relationship', 'altcontactzipcode', 'othernames',\n",
       "       'lastseen', 'state', 'privacy', 'altcontactstate', 'streettype',\n",
       "       'categorycode', 'email', 'contactfirstname', 'dateexpiry',\n",
       "       'streetnumber', 'privacy_guarantor_fines', 'cardnumber',\n",
       "       'checkprevcheckout', 'updated_on', 'primary_contact_method', 'userid',\n",
       "       'flags', 'overdrive_auth_token', 'lost', 'altcontactcountry',\n",
       "       'contactnote', 'B_phone', 'B_country', 'altcontactaddress1',\n",
       "       'debarredcomment', 'contactname', 'borrowernumber',\n",
       "       'privacy_guarantor_checkouts', 'sort1', 'anonymized', 'surname', 'city',\n",
       "       'mobile', 'smsalertnumber', 'firstname', 'altcontactphone',\n",
       "       'B_streettype', 'title', 'B_state', 'zipcode', 'gonenoaddress',\n",
       "       'initials', 'contacttitle', 'B_city', 'phonepro'],\n",
       "      dtype='object')"
      ]
     },
     "execution_count": 130,
     "metadata": {},
     "output_type": "execute_result"
    }
   ],
   "source": [
    "adh.columns"
   ]
  },
  {
   "cell_type": "code",
   "execution_count": 131,
   "id": "31fc67df",
   "metadata": {},
   "outputs": [],
   "source": [
    "Adh = Adherent(df=adh, db_conn=db_conn, c2l=c2l)"
   ]
  },
  {
   "cell_type": "code",
   "execution_count": 132,
   "id": "a25b6d83",
   "metadata": {},
   "outputs": [],
   "source": [
    "Adh.get_adherent_statdb_data()\n",
    "Adh.get_adherent_es_data()"
   ]
  },
  {
   "cell_type": "code",
   "execution_count": 133,
   "id": "72f04a75",
   "metadata": {},
   "outputs": [],
   "source": [
    "adherents = Adh.df"
   ]
  },
  {
   "cell_type": "markdown",
   "id": "cde2625e",
   "metadata": {},
   "source": [
    "## Vérification des adresses : alignement avec le référentiel Roubaix"
   ]
  },
  {
   "cell_type": "code",
   "execution_count": 134,
   "id": "84380ccc",
   "metadata": {},
   "outputs": [],
   "source": [
    "rbx = adherents[adherents['adh_geo_gentilite'] == 'Roubaisien']"
   ]
  },
  {
   "cell_type": "code",
   "execution_count": 139,
   "id": "580d8025",
   "metadata": {},
   "outputs": [],
   "source": [
    "rbx_adr = rbx[['userid', 'borrowernumber', 'cardnumber', 'categorycode', 'address',\n",
    "       'address2', 'city', 'state', 'zipcode', 'country', 'altcontactcountry', 'dateexpiry']][rbx['categorycode'].isin(['CSVT', 'BIBL', 'MEDA', 'MEDB', 'MEDC'])]"
   ]
  },
  {
   "cell_type": "code",
   "execution_count": 140,
   "id": "a3bc6b0d",
   "metadata": {},
   "outputs": [],
   "source": [
    "rbx_adr = rbx_adr.merge(ref_adresses, how='left', left_on='address', right_on='adresse')"
   ]
  },
  {
   "cell_type": "code",
   "execution_count": 141,
   "id": "9c2fffb9",
   "metadata": {},
   "outputs": [],
   "source": [
    "rbx_adr['statut'] = False\n",
    "rbx_adr.loc[rbx_adr['id_cicn2'].notna(), 'statut'] = True"
   ]
  },
  {
   "cell_type": "code",
   "execution_count": 142,
   "id": "a768ff8e",
   "metadata": {},
   "outputs": [
    {
     "data": {
      "text/plain": [
       "True     0.966964\n",
       "False    0.033036\n",
       "Name: statut, dtype: float64"
      ]
     },
     "execution_count": 142,
     "metadata": {},
     "output_type": "execute_result"
    }
   ],
   "source": [
    "rbx_adr['statut'].value_counts(normalize=True)"
   ]
  },
  {
   "cell_type": "code",
   "execution_count": 143,
   "id": "d0843d76",
   "metadata": {},
   "outputs": [],
   "source": [
    "rbx_adr_ko = rbx_adr[rbx_adr['statut'] == False]\n",
    "rbx_adr_ko = rbx_adr_ko[['userid', 'borrowernumber', 'cardnumber', 'categorycode', 'address',\n",
    "       'address2', 'city', 'state', 'zipcode', 'country', 'altcontactcountry', 'dateexpiry']]"
   ]
  },
  {
   "cell_type": "markdown",
   "id": "2324ab9e",
   "metadata": {},
   "source": [
    "### Premier passage : on nettoie l'adresse pour essayer de réaligner"
   ]
  },
  {
   "cell_type": "code",
   "execution_count": 144,
   "id": "17990b0a",
   "metadata": {},
   "outputs": [],
   "source": [
    "rbx_adr_ko['clean_address'] = rbx_adr_ko['address']\n",
    "rbx_adr_ko['clean_address'] = rbx_adr_ko['clean_address'].str.upper()\n",
    "rbx_adr_ko['clean_address'] = rbx_adr_ko['clean_address'].apply(lambda x: unidecode(x))\n",
    "rbx_adr_ko['clean_address'] = rbx_adr_ko['clean_address'].str.replace(\"'|\\/|\\s+\", \" \", regex=True)"
   ]
  },
  {
   "cell_type": "code",
   "execution_count": 145,
   "id": "d46c1340",
   "metadata": {},
   "outputs": [
    {
     "data": {
      "text/plain": [
       "Index(['userid', 'borrowernumber', 'cardnumber', 'categorycode', 'address',\n",
       "       'address2', 'city', 'state', 'zipcode', 'country', 'altcontactcountry',\n",
       "       'dateexpiry', 'clean_address'],\n",
       "      dtype='object')"
      ]
     },
     "execution_count": 145,
     "metadata": {},
     "output_type": "execute_result"
    }
   ],
   "source": [
    "rbx_adr_ko.columns"
   ]
  },
  {
   "cell_type": "code",
   "execution_count": 146,
   "id": "4ecc9d2d",
   "metadata": {},
   "outputs": [
    {
     "data": {
      "text/plain": [
       "False    0.995\n",
       "True     0.005\n",
       "Name: statut, dtype: float64"
      ]
     },
     "execution_count": 146,
     "metadata": {},
     "output_type": "execute_result"
    }
   ],
   "source": [
    "rbx_adr_ko_cleaned = rbx_adr_ko.merge(ref_adresses, how='left', left_on='clean_address', right_on='adresse')\n",
    "rbx_adr_ko_cleaned['statut'] = False\n",
    "rbx_adr_ko_cleaned.loc[rbx_adr_ko_cleaned['id_cicn2'].notna(), 'statut'] = True\n",
    "rbx_adr_ko_cleaned['statut'].value_counts(normalize=True)"
   ]
  },
  {
   "cell_type": "code",
   "execution_count": 147,
   "id": "005a5761",
   "metadata": {},
   "outputs": [
    {
     "data": {
      "text/plain": [
       "Index(['userid', 'borrowernumber', 'cardnumber', 'categorycode', 'address',\n",
       "       'address2', 'city', 'state', 'zipcode', 'country', 'altcontactcountry',\n",
       "       'dateexpiry', 'clean_address', 'adresse', 'id_cicn2', 'irisInsee',\n",
       "       'streetid', 'streetlabel', 'streetnumber', 'streetsuffix', 'origine',\n",
       "       'statut'],\n",
       "      dtype='object')"
      ]
     },
     "execution_count": 147,
     "metadata": {},
     "output_type": "execute_result"
    }
   ],
   "source": [
    "rbx_adr_ko_cleaned.columns"
   ]
  },
  {
   "cell_type": "markdown",
   "id": "ae56c4c6",
   "metadata": {},
   "source": [
    "### On injecte les adresses corrigées"
   ]
  },
  {
   "cell_type": "code",
   "execution_count": 149,
   "id": "c750cca2",
   "metadata": {},
   "outputs": [
    {
     "name": "stdout",
     "output_type": "stream",
     "text": [
      "data={\"address\": \"24 RUE PAYEN\", \"state\": \"2664\", \"altcontactcountry\": \"595120803\"}\n",
      "X0002262697 : b'{\\n   \"modified_fields\" : {},\\n   \"success\" : true\\n}\\n'\n",
      "data={\"address\": \"24 RUE PAYEN\", \"state\": \"2664\", \"altcontactcountry\": \"595120803\"}\n",
      "X0002508825 : b'{\\n   \"success\" : true,\\n   \"modified_fields\" : {}\\n}\\n'\n",
      "data={\"address\": \"24 RUE PAYEN\", \"state\": \"2664\", \"altcontactcountry\": \"595120803\"}\n",
      "X0002508832 : b'{\\n   \"modified_fields\" : {},\\n   \"success\" : true\\n}\\n'\n"
     ]
    }
   ],
   "source": [
    "for b in rbx_adr_ko_cleaned[rbx_adr_ko_cleaned['statut'] == True].to_dict(orient='records'):\n",
    "    data = {\"address\": b[\"clean_address\"], \"state\": b[\"id_cicn2\"], \"altcontactcountry\": b[\"irisInsee\"]}\n",
    "    mod_borrower(b[\"userid\"], data)"
   ]
  },
  {
   "cell_type": "markdown",
   "id": "12c1b4bf",
   "metadata": {},
   "source": [
    "### 2e passage : similarité cosine"
   ]
  },
  {
   "cell_type": "code",
   "execution_count": 150,
   "id": "5464a4f7",
   "metadata": {},
   "outputs": [],
   "source": [
    "rbx_adr_ko2 = rbx_adr_ko_cleaned[rbx_adr_ko_cleaned['statut'] == False]"
   ]
  },
  {
   "cell_type": "code",
   "execution_count": 151,
   "id": "8100d540",
   "metadata": {},
   "outputs": [],
   "source": [
    "address_prop = texte_comp(rbx_adr_ko2['clean_address'].tolist(), ref_adresses['adresse'].tolist())"
   ]
  },
  {
   "cell_type": "code",
   "execution_count": 152,
   "id": "375dd022",
   "metadata": {},
   "outputs": [
    {
     "name": "stderr",
     "output_type": "stream",
     "text": [
      "/tmp/ipykernel_23887/809998147.py:1: SettingWithCopyWarning: \n",
      "A value is trying to be set on a copy of a slice from a DataFrame.\n",
      "Try using .loc[row_indexer,col_indexer] = value instead\n",
      "\n",
      "See the caveats in the documentation: https://pandas.pydata.org/pandas-docs/stable/user_guide/indexing.html#returning-a-view-versus-a-copy\n",
      "  rbx_adr_ko2['address_prop'] = address_prop\n"
     ]
    }
   ],
   "source": [
    "rbx_adr_ko2['address_prop'] = address_prop"
   ]
  },
  {
   "cell_type": "code",
   "execution_count": 154,
   "id": "15779ad6",
   "metadata": {},
   "outputs": [
    {
     "data": {
      "text/html": [
       "<div>\n",
       "<style scoped>\n",
       "    .dataframe tbody tr th:only-of-type {\n",
       "        vertical-align: middle;\n",
       "    }\n",
       "\n",
       "    .dataframe tbody tr th {\n",
       "        vertical-align: top;\n",
       "    }\n",
       "\n",
       "    .dataframe thead th {\n",
       "        text-align: right;\n",
       "    }\n",
       "</style>\n",
       "<table border=\"1\" class=\"dataframe\">\n",
       "  <thead>\n",
       "    <tr style=\"text-align: right;\">\n",
       "      <th></th>\n",
       "      <th>address</th>\n",
       "      <th>address_prop</th>\n",
       "    </tr>\n",
       "  </thead>\n",
       "  <tbody>\n",
       "    <tr>\n",
       "      <th>0</th>\n",
       "      <td>4 A AVENUE DES COTTAGES</td>\n",
       "      <td>4 AVENUE DES COTTAGES</td>\n",
       "    </tr>\n",
       "    <tr>\n",
       "      <th>1</th>\n",
       "      <td>A 5 Allée Maurice Maertens</td>\n",
       "      <td>0 A ALLEE MAURICE MAERTENS</td>\n",
       "    </tr>\n",
       "    <tr>\n",
       "      <th>2</th>\n",
       "      <td>42 RUE HOCHE</td>\n",
       "      <td>2 RUE HOCHE</td>\n",
       "    </tr>\n",
       "    <tr>\n",
       "      <th>3</th>\n",
       "      <td>RUE D YPRES</td>\n",
       "      <td>2 RUE D YPRES</td>\n",
       "    </tr>\n",
       "    <tr>\n",
       "      <th>4</th>\n",
       "      <td>29 BIS RUE DE SEBASTOPOL</td>\n",
       "      <td>29 RUE DE SEBASTOPOL</td>\n",
       "    </tr>\n",
       "    <tr>\n",
       "      <th>...</th>\n",
       "      <td>...</td>\n",
       "      <td>...</td>\n",
       "    </tr>\n",
       "    <tr>\n",
       "      <th>595</th>\n",
       "      <td>63 D Allée des Saules</td>\n",
       "      <td>74 D ALLEE DES SAULES</td>\n",
       "    </tr>\n",
       "    <tr>\n",
       "      <th>596</th>\n",
       "      <td>10 C 39 Mail Notre Dame</td>\n",
       "      <td>10 MAIL NOTRE DAME</td>\n",
       "    </tr>\n",
       "    <tr>\n",
       "      <th>597</th>\n",
       "      <td>10 C 39 Mail Notre Dame</td>\n",
       "      <td>10 MAIL NOTRE DAME</td>\n",
       "    </tr>\n",
       "    <tr>\n",
       "      <th>598</th>\n",
       "      <td>86 RUE HENRI CARRETTE</td>\n",
       "      <td>86 RUE HENRI CARETTE</td>\n",
       "    </tr>\n",
       "    <tr>\n",
       "      <th>599</th>\n",
       "      <td>110 Bouleverd de Metz</td>\n",
       "      <td>10 BOULEVARD DE METZ</td>\n",
       "    </tr>\n",
       "  </tbody>\n",
       "</table>\n",
       "<p>597 rows × 2 columns</p>\n",
       "</div>"
      ],
      "text/plain": [
       "                        address                address_prop\n",
       "0       4 A AVENUE DES COTTAGES       4 AVENUE DES COTTAGES\n",
       "1    A 5 Allée Maurice Maertens  0 A ALLEE MAURICE MAERTENS\n",
       "2                  42 RUE HOCHE                 2 RUE HOCHE\n",
       "3                   RUE D YPRES               2 RUE D YPRES\n",
       "4      29 BIS RUE DE SEBASTOPOL        29 RUE DE SEBASTOPOL\n",
       "..                          ...                         ...\n",
       "595       63 D Allée des Saules       74 D ALLEE DES SAULES\n",
       "596     10 C 39 Mail Notre Dame          10 MAIL NOTRE DAME\n",
       "597     10 C 39 Mail Notre Dame          10 MAIL NOTRE DAME\n",
       "598       86 RUE HENRI CARRETTE        86 RUE HENRI CARETTE\n",
       "599       110 Bouleverd de Metz        10 BOULEVARD DE METZ\n",
       "\n",
       "[597 rows x 2 columns]"
      ]
     },
     "execution_count": 154,
     "metadata": {},
     "output_type": "execute_result"
    }
   ],
   "source": [
    "rbx_adr_ko2[['address', 'address_prop']]"
   ]
  },
  {
   "cell_type": "code",
   "execution_count": 155,
   "id": "b9016d4d",
   "metadata": {},
   "outputs": [],
   "source": [
    "rbx_adr_ko2.to_excel(\"test.xlsx\", index=False)"
   ]
  },
  {
   "cell_type": "code",
   "execution_count": null,
   "id": "717014d5",
   "metadata": {},
   "outputs": [],
   "source": [
    "data={'address': '2 rue Pierre Motte', 'city':'Roubaix'}"
   ]
  }
 ],
 "metadata": {
  "kernelspec": {
   "display_name": "Python 3 (ipykernel)",
   "language": "python",
   "name": "python3"
  },
  "language_info": {
   "codemirror_mode": {
    "name": "ipython",
    "version": 3
   },
   "file_extension": ".py",
   "mimetype": "text/x-python",
   "name": "python",
   "nbconvert_exporter": "python",
   "pygments_lexer": "ipython3",
   "version": "3.8.12"
  }
 },
 "nbformat": 4,
 "nbformat_minor": 5
}
