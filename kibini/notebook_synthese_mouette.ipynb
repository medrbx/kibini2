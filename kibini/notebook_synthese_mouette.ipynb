{
 "cells": [
  {
   "cell_type": "code",
   "execution_count": 1,
   "id": "b70cee9c",
   "metadata": {},
   "outputs": [],
   "source": [
    "import pandas as pd\n",
    "import numpy as np\n",
    "import matplotlib.pyplot as plt\n",
    "import seaborn as sns\n",
    "sns.set_style(\"darkgrid\")\n",
    "import datetime\n",
    "import calendar\n",
    "\n",
    "from kiblib.utils.db import DbConn"
   ]
  },
  {
   "cell_type": "code",
   "execution_count": 2,
   "id": "70a1726c",
   "metadata": {},
   "outputs": [],
   "source": [
    "db_conn = DbConn().create_engine()"
   ]
  },
  {
   "cell_type": "code",
   "execution_count": 3,
   "id": "7f95abc6",
   "metadata": {},
   "outputs": [],
   "source": [
    "year = 2025 #année pour les stats\n",
    "month = 2 # Numéro du mois pour les stats"
   ]
  },
  {
   "cell_type": "code",
   "execution_count": 4,
   "id": "b561ab32",
   "metadata": {},
   "outputs": [
    {
     "data": {
      "text/plain": [
       "'fr_FR.UTF-8'"
      ]
     },
     "execution_count": 4,
     "metadata": {},
     "output_type": "execute_result"
    }
   ],
   "source": [
    "import locale\n",
    "locale.setlocale(locale.LC_TIME,'')"
   ]
  },
  {
   "cell_type": "code",
   "execution_count": 5,
   "id": "e500f5d9",
   "metadata": {},
   "outputs": [
    {
     "data": {
      "text/plain": [
       "'février'"
      ]
     },
     "execution_count": 5,
     "metadata": {},
     "output_type": "execute_result"
    }
   ],
   "source": [
    "month_name = calendar.month_name[month]\n",
    "month_name"
   ]
  },
  {
   "cell_type": "markdown",
   "id": "e6f937ad",
   "metadata": {},
   "source": [
    "## TEST COMPTAGE JOURS OUVERTS "
   ]
  },
  {
   "cell_type": "code",
   "execution_count": 6,
   "id": "101b2850",
   "metadata": {},
   "outputs": [],
   "source": [
    "query = f\"SELECT * FROM statdb.stat_entrees WHERE MONTH(`datetime`) = {month} AND YEAR(`datetime`)={year}\""
   ]
  },
  {
   "cell_type": "code",
   "execution_count": 7,
   "id": "8f9f38e0",
   "metadata": {},
   "outputs": [
    {
     "data": {
      "text/html": [
       "<div>\n",
       "<style scoped>\n",
       "    .dataframe tbody tr th:only-of-type {\n",
       "        vertical-align: middle;\n",
       "    }\n",
       "\n",
       "    .dataframe tbody tr th {\n",
       "        vertical-align: top;\n",
       "    }\n",
       "\n",
       "    .dataframe thead th {\n",
       "        text-align: right;\n",
       "    }\n",
       "</style>\n",
       "<table border=\"1\" class=\"dataframe\">\n",
       "  <thead>\n",
       "    <tr style=\"text-align: right;\">\n",
       "      <th></th>\n",
       "      <th>datetime</th>\n",
       "      <th>entrees</th>\n",
       "    </tr>\n",
       "  </thead>\n",
       "  <tbody>\n",
       "    <tr>\n",
       "      <th>0</th>\n",
       "      <td>2025-02-01 09:00:00</td>\n",
       "      <td>37</td>\n",
       "    </tr>\n",
       "    <tr>\n",
       "      <th>1</th>\n",
       "      <td>2025-02-01 10:00:00</td>\n",
       "      <td>105</td>\n",
       "    </tr>\n",
       "    <tr>\n",
       "      <th>2</th>\n",
       "      <td>2025-02-01 11:00:00</td>\n",
       "      <td>88</td>\n",
       "    </tr>\n",
       "    <tr>\n",
       "      <th>3</th>\n",
       "      <td>2025-02-01 12:00:00</td>\n",
       "      <td>85</td>\n",
       "    </tr>\n",
       "    <tr>\n",
       "      <th>4</th>\n",
       "      <td>2025-02-01 13:00:00</td>\n",
       "      <td>132</td>\n",
       "    </tr>\n",
       "    <tr>\n",
       "      <th>...</th>\n",
       "      <td>...</td>\n",
       "      <td>...</td>\n",
       "    </tr>\n",
       "    <tr>\n",
       "      <th>188</th>\n",
       "      <td>2025-02-28 15:00:00</td>\n",
       "      <td>119</td>\n",
       "    </tr>\n",
       "    <tr>\n",
       "      <th>189</th>\n",
       "      <td>2025-02-28 16:00:00</td>\n",
       "      <td>132</td>\n",
       "    </tr>\n",
       "    <tr>\n",
       "      <th>190</th>\n",
       "      <td>2025-02-28 17:00:00</td>\n",
       "      <td>89</td>\n",
       "    </tr>\n",
       "    <tr>\n",
       "      <th>191</th>\n",
       "      <td>2025-02-28 18:00:00</td>\n",
       "      <td>30</td>\n",
       "    </tr>\n",
       "    <tr>\n",
       "      <th>192</th>\n",
       "      <td>2025-02-28 19:00:00</td>\n",
       "      <td>1</td>\n",
       "    </tr>\n",
       "  </tbody>\n",
       "</table>\n",
       "<p>193 rows × 2 columns</p>\n",
       "</div>"
      ],
      "text/plain": [
       "               datetime  entrees\n",
       "0   2025-02-01 09:00:00       37\n",
       "1   2025-02-01 10:00:00      105\n",
       "2   2025-02-01 11:00:00       88\n",
       "3   2025-02-01 12:00:00       85\n",
       "4   2025-02-01 13:00:00      132\n",
       "..                  ...      ...\n",
       "188 2025-02-28 15:00:00      119\n",
       "189 2025-02-28 16:00:00      132\n",
       "190 2025-02-28 17:00:00       89\n",
       "191 2025-02-28 18:00:00       30\n",
       "192 2025-02-28 19:00:00        1\n",
       "\n",
       "[193 rows x 2 columns]"
      ]
     },
     "execution_count": 7,
     "metadata": {},
     "output_type": "execute_result"
    }
   ],
   "source": [
    "# On importe un dataframe qui correspond au mois et à l'année rentré plus haut (\"month\" et \"year\")\n",
    "comptage_entrees = pd.read_sql(query,db_conn)\n",
    "comptage_entrees"
   ]
  },
  {
   "cell_type": "code",
   "execution_count": 8,
   "id": "2db6e061",
   "metadata": {},
   "outputs": [],
   "source": [
    "# On transforme le datetime en date, puis on aggrège les données par date\n",
    "comptage_entrees['datetime'] = pd.DatetimeIndex(comptage_entrees['datetime']).date\n",
    "comptage_entrees = comptage_entrees.groupby('datetime')['entrees'].sum().reset_index()"
   ]
  },
  {
   "cell_type": "code",
   "execution_count": 9,
   "id": "f6855ed7",
   "metadata": {},
   "outputs": [
    {
     "data": {
      "text/plain": [
       "20"
      ]
     },
     "execution_count": 9,
     "metadata": {},
     "output_type": "execute_result"
    }
   ],
   "source": [
    "# Le nombre de jours ouverts = la somme du nombre de dates où on a une info\n",
    "days = len(comptage_entrees) # nombre de jours ouverts (si pas de bug du compteur d'entrées)\n",
    "days"
   ]
  },
  {
   "cell_type": "code",
   "execution_count": 10,
   "id": "d0079044",
   "metadata": {},
   "outputs": [
    {
     "data": {
      "text/html": [
       "<div>\n",
       "<style scoped>\n",
       "    .dataframe tbody tr th:only-of-type {\n",
       "        vertical-align: middle;\n",
       "    }\n",
       "\n",
       "    .dataframe tbody tr th {\n",
       "        vertical-align: top;\n",
       "    }\n",
       "\n",
       "    .dataframe thead th {\n",
       "        text-align: right;\n",
       "    }\n",
       "</style>\n",
       "<table border=\"1\" class=\"dataframe\">\n",
       "  <thead>\n",
       "    <tr style=\"text-align: right;\">\n",
       "      <th></th>\n",
       "      <th>datetime</th>\n",
       "      <th>entrees</th>\n",
       "    </tr>\n",
       "  </thead>\n",
       "  <tbody>\n",
       "    <tr>\n",
       "      <th>0</th>\n",
       "      <td>2025-02-01</td>\n",
       "      <td>1230</td>\n",
       "    </tr>\n",
       "    <tr>\n",
       "      <th>1</th>\n",
       "      <td>2025-02-02</td>\n",
       "      <td>532</td>\n",
       "    </tr>\n",
       "    <tr>\n",
       "      <th>2</th>\n",
       "      <td>2025-02-04</td>\n",
       "      <td>956</td>\n",
       "    </tr>\n",
       "    <tr>\n",
       "      <th>3</th>\n",
       "      <td>2025-02-05</td>\n",
       "      <td>1280</td>\n",
       "    </tr>\n",
       "    <tr>\n",
       "      <th>4</th>\n",
       "      <td>2025-02-06</td>\n",
       "      <td>894</td>\n",
       "    </tr>\n",
       "    <tr>\n",
       "      <th>5</th>\n",
       "      <td>2025-02-07</td>\n",
       "      <td>934</td>\n",
       "    </tr>\n",
       "    <tr>\n",
       "      <th>6</th>\n",
       "      <td>2025-02-08</td>\n",
       "      <td>1190</td>\n",
       "    </tr>\n",
       "    <tr>\n",
       "      <th>7</th>\n",
       "      <td>2025-02-11</td>\n",
       "      <td>1172</td>\n",
       "    </tr>\n",
       "    <tr>\n",
       "      <th>8</th>\n",
       "      <td>2025-02-12</td>\n",
       "      <td>1206</td>\n",
       "    </tr>\n",
       "    <tr>\n",
       "      <th>9</th>\n",
       "      <td>2025-02-13</td>\n",
       "      <td>984</td>\n",
       "    </tr>\n",
       "    <tr>\n",
       "      <th>10</th>\n",
       "      <td>2025-02-14</td>\n",
       "      <td>859</td>\n",
       "    </tr>\n",
       "    <tr>\n",
       "      <th>11</th>\n",
       "      <td>2025-02-15</td>\n",
       "      <td>927</td>\n",
       "    </tr>\n",
       "    <tr>\n",
       "      <th>12</th>\n",
       "      <td>2025-02-18</td>\n",
       "      <td>1338</td>\n",
       "    </tr>\n",
       "    <tr>\n",
       "      <th>13</th>\n",
       "      <td>2025-02-19</td>\n",
       "      <td>1109</td>\n",
       "    </tr>\n",
       "    <tr>\n",
       "      <th>14</th>\n",
       "      <td>2025-02-20</td>\n",
       "      <td>1117</td>\n",
       "    </tr>\n",
       "    <tr>\n",
       "      <th>15</th>\n",
       "      <td>2025-02-21</td>\n",
       "      <td>1059</td>\n",
       "    </tr>\n",
       "    <tr>\n",
       "      <th>16</th>\n",
       "      <td>2025-02-22</td>\n",
       "      <td>946</td>\n",
       "    </tr>\n",
       "    <tr>\n",
       "      <th>17</th>\n",
       "      <td>2025-02-25</td>\n",
       "      <td>1038</td>\n",
       "    </tr>\n",
       "    <tr>\n",
       "      <th>18</th>\n",
       "      <td>2025-02-26</td>\n",
       "      <td>1499</td>\n",
       "    </tr>\n",
       "    <tr>\n",
       "      <th>19</th>\n",
       "      <td>2025-02-28</td>\n",
       "      <td>953</td>\n",
       "    </tr>\n",
       "  </tbody>\n",
       "</table>\n",
       "</div>"
      ],
      "text/plain": [
       "      datetime  entrees\n",
       "0   2025-02-01     1230\n",
       "1   2025-02-02      532\n",
       "2   2025-02-04      956\n",
       "3   2025-02-05     1280\n",
       "4   2025-02-06      894\n",
       "5   2025-02-07      934\n",
       "6   2025-02-08     1190\n",
       "7   2025-02-11     1172\n",
       "8   2025-02-12     1206\n",
       "9   2025-02-13      984\n",
       "10  2025-02-14      859\n",
       "11  2025-02-15      927\n",
       "12  2025-02-18     1338\n",
       "13  2025-02-19     1109\n",
       "14  2025-02-20     1117\n",
       "15  2025-02-21     1059\n",
       "16  2025-02-22      946\n",
       "17  2025-02-25     1038\n",
       "18  2025-02-26     1499\n",
       "19  2025-02-28      953"
      ]
     },
     "execution_count": 10,
     "metadata": {},
     "output_type": "execute_result"
    }
   ],
   "source": [
    "comptage_entrees"
   ]
  },
  {
   "cell_type": "markdown",
   "id": "c03957f8",
   "metadata": {},
   "source": [
    "# fin du test"
   ]
  },
  {
   "cell_type": "code",
   "execution_count": 11,
   "id": "f01941af",
   "metadata": {},
   "outputs": [
    {
     "data": {
      "text/plain": [
       "503"
      ]
     },
     "execution_count": 11,
     "metadata": {},
     "output_type": "execute_result"
    }
   ],
   "source": [
    "# nb de personnes nouvellement inscrites\n",
    "query = f\"SELECT borrowernumber FROM koha_prod.borrowers WHERE YEAR(dateenrolled) = {year} AND MONTH(dateenrolled) = {month}\"\n",
    "nv_inscrits = pd.read_sql(query, db_conn)\n",
    "nb_nv_inscrits = len(nv_inscrits)\n",
    "nb_nv_inscrits"
   ]
  },
  {
   "cell_type": "code",
   "execution_count": 12,
   "id": "90b3dd9b",
   "metadata": {},
   "outputs": [
    {
     "name": "stdout",
     "output_type": "stream",
     "text": [
      "15377\n",
      "15114\n",
      "2.0\n"
     ]
    }
   ],
   "source": [
    "# nb de personnes  inscrites\n",
    "query = f\"SELECT COUNT(*) as inscrits FROM statdb.stat_adherents WHERE YEAR(date_extraction) = {year} AND MONTH(date_extraction) = {month}\"\n",
    "inscrits = pd.read_sql(query, db_conn)\n",
    "nb_inscrits = inscrits['inscrits'][0]\n",
    "print(nb_inscrits)\n",
    "\n",
    "\n",
    "# entrées même mois un an plus tôt\n",
    "query = f\"SELECT COUNT(*) as inscrits FROM statdb.stat_adherents WHERE YEAR(date_extraction) = {year - 1} AND MONTH(date_extraction) = {month}\"\n",
    "inscrits = pd.read_sql(query, db_conn)\n",
    "nb_inscrits_prec = inscrits['inscrits'][0]\n",
    "print(nb_inscrits_prec)\n",
    "\n",
    "# évolution\n",
    "inscrits_evolution = round((nb_inscrits - nb_inscrits_prec) / nb_inscrits_prec * 100, 0)\n",
    "print(inscrits_evolution)"
   ]
  },
  {
   "cell_type": "code",
   "execution_count": 13,
   "id": "6b55cc24",
   "metadata": {},
   "outputs": [
    {
     "name": "stdout",
     "output_type": "stream",
     "text": [
      "21223\n",
      "1499\n",
      "2025-02-26\n",
      "22060\n",
      "-4.0\n"
     ]
    }
   ],
   "source": [
    "# entrées\n",
    "query = f\"SELECT datetime, entrees FROM statdb.stat_entrees WHERE YEAR(datetime) = {year} AND MONTH(datetime) = {month}\"\n",
    "entrees = pd.read_sql(query, db_conn)\n",
    "entrees['datetime'] = pd.to_datetime(entrees['datetime'])\n",
    "nb_entrees = entrees['entrees'].sum()\n",
    "print(nb_entrees)\n",
    "max_entrees = entrees.groupby(entrees['datetime'].dt.date)['entrees'].sum().sort_values(ascending=False)\n",
    "max_entrees_nb = max_entrees.iloc[0]\n",
    "max_entrees_date = max_entrees.index[0]\n",
    "print(max_entrees_nb)\n",
    "print(max_entrees_date)\n",
    "\n",
    "# entrées même mois un an plus tôt\n",
    "query = f\"SELECT datetime, entrees FROM statdb.stat_entrees WHERE YEAR(datetime) = {year - 1} AND MONTH(datetime) = {month}\"\n",
    "entrees = pd.read_sql(query, db_conn)\n",
    "nb_entrees_prec = entrees['entrees'].sum()\n",
    "print(nb_entrees_prec)\n",
    "\n",
    "# évolution\n",
    "entrees_evolution = round((nb_entrees - nb_entrees_prec) / nb_entrees_prec * 100, 0)\n",
    "print(entrees_evolution)"
   ]
  },
  {
   "cell_type": "code",
   "execution_count": 14,
   "id": "161139e1",
   "metadata": {},
   "outputs": [
    {
     "name": "stdout",
     "output_type": "stream",
     "text": [
      "27961\n",
      "2446\n",
      "2025-02-08\n",
      "30513\n",
      "-8.0\n"
     ]
    }
   ],
   "source": [
    "# prets\n",
    "query = f\"SELECT issuedate, itemnumber FROM statdb.stat_issues WHERE YEAR(issuedate) = {year} AND MONTH(issuedate) = {month} AND location != 'MED0A'\"\n",
    "prets = pd.read_sql(query, db_conn)\n",
    "prets['issuedate'] = pd.to_datetime(prets['issuedate'])\n",
    "nb_prets = len(prets)\n",
    "print(nb_prets)\n",
    "max_prets = prets.groupby(prets['issuedate'].dt.date).size().sort_values(ascending=False)\n",
    "max_prets_nb = max_prets.iloc[0]\n",
    "max_prets_date = max_prets.index[0]\n",
    "print(max_prets_nb)\n",
    "print(max_prets_date)\n",
    "\n",
    "# même mois un an plus tôt\n",
    "query = f\"SELECT itemnumber FROM statdb.stat_issues WHERE YEAR(issuedate) = {year - 1} AND MONTH(issuedate) = {month} AND location != 'MED0A'\"\n",
    "prets = pd.read_sql(query, db_conn)\n",
    "nb_prets_prec = len(prets)\n",
    "print(nb_prets_prec)\n",
    "\n",
    "# évolution\n",
    "prets_evolution = round((nb_prets - nb_prets_prec) / nb_prets_prec * 100, 0)\n",
    "print(prets_evolution)"
   ]
  },
  {
   "cell_type": "code",
   "execution_count": 15,
   "id": "ac1002c8",
   "metadata": {},
   "outputs": [
    {
     "name": "stdout",
     "output_type": "stream",
     "text": [
      "4818\n",
      "320\n",
      "2025-02-26\n",
      "5173\n",
      "-7.0\n"
     ]
    }
   ],
   "source": [
    "# connexions ordis\n",
    "query = f\"SELECT heure_deb FROM statdb.stat_webkiosk WHERE YEAR(heure_deb) = {year} AND MONTH(heure_deb) = {month}\"\n",
    "conn = pd.read_sql(query, db_conn)\n",
    "conn['heure_deb'] = pd.to_datetime(conn['heure_deb'])\n",
    "nb_conn = len(conn)\n",
    "print(nb_conn)\n",
    "max_conn = conn.groupby(conn['heure_deb'].dt.date).size().sort_values(ascending=False)\n",
    "max_conn_nb = max_conn.iloc[0]\n",
    "max_conn_date = max_conn.index[0]\n",
    "print(max_conn_nb)\n",
    "print(max_conn_date)\n",
    "\n",
    "# même mois un an plus tôt\n",
    "query = f\"SELECT heure_deb FROM statdb.stat_webkiosk WHERE YEAR(heure_deb) = {year - 1} AND MONTH(heure_deb) = {month}\"\n",
    "conn = pd.read_sql(query, db_conn)\n",
    "nb_conn_prec = len(conn)\n",
    "print(nb_conn_prec)\n",
    "\n",
    "# évolution\n",
    "conn_evolution = round((nb_conn - nb_conn_prec) / nb_conn_prec * 100, 0)\n",
    "print(conn_evolution)"
   ]
  },
  {
   "cell_type": "code",
   "execution_count": 16,
   "id": "a5238e14",
   "metadata": {},
   "outputs": [
    {
     "name": "stdout",
     "output_type": "stream",
     "text": [
      "1069\n",
      "1152\n",
      "-7.0\n"
     ]
    }
   ],
   "source": [
    "# connexions wifi\n",
    "query = f\"SELECT start_wifi FROM statdb.stat_wifi WHERE YEAR(start_wifi) = {year} AND MONTH(start_wifi) = {month}\"\n",
    "wifi = pd.read_sql(query, db_conn)\n",
    "nb_wifi = len(wifi)\n",
    "print(nb_wifi)\n",
    "\n",
    "# même mois un an plus tôt\n",
    "query = f\"SELECT start_wifi FROM statdb.stat_wifi WHERE YEAR(start_wifi) = {year - 1} AND MONTH(start_wifi) = {month}\"\n",
    "wifi = pd.read_sql(query, db_conn)\n",
    "nb_wifi_prec = len(wifi)\n",
    "print(nb_wifi_prec)\n",
    "\n",
    "# évolution\n",
    "wifi_evolution = round((nb_wifi - nb_wifi_prec) / nb_wifi_prec * 100, 0)\n",
    "print(wifi_evolution)\n",
    "\n",
    "# retour wifi le 14/10"
   ]
  },
  {
   "cell_type": "code",
   "execution_count": 17,
   "id": "25f7f1b3",
   "metadata": {},
   "outputs": [
    {
     "name": "stdout",
     "output_type": "stream",
     "text": [
      "4833\n",
      "309\n",
      "2025-02-01\n",
      "4221\n",
      "14.0\n"
     ]
    }
   ],
   "source": [
    "# réservations\n",
    "query = f\"SELECT reservedate FROM statdb.stat_reserves WHERE YEAR(reservedate) = {year} AND MONTH(reservedate) = {month}\"\n",
    "res = pd.read_sql(query, db_conn)\n",
    "res['reservedate'] = pd.to_datetime(res['reservedate'])\n",
    "nb_res = len(res)\n",
    "print(nb_res)\n",
    "max_res = res.groupby(res['reservedate'].dt.date).size().sort_values(ascending=False)\n",
    "max_res_nb = max_res.iloc[0]\n",
    "max_res_date = max_res.index[0]\n",
    "print(max_res_nb)\n",
    "print(max_res_date)\n",
    "\n",
    "# même mois un an plus tôt\n",
    "query = f\"SELECT reservedate FROM statdb.stat_reserves WHERE YEAR(reservedate) = {year - 1} AND MONTH(reservedate) = {month}\"\n",
    "res = pd.read_sql(query, db_conn)\n",
    "nb_res_prec = len(res)\n",
    "print(nb_res_prec)\n",
    "\n",
    "# évolution\n",
    "res_evolution = round((nb_res - nb_res_prec) / nb_res_prec * 100, 0)\n",
    "print(res_evolution)"
   ]
  },
  {
   "cell_type": "code",
   "execution_count": 18,
   "id": "56c85e0f",
   "metadata": {},
   "outputs": [
    {
     "name": "stdout",
     "output_type": "stream",
     "text": [
      "15648\n",
      "15682\n",
      "-0.0\n"
     ]
    }
   ],
   "source": [
    "# site web\n",
    "query = f\"SELECT date, visites FROM statdb.stat_web2 WHERE YEAR(date) = {year} AND MONTH(date) = {month}\"\n",
    "web = pd.read_sql(query, db_conn)\n",
    "nb_web = web['visites'].sum()\n",
    "print(nb_web)\n",
    "\n",
    "\n",
    "# même mois un an plus tôt\n",
    "query = f\"SELECT date, visites FROM statdb.stat_web2 WHERE YEAR(date) = {year - 1} AND MONTH(date) = {month}\"\n",
    "web = pd.read_sql(query, db_conn)\n",
    "nb_web_prec = web['visites'].sum()\n",
    "print(nb_web_prec)\n",
    "\n",
    "# évolution\n",
    "web_evolution = round((nb_web - nb_web_prec) / nb_web_prec * 100, 0)\n",
    "print(web_evolution)"
   ]
  },
  {
   "cell_type": "code",
   "execution_count": 19,
   "id": "c78d034a",
   "metadata": {},
   "outputs": [
    {
     "name": "stdout",
     "output_type": "stream",
     "text": [
      "529\n",
      "536\n",
      "-1.0\n"
     ]
    }
   ],
   "source": [
    "# salle étude\n",
    "query = f\"SELECT datetime_entree FROM statdb.stat_freq_etude WHERE YEAR(datetime_entree) = {year} AND MONTH(datetime_entree) = {month}\"\n",
    "etude = pd.read_sql(query, db_conn)\n",
    "nb_etude = len(etude)\n",
    "print(nb_etude)\n",
    "\n",
    "# même mois un an plus tôt\n",
    "query = f\"SELECT datetime_entree FROM statdb.stat_freq_etude WHERE YEAR(datetime_entree) = {year - 1} AND MONTH(datetime_entree) = {month}\"\n",
    "etude = pd.read_sql(query, db_conn)\n",
    "nb_etude_prec = len(etude)\n",
    "print(nb_etude_prec)\n",
    "\n",
    "# évolution\n",
    "etude_evolution = round((nb_etude - nb_etude_prec) / nb_etude_prec * 100, 0)\n",
    "print(etude_evolution)"
   ]
  },
  {
   "cell_type": "code",
   "execution_count": 24,
   "id": "534af550",
   "metadata": {},
   "outputs": [
    {
     "name": "stdout",
     "output_type": "stream",
     "text": [
      "Chiffres de la Mouette pour le mois de février 2025\n",
      "°°°°°°°°°°°°°°°°°°°°°°°°°°°°°°°°°°°°°°°°°°°°°°°°°°°°°°°°°°°°°°°°°\n",
      "\n",
      "En février, la médiathèque a été ouverte 20 jours au total.\n",
      "\n",
      "15377 personnes inscrites (2 %).\n",
      "\n",
      "En moyenne, chaque jour (par rapport au même mois de l'année précédente) :\n",
      "\n",
      "1061 entrées (-4 %)\n",
      "\n",
      "1398 prêts (-8 %)\n",
      "\n",
      "241 connexions aux ordinateurs (-7 %)\n",
      "\n",
      "53 connexions Wifi (-7 %)\n",
      "\n",
      "242 réservations (14 %)\n",
      "\n",
      "782 visites du site internet (0 %)\n",
      "\n",
      "26 visites en salle d'études (-1 %)\n",
      "\n",
      "782 visites du site web (0%)\n",
      "\n",
      "\n",
      "Les tops :\n",
      "°°°°°°°°°°°°°°°°°°°°°°°°°°°°°°°°°°°°°°°°°°°°°°°°°°°°°°°°°°°°°°°°°\n",
      "\n",
      "1499 entrées le mercredi 26 février 2025\n",
      "320 connexions aux ordinateurs le mercredi 26 février 2025\n",
      "309 réservations le samedi 01 février 2025\n",
      "2446 prêts le samedi 08 février 2025\n"
     ]
    }
   ],
   "source": [
    "print(f\"Chiffres de la Mouette pour le mois de {month_name} {year}\")\n",
    "\n",
    "print(\"°\"*65 +\"\\n\")\n",
    "\n",
    "print(f\"En {month_name}, la médiathèque a été ouverte {days} jours au total.\\n\")\n",
    "\n",
    "print(f\"{nb_inscrits} personnes inscrites ({int(inscrits_evolution)} %).\\n\")\n",
    "\n",
    "print(\"En moyenne, chaque jour (par rapport au même mois de l'année précédente) :\\n\")\n",
    "\n",
    "print(f\"{int(round(nb_entrees / days, 0))} entrées ({int(entrees_evolution)} %)\\n\")\n",
    "\n",
    "#XXX prêts (-XX%)\n",
    "print(f\"{int(round(nb_prets / days, 0))} prêts ({int(prets_evolution)} %)\\n\")\n",
    "\n",
    "#XXX connexions aux ordinateurs (+XX%)\n",
    "print(f\"{int(round(nb_conn / days, 0))} connexions aux ordinateurs ({int(conn_evolution)} %)\\n\")\n",
    "\n",
    "#XXX connexions Wifi (-XX%)\n",
    "print(f\"{int(round(nb_wifi / days, 0))} connexions Wifi ({int(wifi_evolution)} %)\\n\")\n",
    "\n",
    "#XXX réservations (-XX%)\n",
    "print(f\"{int(round(nb_res / days, 0))} réservations ({int(res_evolution)} %)\\n\")\n",
    "\n",
    "#XXX visites du site internet (-XX%)\n",
    "print(f\"{int(round(nb_web / days, 0))} visites du site internet ({int(web_evolution)} %)\\n\")\n",
    "\n",
    "#XX visites en salle d'études (-XX%)\n",
    "print(f\"{int(round(nb_etude / days, 0))} visites en salle d'études ({int(etude_evolution)} %)\\n\")\n",
    "\n",
    "#XX visites du site web\n",
    "print(f\"{int(round(nb_web / days,0))} visites du site web ({int(web_evolution)}%)\")\n",
    "\n",
    "print(\"\\n\")\n",
    "print(\"Les tops :\")\n",
    "print(\"°\"*65 +\"\\n\")\n",
    "\n",
    "print(f\"{max_entrees_nb} entrées le {max_entrees_date.strftime('%A %d %B %Y')}\")\n",
    "print(f\"{max_conn_nb} connexions aux ordinateurs le {max_conn_date.strftime('%A %d %B %Y')}\")\n",
    "print (f\"{max_res_nb} réservations le {max_res_date.strftime('%A %d %B %Y')}\")\n",
    "print(f\"{max_prets_nb} prêts le {max_prets_date.strftime('%A %d %B %Y')}\")"
   ]
  },
  {
   "cell_type": "code",
   "execution_count": null,
   "id": "556c5b38",
   "metadata": {},
   "outputs": [],
   "source": []
  }
 ],
 "metadata": {
  "kernelspec": {
   "display_name": "Python 3 (ipykernel)",
   "language": "python",
   "name": "python3"
  },
  "language_info": {
   "codemirror_mode": {
    "name": "ipython",
    "version": 3
   },
   "file_extension": ".py",
   "mimetype": "text/x-python",
   "name": "python",
   "nbconvert_exporter": "python",
   "pygments_lexer": "ipython3",
   "version": "3.8.12"
  }
 },
 "nbformat": 4,
 "nbformat_minor": 5
}
