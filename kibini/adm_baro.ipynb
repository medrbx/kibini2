{
 "cells": [
  {
   "cell_type": "code",
   "execution_count": 1,
   "id": "95c9cce3-d9c0-4c2f-b421-2995d790d644",
   "metadata": {},
   "outputs": [],
   "source": [
    "import pandas as pd\n",
    "from unidecode import unidecode\n",
    "from kiblib.utils.db import DbConn"
   ]
  },
  {
   "cell_type": "code",
   "execution_count": 2,
   "id": "366d6dff-ba1d-408c-ba75-e681c8a4600e",
   "metadata": {},
   "outputs": [],
   "source": [
    "year = 2024\n",
    "db_conn = DbConn().create_engine()"
   ]
  },
  {
   "cell_type": "markdown",
   "id": "0a92d269",
   "metadata": {},
   "source": [
    "# Préparation des données"
   ]
  },
  {
   "cell_type": "code",
   "execution_count": 3,
   "id": "91046167",
   "metadata": {},
   "outputs": [],
   "source": [
    "acq_colsname = {\n",
    "        'itemnumber': 'Code barre',\n",
    "        'Collection': 'Nom de la collection',\n",
    "        'CollectiviteAuteur': 'Champ Collectivité auteur',\n",
    "        'DateEdition': 'Date d’édition',\n",
    "        'DatesAuteur': 'Dates de l’auteur',\n",
    "        'Dewey': 'Indice Dewey',\n",
    "        'NomAuteur': 'Nom de l’auteur',\n",
    "        'NumeroVolume': 'Numéro de volume',\n",
    "        'PrenomAuteur': 'Prénom de l’auteur',\n",
    "        'SousTitre': 'Sous-titre',\n",
    "        'TitreSerie': 'Titre de série',\n",
    "        'TitreVolume': 'Titre du volume',\n",
    "        'dateaccessioned' : 'Date d’acquisition'\n",
    "    }\n",
    "\n",
    "acq_cols = ['Titre', 'Numéro de volume', 'Titre du volume', 'ISBN', 'Code barre', 'Sous-titre', 'Date d’édition', 'Nom de la collection', 'Nom de l’auteur', 'Prénom de l’auteur', 'Dates de l’auteur', 'Champ Collectivité auteur', 'Titre de série', 'Indice Dewey', 'Date d’acquisition']"
   ]
  },
  {
   "cell_type": "code",
   "execution_count": 8,
   "id": "c45be98d",
   "metadata": {},
   "outputs": [],
   "source": [
    "prets_colsname = {\n",
    "    'itemnumber': 'Code barre',\n",
    "    'Collection': 'Nom de la collection',\n",
    "    'CollectiviteAuteur': 'Champ Collectivité auteur',\n",
    "    'DateEdition': 'Date d’édition',\n",
    "    'DatesAuteur': 'Dates de l’auteur',\n",
    "    'Dewey': 'Indice Dewey',\n",
    "    'NomAuteur': 'Nom de l’auteur',\n",
    "    'NumeroVolume': 'Numéro de volume',\n",
    "    'PrenomAuteur': 'Prénom de l’auteur',\n",
    "    'SousTitre': 'Sous-titre',\n",
    "    'TitreSerie': 'Titre de série',\n",
    "    'TitreVolume': 'Titre du volume',\n",
    "    'issuedate': 'Date d’emprunt'\n",
    "}\n",
    "\n",
    "prets_cols = ['Titre', 'Numéro de volume', 'Titre du volume', 'ISBN', 'Code barre', 'Sous-titre', 'Date d’édition', 'Nom de la collection', 'Nom de l’auteur', 'Prénom de l’auteur', 'Dates de l’auteur', 'Champ Collectivité auteur', 'Titre de série', 'Indice Dewey', 'Date d’emprunt']"
   ]
  },
  {
   "cell_type": "code",
   "execution_count": 18,
   "id": "0bc8cd83",
   "metadata": {},
   "outputs": [
    {
     "name": "stderr",
     "output_type": "stream",
     "text": [
      "/tmp/ipykernel_27327/2387876382.py:6: DtypeWarning: Columns (0) have mixed types. Specify dtype option on import or set low_memory=False.\n",
      "  biblio = pd.read_csv(\"../data/2025-02-23-notices_total.csv\")\n"
     ]
    }
   ],
   "source": [
    "# attention, au préalable : déposer dans data le dernier dumps Koha (se trouve dans koha_prod/data/dumps_koha/notices)\n",
    "# et lancer sur celui-ci le script baro_marc2csv.py\n",
    "# Voir https://gist.github.com/ragbx/0cb52b49ace2a3fbd33ab791bb41612a\n",
    "\n",
    "# dataframe comprenant l'ensemble des notices bibliographiques en fin d'année\n",
    "biblio = pd.read_csv(\"../data/2025-02-23-notices_total.csv\")\n",
    "biblio['biblionumber'] = biblio['biblionumber'].astype(str)"
   ]
  },
  {
   "cell_type": "code",
   "execution_count": 5,
   "id": "1b359d92",
   "metadata": {},
   "outputs": [
    {
     "data": {
      "text/plain": [
       "15879"
      ]
     },
     "execution_count": 5,
     "metadata": {},
     "output_type": "execute_result"
    }
   ],
   "source": [
    "# dataframe contenant toutes les acquisitions de l'année\n",
    "request = f\"\"\"SELECT\n",
    "  i.biblionumber,\n",
    "  i.itemnumber,\n",
    "  i.dateaccessioned,\n",
    "  bi.itemtype,\n",
    "  i.ccode,\n",
    "  i.itemcallnumber\n",
    "FROM koha{year}.items i\n",
    "JOIN koha{year}.biblioitems bi ON i.biblionumber = bi.biblionumber\n",
    "WHERE\n",
    "  YEAR(i.dateaccessioned) = {year}\n",
    "\"\"\"\n",
    "acq = pd.read_sql(request, db_conn)\n",
    "acq = acq[~acq['biblionumber'].isna()]\n",
    "acq['biblionumber'] = acq['biblionumber'].astype(int).astype(str)\n",
    "acq = acq[~acq['itemnumber'].isna()]\n",
    "acq['itemnumber'] = acq['itemnumber'].astype(int).astype(str)\n",
    "len(acq)"
   ]
  },
  {
   "cell_type": "code",
   "execution_count": 6,
   "id": "595d18a2",
   "metadata": {},
   "outputs": [
    {
     "data": {
      "text/plain": [
       "364268"
      ]
     },
     "execution_count": 6,
     "metadata": {},
     "output_type": "execute_result"
    }
   ],
   "source": [
    "# dataframe contenant tous les prêts de l'année\n",
    "request = f\"\"\"SELECT\n",
    "  issuedate,\n",
    "  biblionumber,\n",
    "  itemnumber,\n",
    "  itemtype,\n",
    "  ccode,\n",
    "  itemcallnumber\n",
    "FROM statdb.stat_issues\n",
    "WHERE\n",
    "  YEAR(issuedate) = {year}\n",
    "\"\"\"\n",
    "prets = pd.read_sql(request, db_conn)\n",
    "prets = prets[~prets['biblionumber'].isna()]\n",
    "prets['biblionumber'] = prets['biblionumber'].astype(int).astype(str)\n",
    "prets = prets[~prets['itemnumber'].isna()]\n",
    "prets['itemnumber'] = prets['itemnumber'].astype(int).astype(str)\n",
    "len(prets)"
   ]
  },
  {
   "cell_type": "markdown",
   "id": "ad9d99de",
   "metadata": {},
   "source": [
    "# Bandes dessinées"
   ]
  },
  {
   "cell_type": "code",
   "execution_count": 13,
   "id": "8b5a8104",
   "metadata": {},
   "outputs": [
    {
     "name": "stdout",
     "output_type": "stream",
     "text": [
      "acq BD avant merge : 2050\n",
      "acq BD : 2049\n",
      "prets BD avant merge : 103467\n",
      "prets BD : 102912\n"
     ]
    }
   ],
   "source": [
    "acq_bd = acq[acq['itemtype'].isin(['LI', 'LV', 'LS'])]\n",
    "acq_bd1 = acq_bd[acq_bd['ccode'].isin(['AAPBDZZ', 'AAPBDCM', 'AAPBDSR', 'AAPBDER', 'AAPBDMG', 'JBDZZZZ',\n",
    "                                       'JBDCLZZ', 'JBDCMZZ', 'JBDMGZZ', 'JBDSRZZ', 'JBDPBZZ'])]\n",
    "acq_bd2 = acq_bd[acq_bd['itemcallnumber'].str[0:2] == 'BD']\n",
    "acq_bd3 = acq_bd[acq_bd['itemcallnumber'].str[0:5] == 'FR/BD']\n",
    "\n",
    "acq_bd = pd.concat([acq_bd1, acq_bd2, acq_bd3])\n",
    "acq_bd = acq_bd.drop_duplicates()\n",
    "print(f\"acq BD avant merge : {len(acq_bd)}\")\n",
    "\n",
    "acq_bd = acq_bd.merge(biblio, on=\"biblionumber\", how=\"inner\")\n",
    "acq_bd = acq_bd.rename(columns=acq_colsname)\n",
    "acq_bd = acq_bd[acq_cols]\n",
    "acq_bd['Code lieu'] = 'LI2550'\n",
    "file_out = f\"../data/RBX_Barometre{year}_Acquisitions_BD.csv.gz\"\n",
    "acq_bd.to_csv(file_out, header=True, index=False)\n",
    "print(f\"acq BD : {len(acq_bd)}\")\n",
    "\n",
    "\n",
    "prets_bd = prets[prets['itemtype'].isin(['LI', 'LV', 'LS'])]\n",
    "prets_bd1 = prets_bd[prets_bd['ccode'].isin(['AAPBDZZ', 'AAPBDCM', 'AAPBDSR', 'AAPBDER', 'AAPBDMG', 'JBDZZZZ',\n",
    "                                             'JBDCLZZ', 'JBDCMZZ', 'JBDMGZZ', 'JBDSRZZ', 'JBDPBZZ'])]\n",
    "prets_bd2 = prets_bd[prets_bd['itemcallnumber'].str[0:2] == 'BD']\n",
    "prets_bd3 = prets_bd[prets_bd['itemcallnumber'].str[0:5] == 'FR/BD']\n",
    "\n",
    "prets_bd = pd.concat([prets_bd1, prets_bd2, prets_bd3])\n",
    "prets_bd = prets_bd.drop_duplicates()\n",
    "print(f\"prets BD avant merge : {len(prets_bd)}\")\n",
    "\n",
    "prets_bd = prets_bd.merge(biblio, on=\"biblionumber\", how=\"inner\")\n",
    "prets_bd = prets_bd.rename(columns=prets_colsname)\n",
    "prets_bd = prets_bd[prets_cols]\n",
    "prets_bd['Code lieu'] = 'LI2550'\n",
    "file_out = f\"../data/RBX_Barometre{year}_Prets_BD.csv.gz\"\n",
    "prets_bd.to_csv(file_out, header=True, index=False)\n",
    "print(f\"prets BD : {len(prets_bd)}\")"
   ]
  },
  {
   "cell_type": "markdown",
   "id": "095d38e9",
   "metadata": {},
   "source": [
    "# Documentaires"
   ]
  },
  {
   "cell_type": "code",
   "execution_count": 14,
   "id": "4da43d95",
   "metadata": {},
   "outputs": [
    {
     "name": "stdout",
     "output_type": "stream",
     "text": [
      "acq Doc avant merge : 1516\n",
      "acq Doc : 1515\n",
      "prets doc avant merge : 29644\n",
      "prets doc : 29112\n"
     ]
    }
   ],
   "source": [
    "acq_doc = acq[acq['itemtype'].isin(['LI', 'LV', 'LS'])]\n",
    "acq_doc1 = acq_doc[acq_doc['ccode'].isin(['AAPATAP', 'AAPBDDC', 'AAPCGDA', 'AAPCGDD', 'AAPCIDC', 'AAPCIFI',\n",
    "                                          'AAPPRLD', 'AAPATLC', 'AAPPLCB', 'AAPPLFF', 'AAPPLGO', 'AAPPLHU',\n",
    "                                          'AAPPLMS', 'AAPPLPA', 'ACFPDZZ', 'ACFPMZZ', 'AAPPLPS', 'AAPPLSL',\n",
    "                                          'AAPCITV', 'ACFBPZZ', 'ACFLAFF', 'ACFHSZZ', 'ACFIFZZ', 'ACFLALE',\n",
    "                                          'ACFPHZZ', 'ACFPAZZ', 'ACFREZZ', 'ACFRUZZ', 'ACFSCZZ', 'ACFSSZZ',\n",
    "                                          'ACFUEZZ', 'ALTLSDC', 'AMVASCA', 'AMVASDC', 'AMV11ZZ', 'AMV80ZZ',\n",
    "                                          'AMV13ZZ', 'AMV30ZZ', 'AMV39ZZ', 'AMV50ZZ', 'AMV00ZZ', 'AMV25ZZ',\n",
    "                                          'AMV15ZZ', 'AMV16ZZ', 'AMV20ZZ', 'AMV14ZZ', 'AMV40ZZ', 'AMVTHCA',\n",
    "                                          'AMVTHDC', 'AMVTHTX', 'AMV29ZZ', 'AMV90ZZ', 'AZZMAZZ', 'JDTFDZZ'])]\n",
    "acq_doc2 = acq_doc[acq_doc['itemcallnumber'].str[0:7] == 'ROUBAIX']\n",
    "acq_doc3 = acq_doc[~acq_doc['itemcallnumber'].isna()]\n",
    "acq_doc3 = acq_doc3[acq_doc3['itemcallnumber'].str.contains('^FR/[0-9]', regex=True)]\n",
    "\n",
    "acq_doc = pd.concat([acq_doc1, acq_doc2, acq_doc3])\n",
    "acq_doc = acq_doc.drop_duplicates()\n",
    "print(f\"acq Doc avant merge : {len(acq_doc)}\")\n",
    "\n",
    "acq_doc = acq_doc.merge(biblio, on=\"biblionumber\", how=\"inner\")\n",
    "acq_doc = acq_doc.rename(columns=acq_colsname)\n",
    "acq_doc = acq_doc[acq_cols]\n",
    "acq_doc['Code lieu'] = 'LI2550'\n",
    "file_out = f\"../data/RBX_Barometre{year}_Acquisitions_Documentaires.csv.gz\"\n",
    "acq_doc.to_csv(file_out, header=True, index=False)\n",
    "print(f\"acq Doc : {len(acq_doc)}\")\n",
    "\n",
    "prets_doc = prets[prets['itemtype'].isin(['LI', 'LV', 'LS'])]\n",
    "prets_doc1 = prets_doc[prets_doc['ccode'].isin(['AAPATAP', 'AAPBDDC', 'AAPCGDA', 'AAPCGDD', 'AAPCIDC', 'AAPCIFI',\n",
    "                                          'AAPPRLD', 'AAPATLC', 'AAPPLCB', 'AAPPLFF', 'AAPPLGO', 'AAPPLHU',\n",
    "                                          'AAPPLMS', 'AAPPLPA', 'ACFPDZZ', 'ACFPMZZ', 'AAPPLPS', 'AAPPLSL',\n",
    "                                          'AAPCITV', 'ACFBPZZ', 'ACFLAFF', 'ACFHSZZ', 'ACFIFZZ', 'ACFLALE',\n",
    "                                          'ACFPHZZ', 'ACFPAZZ', 'ACFREZZ', 'ACFRUZZ', 'ACFSCZZ', 'ACFSSZZ',\n",
    "                                          'ACFUEZZ', 'ALTLSDC', 'AMVASCA', 'AMVASDC', 'AMV11ZZ', 'AMV80ZZ',\n",
    "                                          'AMV13ZZ', 'AMV30ZZ', 'AMV39ZZ', 'AMV50ZZ', 'AMV00ZZ', 'AMV25ZZ',\n",
    "                                          'AMV15ZZ', 'AMV16ZZ', 'AMV20ZZ', 'AMV14ZZ', 'AMV40ZZ', 'AMVTHCA',\n",
    "                                          'AMVTHDC', 'AMVTHTX', 'AMV29ZZ', 'AMV90ZZ', 'AZZMAZZ', 'JDTFDZZ'])]\n",
    "prets_doc2 = prets_doc[prets_doc['itemcallnumber'].str[0:7] == 'ROUBAIX']\n",
    "prets_doc3 = prets_doc[~prets_doc['itemcallnumber'].isna()]\n",
    "prets_doc3 = prets_doc3[prets_doc3['itemcallnumber'].str.contains('^FR/[0-9]', regex=True)]\n",
    "\n",
    "prets_doc = pd.concat([prets_doc1, prets_doc2, prets_doc3])\n",
    "prets_doc = prets_doc.drop_duplicates()\n",
    "print(f\"prets doc avant merge : {len(prets_doc)}\")\n",
    "\n",
    "prets_doc = prets_doc.merge(biblio, on=\"biblionumber\", how=\"inner\")\n",
    "prets_doc = prets_doc.rename(columns=prets_colsname)\n",
    "prets_doc = prets_doc[prets_cols]\n",
    "prets_doc['Code lieu'] = 'LI2550'\n",
    "file_out = f\"../data/RBX_Barometre{year}_Prets_Documentaires.csv.gz\"\n",
    "prets_doc.to_csv(file_out, header=True, index=False)\n",
    "print(f\"prets doc : {len(prets_doc)}\")"
   ]
  },
  {
   "cell_type": "markdown",
   "id": "54d4b0b3",
   "metadata": {},
   "source": [
    "# Fiction"
   ]
  },
  {
   "cell_type": "code",
   "execution_count": 15,
   "id": "89d11143",
   "metadata": {},
   "outputs": [
    {
     "name": "stdout",
     "output_type": "stream",
     "text": [
      "acq Fiction avant merge : 1641\n",
      "acq Fiction : 1641\n",
      "prets Fiction avant merge : 46163\n",
      "prets Fiction : 45810\n"
     ]
    }
   ],
   "source": [
    "acq_fiction = acq[acq['itemtype'].isin(['LI', 'LV', 'LS'])]\n",
    "acq_fiction1 = acq_fiction[acq_fiction['ccode'].isin(['AAPPRLP', 'ALTTCCN', 'ALTDCZZ', 'ALTIGFA', 'ALTLSZZ',\n",
    "                                                      'ALTLSCN', 'ALTLSRO', 'ALTLSPL', 'ALTTCNV', 'ALTPOZZ',\n",
    "                                                      'ALTROZZ', 'ALTROAD', 'ALTROAM', 'ALTROPL', 'ALTIGSF',\n",
    "                                                      'ALTLVZZ', 'ALTTLZZ'])]\n",
    "acq_fiction3 = acq_fiction[~acq_fiction['itemcallnumber'].isna()]\n",
    "acq_fiction3 = acq_fiction3[acq_fiction3['itemcallnumber'].str.contains('^FR/R', regex=True)]\n",
    "\n",
    "acq_fiction = pd.concat([acq_fiction1, acq_fiction3])\n",
    "acq_fiction = acq_fiction.drop_duplicates()\n",
    "print(f\"acq Fiction avant merge : {len(acq_fiction)}\")\n",
    "\n",
    "acq_fiction = acq_fiction.merge(biblio, on=\"biblionumber\", how=\"inner\")\n",
    "acq_fiction = acq_fiction.rename(columns=acq_colsname)\n",
    "acq_fiction = acq_fiction[acq_cols]\n",
    "acq_fiction['Code lieu'] = 'LI2550'\n",
    "file_out = f\"../data/RBX_Barometre{year}_Acquisitions_Fiction.csv.gz\"\n",
    "acq_fiction.to_csv(file_out, header=True, index=False)\n",
    "print(f\"acq Fiction : {len(acq_fiction)}\")\n",
    "\n",
    "prets_fiction = prets[prets['itemtype'].isin(['LI', 'LV', 'LS'])]\n",
    "prets_fiction1 = prets_fiction[prets_fiction['ccode'].isin(['AAPPRLP', 'ALTTCCN', 'ALTDCZZ', 'ALTIGFA', 'ALTLSZZ',\n",
    "                                                            'ALTLSCN', 'ALTLSRO', 'ALTLSPL', 'ALTTCNV', 'ALTPOZZ',\n",
    "                                                            'ALTROZZ', 'ALTROAD', 'ALTROAM', 'ALTROPL', 'ALTIGSF',\n",
    "                                                            'ALTLVZZ', 'ALTTLZZ'])]\n",
    "prets_fiction3 = prets_fiction[~prets_fiction['itemcallnumber'].isna()]\n",
    "prets_fiction3 = prets_fiction3[prets_fiction3['itemcallnumber'].str.contains('^FR/R', regex=True)]\n",
    "\n",
    "prets_fiction = pd.concat([prets_fiction1, prets_fiction3])\n",
    "prets_fiction = prets_fiction.drop_duplicates()\n",
    "print(f\"prets Fiction avant merge : {len(prets_fiction)}\")\n",
    "\n",
    "prets_fiction = prets_fiction.merge(biblio, on=\"biblionumber\", how=\"inner\")\n",
    "prets_fiction = prets_fiction.rename(columns=prets_colsname)\n",
    "prets_fiction = prets_fiction[prets_cols]\n",
    "prets_fiction['Code lieu'] = 'LI2550'\n",
    "file_out = f\"../data/RBX_Barometre{year}_Prets_Fiction.csv.gz\"\n",
    "prets_fiction.to_csv(file_out, header=True, index=False)\n",
    "print(f\"prets Fiction : {len(prets_fiction)}\")"
   ]
  },
  {
   "cell_type": "markdown",
   "id": "dc3e12e4",
   "metadata": {},
   "source": [
    "# Jeunesse"
   ]
  },
  {
   "cell_type": "code",
   "execution_count": 16,
   "id": "b4f4dd9f",
   "metadata": {},
   "outputs": [
    {
     "name": "stdout",
     "output_type": "stream",
     "text": [
      "acq Jeunesse avant merge : 3934\n",
      "acq Jeunesse : 3934\n",
      "prets Jeunesse avant merge : 118389\n",
      "prets Jeunesse : 117855\n"
     ]
    }
   ],
   "source": [
    "acq_jeunesse = acq[acq['itemtype'].isin(['LI', 'LV', 'LS'])]\n",
    "acq_jeunesse = acq_jeunesse[acq_jeunesse['ccode'].str[0] == 'J']\n",
    "acq_jeunesse = acq_jeunesse[~acq_jeunesse['ccode'].str.contains('^JBD', regex=True)]\n",
    "\n",
    "acq_jeunesse = acq_jeunesse.drop_duplicates()\n",
    "print(f\"acq Jeunesse avant merge : {len(acq_jeunesse)}\")\n",
    "\n",
    "acq_jeunesse = acq_jeunesse.merge(biblio, on=\"biblionumber\", how=\"inner\")\n",
    "acq_jeunesse = acq_jeunesse.rename(columns=acq_colsname)\n",
    "acq_jeunesse = acq_jeunesse[acq_cols]\n",
    "acq_jeunesse['Code lieu'] = 'LI2550'\n",
    "file_out = f\"../data/RBX_Barometre{year}_Acquisitions_Jeunesse.csv.gz\"\n",
    "acq_jeunesse.to_csv(file_out, header=True, index=False)\n",
    "print(f\"acq Jeunesse : {len(acq_jeunesse)}\")\n",
    "\n",
    "prets_jeunesse = prets[prets['itemtype'].isin(['LI', 'LV', 'LS'])]\n",
    "prets_jeunesse = prets_jeunesse[prets_jeunesse['ccode'].str[0] == 'J']\n",
    "prets_jeunesse = prets_jeunesse[~prets_jeunesse['ccode'].str.contains('^JBD', regex=True)]\n",
    "\n",
    "prets_jeunesse = prets_jeunesse.drop_duplicates()\n",
    "print(f\"prets Jeunesse avant merge : {len(prets_jeunesse)}\")\n",
    "\n",
    "prets_jeunesse = prets_jeunesse.merge(biblio, on=\"biblionumber\", how=\"inner\")\n",
    "prets_jeunesse = prets_jeunesse.rename(columns=prets_colsname)\n",
    "prets_jeunesse = prets_jeunesse[prets_cols]\n",
    "prets_jeunesse['Code lieu'] = 'LI2550'\n",
    "file_out = f\"../data/RBX_Barometre{year}_Prets_Jeunesse.csv.gz\"\n",
    "prets_jeunesse.to_csv(file_out, header=True, index=False)\n",
    "print(f\"prets Jeunesse : {len(prets_jeunesse)}\")"
   ]
  },
  {
   "cell_type": "code",
   "execution_count": null,
   "id": "56051c99",
   "metadata": {},
   "outputs": [],
   "source": []
  }
 ],
 "metadata": {
  "kernelspec": {
   "display_name": "Python 3 (ipykernel)",
   "language": "python",
   "name": "python3"
  },
  "language_info": {
   "codemirror_mode": {
    "name": "ipython",
    "version": 3
   },
   "file_extension": ".py",
   "mimetype": "text/x-python",
   "name": "python",
   "nbconvert_exporter": "python",
   "pygments_lexer": "ipython3",
   "version": "3.8.12"
  }
 },
 "nbformat": 4,
 "nbformat_minor": 5
}
