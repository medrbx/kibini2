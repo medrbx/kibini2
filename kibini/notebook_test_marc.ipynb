{
 "cells": [
  {
   "cell_type": "code",
   "execution_count": 1,
   "id": "7c65703b",
   "metadata": {},
   "outputs": [],
   "source": [
    "from pymarc import MARCReader\n",
    "import pandas as pd"
   ]
  },
  {
   "cell_type": "code",
   "execution_count": 2,
   "id": "4867d550",
   "metadata": {},
   "outputs": [],
   "source": [
    "marc_file = \"/home/kibini/kibini2/data_lucas/2024-09-22-notices_total.mrc\""
   ]
  },
  {
   "cell_type": "code",
   "execution_count": 4,
   "id": "58f608c2",
   "metadata": {},
   "outputs": [
    {
     "name": "stdout",
     "output_type": "stream",
     "text": [
      "=LDR  01647nam  2200421   4500\n",
      "=001  27\n",
      "=003  http://www.mediathequederoubaix.fr/ark:/20179/KH27\n",
      "=010  \\\\$a2-7000-1151-1$d38 F\n",
      "=020  \\\\$aFR$b08716235\n",
      "=033  \\\\$ahttp://catalogue.bnf.fr/ark:/12148/cb34905511q\n",
      "=035  \\\\$aFRBNF349055110000009\n",
      "=039  \\\\$oOPL$a005394691\n",
      "=090  \\\\$a27\n",
      "=091  \\\\$b20240920$c1$a2\n",
      "=099  \\\\$tLI$c2014-06-30$d2024-09-20$x1\n",
      "=100  \\\\$a19840420d1987    m  y0frey50      ba\n",
      "=101  0\\$afre\n",
      "=102  \\\\$aFR\n",
      "=105  \\\\$a||||z   00|||\n",
      "=106  \\\\$ar\n",
      "=181  \\0$601$ai $bxxxe  \n",
      "=181  \\\\$602$ctxt$2rdacontent\n",
      "=182  \\0$601$an\n",
      "=182  \\\\$602$cn$2rdamedia\n",
      "=200  1\\$aContes des chasseurs$bTexte imprimé$fInge Dreecken et Walter Schneider$gill. de Jiři Běhouncek\n",
      "=210  \\\\$aParis$cGründ$d1987\n",
      "=215  \\\\$a207 p.\n",
      "=225  \\\\$aLégendes et contes de tous les pays$x0244-4232\n",
      "=339  \\\\$am\n",
      "=410  \\0$034228031$tLégendes et contes de tous les pays$x0244-4232$d1987\n",
      "=608  \\\\$aContes, légendes et folklore$2CNLJ$kAvis critique donné par le Centre national de la littérature pour la jeunesse\n",
      "=686  \\\\$a82 $2Cadre de classement de la Bibliographie nationale française\n",
      "=700  \\\\$312638270$9315393$aSchneider$bWalter$4070\n",
      "=701  \\\\$312602832$9315394$aDreecken$bInge$4070\n",
      "=702  \\\\$312057191$9272930$oISNI0000000108666497$aBěhounek$bJiří$4440\n",
      "=801  \\0$aFR$bFR-751131015$c19840420$gAFNOR$hFRBNF349055110000009$2intermrc\n",
      "=999  \\\\$aFRBNF349055110000009\n",
      "=995  \\\\$00$20$40$52005-03-22$964$P5.79$bMED$cMED$eMED1A$fC0000589169$hALTTCCN$kC/ZTH$o0$p5.79$rPRETLIV$sCZTH$w4$y2018-03-24\n",
      "\n"
     ]
    }
   ],
   "source": [
    "records = []\n",
    "\n",
    "# affichage des notices en format texte\n",
    "with open(marc_file, 'rb') as fh:\n",
    "    reader = MARCReader(fh, to_unicode=True, force_utf8=True)\n",
    "    for record in reader:\n",
    "        records.append(record)\n",
    "record=records[16]\n",
    "print(record)"
   ]
  },
  {
   "cell_type": "code",
   "execution_count": 8,
   "id": "914820bf",
   "metadata": {},
   "outputs": [],
   "source": [
    "fields = record.fields"
   ]
  },
  {
   "cell_type": "code",
   "execution_count": 13,
   "id": "ae322b75",
   "metadata": {},
   "outputs": [
    {
     "name": "stdout",
     "output_type": "stream",
     "text": [
      "=001  27\n",
      "=003  http://www.mediathequederoubaix.fr/ark:/20179/KH27\n",
      "=010  \\\\$a2-7000-1151-1$d38 F\n",
      "=020  \\\\$aFR$b08716235\n",
      "=033  \\\\$ahttp://catalogue.bnf.fr/ark:/12148/cb34905511q\n",
      "=035  \\\\$aFRBNF349055110000009\n",
      "=039  \\\\$oOPL$a005394691\n",
      "=090  \\\\$a27\n",
      "=091  \\\\$b20240920$c1$a2\n",
      "=099  \\\\$tLI$c2014-06-30$d2024-09-20$x1\n",
      "=100  \\\\$a19840420d1987    m  y0frey50      ba\n",
      "=101  0\\$afre\n",
      "=102  \\\\$aFR\n",
      "=105  \\\\$a||||z   00|||\n",
      "=106  \\\\$ar\n",
      "=181  \\0$601$ai $bxxxe  \n",
      "=181  \\\\$602$ctxt$2rdacontent\n",
      "=182  \\0$601$an\n",
      "=182  \\\\$602$cn$2rdamedia\n",
      "=200  1\\$aContes des chasseurs$bTexte imprimé$fInge Dreecken et Walter Schneider$gill. de Jiři Běhouncek\n",
      "=210  \\\\$aParis$cGründ$d1987\n",
      "=215  \\\\$a207 p.\n",
      "=225  \\\\$aLégendes et contes de tous les pays$x0244-4232\n",
      "=339  \\\\$am\n",
      "=410  \\0$034228031$tLégendes et contes de tous les pays$x0244-4232$d1987\n",
      "=608  \\\\$aContes, légendes et folklore$2CNLJ$kAvis critique donné par le Centre national de la littérature pour la jeunesse\n",
      "=686  \\\\$a82 $2Cadre de classement de la Bibliographie nationale française\n",
      "=700  \\\\$312638270$9315393$aSchneider$bWalter$4070\n",
      "=701  \\\\$312602832$9315394$aDreecken$bInge$4070\n",
      "=702  \\\\$312057191$9272930$oISNI0000000108666497$aBěhounek$bJiří$4440\n",
      "=801  \\0$aFR$bFR-751131015$c19840420$gAFNOR$hFRBNF349055110000009$2intermrc\n",
      "=999  \\\\$aFRBNF349055110000009\n",
      "=995  \\\\$00$20$40$52005-03-22$964$P5.79$bMED$cMED$eMED1A$fC0000589169$hALTTCCN$kC/ZTH$o0$p5.79$rPRETLIV$sCZTH$w4$y2018-03-24\n"
     ]
    }
   ],
   "source": [
    "for field in fields:\n",
    "    print(field)"
   ]
  },
  {
   "cell_type": "code",
   "execution_count": 22,
   "id": "3690d125",
   "metadata": {},
   "outputs": [
    {
     "name": "stdout",
     "output_type": "stream",
     "text": [
      "code= $0;valeur=0\n",
      "code= $2;valeur=0\n",
      "code= $4;valeur=0\n",
      "code= $5;valeur=2005-03-22\n",
      "code= $9;valeur=64\n",
      "code= $P;valeur=5.79\n",
      "code= $b;valeur=MED\n",
      "code= $c;valeur=MED\n",
      "code= $e;valeur=MED1A\n",
      "code= $f;valeur=C0000589169\n",
      "code= $h;valeur=ALTTCCN\n",
      "code= $k;valeur=C/ZTH\n",
      "code= $o;valeur=0\n",
      "code= $p;valeur=5.79\n",
      "code= $r;valeur=PRETLIV\n",
      "code= $s;valeur=CZTH\n",
      "code= $w;valeur=4\n",
      "code= $y;valeur=2018-03-24\n"
     ]
    }
   ],
   "source": [
    "for subfield in field.subfields :\n",
    "    print(f\"code= ${subfield.code};valeur={subfield.value}\")"
   ]
  }
 ],
 "metadata": {
  "kernelspec": {
   "display_name": "Python 3 (ipykernel)",
   "language": "python",
   "name": "python3"
  },
  "language_info": {
   "codemirror_mode": {
    "name": "ipython",
    "version": 3
   },
   "file_extension": ".py",
   "mimetype": "text/x-python",
   "name": "python",
   "nbconvert_exporter": "python",
   "pygments_lexer": "ipython3",
   "version": "3.8.12"
  }
 },
 "nbformat": 4,
 "nbformat_minor": 5
}
