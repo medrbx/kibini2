{
 "cells": [
  {
   "cell_type": "code",
   "execution_count": 1,
   "id": "b63fc4ab",
   "metadata": {},
   "outputs": [],
   "source": [
    "import pandas as pd\n",
    "from datetime import datetime as dt, date\n",
    "import seaborn as sns"
   ]
  },
  {
   "cell_type": "code",
   "execution_count": 2,
   "id": "1bf17a3a",
   "metadata": {},
   "outputs": [],
   "source": [
    "from kiblib.utils.db import DbConn"
   ]
  },
  {
   "cell_type": "code",
   "execution_count": 3,
   "id": "c2953dc3",
   "metadata": {},
   "outputs": [],
   "source": [
    "db_conn = DbConn().create_engine()"
   ]
  },
  {
   "cell_type": "code",
   "execution_count": 4,
   "id": "d6c56d1b",
   "metadata": {},
   "outputs": [],
   "source": [
    "query = \"\"\"SELECT * \n",
    "FROM statdb.stat_entrees\n",
    "WHERE YEAR(`datetime`) >= 2022\n",
    "\n",
    "\"\"\""
   ]
  },
  {
   "cell_type": "code",
   "execution_count": 5,
   "id": "2c98f0ca",
   "metadata": {},
   "outputs": [],
   "source": [
    "entrees = pd.read_sql(query,db_conn)"
   ]
  },
  {
   "cell_type": "code",
   "execution_count": 6,
   "id": "5c2a4468",
   "metadata": {},
   "outputs": [
    {
     "data": {
      "text/html": [
       "<div>\n",
       "<style scoped>\n",
       "    .dataframe tbody tr th:only-of-type {\n",
       "        vertical-align: middle;\n",
       "    }\n",
       "\n",
       "    .dataframe tbody tr th {\n",
       "        vertical-align: top;\n",
       "    }\n",
       "\n",
       "    .dataframe thead th {\n",
       "        text-align: right;\n",
       "    }\n",
       "</style>\n",
       "<table border=\"1\" class=\"dataframe\">\n",
       "  <thead>\n",
       "    <tr style=\"text-align: right;\">\n",
       "      <th></th>\n",
       "      <th>datetime</th>\n",
       "      <th>entrees</th>\n",
       "    </tr>\n",
       "  </thead>\n",
       "  <tbody>\n",
       "    <tr>\n",
       "      <th>0</th>\n",
       "      <td>2022-01-04 09:00:00</td>\n",
       "      <td>38</td>\n",
       "    </tr>\n",
       "    <tr>\n",
       "      <th>1</th>\n",
       "      <td>2022-01-04 10:00:00</td>\n",
       "      <td>61</td>\n",
       "    </tr>\n",
       "    <tr>\n",
       "      <th>2</th>\n",
       "      <td>2022-01-04 11:00:00</td>\n",
       "      <td>58</td>\n",
       "    </tr>\n",
       "    <tr>\n",
       "      <th>3</th>\n",
       "      <td>2022-01-04 12:00:00</td>\n",
       "      <td>47</td>\n",
       "    </tr>\n",
       "    <tr>\n",
       "      <th>4</th>\n",
       "      <td>2022-01-04 13:00:00</td>\n",
       "      <td>36</td>\n",
       "    </tr>\n",
       "    <tr>\n",
       "      <th>...</th>\n",
       "      <td>...</td>\n",
       "      <td>...</td>\n",
       "    </tr>\n",
       "    <tr>\n",
       "      <th>4926</th>\n",
       "      <td>2023-10-15 13:00:00</td>\n",
       "      <td>1</td>\n",
       "    </tr>\n",
       "    <tr>\n",
       "      <th>4927</th>\n",
       "      <td>2023-10-15 14:00:00</td>\n",
       "      <td>235</td>\n",
       "    </tr>\n",
       "    <tr>\n",
       "      <th>4928</th>\n",
       "      <td>2023-10-15 15:00:00</td>\n",
       "      <td>143</td>\n",
       "    </tr>\n",
       "    <tr>\n",
       "      <th>4929</th>\n",
       "      <td>2023-10-15 16:00:00</td>\n",
       "      <td>121</td>\n",
       "    </tr>\n",
       "    <tr>\n",
       "      <th>4930</th>\n",
       "      <td>2023-10-15 17:00:00</td>\n",
       "      <td>62</td>\n",
       "    </tr>\n",
       "  </tbody>\n",
       "</table>\n",
       "<p>4931 rows × 2 columns</p>\n",
       "</div>"
      ],
      "text/plain": [
       "                datetime  entrees\n",
       "0    2022-01-04 09:00:00       38\n",
       "1    2022-01-04 10:00:00       61\n",
       "2    2022-01-04 11:00:00       58\n",
       "3    2022-01-04 12:00:00       47\n",
       "4    2022-01-04 13:00:00       36\n",
       "...                  ...      ...\n",
       "4926 2023-10-15 13:00:00        1\n",
       "4927 2023-10-15 14:00:00      235\n",
       "4928 2023-10-15 15:00:00      143\n",
       "4929 2023-10-15 16:00:00      121\n",
       "4930 2023-10-15 17:00:00       62\n",
       "\n",
       "[4931 rows x 2 columns]"
      ]
     },
     "execution_count": 6,
     "metadata": {},
     "output_type": "execute_result"
    }
   ],
   "source": [
    "entrees"
   ]
  },
  {
   "cell_type": "code",
   "execution_count": 7,
   "id": "7ede29b4",
   "metadata": {},
   "outputs": [
    {
     "name": "stderr",
     "output_type": "stream",
     "text": [
      "/tmp/ipykernel_32237/1795214600.py:2: FutureWarning: weekofyear and week have been deprecated, please use DatetimeIndex.isocalendar().week instead, which returns a Series. To exactly reproduce the behavior of week and weekofyear and return an Index, you may call pd.Int64Index(idx.isocalendar().week)\n",
      "  entrees['semaine'] = pd.DatetimeIndex(entrees['datetime']).week\n"
     ]
    }
   ],
   "source": [
    "entrees['date'] = pd.DatetimeIndex(entrees['datetime']).date\n",
    "entrees['semaine'] = pd.DatetimeIndex(entrees['datetime']).week\n",
    "entrees['jour'] = pd.DatetimeIndex(entrees['datetime']).day_name(locale='fr_FR.utf8')\n",
    "entrees['annee'] = pd.DatetimeIndex(entrees['datetime']).year"
   ]
  },
  {
   "cell_type": "code",
   "execution_count": 8,
   "id": "b894595c",
   "metadata": {},
   "outputs": [
    {
     "data": {
      "text/html": [
       "<div>\n",
       "<style scoped>\n",
       "    .dataframe tbody tr th:only-of-type {\n",
       "        vertical-align: middle;\n",
       "    }\n",
       "\n",
       "    .dataframe tbody tr th {\n",
       "        vertical-align: top;\n",
       "    }\n",
       "\n",
       "    .dataframe thead th {\n",
       "        text-align: right;\n",
       "    }\n",
       "</style>\n",
       "<table border=\"1\" class=\"dataframe\">\n",
       "  <thead>\n",
       "    <tr style=\"text-align: right;\">\n",
       "      <th></th>\n",
       "      <th>datetime</th>\n",
       "      <th>entrees</th>\n",
       "      <th>date</th>\n",
       "      <th>semaine</th>\n",
       "      <th>jour</th>\n",
       "      <th>annee</th>\n",
       "    </tr>\n",
       "  </thead>\n",
       "  <tbody>\n",
       "    <tr>\n",
       "      <th>0</th>\n",
       "      <td>2022-01-04 09:00:00</td>\n",
       "      <td>38</td>\n",
       "      <td>2022-01-04</td>\n",
       "      <td>1</td>\n",
       "      <td>Mardi</td>\n",
       "      <td>2022</td>\n",
       "    </tr>\n",
       "    <tr>\n",
       "      <th>1</th>\n",
       "      <td>2022-01-04 10:00:00</td>\n",
       "      <td>61</td>\n",
       "      <td>2022-01-04</td>\n",
       "      <td>1</td>\n",
       "      <td>Mardi</td>\n",
       "      <td>2022</td>\n",
       "    </tr>\n",
       "    <tr>\n",
       "      <th>2</th>\n",
       "      <td>2022-01-04 11:00:00</td>\n",
       "      <td>58</td>\n",
       "      <td>2022-01-04</td>\n",
       "      <td>1</td>\n",
       "      <td>Mardi</td>\n",
       "      <td>2022</td>\n",
       "    </tr>\n",
       "    <tr>\n",
       "      <th>3</th>\n",
       "      <td>2022-01-04 12:00:00</td>\n",
       "      <td>47</td>\n",
       "      <td>2022-01-04</td>\n",
       "      <td>1</td>\n",
       "      <td>Mardi</td>\n",
       "      <td>2022</td>\n",
       "    </tr>\n",
       "    <tr>\n",
       "      <th>4</th>\n",
       "      <td>2022-01-04 13:00:00</td>\n",
       "      <td>36</td>\n",
       "      <td>2022-01-04</td>\n",
       "      <td>1</td>\n",
       "      <td>Mardi</td>\n",
       "      <td>2022</td>\n",
       "    </tr>\n",
       "    <tr>\n",
       "      <th>...</th>\n",
       "      <td>...</td>\n",
       "      <td>...</td>\n",
       "      <td>...</td>\n",
       "      <td>...</td>\n",
       "      <td>...</td>\n",
       "      <td>...</td>\n",
       "    </tr>\n",
       "    <tr>\n",
       "      <th>4926</th>\n",
       "      <td>2023-10-15 13:00:00</td>\n",
       "      <td>1</td>\n",
       "      <td>2023-10-15</td>\n",
       "      <td>41</td>\n",
       "      <td>Dimanche</td>\n",
       "      <td>2023</td>\n",
       "    </tr>\n",
       "    <tr>\n",
       "      <th>4927</th>\n",
       "      <td>2023-10-15 14:00:00</td>\n",
       "      <td>235</td>\n",
       "      <td>2023-10-15</td>\n",
       "      <td>41</td>\n",
       "      <td>Dimanche</td>\n",
       "      <td>2023</td>\n",
       "    </tr>\n",
       "    <tr>\n",
       "      <th>4928</th>\n",
       "      <td>2023-10-15 15:00:00</td>\n",
       "      <td>143</td>\n",
       "      <td>2023-10-15</td>\n",
       "      <td>41</td>\n",
       "      <td>Dimanche</td>\n",
       "      <td>2023</td>\n",
       "    </tr>\n",
       "    <tr>\n",
       "      <th>4929</th>\n",
       "      <td>2023-10-15 16:00:00</td>\n",
       "      <td>121</td>\n",
       "      <td>2023-10-15</td>\n",
       "      <td>41</td>\n",
       "      <td>Dimanche</td>\n",
       "      <td>2023</td>\n",
       "    </tr>\n",
       "    <tr>\n",
       "      <th>4930</th>\n",
       "      <td>2023-10-15 17:00:00</td>\n",
       "      <td>62</td>\n",
       "      <td>2023-10-15</td>\n",
       "      <td>41</td>\n",
       "      <td>Dimanche</td>\n",
       "      <td>2023</td>\n",
       "    </tr>\n",
       "  </tbody>\n",
       "</table>\n",
       "<p>4931 rows × 6 columns</p>\n",
       "</div>"
      ],
      "text/plain": [
       "                datetime  entrees        date  semaine      jour  annee\n",
       "0    2022-01-04 09:00:00       38  2022-01-04        1     Mardi   2022\n",
       "1    2022-01-04 10:00:00       61  2022-01-04        1     Mardi   2022\n",
       "2    2022-01-04 11:00:00       58  2022-01-04        1     Mardi   2022\n",
       "3    2022-01-04 12:00:00       47  2022-01-04        1     Mardi   2022\n",
       "4    2022-01-04 13:00:00       36  2022-01-04        1     Mardi   2022\n",
       "...                  ...      ...         ...      ...       ...    ...\n",
       "4926 2023-10-15 13:00:00        1  2023-10-15       41  Dimanche   2023\n",
       "4927 2023-10-15 14:00:00      235  2023-10-15       41  Dimanche   2023\n",
       "4928 2023-10-15 15:00:00      143  2023-10-15       41  Dimanche   2023\n",
       "4929 2023-10-15 16:00:00      121  2023-10-15       41  Dimanche   2023\n",
       "4930 2023-10-15 17:00:00       62  2023-10-15       41  Dimanche   2023\n",
       "\n",
       "[4931 rows x 6 columns]"
      ]
     },
     "execution_count": 8,
     "metadata": {},
     "output_type": "execute_result"
    }
   ],
   "source": [
    "entrees"
   ]
  },
  {
   "cell_type": "code",
   "execution_count": 9,
   "id": "d0b39f26",
   "metadata": {},
   "outputs": [],
   "source": [
    "entrees_dimanche = entrees[entrees['jour']=='Dimanche']"
   ]
  },
  {
   "cell_type": "code",
   "execution_count": 10,
   "id": "5d4aec12",
   "metadata": {},
   "outputs": [],
   "source": [
    "total_entrees_dimanche = entrees_dimanche.groupby(['annee','date','semaine'])['entrees'].sum().reset_index()"
   ]
  },
  {
   "cell_type": "code",
   "execution_count": 11,
   "id": "aab35ad6",
   "metadata": {},
   "outputs": [],
   "source": [
    "semaine_max = date.today().isocalendar()[1] - 1\n",
    "semaine_min = semaine_max - 4"
   ]
  },
  {
   "cell_type": "code",
   "execution_count": null,
   "id": "3940ee97",
   "metadata": {},
   "outputs": [],
   "source": []
  },
  {
   "cell_type": "code",
   "execution_count": 12,
   "id": "a8692ee6",
   "metadata": {},
   "outputs": [],
   "source": [
    "total_entrees_dimanche = total_entrees_dimanche[total_entrees_dimanche['semaine'].between(semaine_min,semaine_max)]"
   ]
  },
  {
   "cell_type": "code",
   "execution_count": 13,
   "id": "fa5fbd3a",
   "metadata": {},
   "outputs": [],
   "source": [
    "from kiblib.utils import lucas_sns_params"
   ]
  },
  {
   "cell_type": "code",
   "execution_count": 15,
   "id": "cdbfa1d1",
   "metadata": {
    "scrolled": true
   },
   "outputs": [
    {
     "data": {
      "image/png": "[encoded data removed]",
      "text/plain": [
       "<Figure size 1080x432 with 1 Axes>"
      ]
     },
     "metadata": {
      "needs_background": "light"
     },
     "output_type": "display_data"
    }
   ],
   "source": [
    "ax = sns.barplot(data=total_entrees_dimanche,x='semaine',y='entrees',hue='annee')\n",
    "ax.set_title(\"Comparatif des entrées les 4 derniers dimanches 2022-2023\")\n",
    "\n",
    "for i in ax.containers:\n",
    "    ax.bar_label(i,)"
   ]
  },
  {
   "cell_type": "code",
   "execution_count": null,
   "id": "fdd86659",
   "metadata": {},
   "outputs": [],
   "source": []
  }
 ],
 "metadata": {
  "kernelspec": {
   "display_name": "Python 3 (ipykernel)",
   "language": "python",
   "name": "python3"
  },
  "language_info": {
   "codemirror_mode": {
    "name": "ipython",
    "version": 3
   },
   "file_extension": ".py",
   "mimetype": "text/x-python",
   "name": "python",
   "nbconvert_exporter": "python",
   "pygments_lexer": "ipython3",
   "version": "3.8.12"
  }
 },
 "nbformat": 4,
 "nbformat_minor": 5
}
