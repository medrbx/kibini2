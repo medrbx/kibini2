{
 "cells": [
  {
   "cell_type": "markdown",
   "id": "ba5e939f",
   "metadata": {},
   "source": [
    "# INTRODUCTION\n",
    "Le but de ce notebook est de relever les anomalies présentes sur les notices d'exemplaire afin de pouvoir exporter des listes à destination des aquéreurs. Le script se compose des parties suivantes :\n",
    "1. Import de la table `items`\n",
    "2.Traduction des colonnes pour les rendre lisibles pour les collègues qui auront le tableau sous les yeux \n",
    "3. Import des tables de valeurs autorisées\n",
    "4. Une suite de requêtes sur concernant les différentes colonnes de notre dataframe nommé `items`\n",
    "\n",
    "# IMPORT DE LA TABLE `items`"
   ]
  },
  {
   "cell_type": "code",
   "execution_count": 105,
   "id": "8ccbcb5a",
   "metadata": {},
   "outputs": [],
   "source": [
    "import pandas as pd\n",
    "from datetime import datetime as dt\n",
    "from datetime import date\n",
    "\n",
    "from kiblib.utils.db import DbConn"
   ]
  },
  {
   "cell_type": "code",
   "execution_count": 106,
   "id": "03c06d19",
   "metadata": {},
   "outputs": [],
   "source": [
    "db_conn = DbConn().create_engine()"
   ]
  },
  {
   "cell_type": "code",
   "execution_count": 107,
   "id": "db67d42c",
   "metadata": {},
   "outputs": [],
   "source": [
    "query = \"\"\"SELECT i.itemnumber, i.biblionumber, i.biblioitemnumber, i.barcode, i.dateaccessioned, i.booksellerid, i.homebranch, i.price, i.replacementprice, i.replacementpricedate, i.datelastborrowed, i.datelastseen, i.stack, i.notforloan, i.damaged, i.damaged_on, i.itemlost, i.itemlost_on, i.withdrawn, i.withdrawn_on, i.itemcallnumber, i.coded_location_qualifier, i.issues, i.renewals, i.reserves, i.restricted, i.itemnotes, i.itemnotes_nonpublic, i.holdingbranch,i.timestamp, i.location, i.permanent_location, i.onloan, i.cn_source, i.cn_sort, i.ccode, i.materials, i.uri, i.itype, i.more_subfields_xml, i.enumchron, i.copynumber, i.stocknumber, i.new_status, i.exclude_from_local_holds_priority, bi.itemtype, b.title, b.author\n",
    "FROM koha_prod.items i\n",
    "JOIN koha_prod.biblioitems bi ON bi.biblionumber = i.biblionumber\n",
    "JOIN koha_prod.biblio b ON b.biblionumber = i.biblionumber\"\"\"\n",
    "\n",
    "items = pd.read_sql(query,db_conn)"
   ]
  },
  {
   "cell_type": "markdown",
   "id": "4a501b3e",
   "metadata": {},
   "source": [
    "# MODIFICATION DU DATAFRAME & AMÉLIORATION DE LA LISIBILITÉ"
   ]
  },
  {
   "cell_type": "code",
   "execution_count": 108,
   "id": "d5a4454e",
   "metadata": {},
   "outputs": [
    {
     "data": {
      "text/plain": [
       "Index(['itemnumber', 'biblionumber', 'biblioitemnumber', 'barcode',\n",
       "       'dateaccessioned', 'booksellerid', 'homebranch', 'price',\n",
       "       'replacementprice', 'replacementpricedate', 'datelastborrowed',\n",
       "       'datelastseen', 'stack', 'notforloan', 'damaged', 'damaged_on',\n",
       "       'itemlost', 'itemlost_on', 'withdrawn', 'withdrawn_on',\n",
       "       'itemcallnumber', 'coded_location_qualifier', 'issues', 'renewals',\n",
       "       'reserves', 'restricted', 'itemnotes', 'itemnotes_nonpublic',\n",
       "       'holdingbranch', 'timestamp', 'location', 'permanent_location',\n",
       "       'onloan', 'cn_source', 'cn_sort', 'ccode', 'materials', 'uri', 'itype',\n",
       "       'more_subfields_xml', 'enumchron', 'copynumber', 'stocknumber',\n",
       "       'new_status', 'exclude_from_local_holds_priority', 'itemtype', 'title',\n",
       "       'author'],\n",
       "      dtype='object')"
      ]
     },
     "execution_count": 108,
     "metadata": {},
     "output_type": "execute_result"
    }
   ],
   "source": [
    "items.columns # avant la traduction"
   ]
  },
  {
   "cell_type": "code",
   "execution_count": 109,
   "id": "bb177c86",
   "metadata": {},
   "outputs": [],
   "source": [
    "items = items.rename(columns={\"barcode\":\"code-barre\",\n",
    "                              \"dateaccessioned\":\"date d'acquisition\",\n",
    "                              \"homebranch\":\"site propriétaire\",\n",
    "                              \"holdingbranch\":\"site dépositaire\",\n",
    "                              \"price\":\"prix\",\n",
    "                              \"replacementprice\":\"coût de remplacement\",\n",
    "                              \"datelastborrowed\":\"date dernier emprunt\",\n",
    "                              \"datelastseen\":\"vu la dernière fois\",\n",
    "                              \"damaged_on\":\"abimé le\",\n",
    "                              \"itemlost_on\":\"perdu le\",\n",
    "                              \"withdrawn_on\":\"désherbé le\",\n",
    "                              \"itemcallnumber\":\"cote\",\n",
    "                              \"issues\":\"nombre de prêts\",\n",
    "                              \"timestamp\":\"date dernier changement\",\n",
    "                              \"permanent_location\":\"localisation permanente\",\n",
    "                              \"onloan\":\"retour prévu le\",\n",
    "                              \"itemnotes\":\"notes publiques\",\n",
    "                              \"itemnotes_nonpublic\":\"notes internes\",\n",
    "                              \"author\":\"auteur\",\n",
    "                              \"title\":\"titre\"})"
   ]
  },
  {
   "cell_type": "code",
   "execution_count": 110,
   "id": "849dadef",
   "metadata": {},
   "outputs": [
    {
     "data": {
      "text/plain": [
       "Index(['itemnumber', 'biblionumber', 'biblioitemnumber', 'code-barre',\n",
       "       'date d'acquisition', 'booksellerid', 'site propriétaire', 'prix',\n",
       "       'coût de remplacement', 'replacementpricedate', 'date dernier emprunt',\n",
       "       'vu la dernière fois', 'stack', 'notforloan', 'damaged', 'abimé le',\n",
       "       'itemlost', 'perdu le', 'withdrawn', 'désherbé le', 'cote',\n",
       "       'coded_location_qualifier', 'nombre de prêts', 'renewals', 'reserves',\n",
       "       'restricted', 'notes publiques', 'notes internes', 'site dépositaire',\n",
       "       'date dernier changement', 'location', 'localisation permanente',\n",
       "       'retour prévu le', 'cn_source', 'cn_sort', 'ccode', 'materials', 'uri',\n",
       "       'itype', 'more_subfields_xml', 'enumchron', 'copynumber', 'stocknumber',\n",
       "       'new_status', 'exclude_from_local_holds_priority', 'itemtype', 'titre',\n",
       "       'auteur'],\n",
       "      dtype='object')"
      ]
     },
     "execution_count": 110,
     "metadata": {},
     "output_type": "execute_result"
    }
   ],
   "source": [
    "items.columns #après la traduction"
   ]
  },
  {
   "cell_type": "markdown",
   "id": "9fc8984c",
   "metadata": {},
   "source": [
    "# Utiliser la jointure de tables pour remplacer les valeurs autorisées\n",
    "\n",
    "## Notforloan"
   ]
  },
  {
   "cell_type": "code",
   "execution_count": 111,
   "id": "7e52d302",
   "metadata": {},
   "outputs": [],
   "source": [
    "query2 = \"\"\"SELECT av.authorised_value,av.lib \n",
    "FROM koha_prod.authorised_values av\n",
    "WHERE category = 'etat'\"\"\""
   ]
  },
  {
   "cell_type": "code",
   "execution_count": 112,
   "id": "ee41e300",
   "metadata": {},
   "outputs": [],
   "source": [
    "va_notforloan = pd.read_sql(query2, db_conn)"
   ]
  },
  {
   "cell_type": "code",
   "execution_count": 113,
   "id": "0b07ab4c",
   "metadata": {},
   "outputs": [],
   "source": [
    "va_notforloan['authorised_value'] = va_notforloan['authorised_value'].astype(int)"
   ]
  },
  {
   "cell_type": "code",
   "execution_count": 114,
   "id": "428a27a7",
   "metadata": {},
   "outputs": [],
   "source": [
    "items = items.merge(va_notforloan,left_on=\"notforloan\",right_on=\"authorised_value\",how=\"left\")"
   ]
  },
  {
   "cell_type": "code",
   "execution_count": 115,
   "id": "8fc68b14",
   "metadata": {},
   "outputs": [],
   "source": [
    "items = items.rename(columns={\"authorised_value\": \"valeurs autorisées\", \"lib\": \"statut\"})"
   ]
  },
  {
   "cell_type": "code",
   "execution_count": 116,
   "id": "7380bc55",
   "metadata": {},
   "outputs": [],
   "source": [
    "items = items.drop(columns=['valeurs autorisées'])"
   ]
  },
  {
   "cell_type": "markdown",
   "id": "76891270",
   "metadata": {},
   "source": [
    "## Damaged"
   ]
  },
  {
   "cell_type": "code",
   "execution_count": 117,
   "id": "db845c52",
   "metadata": {},
   "outputs": [],
   "source": [
    "query3 = \"\"\"SELECT av.authorised_value,av.lib \n",
    "FROM koha_prod.authorised_values av\n",
    "WHERE category = 'damaged'\"\"\""
   ]
  },
  {
   "cell_type": "code",
   "execution_count": 118,
   "id": "a5572c7d",
   "metadata": {},
   "outputs": [],
   "source": [
    "va_damaged = pd.read_sql(query3, db_conn)"
   ]
  },
  {
   "cell_type": "code",
   "execution_count": 119,
   "id": "ebf33c07",
   "metadata": {},
   "outputs": [],
   "source": [
    "va_damaged['authorised_value'] = va_damaged['authorised_value'].astype(int)"
   ]
  },
  {
   "cell_type": "code",
   "execution_count": 120,
   "id": "e87e4a86",
   "metadata": {},
   "outputs": [],
   "source": [
    "items = items.merge(va_damaged,left_on=\"damaged\",right_on=\"authorised_value\",how=\"left\")"
   ]
  },
  {
   "cell_type": "code",
   "execution_count": 121,
   "id": "6ece7ad4",
   "metadata": {},
   "outputs": [],
   "source": [
    "items = items.rename(columns={\"lib\": \"abimé\"})"
   ]
  },
  {
   "cell_type": "code",
   "execution_count": 122,
   "id": "73b1b519",
   "metadata": {},
   "outputs": [],
   "source": [
    "items = items.drop(columns=[\"authorised_value\"])"
   ]
  },
  {
   "cell_type": "markdown",
   "id": "f9648eed",
   "metadata": {},
   "source": [
    "## itemlost"
   ]
  },
  {
   "cell_type": "code",
   "execution_count": 123,
   "id": "f68091e9",
   "metadata": {},
   "outputs": [],
   "source": [
    "query4 = \"\"\"SELECT av.authorised_value,av.lib \n",
    "FROM koha_prod.authorised_values av\n",
    "WHERE category = 'lost'\"\"\""
   ]
  },
  {
   "cell_type": "code",
   "execution_count": 124,
   "id": "818a102a",
   "metadata": {},
   "outputs": [],
   "source": [
    "va_itemlost = pd.read_sql(query4, db_conn)"
   ]
  },
  {
   "cell_type": "code",
   "execution_count": 125,
   "id": "55fdf2e2",
   "metadata": {},
   "outputs": [],
   "source": [
    "va_itemlost['authorised_value'] = va_itemlost['authorised_value'].astype(int)"
   ]
  },
  {
   "cell_type": "code",
   "execution_count": 126,
   "id": "fb53c513",
   "metadata": {},
   "outputs": [],
   "source": [
    "items = items.merge(va_itemlost,left_on=\"itemlost\",right_on=\"authorised_value\",how=\"left\")"
   ]
  },
  {
   "cell_type": "code",
   "execution_count": 127,
   "id": "94c0d09e",
   "metadata": {},
   "outputs": [],
   "source": [
    "items = items.rename(columns={\"lib\": \"perdu\"})"
   ]
  },
  {
   "cell_type": "code",
   "execution_count": 128,
   "id": "626fa6dd",
   "metadata": {},
   "outputs": [],
   "source": [
    "items = items.drop(columns=[\"authorised_value\"])"
   ]
  },
  {
   "cell_type": "markdown",
   "id": "b01bb421",
   "metadata": {},
   "source": [
    "## Withdrawn"
   ]
  },
  {
   "cell_type": "code",
   "execution_count": 129,
   "id": "e039d991",
   "metadata": {},
   "outputs": [],
   "source": [
    "query5 = \"\"\"SELECT av.authorised_value,av.lib \n",
    "FROM koha_prod.authorised_values av\n",
    "WHERE category = 'retirecoll'\"\"\""
   ]
  },
  {
   "cell_type": "code",
   "execution_count": 130,
   "id": "58ea4529",
   "metadata": {},
   "outputs": [],
   "source": [
    "va_withdrawn = pd.read_sql(query5, db_conn)"
   ]
  },
  {
   "cell_type": "code",
   "execution_count": 131,
   "id": "89809095",
   "metadata": {},
   "outputs": [],
   "source": [
    "va_withdrawn['authorised_value'] = va_withdrawn['authorised_value'].astype(int)"
   ]
  },
  {
   "cell_type": "code",
   "execution_count": 132,
   "id": "dfc2f6d1",
   "metadata": {},
   "outputs": [],
   "source": [
    "items = items.merge(va_withdrawn,left_on=\"withdrawn\",right_on=\"authorised_value\",how=\"left\")"
   ]
  },
  {
   "cell_type": "code",
   "execution_count": 133,
   "id": "5cdc90ea",
   "metadata": {},
   "outputs": [],
   "source": [
    "items = items.rename(columns={\"lib\": \"désherbé\"})"
   ]
  },
  {
   "cell_type": "code",
   "execution_count": 134,
   "id": "3ce54640",
   "metadata": {},
   "outputs": [],
   "source": [
    "items = items.drop(columns=[\"authorised_value\"])"
   ]
  },
  {
   "cell_type": "markdown",
   "id": "052cae71",
   "metadata": {},
   "source": [
    "## Ccode"
   ]
  },
  {
   "cell_type": "code",
   "execution_count": 135,
   "id": "748fedff",
   "metadata": {},
   "outputs": [],
   "source": [
    "query6 = \"\"\"SELECT av.authorised_value,av.lib \n",
    "FROM koha_prod.authorised_values av\n",
    "WHERE category = 'collection'\"\"\""
   ]
  },
  {
   "cell_type": "code",
   "execution_count": 136,
   "id": "c4c925e8",
   "metadata": {},
   "outputs": [],
   "source": [
    "va_collection = pd.read_sql(query6, db_conn)"
   ]
  },
  {
   "cell_type": "code",
   "execution_count": 137,
   "id": "3388ea97",
   "metadata": {},
   "outputs": [],
   "source": [
    "items = items.merge(va_collection,left_on=\"ccode\",right_on=\"authorised_value\",how=\"left\")"
   ]
  },
  {
   "cell_type": "code",
   "execution_count": 138,
   "id": "444d6cb8",
   "metadata": {},
   "outputs": [],
   "source": [
    "items = items.rename(columns={\"lib\": \"collection\"})"
   ]
  },
  {
   "cell_type": "code",
   "execution_count": 139,
   "id": "d8183752",
   "metadata": {},
   "outputs": [],
   "source": [
    "items = items.drop(columns=[\"authorised_value\"])"
   ]
  },
  {
   "cell_type": "markdown",
   "id": "f247e326",
   "metadata": {},
   "source": [
    "## location"
   ]
  },
  {
   "cell_type": "code",
   "execution_count": 140,
   "id": "9498e40a",
   "metadata": {},
   "outputs": [],
   "source": [
    "query7 = \"\"\"SELECT av.authorised_value,av.lib \n",
    "FROM koha_prod.authorised_values av\n",
    "WHERE category = 'loc'\"\"\""
   ]
  },
  {
   "cell_type": "code",
   "execution_count": 141,
   "id": "a507708a",
   "metadata": {},
   "outputs": [],
   "source": [
    "va_location = pd.read_sql(query7, db_conn)"
   ]
  },
  {
   "cell_type": "code",
   "execution_count": 142,
   "id": "7360ba16",
   "metadata": {},
   "outputs": [],
   "source": [
    "items = items.merge(va_location,left_on=\"location\",right_on=\"authorised_value\",how=\"left\")"
   ]
  },
  {
   "cell_type": "code",
   "execution_count": 143,
   "id": "e6111fe8",
   "metadata": {},
   "outputs": [],
   "source": [
    "items = items.rename(columns={\"lib\": \"localisation\"})"
   ]
  },
  {
   "cell_type": "code",
   "execution_count": 144,
   "id": "b29b4914",
   "metadata": {},
   "outputs": [],
   "source": [
    "items = items.drop(columns=[\"authorised_value\"])"
   ]
  },
  {
   "cell_type": "markdown",
   "id": "9b8d62b2",
   "metadata": {},
   "source": [
    "## itemtype"
   ]
  },
  {
   "cell_type": "code",
   "execution_count": 145,
   "id": "434fe8f9",
   "metadata": {},
   "outputs": [],
   "source": [
    "query8 = \"\"\"SELECT av.authorised_value,av.lib \n",
    "FROM koha_prod.authorised_values av\n",
    "WHERE category = 'typedoc'\"\"\""
   ]
  },
  {
   "cell_type": "code",
   "execution_count": 146,
   "id": "a4fb8ea5",
   "metadata": {},
   "outputs": [],
   "source": [
    "va_itemtype = pd.read_sql(query8, db_conn)"
   ]
  },
  {
   "cell_type": "code",
   "execution_count": 147,
   "id": "7ea8d226",
   "metadata": {},
   "outputs": [],
   "source": [
    "items = items.merge(va_itemtype,left_on=\"itemtype\",right_on=\"authorised_value\",how=\"left\")"
   ]
  },
  {
   "cell_type": "code",
   "execution_count": 148,
   "id": "3cd1f9f0",
   "metadata": {},
   "outputs": [],
   "source": [
    "items = items.rename(columns={\"lib\": \"type de support\"})"
   ]
  },
  {
   "cell_type": "code",
   "execution_count": 149,
   "id": "d1a0ca76",
   "metadata": {},
   "outputs": [],
   "source": [
    "items = items.drop(columns=[\"authorised_value\"])"
   ]
  },
  {
   "cell_type": "markdown",
   "id": "f72280e3",
   "metadata": {},
   "source": [
    "items.columns\n",
    "\n",
    "* [x] notforloan / statut \n",
    "* [x] damaged / abimé\n",
    "* [x] itemlost / perdu\n",
    "* [x] withdrawn / retiré de la circulation\n",
    "* [x] ccode / code collection\n",
    "* [x] location / localisation"
   ]
  },
  {
   "cell_type": "code",
   "execution_count": 150,
   "id": "1fc35e10",
   "metadata": {},
   "outputs": [
    {
     "data": {
      "text/plain": [
       "Index(['itemnumber', 'biblionumber', 'biblioitemnumber', 'code-barre',\n",
       "       'date d'acquisition', 'booksellerid', 'site propriétaire', 'prix',\n",
       "       'coût de remplacement', 'replacementpricedate', 'date dernier emprunt',\n",
       "       'vu la dernière fois', 'stack', 'notforloan', 'damaged', 'abimé le',\n",
       "       'itemlost', 'perdu le', 'withdrawn', 'désherbé le', 'cote',\n",
       "       'coded_location_qualifier', 'nombre de prêts', 'renewals', 'reserves',\n",
       "       'restricted', 'notes publiques', 'notes internes', 'site dépositaire',\n",
       "       'date dernier changement', 'location', 'localisation permanente',\n",
       "       'retour prévu le', 'cn_source', 'cn_sort', 'ccode', 'materials', 'uri',\n",
       "       'itype', 'more_subfields_xml', 'enumchron', 'copynumber', 'stocknumber',\n",
       "       'new_status', 'exclude_from_local_holds_priority', 'itemtype', 'titre',\n",
       "       'auteur', 'statut', 'abimé', 'perdu', 'désherbé', 'collection',\n",
       "       'localisation', 'type de support'],\n",
       "      dtype='object')"
      ]
     },
     "execution_count": 150,
     "metadata": {},
     "output_type": "execute_result"
    }
   ],
   "source": [
    "items.columns"
   ]
  },
  {
   "cell_type": "markdown",
   "id": "3f47297a",
   "metadata": {},
   "source": [
    "\n",
    "# DÉFINITION DE QUELQUES VARIABLES IMPORTANTES\n",
    "\n",
    "## Les colonnes à exporter"
   ]
  },
  {
   "cell_type": "code",
   "execution_count": 151,
   "id": "8eb1582d",
   "metadata": {},
   "outputs": [],
   "source": [
    "colonnes_to_export = [\"collection\",\n",
    "                      \"code-barre\",\n",
    "                      \"titre\",\n",
    "                      \"site propriétaire\",\n",
    "                      \"localisation\",\n",
    "                      \"statut\",\n",
    "                      \"date dernier emprunt\",\n",
    "                      \"notes publiques\",\n",
    "                     ]"
   ]
  },
  {
   "cell_type": "code",
   "execution_count": 152,
   "id": "c19dadc9",
   "metadata": {},
   "outputs": [],
   "source": [
    "colonnes_a_exporter = [\"code-barre\",\n",
    "                       \"titre\",\n",
    "                       \"auteur\",\n",
    "                       \"cote\",\n",
    "                       \"date d'acquisition\",\n",
    "                       \"site propriétaire\",\n",
    "                       \"site dépositaire\",\n",
    "                       \"prix\",\n",
    "                       \"coût de remplacement\",\n",
    "                       \"date dernier emprunt\",\n",
    "                       \"vu la dernière fois\",\n",
    "                       \"statut\",\n",
    "                       \"abimé\",\n",
    "                       \"abimé le\",\n",
    "                       \"perdu\",\n",
    "                       \"perdu le\",\n",
    "                       \"désherbé\",\n",
    "                       \"type de support\",\n",
    "                       \"collection\",\n",
    "                       \"nombre de prêts\",\n",
    "                       \"date dernier changement\",\n",
    "                       \"localisation\",\n",
    "                       \"localisation permanente\",\n",
    "                       \"notes publiques\",\n",
    "                       \"notes internes\"\n",
    "                      ]"
   ]
  },
  {
   "cell_type": "markdown",
   "id": "eb3c47c6",
   "metadata": {},
   "source": [
    "colonnes_a_exporter2 = [\"auteur\",\n",
    "                        \"titre\",\n",
    "                       \"code-barre\",\n",
    "                       \"date d'acquisition\",\n",
    "                       \"site propriétaire\",\n",
    "                       \"site dépositaire\",\n",
    "                       \"prix\",\n",
    "                       \"coût de remplacement\",\n",
    "                       \"date dernier emprunt\",\n",
    "                       \"vu la dernière fois\",\n",
    "                       \"statut\",\n",
    "                       \"abimé\",\n",
    "                       \"abimé le\",\n",
    "                       \"perdu\",\n",
    "                       \"perdu le\",\n",
    "                       \"retiré de la circulation\",\n",
    "                       \"type de support\",\n",
    "                       \"collection\",\n",
    "                       \"cote\",\n",
    "                       \"nombre de prêts\",\n",
    "                       \"date dernier changement\",\n",
    "                       \"localisation\",\n",
    "                       \"localisation permanente\",\n",
    "                       \"notes publiques\",\n",
    "                       \"notes internes\"\n",
    "                      ]"
   ]
  },
  {
   "cell_type": "markdown",
   "id": "58c689f7",
   "metadata": {},
   "source": [
    "## Transformation des colonnes au format `date`"
   ]
  },
  {
   "cell_type": "code",
   "execution_count": 153,
   "id": "0a6ff2ec",
   "metadata": {},
   "outputs": [],
   "source": [
    "items[\"date d'acquisition\"] = pd.to_datetime(items[\"date d'acquisition\"])\n",
    "items[\"date dernier emprunt\"] = pd.to_datetime(items[\"date dernier emprunt\"])\n",
    "items[\"vu la dernière fois\"] = pd.to_datetime(items[\"vu la dernière fois\"])\n",
    "items[\"abimé le\"] = pd.to_datetime(items[\"abimé le\"])\n",
    "items[\"perdu le\"] = pd.to_datetime(items[\"perdu le\"])\n",
    "items[\"date dernier changement\"] = pd.to_datetime(items[\"date dernier changement\"])"
   ]
  },
  {
   "cell_type": "markdown",
   "id": "706ab03f",
   "metadata": {},
   "source": [
    "## Les deadlines"
   ]
  },
  {
   "cell_type": "code",
   "execution_count": 154,
   "id": "fa0de9e7",
   "metadata": {},
   "outputs": [],
   "source": [
    "deadline_3_mois = pd.to_datetime(\"today\") - pd.Timedelta(3*31,unit='D')\n",
    "deadline_6_mois = pd.to_datetime(\"today\") - pd.Timedelta(365/2, unit='D')\n",
    "deadline_1_an = pd.to_datetime(\"today\") - pd.Timedelta(365, unit='D')\n",
    "deadline_2_ans = pd.to_datetime(\"today\") - pd.Timedelta(365*2, unit='D')\n",
    "\n",
    "#Pour les perdus\n",
    "deadline_1_semaine = pd.to_datetime(\"today\") - pd.Timedelta(7,unit='D')\n",
    "deadline_3_semaine = pd.to_datetime(\"today\") - pd.Timedelta(3*7,unit='D')\n",
    "deadline_5_semaine = pd.to_datetime(\"today\") - pd.Timedelta(5*7,unit='D')\n",
    "\n",
    "aujourdhui = pd.to_datetime(\"today\")"
   ]
  },
  {
   "cell_type": "code",
   "execution_count": 155,
   "id": "e3a814ad",
   "metadata": {},
   "outputs": [
    {
     "name": "stdout",
     "output_type": "stream",
     "text": [
      "deadline_3_mois = 2025-01-09 13:23:05.912132\n",
      "deadline_6_mois = 2024-10-12 01:23:05.912644\n",
      "deadline_1_an = 2024-04-12 13:23:05.913731\n",
      "deadline_2_ans = 2023-04-13 13:23:05.914063\n"
     ]
    }
   ],
   "source": [
    "print(f\"deadline_3_mois = {deadline_3_mois}\")\n",
    "print(f\"deadline_6_mois = {deadline_6_mois}\")\n",
    "print(f\"deadline_1_an = {deadline_1_an}\")\n",
    "print(f\"deadline_2_ans = {deadline_2_ans}\")"
   ]
  },
  {
   "cell_type": "markdown",
   "id": "b15a9230",
   "metadata": {},
   "source": [
    "# Exclusion des notices du Musée"
   ]
  },
  {
   "cell_type": "code",
   "execution_count": 156,
   "id": "902ed823",
   "metadata": {},
   "outputs": [
    {
     "data": {
      "text/plain": [
       "site propriétaire\n",
       "BUS      4283\n",
       "MED    272004\n",
       "dtype: int64"
      ]
     },
     "execution_count": 156,
     "metadata": {},
     "output_type": "execute_result"
    }
   ],
   "source": [
    "items = items[~items[\"site propriétaire\"].isna()]\n",
    "items = items[~items[\"site propriétaire\"].str.match(\"MUS\")]\n",
    "items.groupby(\"site propriétaire\").size()"
   ]
  },
  {
   "cell_type": "markdown",
   "id": "d09b8549",
   "metadata": {},
   "source": [
    "# Ajout d'un timestamp pour export fichiers excel"
   ]
  },
  {
   "cell_type": "code",
   "execution_count": 157,
   "id": "33ff4a20",
   "metadata": {},
   "outputs": [
    {
     "data": {
      "text/plain": [
       "'20250412'"
      ]
     },
     "execution_count": 157,
     "metadata": {},
     "output_type": "execute_result"
    }
   ],
   "source": [
    "timestamp = date.today()\n",
    "timestamp = timestamp.strftime(\"%Y%m%d\")\n",
    "timestamp"
   ]
  },
  {
   "cell_type": "markdown",
   "id": "14d148c0",
   "metadata": {},
   "source": [
    "# LES DONNÉES INCOHÉRENTES"
   ]
  },
  {
   "cell_type": "code",
   "execution_count": 158,
   "id": "e153ab1a",
   "metadata": {},
   "outputs": [
    {
     "name": "stdout",
     "output_type": "stream",
     "text": [
      "Le notebook a été executé pour la dernière fois le 2025-04-12 13:23:05.915267\n"
     ]
    }
   ],
   "source": [
    "print(f\"Le notebook a été executé pour la dernière fois le {aujourdhui}\")"
   ]
  },
  {
   "cell_type": "code",
   "execution_count": 159,
   "id": "23056c19",
   "metadata": {},
   "outputs": [],
   "source": [
    "# Incohérence site MED vs localisation\n",
    "items.loc[(items['site propriétaire'] == 'MED') & \n",
    "          (items['location'].str[0:3] != 'MED') &\n",
    "          (~items['location'].isna()),\n",
    "         ['Localisations incohérentes - site MED']] = 'oui'\n",
    "\n",
    "\n",
    "#Incohérence site BUS vs localisation\n",
    "items.loc[(items[\"site propriétaire\"] == \"BUS\") &\n",
    "          (items[\"location\"] != \"BUS1A\"),\n",
    "          ['Localisations incohérentes - site BUS']] = 'oui'"
   ]
  },
  {
   "cell_type": "code",
   "execution_count": 160,
   "id": "acc55681",
   "metadata": {},
   "outputs": [
    {
     "data": {
      "text/plain": [
       "Index(['Localisations incohérentes - site BUS',\n",
       "       'Localisations incohérentes - site MED', 'abimé', 'abimé le', 'auteur',\n",
       "       'biblioitemnumber', 'biblionumber', 'booksellerid', 'ccode', 'cn_sort',\n",
       "       'cn_source', 'code-barre', 'coded_location_qualifier', 'collection',\n",
       "       'copynumber', 'cote', 'coût de remplacement', 'damaged',\n",
       "       'date d'acquisition', 'date dernier changement', 'date dernier emprunt',\n",
       "       'désherbé', 'désherbé le', 'enumchron',\n",
       "       'exclude_from_local_holds_priority', 'itemlost', 'itemnumber',\n",
       "       'itemtype', 'itype', 'localisation', 'localisation permanente',\n",
       "       'location', 'materials', 'more_subfields_xml', 'new_status',\n",
       "       'nombre de prêts', 'notes internes', 'notes publiques', 'notforloan',\n",
       "       'perdu', 'perdu le', 'prix', 'renewals', 'replacementpricedate',\n",
       "       'reserves', 'restricted', 'retour prévu le', 'site dépositaire',\n",
       "       'site propriétaire', 'stack', 'statut', 'stocknumber', 'titre',\n",
       "       'type de support', 'uri', 'vu la dernière fois', 'withdrawn'],\n",
       "      dtype='object')"
      ]
     },
     "execution_count": 160,
     "metadata": {},
     "output_type": "execute_result"
    }
   ],
   "source": [
    "items.columns.sort_values()"
   ]
  },
  {
   "cell_type": "code",
   "execution_count": 161,
   "id": "c1b326b2",
   "metadata": {},
   "outputs": [],
   "source": [
    "# Code-barres KO\n",
    "items.loc[(items['code-barre'].isna()) &\n",
    "          (~items['notforloan'].isin([-2,-1])),\n",
    "         ['Donnée manquante - code à barre']] = \"oui\"\n",
    "\n",
    "items.loc[(items['localisation'].isna()) &\n",
    "          (~items['notforloan'].isin([-1,-2,4])),\n",
    "         ['Donnée manquante - localisation']] = 'oui'"
   ]
  },
  {
   "cell_type": "code",
   "execution_count": 162,
   "id": "d1d1b303",
   "metadata": {},
   "outputs": [],
   "source": [
    "items.loc[(~items['localisation'].fillna('').str.contains('Mag')) &\n",
    "          (~items['localisation'].fillna('').str.contains('Pé')) &\n",
    "          (items['prix'].isna()),\n",
    "         ['Donnée manquante - prix']] = 'oui'"
   ]
  },
  {
   "cell_type": "code",
   "execution_count": 163,
   "id": "fc96c1f9",
   "metadata": {},
   "outputs": [],
   "source": [
    "items.loc[(items['collection'].isna()) &\n",
    "         (~items['notforloan'].isin([-1,-2,4])),\n",
    "         ['Donnée manquante - collection']] = 'oui'"
   ]
  },
  {
   "cell_type": "code",
   "execution_count": 164,
   "id": "6e3e5bc3",
   "metadata": {},
   "outputs": [],
   "source": [
    "items.loc[(items['cote'].isna()) &\n",
    "         (~items['notforloan'].isin([-1,-2,4])),\n",
    "         ['Donnée manquante - cote']] = 'oui'"
   ]
  },
  {
   "cell_type": "code",
   "execution_count": 165,
   "id": "05e6ff6c",
   "metadata": {},
   "outputs": [],
   "source": [
    "items.loc[(items['type de support'].isna()) &\n",
    "         (~items['notforloan'].isin([-1,-2,4])),\n",
    "         ['Donnée manquante - type de support']] = 'oui'"
   ]
  },
  {
   "cell_type": "code",
   "execution_count": 166,
   "id": "089af1c1",
   "metadata": {},
   "outputs": [
    {
     "data": {
      "text/plain": [
       "notforloan  statut                                 \n",
       "-4          5 - En réparation                             690\n",
       "-3          6 -  En retrait                              1617\n",
       "-2          2 - En traitement                             951\n",
       "-1          1 - En commande                                80\n",
       " 0          3 - Empruntable                            210571\n",
       " 2          4 - Réservé à la consultation sur place     51733\n",
       " 4          8 - Sorti des collections                   10543\n",
       " 5          7 - En reliure                                 93\n",
       "dtype: int64"
      ]
     },
     "execution_count": 166,
     "metadata": {},
     "output_type": "execute_result"
    }
   ],
   "source": [
    "items.groupby(['notforloan','statut']).size()"
   ]
  },
  {
   "cell_type": "code",
   "execution_count": 167,
   "id": "ad077874",
   "metadata": {},
   "outputs": [
    {
     "data": {
      "text/plain": [
       "perdu le\n",
       "2017-02-12 02:10:02    14\n",
       "2017-02-12 02:10:03     4\n",
       "2017-04-02 02:10:03     1\n",
       "2017-04-09 02:10:02     1\n",
       "2017-05-07 02:10:02     2\n",
       "                       ..\n",
       "2025-04-09 10:23:31     1\n",
       "2025-04-09 10:23:57     1\n",
       "2025-04-09 15:48:35     1\n",
       "2025-04-11 14:56:57     1\n",
       "2025-04-11 15:14:34     1\n",
       "Length: 1718, dtype: int64"
      ]
     },
     "execution_count": 167,
     "metadata": {},
     "output_type": "execute_result"
    }
   ],
   "source": [
    "items.groupby('perdu le').size()"
   ]
  },
  {
   "cell_type": "code",
   "execution_count": 168,
   "id": "d36b56d6",
   "metadata": {},
   "outputs": [],
   "source": [
    "# En réparation depuis plus d'un an\n",
    "items.loc[(items['abimé']=='Abimé') &\n",
    "              (items['abimé le']>deadline_1_an) &\n",
    "              (items['notforloan']==-4),\n",
    "              [\"Statut Abimé et en réparation depuis plus d'1 an\"]] = 'oui'"
   ]
  },
  {
   "cell_type": "code",
   "execution_count": 182,
   "id": "73e39ec8",
   "metadata": {},
   "outputs": [],
   "source": [
    "# Perdus depuis 1 semaine\n",
    "items.loc[(items['perdu']=='Perdu') &\n",
    "          (items['perdu le']>deadline_1_semaine),\n",
    "          [\"Statut Perdu depuis\"]] = '1 semaine'\n",
    "\n",
    "# Perdus depuis 3 semaines\n",
    "items.loc[(items['perdu']=='Perdu') &\n",
    "          (items['perdu le']>deadline_3_semaine),\n",
    "          [\"Statut Perdu depuis\"]] = '3 semaines'\n",
    "\n",
    "#Perdus depuis 5 semaines\n",
    "items.loc[(items['perdu']=='Perdu') &\n",
    "          (items['perdu le']>deadline_5_semaine),\n",
    "          [\"Statut Perdu depuis\"]] = '5 semaines'"
   ]
  },
  {
   "cell_type": "code",
   "execution_count": 176,
   "id": "14d35692",
   "metadata": {},
   "outputs": [],
   "source": [
    "# En commande pas modifié depuis 6 mois\n",
    "items.loc[(items['notforloan']==-1) &\n",
    "          (items['date dernier changement']>deadline_6_mois),\n",
    "        ['Statut En commande depuis plus de 6 mois']] = 'oui'"
   ]
  },
  {
   "cell_type": "code",
   "execution_count": 177,
   "id": "2e236460",
   "metadata": {},
   "outputs": [],
   "source": [
    "# En traitement pas modifié depuis 6 mois\n",
    "items.loc[(items['notforloan']==-2) &\n",
    "          (items['date dernier changement']>deadline_6_mois),\n",
    "         ['Statut En traitement depuis plus de 6 mois']] = 'oui'"
   ]
  },
  {
   "cell_type": "code",
   "execution_count": 178,
   "id": "dc61dbc6",
   "metadata": {},
   "outputs": [],
   "source": [
    "# En retrait pas modifié depuis 6 mois\n",
    "items.loc[(items['notforloan']==-3) &\n",
    "          (items['date dernier changement']>deadline_6_mois),\n",
    "         ['Statut En retrait depuis plus de 6 mois']] = 'oui'"
   ]
  },
  {
   "cell_type": "code",
   "execution_count": 179,
   "id": "6162bada",
   "metadata": {},
   "outputs": [],
   "source": [
    "# En sortie des collections qui devraient être supprimés de la base\n",
    "items.loc[(items['notforloan']==4) &\n",
    "          (items['retour prévu le'].isna()) &\n",
    "          (items['date dernier changement']>deadline_6_mois),\n",
    "         ['Statut Sorti des collections depuis 6 mois et pas supprimé']] = 'oui'"
   ]
  },
  {
   "cell_type": "code",
   "execution_count": 192,
   "id": "e3b19255",
   "metadata": {},
   "outputs": [],
   "source": [
    "columns2export = ['code-barre',\n",
    "                  'titre',\n",
    "                  'Localisations incohérentes - site MED',\n",
    "                  'Localisations incohérentes - site BUS',\n",
    "                  'Donnée manquante - code à barre',\n",
    "                  'Donnée manquante - collection',\n",
    "                  'Donnée manquante - cote',\n",
    "                  'Donnée manquante - localisation',\n",
    "                  'Donnée manquante - prix',\n",
    "                  'Donnée manquante - type de support',\n",
    "                  \"Statut Abimé et en réparation depuis plus d'1 an\",\n",
    "                  \"Statut Perdu depuis\",\n",
    "                  \"Statut En commande depuis plus de 6 mois\",\n",
    "                  \"Statut En traitement depuis plus de 6 mois\",\n",
    "                  \"Statut En retrait depuis plus de 6 mois\",\n",
    "                  \"Statut Sorti des collections depuis 6 mois et pas supprimé\"\n",
    "                 ]\n",
    "items_anomalies = items[columns2export]"
   ]
  },
  {
   "cell_type": "code",
   "execution_count": 193,
   "id": "5ce2d7ad",
   "metadata": {},
   "outputs": [
    {
     "data": {
      "text/html": [
       "<div>\n",
       "<style scoped>\n",
       "    .dataframe tbody tr th:only-of-type {\n",
       "        vertical-align: middle;\n",
       "    }\n",
       "\n",
       "    .dataframe tbody tr th {\n",
       "        vertical-align: top;\n",
       "    }\n",
       "\n",
       "    .dataframe thead th {\n",
       "        text-align: right;\n",
       "    }\n",
       "</style>\n",
       "<table border=\"1\" class=\"dataframe\">\n",
       "  <thead>\n",
       "    <tr style=\"text-align: right;\">\n",
       "      <th></th>\n",
       "      <th>code-barre</th>\n",
       "      <th>titre</th>\n",
       "      <th>Localisations incohérentes - site MED</th>\n",
       "      <th>Localisations incohérentes - site BUS</th>\n",
       "      <th>Donnée manquante - code à barre</th>\n",
       "      <th>Donnée manquante - collection</th>\n",
       "      <th>Donnée manquante - cote</th>\n",
       "      <th>Donnée manquante - localisation</th>\n",
       "      <th>Donnée manquante - prix</th>\n",
       "      <th>Donnée manquante - type de support</th>\n",
       "      <th>Statut Abimé et en réparation depuis plus d'1 an</th>\n",
       "      <th>Statut Perdu depuis</th>\n",
       "      <th>Statut En commande depuis plus de 6 mois</th>\n",
       "      <th>Statut En traitement depuis plus de 6 mois</th>\n",
       "      <th>Statut En retrait depuis plus de 6 mois</th>\n",
       "      <th>Statut Sorti des collections depuis 6 mois et pas supprimé</th>\n",
       "    </tr>\n",
       "  </thead>\n",
       "  <tbody>\n",
       "    <tr>\n",
       "      <th>8239</th>\n",
       "      <td>None</td>\n",
       "      <td>Les Arbres de la liberté</td>\n",
       "      <td>NaN</td>\n",
       "      <td>NaN</td>\n",
       "      <td>oui</td>\n",
       "      <td>oui</td>\n",
       "      <td>oui</td>\n",
       "      <td>oui</td>\n",
       "      <td>oui</td>\n",
       "      <td>NaN</td>\n",
       "      <td>NaN</td>\n",
       "      <td>NaN</td>\n",
       "      <td>NaN</td>\n",
       "      <td>NaN</td>\n",
       "      <td>NaN</td>\n",
       "      <td>NaN</td>\n",
       "    </tr>\n",
       "    <tr>\n",
       "      <th>69659</th>\n",
       "      <td>None</td>\n",
       "      <td>Violin concertos</td>\n",
       "      <td>NaN</td>\n",
       "      <td>NaN</td>\n",
       "      <td>oui</td>\n",
       "      <td>oui</td>\n",
       "      <td>oui</td>\n",
       "      <td>oui</td>\n",
       "      <td>oui</td>\n",
       "      <td>NaN</td>\n",
       "      <td>NaN</td>\n",
       "      <td>NaN</td>\n",
       "      <td>NaN</td>\n",
       "      <td>NaN</td>\n",
       "      <td>NaN</td>\n",
       "      <td>NaN</td>\n",
       "    </tr>\n",
       "    <tr>\n",
       "      <th>89782</th>\n",
       "      <td>C2400000016</td>\n",
       "      <td>Agriculture et monde agricole</td>\n",
       "      <td>NaN</td>\n",
       "      <td>NaN</td>\n",
       "      <td>NaN</td>\n",
       "      <td>oui</td>\n",
       "      <td>NaN</td>\n",
       "      <td>NaN</td>\n",
       "      <td>oui</td>\n",
       "      <td>NaN</td>\n",
       "      <td>NaN</td>\n",
       "      <td>NaN</td>\n",
       "      <td>NaN</td>\n",
       "      <td>NaN</td>\n",
       "      <td>NaN</td>\n",
       "      <td>NaN</td>\n",
       "    </tr>\n",
       "    <tr>\n",
       "      <th>89827</th>\n",
       "      <td>C3200033825</td>\n",
       "      <td>Spirou</td>\n",
       "      <td>NaN</td>\n",
       "      <td>NaN</td>\n",
       "      <td>NaN</td>\n",
       "      <td>oui</td>\n",
       "      <td>NaN</td>\n",
       "      <td>NaN</td>\n",
       "      <td>oui</td>\n",
       "      <td>NaN</td>\n",
       "      <td>NaN</td>\n",
       "      <td>NaN</td>\n",
       "      <td>NaN</td>\n",
       "      <td>NaN</td>\n",
       "      <td>NaN</td>\n",
       "      <td>NaN</td>\n",
       "    </tr>\n",
       "    <tr>\n",
       "      <th>89828</th>\n",
       "      <td>C3200033873</td>\n",
       "      <td>Spirou</td>\n",
       "      <td>NaN</td>\n",
       "      <td>NaN</td>\n",
       "      <td>NaN</td>\n",
       "      <td>oui</td>\n",
       "      <td>NaN</td>\n",
       "      <td>NaN</td>\n",
       "      <td>oui</td>\n",
       "      <td>NaN</td>\n",
       "      <td>NaN</td>\n",
       "      <td>NaN</td>\n",
       "      <td>NaN</td>\n",
       "      <td>NaN</td>\n",
       "      <td>NaN</td>\n",
       "      <td>NaN</td>\n",
       "    </tr>\n",
       "    <tr>\n",
       "      <th>...</th>\n",
       "      <td>...</td>\n",
       "      <td>...</td>\n",
       "      <td>...</td>\n",
       "      <td>...</td>\n",
       "      <td>...</td>\n",
       "      <td>...</td>\n",
       "      <td>...</td>\n",
       "      <td>...</td>\n",
       "      <td>...</td>\n",
       "      <td>...</td>\n",
       "      <td>...</td>\n",
       "      <td>...</td>\n",
       "      <td>...</td>\n",
       "      <td>...</td>\n",
       "      <td>...</td>\n",
       "      <td>...</td>\n",
       "    </tr>\n",
       "    <tr>\n",
       "      <th>270549</th>\n",
       "      <td>C1400019949</td>\n",
       "      <td>Tombée du ciel</td>\n",
       "      <td>NaN</td>\n",
       "      <td>NaN</td>\n",
       "      <td>NaN</td>\n",
       "      <td>oui</td>\n",
       "      <td>NaN</td>\n",
       "      <td>NaN</td>\n",
       "      <td>NaN</td>\n",
       "      <td>NaN</td>\n",
       "      <td>NaN</td>\n",
       "      <td>NaN</td>\n",
       "      <td>NaN</td>\n",
       "      <td>NaN</td>\n",
       "      <td>NaN</td>\n",
       "      <td>NaN</td>\n",
       "    </tr>\n",
       "    <tr>\n",
       "      <th>272781</th>\n",
       "      <td>C2310000240</td>\n",
       "      <td>L'année de Plantu 2024</td>\n",
       "      <td>NaN</td>\n",
       "      <td>NaN</td>\n",
       "      <td>NaN</td>\n",
       "      <td>oui</td>\n",
       "      <td>NaN</td>\n",
       "      <td>NaN</td>\n",
       "      <td>NaN</td>\n",
       "      <td>NaN</td>\n",
       "      <td>NaN</td>\n",
       "      <td>NaN</td>\n",
       "      <td>NaN</td>\n",
       "      <td>NaN</td>\n",
       "      <td>NaN</td>\n",
       "      <td>NaN</td>\n",
       "    </tr>\n",
       "    <tr>\n",
       "      <th>273227</th>\n",
       "      <td>C1400021023</td>\n",
       "      <td>Les effacés</td>\n",
       "      <td>NaN</td>\n",
       "      <td>NaN</td>\n",
       "      <td>NaN</td>\n",
       "      <td>oui</td>\n",
       "      <td>NaN</td>\n",
       "      <td>NaN</td>\n",
       "      <td>NaN</td>\n",
       "      <td>NaN</td>\n",
       "      <td>NaN</td>\n",
       "      <td>NaN</td>\n",
       "      <td>NaN</td>\n",
       "      <td>NaN</td>\n",
       "      <td>NaN</td>\n",
       "      <td>NaN</td>\n",
       "    </tr>\n",
       "    <tr>\n",
       "      <th>274030</th>\n",
       "      <td>C3100012977</td>\n",
       "      <td>Punk ouvrier</td>\n",
       "      <td>NaN</td>\n",
       "      <td>NaN</td>\n",
       "      <td>NaN</td>\n",
       "      <td>oui</td>\n",
       "      <td>NaN</td>\n",
       "      <td>NaN</td>\n",
       "      <td>NaN</td>\n",
       "      <td>NaN</td>\n",
       "      <td>NaN</td>\n",
       "      <td>NaN</td>\n",
       "      <td>NaN</td>\n",
       "      <td>NaN</td>\n",
       "      <td>NaN</td>\n",
       "      <td>NaN</td>\n",
       "    </tr>\n",
       "    <tr>\n",
       "      <th>274141</th>\n",
       "      <td>C3100012916</td>\n",
       "      <td>En chemin</td>\n",
       "      <td>NaN</td>\n",
       "      <td>NaN</td>\n",
       "      <td>NaN</td>\n",
       "      <td>oui</td>\n",
       "      <td>NaN</td>\n",
       "      <td>NaN</td>\n",
       "      <td>NaN</td>\n",
       "      <td>NaN</td>\n",
       "      <td>NaN</td>\n",
       "      <td>NaN</td>\n",
       "      <td>NaN</td>\n",
       "      <td>NaN</td>\n",
       "      <td>NaN</td>\n",
       "      <td>NaN</td>\n",
       "    </tr>\n",
       "  </tbody>\n",
       "</table>\n",
       "<p>1814 rows × 16 columns</p>\n",
       "</div>"
      ],
      "text/plain": [
       "         code-barre                          titre  \\\n",
       "8239           None       Les Arbres de la liberté   \n",
       "69659          None               Violin concertos   \n",
       "89782   C2400000016  Agriculture et monde agricole   \n",
       "89827   C3200033825                         Spirou   \n",
       "89828   C3200033873                         Spirou   \n",
       "...             ...                            ...   \n",
       "270549  C1400019949                 Tombée du ciel   \n",
       "272781  C2310000240         L'année de Plantu 2024   \n",
       "273227  C1400021023                    Les effacés   \n",
       "274030  C3100012977                   Punk ouvrier   \n",
       "274141  C3100012916                      En chemin   \n",
       "\n",
       "       Localisations incohérentes - site MED  \\\n",
       "8239                                     NaN   \n",
       "69659                                    NaN   \n",
       "89782                                    NaN   \n",
       "89827                                    NaN   \n",
       "89828                                    NaN   \n",
       "...                                      ...   \n",
       "270549                                   NaN   \n",
       "272781                                   NaN   \n",
       "273227                                   NaN   \n",
       "274030                                   NaN   \n",
       "274141                                   NaN   \n",
       "\n",
       "       Localisations incohérentes - site BUS Donnée manquante - code à barre  \\\n",
       "8239                                     NaN                             oui   \n",
       "69659                                    NaN                             oui   \n",
       "89782                                    NaN                             NaN   \n",
       "89827                                    NaN                             NaN   \n",
       "89828                                    NaN                             NaN   \n",
       "...                                      ...                             ...   \n",
       "270549                                   NaN                             NaN   \n",
       "272781                                   NaN                             NaN   \n",
       "273227                                   NaN                             NaN   \n",
       "274030                                   NaN                             NaN   \n",
       "274141                                   NaN                             NaN   \n",
       "\n",
       "       Donnée manquante - collection Donnée manquante - cote  \\\n",
       "8239                             oui                     oui   \n",
       "69659                            oui                     oui   \n",
       "89782                            oui                     NaN   \n",
       "89827                            oui                     NaN   \n",
       "89828                            oui                     NaN   \n",
       "...                              ...                     ...   \n",
       "270549                           oui                     NaN   \n",
       "272781                           oui                     NaN   \n",
       "273227                           oui                     NaN   \n",
       "274030                           oui                     NaN   \n",
       "274141                           oui                     NaN   \n",
       "\n",
       "       Donnée manquante - localisation Donnée manquante - prix  \\\n",
       "8239                               oui                     oui   \n",
       "69659                              oui                     oui   \n",
       "89782                              NaN                     oui   \n",
       "89827                              NaN                     oui   \n",
       "89828                              NaN                     oui   \n",
       "...                                ...                     ...   \n",
       "270549                             NaN                     NaN   \n",
       "272781                             NaN                     NaN   \n",
       "273227                             NaN                     NaN   \n",
       "274030                             NaN                     NaN   \n",
       "274141                             NaN                     NaN   \n",
       "\n",
       "       Donnée manquante - type de support  \\\n",
       "8239                                  NaN   \n",
       "69659                                 NaN   \n",
       "89782                                 NaN   \n",
       "89827                                 NaN   \n",
       "89828                                 NaN   \n",
       "...                                   ...   \n",
       "270549                                NaN   \n",
       "272781                                NaN   \n",
       "273227                                NaN   \n",
       "274030                                NaN   \n",
       "274141                                NaN   \n",
       "\n",
       "       Statut Abimé et en réparation depuis plus d'1 an Statut Perdu depuis  \\\n",
       "8239                                                NaN                 NaN   \n",
       "69659                                               NaN                 NaN   \n",
       "89782                                               NaN                 NaN   \n",
       "89827                                               NaN                 NaN   \n",
       "89828                                               NaN                 NaN   \n",
       "...                                                 ...                 ...   \n",
       "270549                                              NaN                 NaN   \n",
       "272781                                              NaN                 NaN   \n",
       "273227                                              NaN                 NaN   \n",
       "274030                                              NaN                 NaN   \n",
       "274141                                              NaN                 NaN   \n",
       "\n",
       "       Statut En commande depuis plus de 6 mois  \\\n",
       "8239                                        NaN   \n",
       "69659                                       NaN   \n",
       "89782                                       NaN   \n",
       "89827                                       NaN   \n",
       "89828                                       NaN   \n",
       "...                                         ...   \n",
       "270549                                      NaN   \n",
       "272781                                      NaN   \n",
       "273227                                      NaN   \n",
       "274030                                      NaN   \n",
       "274141                                      NaN   \n",
       "\n",
       "       Statut En traitement depuis plus de 6 mois  \\\n",
       "8239                                          NaN   \n",
       "69659                                         NaN   \n",
       "89782                                         NaN   \n",
       "89827                                         NaN   \n",
       "89828                                         NaN   \n",
       "...                                           ...   \n",
       "270549                                        NaN   \n",
       "272781                                        NaN   \n",
       "273227                                        NaN   \n",
       "274030                                        NaN   \n",
       "274141                                        NaN   \n",
       "\n",
       "       Statut En retrait depuis plus de 6 mois  \\\n",
       "8239                                       NaN   \n",
       "69659                                      NaN   \n",
       "89782                                      NaN   \n",
       "89827                                      NaN   \n",
       "89828                                      NaN   \n",
       "...                                        ...   \n",
       "270549                                     NaN   \n",
       "272781                                     NaN   \n",
       "273227                                     NaN   \n",
       "274030                                     NaN   \n",
       "274141                                     NaN   \n",
       "\n",
       "       Statut Sorti des collections depuis 6 mois et pas supprimé  \n",
       "8239                                                  NaN          \n",
       "69659                                                 NaN          \n",
       "89782                                                 NaN          \n",
       "89827                                                 NaN          \n",
       "89828                                                 NaN          \n",
       "...                                                   ...          \n",
       "270549                                                NaN          \n",
       "272781                                                NaN          \n",
       "273227                                                NaN          \n",
       "274030                                                NaN          \n",
       "274141                                                NaN          \n",
       "\n",
       "[1814 rows x 16 columns]"
      ]
     },
     "execution_count": 193,
     "metadata": {},
     "output_type": "execute_result"
    }
   ],
   "source": [
    "items_anomalies[items_anomalies['Donnée manquante - collection']=='oui']"
   ]
  },
  {
   "cell_type": "code",
   "execution_count": 205,
   "id": "2bad30f9",
   "metadata": {},
   "outputs": [],
   "source": [
    "filepath = '/home/kibini/kibini2/data/collections/anomalies/'\n",
    "filename = 'anomalie_exemplaire'\n",
    "file_timestamp = dt.today().strftime(\"%Y%m%d\")"
   ]
  },
  {
   "cell_type": "code",
   "execution_count": 206,
   "id": "04b798ae",
   "metadata": {},
   "outputs": [
    {
     "data": {
      "text/plain": [
       "'20250412'"
      ]
     },
     "execution_count": 206,
     "metadata": {},
     "output_type": "execute_result"
    }
   ],
   "source": [
    "file_timestamp"
   ]
  },
  {
   "cell_type": "code",
   "execution_count": 209,
   "id": "02e8c13e",
   "metadata": {},
   "outputs": [],
   "source": [
    "items_anomalies.to_excel(f\"{filepath}_anomalies_exemplaires_{file_timestamp}.xlsx\")"
   ]
  },
  {
   "cell_type": "markdown",
   "id": "7fa677a6",
   "metadata": {},
   "source": [
    "---- "
   ]
  },
  {
   "cell_type": "markdown",
   "id": "fe815618",
   "metadata": {},
   "source": [
    "### Site propriétaire vs localisation interne\n",
    "Il existe 3 sites propriétaires pour la médiathèque de Roubaix : `MED`,`BUS` et `MUS`. Voici une traduction des requêtes effectuées ci-dessous : \n",
    "* `anomalies_loc_incoherente_med` : documents dont le site propriétaire est MED et dont le code de localisation ne commence pas par MED\n",
    "* `anomalies_loc_incoherente_bus` : documents dont le site propriétaire est BUS et donc le code de localisation est différent de BUS."
   ]
  },
  {
   "cell_type": "code",
   "execution_count": 55,
   "id": "95db06fb",
   "metadata": {},
   "outputs": [],
   "source": [
    "anomalies_loc_incoherente_med = items[(items['site propriétaire'] == 'MED') & (items['location'].str[0:3] != 'MED')&(~items['location'].isna())]"
   ]
  },
  {
   "cell_type": "code",
   "execution_count": 56,
   "id": "5103a613",
   "metadata": {},
   "outputs": [
    {
     "data": {
      "text/plain": [
       "Series([], dtype: int64)"
      ]
     },
     "execution_count": 56,
     "metadata": {},
     "output_type": "execute_result"
    }
   ],
   "source": [
    "anomalies_loc_incoherente_med.groupby([\"site propriétaire\",\"localisation\"]).size()"
   ]
  },
  {
   "cell_type": "code",
   "execution_count": 57,
   "id": "a885fa58",
   "metadata": {},
   "outputs": [],
   "source": [
    "anomalies_loc_incoherente_bus = items[(items[\"site propriétaire\"] == \"BUS\") & (items[\"location\"] != \"BUS1A\")]"
   ]
  },
  {
   "cell_type": "code",
   "execution_count": 58,
   "id": "39c0af08",
   "metadata": {},
   "outputs": [
    {
     "data": {
      "text/plain": [
       "site propriétaire  localisation         \n",
       "BUS                1er étage                1\n",
       "                   Magasin collectivités    1\n",
       "                   Rez-de-chaussée          4\n",
       "dtype: int64"
      ]
     },
     "execution_count": 58,
     "metadata": {},
     "output_type": "execute_result"
    }
   ],
   "source": [
    "anomalies_loc_incoherente_bus.groupby([\"site propriétaire\",\"localisation\"]).size()"
   ]
  },
  {
   "cell_type": "code",
   "execution_count": 59,
   "id": "fc350b44",
   "metadata": {},
   "outputs": [],
   "source": [
    "anomalies_loc_incoherente_med[colonnes_a_exporter].to_excel(\"../data/liste_anomalies_localisation_incoherente_med.xlsx\",index=False)"
   ]
  },
  {
   "cell_type": "code",
   "execution_count": 60,
   "id": "1443e827",
   "metadata": {},
   "outputs": [],
   "source": [
    "anomalies_loc_incoherente_bus[colonnes_a_exporter].to_excel(\"../data/liste_anomalies_localisation_incoherente_bus.xlsx\",index=False)"
   ]
  },
  {
   "cell_type": "markdown",
   "id": "e996a218",
   "metadata": {},
   "source": [
    "# LES DONNÉES MANQUANTES\n",
    "### Code-barre manquant\n",
    "Voici une description de la méthode employée pour la liste des anomalies de code-barre manquant : \n",
    "* J'ai sélectionné tous les documents dont le code-barre est manquant via la fonction `.isna()`\n",
    "* J'ai ensuite exclu de la requête les documents *En commande* et *En traitement* \n",
    "* Ne restent dans les anomalies de code-barre que les documents sans code-barre avec un statut problématique."
   ]
  },
  {
   "cell_type": "code",
   "execution_count": 67,
   "id": "993b4fbd",
   "metadata": {},
   "outputs": [],
   "source": [
    "codebarre_ko = items[items[\"code-barre\"].isna()]"
   ]
  },
  {
   "cell_type": "code",
   "execution_count": 68,
   "id": "7b4e823b",
   "metadata": {},
   "outputs": [],
   "source": [
    "anomalies_docs_codebarre_ko = codebarre_ko[~codebarre_ko[\"notforloan\"].isin([-2,-1])]"
   ]
  },
  {
   "cell_type": "markdown",
   "id": "381390b9",
   "metadata": {},
   "source": [
    "### Site propriétaire manquant"
   ]
  },
  {
   "cell_type": "markdown",
   "id": "13ee6697",
   "metadata": {},
   "source": [
    "### Localisation manquante "
   ]
  },
  {
   "cell_type": "code",
   "execution_count": 63,
   "id": "dccb008e",
   "metadata": {},
   "outputs": [],
   "source": [
    "localisation_ko = items[items[\"localisation\"].isna()]"
   ]
  },
  {
   "cell_type": "code",
   "execution_count": 64,
   "id": "58305653",
   "metadata": {
    "scrolled": true
   },
   "outputs": [],
   "source": [
    "anomalies_localisation_ko = localisation_ko[~localisation_ko[\"notforloan\"].isin([-1,-2,4])]"
   ]
  },
  {
   "cell_type": "markdown",
   "id": "ec835734",
   "metadata": {},
   "source": [
    "### Prix manquant\n",
    "\n",
    "Voici une description de la méthode employée pour générer la liste des anomalies d'exemplaires sans prix :\n",
    "* J'ai défini la variable `prix_ko` comme la liste des exemplaires sans code-barre renseigné\n",
    "* J'ai ensuite exclu de cette liste les documents du magasin, ainsi que les périodiques (défini par la variable `anomalies_prix_ko_coll`\n",
    "* Grâce à un `groupby` et `.dt.year`, j'ai généré une liste du total de documents sans prix par an.\n",
    "* On constate que c'est **à partir de 2020 que les documents sans prix augmentent**\n",
    "* J'ai donc redéfini ma variable `anomalies_prix_ko_coll` comme la liste des exemplaires acheté il y a moins de 3 ans"
   ]
  },
  {
   "cell_type": "code",
   "execution_count": 65,
   "id": "e925c1e3",
   "metadata": {},
   "outputs": [
    {
     "name": "stderr",
     "output_type": "stream",
     "text": [
      "/tmp/ipykernel_12936/3213706575.py:2: SettingWithCopyWarning: \n",
      "A value is trying to be set on a copy of a slice from a DataFrame.\n",
      "Try using .loc[row_indexer,col_indexer] = value instead\n",
      "\n",
      "See the caveats in the documentation: https://pandas.pydata.org/pandas-docs/stable/user_guide/indexing.html#returning-a-view-versus-a-copy\n",
      "  prix_ko[\"localisation\"] = prix_ko[\"localisation\"].astype(str)\n"
     ]
    }
   ],
   "source": [
    "prix_ko = items[items[\"prix\"].isna()]\n",
    "prix_ko[\"localisation\"] = prix_ko[\"localisation\"].astype(str)"
   ]
  },
  {
   "cell_type": "code",
   "execution_count": 66,
   "id": "50ba1190",
   "metadata": {},
   "outputs": [],
   "source": [
    "anomalies_prix_ko_coll = prix_ko[~prix_ko[\"localisation\"].str.contains('Mag')]"
   ]
  },
  {
   "cell_type": "code",
   "execution_count": 67,
   "id": "846498b7",
   "metadata": {},
   "outputs": [],
   "source": [
    "anomalies_prix_ko_coll = anomalies_prix_ko_coll[~anomalies_prix_ko_coll.localisation.str.contains('Pé')]"
   ]
  },
  {
   "cell_type": "code",
   "execution_count": 68,
   "id": "4947910d",
   "metadata": {},
   "outputs": [],
   "source": [
    "anomalies_prix_ko_coll = anomalies_prix_ko_coll[anomalies_prix_ko_coll[\"date d'acquisition\"].dt.year >= 2020]"
   ]
  },
  {
   "cell_type": "markdown",
   "id": "0ee94110",
   "metadata": {},
   "source": [
    "### Collection manquante"
   ]
  },
  {
   "cell_type": "code",
   "execution_count": 69,
   "id": "9a3b7314",
   "metadata": {},
   "outputs": [],
   "source": [
    "collection_ko = items[items[\"collection\"].isna()]"
   ]
  },
  {
   "cell_type": "code",
   "execution_count": 70,
   "id": "c77e4f0a",
   "metadata": {},
   "outputs": [],
   "source": [
    "anomalies_collection_ko = collection_ko[~collection_ko[\"notforloan\"].isin([-1,-2,3,4])]"
   ]
  },
  {
   "cell_type": "code",
   "execution_count": 71,
   "id": "479a796e",
   "metadata": {},
   "outputs": [
    {
     "data": {
      "text/plain": [
       "site propriétaire\n",
       "MED    203\n",
       "dtype: int64"
      ]
     },
     "execution_count": 71,
     "metadata": {},
     "output_type": "execute_result"
    }
   ],
   "source": [
    "anomalies_collection_ko_med = anomalies_collection_ko[anomalies_collection_ko[\"site propriétaire\"].str.match(\"MED\")]\n",
    "anomalies_collection_ko_med.groupby(\"site propriétaire\").size()"
   ]
  },
  {
   "cell_type": "markdown",
   "id": "fa4bea71",
   "metadata": {},
   "source": [
    "### Côte manquante"
   ]
  },
  {
   "cell_type": "code",
   "execution_count": 72,
   "id": "3de0c3b1",
   "metadata": {},
   "outputs": [],
   "source": [
    "cote_ko = items[items[\"cote\"].isna()]"
   ]
  },
  {
   "cell_type": "code",
   "execution_count": 73,
   "id": "ed84ce53",
   "metadata": {},
   "outputs": [],
   "source": [
    "anomalies_cote_ko = cote_ko[~cote_ko[\"notforloan\"].isin([-1,-2,4])]"
   ]
  },
  {
   "cell_type": "markdown",
   "id": "31c6b7cc",
   "metadata": {},
   "source": [
    "### Type de support manquant"
   ]
  },
  {
   "cell_type": "code",
   "execution_count": 74,
   "id": "a07748dc",
   "metadata": {},
   "outputs": [],
   "source": [
    "anomalies_type_support_ko = items[items[\"type de support\"].isna()]"
   ]
  },
  {
   "cell_type": "code",
   "execution_count": 75,
   "id": "2327e72a",
   "metadata": {},
   "outputs": [],
   "source": [
    "# DES DATAFRAMES VERS UN FICHIER UNIQUE EXCEL\n",
    "with pd.ExcelWriter(f\"../data/collections/anomalies/anomalies_exemplaires_infos_manquantes_{timestamp}.xlsx\") as writer:\n",
    "    anomalies_docs_codebarre_ko[colonnes_a_exporter].to_excel(writer,sheet_name=\"codebarre_ko\",index=False)\n",
    "    localisation_ko[colonnes_a_exporter].to_excel(writer,sheet_name=\"localisation_ko\",index=False)\n",
    "    anomalies_prix_ko_coll[colonnes_a_exporter].to_excel(writer,sheet_name=\"prix_ko\",index=False)\n",
    "    anomalies_collection_ko_med[colonnes_a_exporter].to_excel(writer,sheet_name=\"code_collection_ko\",index=False)\n",
    "    anomalies_cote_ko[colonnes_a_exporter].to_excel(writer,sheet_name=\"cote_ko\",index=False)\n",
    "    anomalies_type_support_ko[colonnes_a_exporter].to_excel(writer,sheet_name=\"type_support_ko\",index=False)"
   ]
  },
  {
   "cell_type": "markdown",
   "id": "f60644b7",
   "metadata": {},
   "source": [
    "# LES PROBLEMES DE STATUT"
   ]
  },
  {
   "cell_type": "code",
   "execution_count": 61,
   "id": "9a5a857f",
   "metadata": {},
   "outputs": [
    {
     "data": {
      "text/plain": [
       "site propriétaire  notforloan  statut                                 \n",
       "BUS                -4          5 - En réparation                               9\n",
       "                   -3          6 -  En retrait                                41\n",
       "                   -2          2 - En traitement                               9\n",
       "                    0          3 - Empruntable                              3692\n",
       "                    4          8 - Sorti des collections                     318\n",
       "MED                -4          5 - En réparation                             943\n",
       "                   -3          6 -  En retrait                              1313\n",
       "                   -2          2 - En traitement                             741\n",
       "                   -1          1 - En commande                               122\n",
       "                    0          3 - Empruntable                            206570\n",
       "                    2          4 - Réservé à la consultation sur place     51654\n",
       "                    4          8 - Sorti des collections                    8598\n",
       "                    5          7 - En reliure                                 94\n",
       "dtype: int64"
      ]
     },
     "execution_count": 61,
     "metadata": {},
     "output_type": "execute_result"
    }
   ],
   "source": [
    "vue_ensemble_statuts = items.groupby([\"site propriétaire\",\"notforloan\",\"statut\"]).size()\n",
    "vue_ensemble_statuts"
   ]
  },
  {
   "cell_type": "markdown",
   "id": "7965e4e9",
   "metadata": {},
   "source": [
    "### Docs Prétendus rendus statut empruntable et pas perdus"
   ]
  },
  {
   "cell_type": "code",
   "execution_count": 77,
   "id": "935b8f27",
   "metadata": {},
   "outputs": [],
   "source": [
    "anomalies_docs_pretendus_rendus_mais_statut_empruntable = items[(items['abimé']=='Prétendu rendu') &\n",
    "                                                          (items['statut']=='3 - Empruntable') &\n",
    "                                                          (items['perdu']=='Non')\n",
    "                                                         ]\n",
    "\n",
    "# docs_pretendus_rendus_mais_statut_empruntable"
   ]
  },
  {
   "cell_type": "markdown",
   "id": "d422da7a",
   "metadata": {},
   "source": [
    "### Documents abimés\n",
    "\n",
    "Voici une description de la méthode employée pour générer la liste des anomalies d'exemplaires abimés : \n",
    "* J'ai d'abord affiché une liste des valeurs pour la colonne `abimé` (cela servira pour les requêtes)\n",
    "* J'ai ensuite défini la variable `docs_abimés` comme la liste des documents marqués en `Abimé`\n",
    "* J'ai ensuite défini la variable `anomalies_docs_abimes`comme la liste des docs abimés ayant été marqué en abimé depuis plus d'un an (grâce à la variable `deadline_1_an`)\n",
    "* J'ai ensuit utilisé la fonction `groupby` afin d'afficher la liste des docs abimés par statut\n",
    "* J'ai pu filtrer et générer deux listes différentes grâce àa la fonction `.localisation.str.contains` : \n",
    " - la première comprends les anomalies localisées ailleurs que dans les magasins `anomalies_docs_abimes_coll`\n",
    " - La seconde liste concerne les anomalies localisées dans les différents magasins `anomalies_docs_abimes_mag` \n",
    "* **On a comme résultat une liste des documents marqués comme abimés depuis plus d'un an et qui ne sont ni sortis des collections ni des documents localisés au magasin**"
   ]
  },
  {
   "cell_type": "code",
   "execution_count": 62,
   "id": "bf3fbf2e",
   "metadata": {},
   "outputs": [],
   "source": [
    "docs_abimes = items[items[\"abimé\"]==\"Abimé\"]\n",
    "anomalies_docs_abimes = docs_abimes[docs_abimes[\"abimé le\"]<deadline_1_an]\n",
    "anomalies_docs_abimes.groupby(\"statut\").size()\n",
    "# Les docs abimés avec statut SORTI DES COLLECTIONS ou CONSULTABLE AU MUSEE ne sont pas des anomalies, on les exclue :\n",
    "anomalies_docs_abimes = anomalies_docs_abimes[~anomalies_docs_abimes[\"notforloan\"].isin([4,3])]\n",
    "anomalies_docs_abimes[\"localisation\"] = anomalies_docs_abimes[\"localisation\"].astype(str)"
   ]
  },
  {
   "cell_type": "code",
   "execution_count": 78,
   "id": "68b20d6c",
   "metadata": {},
   "outputs": [],
   "source": [
    "anomalies_docs_abimes_coll = anomalies_docs_abimes[~anomalies_docs_abimes.localisation.str.contains('Mag')]\n",
    "anomalies_docs_abimes_mag = anomalies_docs_abimes[anomalies_docs_abimes.localisation.str.contains('Magasin')]"
   ]
  },
  {
   "cell_type": "markdown",
   "id": "a8a66f04",
   "metadata": {},
   "source": [
    "### Documents en retrait"
   ]
  },
  {
   "cell_type": "code",
   "execution_count": 79,
   "id": "148f1424",
   "metadata": {},
   "outputs": [],
   "source": [
    "docs_en_retrait = items[items['notforloan'].isin([-3])]\n",
    "anomalies_docs_en_retrait = docs_en_retrait[docs_en_retrait[\"date dernier changement\"] < deadline_1_an]"
   ]
  },
  {
   "cell_type": "markdown",
   "id": "132edbcc",
   "metadata": {},
   "source": [
    "### Documents en commande"
   ]
  },
  {
   "cell_type": "code",
   "execution_count": 80,
   "id": "0cc2c40f",
   "metadata": {},
   "outputs": [],
   "source": [
    "docs_en_commande = items[items['notforloan'].isin([-1])]\n",
    "anomalies_docs_en_commande = docs_en_commande[docs_en_commande['date dernier changement'] < deadline_6_mois]"
   ]
  },
  {
   "cell_type": "markdown",
   "id": "81139b83",
   "metadata": {},
   "source": [
    "### Documents en traitements"
   ]
  },
  {
   "cell_type": "code",
   "execution_count": 81,
   "id": "ab01bdb8",
   "metadata": {},
   "outputs": [],
   "source": [
    "docs_en_traitement = items[items[\"notforloan\"].isin([-2])]\n",
    "anomalies_docs_en_traitement = docs_en_traitement[docs_en_traitement[\"date dernier changement\"] < deadline_3_mois]"
   ]
  },
  {
   "cell_type": "markdown",
   "id": "49e2b6ce",
   "metadata": {},
   "source": [
    "### Documents en réparation"
   ]
  },
  {
   "cell_type": "code",
   "execution_count": 82,
   "id": "78c8e355",
   "metadata": {},
   "outputs": [],
   "source": [
    "docs_en_reparation = items[items['notforloan'].isin([-4])]\n",
    "anomalies_docs_en_reparation = docs_en_reparation[docs_en_reparation[\"date dernier changement\"] < deadline_1_an]"
   ]
  },
  {
   "cell_type": "markdown",
   "id": "f1ebf89d",
   "metadata": {},
   "source": [
    "### Documents en reliure"
   ]
  },
  {
   "cell_type": "code",
   "execution_count": 83,
   "id": "61781ce7",
   "metadata": {},
   "outputs": [],
   "source": [
    "anomalies_docs_en_reliure = items[items[\"notforloan\"]== 5]"
   ]
  },
  {
   "cell_type": "code",
   "execution_count": 84,
   "id": "974ae983",
   "metadata": {},
   "outputs": [],
   "source": [
    "perios = items[items['type de support']  == 'Périodique']"
   ]
  },
  {
   "cell_type": "code",
   "execution_count": 86,
   "id": "41924425",
   "metadata": {},
   "outputs": [],
   "source": [
    "with pd.ExcelWriter(f\"../data/collections/anomalies/anomalies_exemplaires_prblm_statuts_{timestamp}.xlsx\") as writer:\n",
    "    anomalies_docs_abimes_coll[colonnes_a_exporter].to_excel(writer,sheet_name=\"doc_abime_coll\",index=False)\n",
    "    anomalies_docs_abimes_mag[colonnes_a_exporter].to_excel(writer,sheet_name=\"doc_abime_mag\",index=False)\n",
    "    anomalies_docs_en_retrait[colonnes_a_exporter].to_excel(writer,sheet_name=\"doc_en_retrait\",index=False)\n",
    "    anomalies_docs_en_commande[colonnes_a_exporter].to_excel(writer,sheet_name=\"doc_en_commande\",index=False)\n",
    "    anomalies_docs_en_traitement[colonnes_a_exporter].to_excel(writer,sheet_name=\"doc_en_traitement\",index=False)\n",
    "    anomalies_docs_en_reparation[colonnes_a_exporter].to_excel(writer,sheet_name=\"doc_en_reparation\",index=False)\n",
    "    anomalies_docs_en_reliure[colonnes_a_exporter].to_excel(writer,sheet_name=\"doc_en_reliure\",index=False)\n",
    "    anomalies_docs_pretendus_rendus_mais_statut_empruntable[colonnes_a_exporter].to_excel(writer,sheet_name='docs_pretendus_rendus',index=False)"
   ]
  },
  {
   "cell_type": "markdown",
   "id": "def43007",
   "metadata": {},
   "source": [
    "# Nouvelles colonnes à récuperer"
   ]
  },
  {
   "cell_type": "code",
   "execution_count": null,
   "id": "7a4ad1f6",
   "metadata": {},
   "outputs": [],
   "source": []
  }
 ],
 "metadata": {
  "kernelspec": {
   "display_name": "Python 3 (ipykernel)",
   "language": "python",
   "name": "python3"
  },
  "language_info": {
   "codemirror_mode": {
    "name": "ipython",
    "version": 3
   },
   "file_extension": ".py",
   "mimetype": "text/x-python",
   "name": "python",
   "nbconvert_exporter": "python",
   "pygments_lexer": "ipython3",
   "version": "3.8.12"
  }
 },
 "nbformat": 4,
 "nbformat_minor": 5
}
