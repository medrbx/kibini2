{
 "cells": [
  {
   "cell_type": "code",
   "execution_count": 1,
   "id": "66c702ac",
   "metadata": {},
   "outputs": [],
   "source": [
    "import sys\n",
    "import pandas as pd\n",
    "import datetime\n",
    "from os.path import join\n",
    "\n",
    "from kiblib.utils.db import DbConn\n",
    "from kiblib.utils.conf import Config\n",
    "from kiblib.utils.date import get_date_and_time\n",
    "\n",
    "db_conn = DbConn().create_engine()"
   ]
  },
  {
   "cell_type": "code",
   "execution_count": 2,
   "id": "4e0e35e9",
   "metadata": {},
   "outputs": [
    {
     "data": {
      "text/plain": [
       "'2025-01-31'"
      ]
     },
     "execution_count": 2,
     "metadata": {},
     "output_type": "execute_result"
    }
   ],
   "source": [
    "text= \"2025-01-31\"\n",
    "text.lstrip(\"0\")"
   ]
  },
  {
   "cell_type": "code",
   "execution_count": 3,
   "id": "ef9ba634",
   "metadata": {},
   "outputs": [],
   "source": [
    "dataframes = []"
   ]
  },
  {
   "cell_type": "code",
   "execution_count": 4,
   "id": "456188d9",
   "metadata": {},
   "outputs": [],
   "source": [
    "presence = pd.ExcelFile(\"/home/kibini/MediathequedeRoubaix(2025-01-08)0111.xlsx\")"
   ]
  },
  {
   "cell_type": "code",
   "execution_count": 5,
   "id": "192a7538",
   "metadata": {},
   "outputs": [],
   "source": [
    "for sheetname in presence.sheet_names:\n",
    "    #print(sheetname)\n",
    "    day=int(sheetname[0:2].lstrip(\"0\"))\n",
    "    month=int(sheetname[3:5].lstrip(\"0\"))\n",
    "    year=int(sheetname[6:11])\n",
    "    #print(f\"jour {str(day)}, mois {str(month)}, année {year}\")\n",
    "    df = presence.parse(sheet_names=sheetname,names=['datetime','nb_personnes_presentes'])\n",
    "    df = df[~df['datetime'].isna()] # \n",
    "    df = df[df['nb_personnes_presentes']!=0]\n",
    "    df = df[df['datetime'].str.match('^\\d')]\n",
    "    \n",
    "    df[['heure', 'minute']] = df['datetime'].str.split('h', expand=True).astype(int)\n",
    "\n",
    "    # Convertir en objets time\n",
    "    df['datetime'] = df.apply(lambda row: datetime.datetime(year=year,month=month,day=day,hour=row['heure'],minute=row['minute'],second=0), axis=1)\n",
    "\n",
    "    # Supprimer les colonnes intermédiaires si nécessaire\n",
    "    df.drop(columns=['heure', 'minute'], inplace=True)\n",
    "        \n",
    "    \n",
    "    dataframes.append(df)\n",
    "    \n",
    "    \n",
    "    \n",
    "df = pd.concat(dataframes)\n",
    "df = df.sort_values(by='datetime')\n",
    "df = df.drop_duplicates()\n",
    "\n",
    "resultat = pd.concat(dataframes)"
   ]
  },
  {
   "cell_type": "code",
   "execution_count": 20,
   "id": "f0b8fd26",
   "metadata": {},
   "outputs": [
    {
     "data": {
      "text/plain": [
       "2      Wednesday 08 January 01 2025\n",
       "3      Wednesday 08 January 01 2025\n",
       "4      Wednesday 08 January 01 2025\n",
       "5      Wednesday 08 January 01 2025\n",
       "6      Wednesday 08 January 01 2025\n",
       "                   ...             \n",
       "116     Saturday 11 January 01 2025\n",
       "117     Saturday 11 January 01 2025\n",
       "118     Saturday 11 January 01 2025\n",
       "119     Saturday 11 January 01 2025\n",
       "120     Saturday 11 January 01 2025\n",
       "Name: datetime, Length: 476, dtype: object"
      ]
     },
     "execution_count": 20,
     "metadata": {},
     "output_type": "execute_result"
    }
   ],
   "source": [
    "resultat['datetime'].dt.strftime(\"%A %d %B %m %Y\")"
   ]
  },
  {
   "cell_type": "code",
   "execution_count": 7,
   "id": "61386b2c",
   "metadata": {},
   "outputs": [
    {
     "data": {
      "text/plain": [
       "'12'"
      ]
     },
     "execution_count": 7,
     "metadata": {},
     "output_type": "execute_result"
    }
   ],
   "source": [
    "date = \"01-12-2025\"\n",
    "date[3:5]"
   ]
  },
  {
   "cell_type": "code",
   "execution_count": 8,
   "id": "7a4d5ccd",
   "metadata": {},
   "outputs": [
    {
     "data": {
      "text/plain": [
       "'45'"
      ]
     },
     "execution_count": 8,
     "metadata": {},
     "output_type": "execute_result"
    }
   ],
   "source": [
    "timestamp = \"9h45\"\n",
    "timestamp.split(\"h\")[1]"
   ]
  },
  {
   "cell_type": "code",
   "execution_count": 9,
   "id": "3168401b",
   "metadata": {},
   "outputs": [
    {
     "data": {
      "text/plain": [
       "datetime.time(9, 45)"
      ]
     },
     "execution_count": 9,
     "metadata": {},
     "output_type": "execute_result"
    }
   ],
   "source": [
    "datetime.time(int(timestamp.split(\"h\")[0]),int(timestamp.split(\"h\")[1]))"
   ]
  },
  {
   "cell_type": "code",
   "execution_count": null,
   "id": "d653fa70",
   "metadata": {},
   "outputs": [],
   "source": []
  }
 ],
 "metadata": {
  "kernelspec": {
   "display_name": "Python 3 (ipykernel)",
   "language": "python",
   "name": "python3"
  },
  "language_info": {
   "codemirror_mode": {
    "name": "ipython",
    "version": 3
   },
   "file_extension": ".py",
   "mimetype": "text/x-python",
   "name": "python",
   "nbconvert_exporter": "python",
   "pygments_lexer": "ipython3",
   "version": "3.8.12"
  }
 },
 "nbformat": 4,
 "nbformat_minor": 5
}
