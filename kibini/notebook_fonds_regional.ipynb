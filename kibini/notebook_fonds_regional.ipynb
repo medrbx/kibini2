{
 "cells": [
  {
   "cell_type": "code",
   "execution_count": 1,
   "id": "92ed5074",
   "metadata": {},
   "outputs": [],
   "source": [
    "import pandas as pd\n",
    "import numpy as np\n",
    "\n",
    "import matplotlib.pyplot as plt\n",
    "import seaborn as sns\n",
    "sns.set_style(\"darkgrid\")\n",
    "import datetime\n",
    "\n",
    "from kiblib.utils.db import DbConn"
   ]
  },
  {
   "cell_type": "code",
   "execution_count": 2,
   "id": "1e34ab67",
   "metadata": {},
   "outputs": [],
   "source": [
    "db_conn = DbConn().create_engine()"
   ]
  },
  {
   "cell_type": "code",
   "execution_count": 142,
   "id": "35cd7e58",
   "metadata": {},
   "outputs": [],
   "source": [
    "query = \"\"\"\n",
    "SELECT * FROM statdb.stat_issues\n",
    "WHERE location = 'MED0C' AND DATE(issuedate) >= CURDATE() - INTERVAL 1 YEAR\n",
    "\"\"\"\n",
    "prets = pd.read_sql(query, con=db_conn)\n",
    "prets = prets[prets[\"ccode\"].str[0:5] != 'AAPBD']\n",
    "prets = prets[~prets[\"ccode\"].isin(['P17', 'ALTFAZZ'])]\n",
    "prets['fr'] = np.nan\n",
    "prets.loc[prets['itemcallnumber'].str.match(r'^ROUB', case=False, na=False), 'fr'] = 'ROUBAIX'\n",
    "prets.loc[prets['itemcallnumber'].str.match(r'^FR(\\/|\\s)BD', case=False, na=False), 'fr'] = 'FR BD'\n",
    "prets.loc[prets['itemcallnumber'].str.match(r'^FR(\\/|\\s)PICARD', case=False, na=False), 'fr'] = 'FR PICARD'\n",
    "prets.loc[prets['itemcallnumber'].str.match(r'^FR(\\/|\\s)RP', case=False, na=False), 'fr'] = 'FR RP'\n",
    "prets.loc[prets['itemcallnumber'].str.match(r'^FR(\\/|\\s)R(\\/|\\s)', case=False, na=False), 'fr'] = 'FR R'\n",
    "prets.loc[prets['itemcallnumber'].str.match(r'^FR(\\/|\\s)\\d', case=False, na=False), 'fr'] = 'FR 004-956'"
   ]
  },
  {
   "cell_type": "code",
   "execution_count": 144,
   "id": "ce89005b",
   "metadata": {},
   "outputs": [
    {
     "data": {
      "text/html": [
       "<div>\n",
       "<style scoped>\n",
       "    .dataframe tbody tr th:only-of-type {\n",
       "        vertical-align: middle;\n",
       "    }\n",
       "\n",
       "    .dataframe tbody tr th {\n",
       "        vertical-align: top;\n",
       "    }\n",
       "\n",
       "    .dataframe thead th {\n",
       "        text-align: right;\n",
       "    }\n",
       "</style>\n",
       "<table border=\"1\" class=\"dataframe\">\n",
       "  <thead>\n",
       "    <tr style=\"text-align: right;\">\n",
       "      <th></th>\n",
       "      <th>fr</th>\n",
       "      <th>prêts</th>\n",
       "      <th>exemplaires_uniques</th>\n",
       "      <th>emprunteurs</th>\n",
       "    </tr>\n",
       "  </thead>\n",
       "  <tbody>\n",
       "    <tr>\n",
       "      <th>0</th>\n",
       "      <td>FR 004-956</td>\n",
       "      <td>742</td>\n",
       "      <td>436</td>\n",
       "      <td>259</td>\n",
       "    </tr>\n",
       "    <tr>\n",
       "      <th>1</th>\n",
       "      <td>FR BD</td>\n",
       "      <td>414</td>\n",
       "      <td>213</td>\n",
       "      <td>161</td>\n",
       "    </tr>\n",
       "    <tr>\n",
       "      <th>2</th>\n",
       "      <td>FR PICARD</td>\n",
       "      <td>2</td>\n",
       "      <td>1</td>\n",
       "      <td>2</td>\n",
       "    </tr>\n",
       "    <tr>\n",
       "      <th>3</th>\n",
       "      <td>FR R</td>\n",
       "      <td>573</td>\n",
       "      <td>269</td>\n",
       "      <td>259</td>\n",
       "    </tr>\n",
       "    <tr>\n",
       "      <th>4</th>\n",
       "      <td>FR RP</td>\n",
       "      <td>505</td>\n",
       "      <td>252</td>\n",
       "      <td>134</td>\n",
       "    </tr>\n",
       "    <tr>\n",
       "      <th>5</th>\n",
       "      <td>ROUBAIX</td>\n",
       "      <td>209</td>\n",
       "      <td>121</td>\n",
       "      <td>82</td>\n",
       "    </tr>\n",
       "  </tbody>\n",
       "</table>\n",
       "</div>"
      ],
      "text/plain": [
       "           fr  prêts  exemplaires_uniques  emprunteurs\n",
       "0  FR 004-956    742                  436          259\n",
       "1       FR BD    414                  213          161\n",
       "2   FR PICARD      2                    1            2\n",
       "3        FR R    573                  269          259\n",
       "4       FR RP    505                  252          134\n",
       "5     ROUBAIX    209                  121           82"
      ]
     },
     "execution_count": 144,
     "metadata": {},
     "output_type": "execute_result"
    }
   ],
   "source": [
    "prets_fr = prets.groupby(['fr']).agg({\"issuedate\": 'count',\n",
    "                                      \"itemnumber\": pd.Series.nunique,\n",
    "                                      \"borrowernumber\": pd.Series.nunique}).reset_index()\n",
    "prets_fr = prets_fr.rename(columns={'issuedate': 'prêts', 'itemnumber':'exemplaires_uniques', 'borrowernumber': 'emprunteurs'})\n",
    "prets_fr"
   ]
  },
  {
   "cell_type": "code",
   "execution_count": 136,
   "id": "aacce24a",
   "metadata": {},
   "outputs": [],
   "source": [
    "query = \"\"\"\n",
    "SELECT itemnumber, ccode, itemcallnumber FROM koha_prod.items\n",
    "WHERE location = 'MED0C' AND notforloan = 0\n",
    "\"\"\"\n",
    "items = pd.read_sql(query, con=db_conn)\n",
    "\n",
    "query = \"\"\"\n",
    "SELECT itemnumber FROM koha_prod.items\n",
    "WHERE location = 'MED0C' AND notforloan = 0\n",
    "AND itemnumber IN (SELECT itemnumber FROM koha_prod.issues)\n",
    "\"\"\"\n",
    "items_inissues = pd.read_sql(query, con=db_conn)\n",
    "items_inissues['inissue'] = True\n",
    "\n",
    "items = items.merge(items_inissues, on='itemnumber', how='left')\n",
    "items['inissue'] = items['inissue'].fillna(False)"
   ]
  },
  {
   "cell_type": "code",
   "execution_count": 137,
   "id": "a1a9a8ee",
   "metadata": {},
   "outputs": [],
   "source": [
    "items = items[items[\"ccode\"].str[0:5] != 'AAPBD']\n",
    "items = items[~items[\"ccode\"].isin(['P17', 'ALTFAZZ'])]\n",
    "items['fr'] = np.nan\n",
    "items.loc[items['itemcallnumber'].str.match(r'^ROUB', case=False, na=False), 'fr'] = 'ROUBAIX'\n",
    "items.loc[items['itemcallnumber'].str.match(r'^FR(\\/|\\s)BD', case=False, na=False), 'fr'] = 'FR BD'\n",
    "items.loc[items['itemcallnumber'].str.match(r'^FR(\\/|\\s)PICARD', case=False, na=False), 'fr'] = 'FR PICARD'\n",
    "items.loc[items['itemcallnumber'].str.match(r'^FR(\\/|\\s)RP', case=False, na=False), 'fr'] = 'FR RP'\n",
    "items.loc[items['itemcallnumber'].str.match(r'^FR(\\/|\\s)R(\\/|\\s)', case=False, na=False), 'fr'] = 'FR R'\n",
    "items.loc[items['itemcallnumber'].str.match(r'^FR(\\/|\\s)\\d', case=False, na=False), 'fr'] = 'FR 004-956'"
   ]
  },
  {
   "cell_type": "code",
   "execution_count": 138,
   "id": "77e857d6",
   "metadata": {},
   "outputs": [
    {
     "data": {
      "text/html": [
       "<div>\n",
       "<style scoped>\n",
       "    .dataframe tbody tr th:only-of-type {\n",
       "        vertical-align: middle;\n",
       "    }\n",
       "\n",
       "    .dataframe tbody tr th {\n",
       "        vertical-align: top;\n",
       "    }\n",
       "\n",
       "    .dataframe thead th {\n",
       "        text-align: right;\n",
       "    }\n",
       "</style>\n",
       "<table border=\"1\" class=\"dataframe\">\n",
       "  <thead>\n",
       "    <tr style=\"text-align: right;\">\n",
       "      <th></th>\n",
       "      <th>fr</th>\n",
       "      <th>exemplaires</th>\n",
       "    </tr>\n",
       "  </thead>\n",
       "  <tbody>\n",
       "    <tr>\n",
       "      <th>0</th>\n",
       "      <td>FR 004-956</td>\n",
       "      <td>1721</td>\n",
       "    </tr>\n",
       "    <tr>\n",
       "      <th>1</th>\n",
       "      <td>FR BD</td>\n",
       "      <td>370</td>\n",
       "    </tr>\n",
       "    <tr>\n",
       "      <th>2</th>\n",
       "      <td>FR PICARD</td>\n",
       "      <td>35</td>\n",
       "    </tr>\n",
       "    <tr>\n",
       "      <th>3</th>\n",
       "      <td>FR R</td>\n",
       "      <td>603</td>\n",
       "    </tr>\n",
       "    <tr>\n",
       "      <th>4</th>\n",
       "      <td>FR RP</td>\n",
       "      <td>431</td>\n",
       "    </tr>\n",
       "    <tr>\n",
       "      <th>5</th>\n",
       "      <td>ROUBAIX</td>\n",
       "      <td>335</td>\n",
       "    </tr>\n",
       "  </tbody>\n",
       "</table>\n",
       "</div>"
      ],
      "text/plain": [
       "           fr  exemplaires\n",
       "0  FR 004-956         1721\n",
       "1       FR BD          370\n",
       "2   FR PICARD           35\n",
       "3        FR R          603\n",
       "4       FR RP          431\n",
       "5     ROUBAIX          335"
      ]
     },
     "execution_count": 138,
     "metadata": {},
     "output_type": "execute_result"
    }
   ],
   "source": [
    "items_fr = items.groupby(['fr']).agg({\"itemnumber\": 'count'}).reset_index()\n",
    "items_fr = items_fr.rename(columns={'itemnumber': 'exemplaires'})\n",
    "items_fr"
   ]
  },
  {
   "cell_type": "code",
   "execution_count": 145,
   "id": "9487294f",
   "metadata": {},
   "outputs": [
    {
     "data": {
      "text/html": [
       "<div>\n",
       "<style scoped>\n",
       "    .dataframe tbody tr th:only-of-type {\n",
       "        vertical-align: middle;\n",
       "    }\n",
       "\n",
       "    .dataframe tbody tr th {\n",
       "        vertical-align: top;\n",
       "    }\n",
       "\n",
       "    .dataframe thead th {\n",
       "        text-align: right;\n",
       "    }\n",
       "</style>\n",
       "<table border=\"1\" class=\"dataframe\">\n",
       "  <thead>\n",
       "    <tr style=\"text-align: right;\">\n",
       "      <th></th>\n",
       "      <th>fr</th>\n",
       "      <th>exemplaires_sorties</th>\n",
       "    </tr>\n",
       "  </thead>\n",
       "  <tbody>\n",
       "    <tr>\n",
       "      <th>0</th>\n",
       "      <td>FR 004-956</td>\n",
       "      <td>50</td>\n",
       "    </tr>\n",
       "    <tr>\n",
       "      <th>1</th>\n",
       "      <td>FR BD</td>\n",
       "      <td>30</td>\n",
       "    </tr>\n",
       "    <tr>\n",
       "      <th>2</th>\n",
       "      <td>FR R</td>\n",
       "      <td>37</td>\n",
       "    </tr>\n",
       "    <tr>\n",
       "      <th>3</th>\n",
       "      <td>FR RP</td>\n",
       "      <td>40</td>\n",
       "    </tr>\n",
       "    <tr>\n",
       "      <th>4</th>\n",
       "      <td>ROUBAIX</td>\n",
       "      <td>15</td>\n",
       "    </tr>\n",
       "  </tbody>\n",
       "</table>\n",
       "</div>"
      ],
      "text/plain": [
       "           fr  exemplaires_sorties\n",
       "0  FR 004-956                   50\n",
       "1       FR BD                   30\n",
       "2        FR R                   37\n",
       "3       FR RP                   40\n",
       "4     ROUBAIX                   15"
      ]
     },
     "execution_count": 145,
     "metadata": {},
     "output_type": "execute_result"
    }
   ],
   "source": [
    "items_fr_inissue = items[items['inissue']  == True].groupby(['fr']).agg({\"itemnumber\": 'count'}).reset_index()\n",
    "items_fr_inissue = items_fr_inissue.rename(columns={'itemnumber': 'exemplaires_sorties'})\n",
    "items_fr_inissue"
   ]
  },
  {
   "cell_type": "code",
   "execution_count": 148,
   "id": "75d4dbd9",
   "metadata": {},
   "outputs": [
    {
     "data": {
      "text/plain": [
       "Index(['fr', 'exemplaires', 'prêts', 'exemplaires_uniques', 'emprunteurs',\n",
       "       'exemplaires_sorties'],\n",
       "      dtype='object')"
      ]
     },
     "execution_count": 148,
     "metadata": {},
     "output_type": "execute_result"
    }
   ],
   "source": [
    "fond_reg = items_fr.merge(prets_fr, on='fr')\n",
    "fond_reg = fond_reg.merge(items_fr_inissue, on='fr')\n",
    "fond_reg.columns"
   ]
  },
  {
   "cell_type": "code",
   "execution_count": 150,
   "id": "54847d9d",
   "metadata": {},
   "outputs": [
    {
     "data": {
      "text/html": [
       "<div>\n",
       "<style scoped>\n",
       "    .dataframe tbody tr th:only-of-type {\n",
       "        vertical-align: middle;\n",
       "    }\n",
       "\n",
       "    .dataframe tbody tr th {\n",
       "        vertical-align: top;\n",
       "    }\n",
       "\n",
       "    .dataframe thead th {\n",
       "        text-align: right;\n",
       "    }\n",
       "</style>\n",
       "<table border=\"1\" class=\"dataframe\">\n",
       "  <thead>\n",
       "    <tr style=\"text-align: right;\">\n",
       "      <th></th>\n",
       "      <th>fr</th>\n",
       "      <th>exemplaires</th>\n",
       "      <th>prêts</th>\n",
       "      <th>emprunteurs</th>\n",
       "      <th>tx_rotation</th>\n",
       "      <th>tx_actif</th>\n",
       "      <th>tx_sortie</th>\n",
       "    </tr>\n",
       "  </thead>\n",
       "  <tbody>\n",
       "    <tr>\n",
       "      <th>0</th>\n",
       "      <td>FR 004-956</td>\n",
       "      <td>1721</td>\n",
       "      <td>742</td>\n",
       "      <td>259</td>\n",
       "      <td>0.43</td>\n",
       "      <td>0.25</td>\n",
       "      <td>0.03</td>\n",
       "    </tr>\n",
       "    <tr>\n",
       "      <th>1</th>\n",
       "      <td>FR BD</td>\n",
       "      <td>370</td>\n",
       "      <td>414</td>\n",
       "      <td>161</td>\n",
       "      <td>1.12</td>\n",
       "      <td>0.58</td>\n",
       "      <td>0.08</td>\n",
       "    </tr>\n",
       "    <tr>\n",
       "      <th>2</th>\n",
       "      <td>FR R</td>\n",
       "      <td>603</td>\n",
       "      <td>573</td>\n",
       "      <td>259</td>\n",
       "      <td>0.95</td>\n",
       "      <td>0.45</td>\n",
       "      <td>0.06</td>\n",
       "    </tr>\n",
       "    <tr>\n",
       "      <th>3</th>\n",
       "      <td>FR RP</td>\n",
       "      <td>431</td>\n",
       "      <td>505</td>\n",
       "      <td>134</td>\n",
       "      <td>1.17</td>\n",
       "      <td>0.58</td>\n",
       "      <td>0.09</td>\n",
       "    </tr>\n",
       "    <tr>\n",
       "      <th>4</th>\n",
       "      <td>ROUBAIX</td>\n",
       "      <td>335</td>\n",
       "      <td>209</td>\n",
       "      <td>82</td>\n",
       "      <td>0.62</td>\n",
       "      <td>0.36</td>\n",
       "      <td>0.04</td>\n",
       "    </tr>\n",
       "  </tbody>\n",
       "</table>\n",
       "</div>"
      ],
      "text/plain": [
       "           fr  exemplaires  prêts  emprunteurs  tx_rotation  tx_actif  \\\n",
       "0  FR 004-956         1721    742          259         0.43      0.25   \n",
       "1       FR BD          370    414          161         1.12      0.58   \n",
       "2        FR R          603    573          259         0.95      0.45   \n",
       "3       FR RP          431    505          134         1.17      0.58   \n",
       "4     ROUBAIX          335    209           82         0.62      0.36   \n",
       "\n",
       "   tx_sortie  \n",
       "0       0.03  \n",
       "1       0.08  \n",
       "2       0.06  \n",
       "3       0.09  \n",
       "4       0.04  "
      ]
     },
     "execution_count": 150,
     "metadata": {},
     "output_type": "execute_result"
    }
   ],
   "source": [
    "fond_reg['tx_rotation'] = round(fond_reg['prêts'] / fond_reg['exemplaires'], 2)\n",
    "fond_reg['tx_actif'] = round(fond_reg['exemplaires_uniques'] / fond_reg['exemplaires'], 2)\n",
    "fond_reg['tx_sortie'] = round(fond_reg['exemplaires_sorties'] / fond_reg['exemplaires'], 2)\n",
    "fond_reg[['fr', 'exemplaires', 'prêts', 'emprunteurs', 'tx_rotation', 'tx_actif', 'tx_sortie']]"
   ]
  },
  {
   "cell_type": "code",
   "execution_count": null,
   "id": "6ecaa22d",
   "metadata": {},
   "outputs": [],
   "source": []
  },
  {
   "cell_type": "code",
   "execution_count": 3,
   "id": "d9b32759",
   "metadata": {},
   "outputs": [],
   "source": [
    "query = \"\"\"\n",
    "SELECT * FROM statdb.stat_issues\n",
    "WHERE location = 'MED0C' AND DATE(issuedate) >= CURDATE() - INTERVAL 1 YEAR\n",
    "\"\"\"\n",
    "prets = pd.read_sql(query, con=db_conn)\n",
    "prets = prets[prets[\"ccode\"].isin(['PRRMEZZ', 'PRRFIZZ'])]\n",
    "prets['fr'] = prets[\"ccode\"]"
   ]
  },
  {
   "cell_type": "code",
   "execution_count": 4,
   "id": "42a9585c",
   "metadata": {},
   "outputs": [
    {
     "data": {
      "text/html": [
       "<div>\n",
       "<style scoped>\n",
       "    .dataframe tbody tr th:only-of-type {\n",
       "        vertical-align: middle;\n",
       "    }\n",
       "\n",
       "    .dataframe tbody tr th {\n",
       "        vertical-align: top;\n",
       "    }\n",
       "\n",
       "    .dataframe thead th {\n",
       "        text-align: right;\n",
       "    }\n",
       "</style>\n",
       "<table border=\"1\" class=\"dataframe\">\n",
       "  <thead>\n",
       "    <tr style=\"text-align: right;\">\n",
       "      <th></th>\n",
       "      <th>fr</th>\n",
       "      <th>prêts</th>\n",
       "      <th>exemplaires_uniques</th>\n",
       "      <th>emprunteurs</th>\n",
       "    </tr>\n",
       "  </thead>\n",
       "  <tbody>\n",
       "    <tr>\n",
       "      <th>0</th>\n",
       "      <td>PRRFIZZ</td>\n",
       "      <td>364</td>\n",
       "      <td>136</td>\n",
       "      <td>100</td>\n",
       "    </tr>\n",
       "    <tr>\n",
       "      <th>1</th>\n",
       "      <td>PRRMEZZ</td>\n",
       "      <td>143</td>\n",
       "      <td>96</td>\n",
       "      <td>49</td>\n",
       "    </tr>\n",
       "  </tbody>\n",
       "</table>\n",
       "</div>"
      ],
      "text/plain": [
       "        fr  prêts  exemplaires_uniques  emprunteurs\n",
       "0  PRRFIZZ    364                  136          100\n",
       "1  PRRMEZZ    143                   96           49"
      ]
     },
     "execution_count": 4,
     "metadata": {},
     "output_type": "execute_result"
    }
   ],
   "source": [
    "prets_fr = prets.groupby(['fr']).agg({\"issuedate\": 'count',\n",
    "                                      \"itemnumber\": pd.Series.nunique,\n",
    "                                      \"borrowernumber\": pd.Series.nunique}).reset_index()\n",
    "prets_fr = prets_fr.rename(columns={'issuedate': 'prêts', 'itemnumber':'exemplaires_uniques', 'borrowernumber': 'emprunteurs'})\n",
    "prets_fr"
   ]
  },
  {
   "cell_type": "code",
   "execution_count": 5,
   "id": "13866732",
   "metadata": {},
   "outputs": [],
   "source": [
    "query = \"\"\"\n",
    "SELECT itemnumber, ccode, itemcallnumber FROM koha_prod.items\n",
    "WHERE location = 'MED0C' AND notforloan = 0\n",
    "\"\"\"\n",
    "items = pd.read_sql(query, con=db_conn)\n",
    "\n",
    "query = \"\"\"\n",
    "SELECT itemnumber FROM koha_prod.items\n",
    "WHERE location = 'MED0C' AND notforloan = 0\n",
    "AND itemnumber IN (SELECT itemnumber FROM koha_prod.issues)\n",
    "\"\"\"\n",
    "items_inissues = pd.read_sql(query, con=db_conn)\n",
    "items_inissues['inissue'] = True\n",
    "\n",
    "items = items.merge(items_inissues, on='itemnumber', how='left')\n",
    "items['inissue'] = items['inissue'].fillna(False)"
   ]
  },
  {
   "cell_type": "code",
   "execution_count": 6,
   "id": "b561e669",
   "metadata": {},
   "outputs": [],
   "source": [
    "items = items[items[\"ccode\"].isin(['PRRMEZZ', 'PRRFIZZ'])]\n",
    "items['fr'] = items[\"ccode\"]"
   ]
  },
  {
   "cell_type": "code",
   "execution_count": 7,
   "id": "bfcf8b26",
   "metadata": {},
   "outputs": [
    {
     "data": {
      "text/html": [
       "<div>\n",
       "<style scoped>\n",
       "    .dataframe tbody tr th:only-of-type {\n",
       "        vertical-align: middle;\n",
       "    }\n",
       "\n",
       "    .dataframe tbody tr th {\n",
       "        vertical-align: top;\n",
       "    }\n",
       "\n",
       "    .dataframe thead th {\n",
       "        text-align: right;\n",
       "    }\n",
       "</style>\n",
       "<table border=\"1\" class=\"dataframe\">\n",
       "  <thead>\n",
       "    <tr style=\"text-align: right;\">\n",
       "      <th></th>\n",
       "      <th>fr</th>\n",
       "      <th>exemplaires</th>\n",
       "    </tr>\n",
       "  </thead>\n",
       "  <tbody>\n",
       "    <tr>\n",
       "      <th>0</th>\n",
       "      <td>PRRFIZZ</td>\n",
       "      <td>224</td>\n",
       "    </tr>\n",
       "    <tr>\n",
       "      <th>1</th>\n",
       "      <td>PRRMEZZ</td>\n",
       "      <td>527</td>\n",
       "    </tr>\n",
       "  </tbody>\n",
       "</table>\n",
       "</div>"
      ],
      "text/plain": [
       "        fr  exemplaires\n",
       "0  PRRFIZZ          224\n",
       "1  PRRMEZZ          527"
      ]
     },
     "execution_count": 7,
     "metadata": {},
     "output_type": "execute_result"
    }
   ],
   "source": [
    "items_fr = items.groupby(['fr']).agg({\"itemnumber\": 'count'}).reset_index()\n",
    "items_fr = items_fr.rename(columns={'itemnumber': 'exemplaires'})\n",
    "items_fr"
   ]
  },
  {
   "cell_type": "code",
   "execution_count": 8,
   "id": "b888686b",
   "metadata": {},
   "outputs": [
    {
     "data": {
      "text/html": [
       "<div>\n",
       "<style scoped>\n",
       "    .dataframe tbody tr th:only-of-type {\n",
       "        vertical-align: middle;\n",
       "    }\n",
       "\n",
       "    .dataframe tbody tr th {\n",
       "        vertical-align: top;\n",
       "    }\n",
       "\n",
       "    .dataframe thead th {\n",
       "        text-align: right;\n",
       "    }\n",
       "</style>\n",
       "<table border=\"1\" class=\"dataframe\">\n",
       "  <thead>\n",
       "    <tr style=\"text-align: right;\">\n",
       "      <th></th>\n",
       "      <th>fr</th>\n",
       "      <th>exemplaires_sorties</th>\n",
       "    </tr>\n",
       "  </thead>\n",
       "  <tbody>\n",
       "    <tr>\n",
       "      <th>0</th>\n",
       "      <td>PRRFIZZ</td>\n",
       "      <td>17</td>\n",
       "    </tr>\n",
       "    <tr>\n",
       "      <th>1</th>\n",
       "      <td>PRRMEZZ</td>\n",
       "      <td>6</td>\n",
       "    </tr>\n",
       "  </tbody>\n",
       "</table>\n",
       "</div>"
      ],
      "text/plain": [
       "        fr  exemplaires_sorties\n",
       "0  PRRFIZZ                   17\n",
       "1  PRRMEZZ                    6"
      ]
     },
     "execution_count": 8,
     "metadata": {},
     "output_type": "execute_result"
    }
   ],
   "source": [
    "items_fr_inissue = items[items['inissue']  == True].groupby(['fr']).agg({\"itemnumber\": 'count'}).reset_index()\n",
    "items_fr_inissue = items_fr_inissue.rename(columns={'itemnumber': 'exemplaires_sorties'})\n",
    "items_fr_inissue"
   ]
  },
  {
   "cell_type": "code",
   "execution_count": 9,
   "id": "23d81bf8",
   "metadata": {},
   "outputs": [
    {
     "data": {
      "text/plain": [
       "Index(['fr', 'exemplaires', 'prêts', 'exemplaires_uniques', 'emprunteurs',\n",
       "       'exemplaires_sorties'],\n",
       "      dtype='object')"
      ]
     },
     "execution_count": 9,
     "metadata": {},
     "output_type": "execute_result"
    }
   ],
   "source": [
    "fond_reg = items_fr.merge(prets_fr, on='fr')\n",
    "fond_reg = fond_reg.merge(items_fr_inissue, on='fr')\n",
    "fond_reg.columns"
   ]
  },
  {
   "cell_type": "code",
   "execution_count": 10,
   "id": "1d1e25e5",
   "metadata": {},
   "outputs": [
    {
     "data": {
      "text/html": [
       "<div>\n",
       "<style scoped>\n",
       "    .dataframe tbody tr th:only-of-type {\n",
       "        vertical-align: middle;\n",
       "    }\n",
       "\n",
       "    .dataframe tbody tr th {\n",
       "        vertical-align: top;\n",
       "    }\n",
       "\n",
       "    .dataframe thead th {\n",
       "        text-align: right;\n",
       "    }\n",
       "</style>\n",
       "<table border=\"1\" class=\"dataframe\">\n",
       "  <thead>\n",
       "    <tr style=\"text-align: right;\">\n",
       "      <th></th>\n",
       "      <th>fr</th>\n",
       "      <th>exemplaires</th>\n",
       "      <th>prêts</th>\n",
       "      <th>emprunteurs</th>\n",
       "      <th>tx_rotation</th>\n",
       "      <th>tx_actif</th>\n",
       "      <th>tx_sortie</th>\n",
       "    </tr>\n",
       "  </thead>\n",
       "  <tbody>\n",
       "    <tr>\n",
       "      <th>0</th>\n",
       "      <td>PRRFIZZ</td>\n",
       "      <td>224</td>\n",
       "      <td>364</td>\n",
       "      <td>100</td>\n",
       "      <td>1.62</td>\n",
       "      <td>0.61</td>\n",
       "      <td>0.08</td>\n",
       "    </tr>\n",
       "    <tr>\n",
       "      <th>1</th>\n",
       "      <td>PRRMEZZ</td>\n",
       "      <td>527</td>\n",
       "      <td>143</td>\n",
       "      <td>49</td>\n",
       "      <td>0.27</td>\n",
       "      <td>0.18</td>\n",
       "      <td>0.01</td>\n",
       "    </tr>\n",
       "  </tbody>\n",
       "</table>\n",
       "</div>"
      ],
      "text/plain": [
       "        fr  exemplaires  prêts  emprunteurs  tx_rotation  tx_actif  tx_sortie\n",
       "0  PRRFIZZ          224    364          100         1.62      0.61       0.08\n",
       "1  PRRMEZZ          527    143           49         0.27      0.18       0.01"
      ]
     },
     "execution_count": 10,
     "metadata": {},
     "output_type": "execute_result"
    }
   ],
   "source": [
    "fond_reg['tx_rotation'] = round(fond_reg['prêts'] / fond_reg['exemplaires'], 2)\n",
    "fond_reg['tx_actif'] = round(fond_reg['exemplaires_uniques'] / fond_reg['exemplaires'], 2)\n",
    "fond_reg['tx_sortie'] = round(fond_reg['exemplaires_sorties'] / fond_reg['exemplaires'], 2)\n",
    "fond_reg[['fr', 'exemplaires', 'prêts', 'emprunteurs', 'tx_rotation', 'tx_actif', 'tx_sortie']]"
   ]
  },
  {
   "cell_type": "code",
   "execution_count": null,
   "id": "2f61a121",
   "metadata": {},
   "outputs": [],
   "source": []
  }
 ],
 "metadata": {
  "kernelspec": {
   "display_name": "Python 3 (ipykernel)",
   "language": "python",
   "name": "python3"
  },
  "language_info": {
   "codemirror_mode": {
    "name": "ipython",
    "version": 3
   },
   "file_extension": ".py",
   "mimetype": "text/x-python",
   "name": "python",
   "nbconvert_exporter": "python",
   "pygments_lexer": "ipython3",
   "version": "3.8.12"
  }
 },
 "nbformat": 4,
 "nbformat_minor": 5
}
